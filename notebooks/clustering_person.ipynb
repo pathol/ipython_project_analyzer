{
 "cells": [
  {
   "cell_type": "markdown",
   "metadata": {},
   "source": [
    "# Data Preparation"
   ]
  },
  {
   "cell_type": "code",
   "execution_count": null,
   "metadata": {
    "scrolled": true
   },
   "outputs": [],
   "source": [
    "import pandas as pd\n",
    "df = pd.read_csv(\"../data/repo_function_matched.csv\")"
   ]
  },
  {
   "cell_type": "code",
   "execution_count": 2,
   "metadata": {
    "scrolled": true
   },
   "outputs": [
    {
     "data": {
      "text/plain": [
       "1078373"
      ]
     },
     "execution_count": 2,
     "metadata": {},
     "output_type": "execute_result"
    }
   ],
   "source": [
    "len(df)"
   ]
  },
  {
   "cell_type": "code",
   "execution_count": 3,
   "metadata": {
    "scrolled": true
   },
   "outputs": [
    {
     "data": {
      "text/html": [
       "<div>\n",
       "<style scoped>\n",
       "    .dataframe tbody tr th:only-of-type {\n",
       "        vertical-align: middle;\n",
       "    }\n",
       "\n",
       "    .dataframe tbody tr th {\n",
       "        vertical-align: top;\n",
       "    }\n",
       "\n",
       "    .dataframe thead th {\n",
       "        text-align: right;\n",
       "    }\n",
       "</style>\n",
       "<table border=\"1\" class=\"dataframe\">\n",
       "  <thead>\n",
       "    <tr style=\"text-align: right;\">\n",
       "      <th></th>\n",
       "      <th>line</th>\n",
       "      <th>function</th>\n",
       "      <th>package</th>\n",
       "      <th>class</th>\n",
       "      <th>repo</th>\n",
       "      <th>path</th>\n",
       "      <th>author</th>\n",
       "      <th>commit</th>\n",
       "      <th>code</th>\n",
       "    </tr>\n",
       "  </thead>\n",
       "  <tbody>\n",
       "    <tr>\n",
       "      <th>0</th>\n",
       "      <td>39</td>\n",
       "      <td>enable_eager_execution</td>\n",
       "      <td>tensorflow</td>\n",
       "      <td>NaN</td>\n",
       "      <td>tensorflow</td>\n",
       "      <td>tensorflow/contrib/eager/python/examples/noteb...</td>\n",
       "      <td>blamb@google.com</td>\n",
       "      <td>486b96a51d6b0b394edf77d182f7283a8ec03e0d</td>\n",
       "      <td>tf.enable_eager_execution()</td>\n",
       "    </tr>\n",
       "    <tr>\n",
       "      <th>1</th>\n",
       "      <td>54</td>\n",
       "      <td>square</td>\n",
       "      <td>tensorflow</td>\n",
       "      <td>NaN</td>\n",
       "      <td>tensorflow</td>\n",
       "      <td>tensorflow/contrib/eager/python/examples/noteb...</td>\n",
       "      <td>blamb@google.com</td>\n",
       "      <td>486b96a51d6b0b394edf77d182f7283a8ec03e0d</td>\n",
       "      <td>return tf.square(tf.sin(x))</td>\n",
       "    </tr>\n",
       "    <tr>\n",
       "      <th>2</th>\n",
       "      <td>54</td>\n",
       "      <td>sin</td>\n",
       "      <td>tensorflow</td>\n",
       "      <td>NaN</td>\n",
       "      <td>tensorflow</td>\n",
       "      <td>tensorflow/contrib/eager/python/examples/noteb...</td>\n",
       "      <td>blamb@google.com</td>\n",
       "      <td>486b96a51d6b0b394edf77d182f7283a8ec03e0d</td>\n",
       "      <td>return tf.square(tf.sin(x))</td>\n",
       "    </tr>\n",
       "    <tr>\n",
       "      <th>3</th>\n",
       "      <td>56</td>\n",
       "      <td>f</td>\n",
       "      <td>NaN</td>\n",
       "      <td>NaN</td>\n",
       "      <td>tensorflow</td>\n",
       "      <td>tensorflow/contrib/eager/python/examples/noteb...</td>\n",
       "      <td>blamb@google.com</td>\n",
       "      <td>486b96a51d6b0b394edf77d182f7283a8ec03e0d</td>\n",
       "      <td>assert f(pi/2).numpy() == 1.0</td>\n",
       "    </tr>\n",
       "    <tr>\n",
       "      <th>4</th>\n",
       "      <td>63</td>\n",
       "      <td>numpy</td>\n",
       "      <td>tensorflow</td>\n",
       "      <td>NaN</td>\n",
       "      <td>tensorflow</td>\n",
       "      <td>tensorflow/contrib/eager/python/examples/noteb...</td>\n",
       "      <td>blamb@google.com</td>\n",
       "      <td>486b96a51d6b0b394edf77d182f7283a8ec03e0d</td>\n",
       "      <td>assert tf.abs(grad_f(pi/2)[0]).numpy() &lt; 1e-7</td>\n",
       "    </tr>\n",
       "  </tbody>\n",
       "</table>\n",
       "</div>"
      ],
      "text/plain": [
       "   line                function     package class        repo  \\\n",
       "0    39  enable_eager_execution  tensorflow   NaN  tensorflow   \n",
       "1    54                  square  tensorflow   NaN  tensorflow   \n",
       "2    54                     sin  tensorflow   NaN  tensorflow   \n",
       "3    56                       f         NaN   NaN  tensorflow   \n",
       "4    63                   numpy  tensorflow   NaN  tensorflow   \n",
       "\n",
       "                                                path            author  \\\n",
       "0  tensorflow/contrib/eager/python/examples/noteb...  blamb@google.com   \n",
       "1  tensorflow/contrib/eager/python/examples/noteb...  blamb@google.com   \n",
       "2  tensorflow/contrib/eager/python/examples/noteb...  blamb@google.com   \n",
       "3  tensorflow/contrib/eager/python/examples/noteb...  blamb@google.com   \n",
       "4  tensorflow/contrib/eager/python/examples/noteb...  blamb@google.com   \n",
       "\n",
       "                                     commit  \\\n",
       "0  486b96a51d6b0b394edf77d182f7283a8ec03e0d   \n",
       "1  486b96a51d6b0b394edf77d182f7283a8ec03e0d   \n",
       "2  486b96a51d6b0b394edf77d182f7283a8ec03e0d   \n",
       "3  486b96a51d6b0b394edf77d182f7283a8ec03e0d   \n",
       "4  486b96a51d6b0b394edf77d182f7283a8ec03e0d   \n",
       "\n",
       "                                            code  \n",
       "0                    tf.enable_eager_execution()  \n",
       "1                    return tf.square(tf.sin(x))  \n",
       "2                    return tf.square(tf.sin(x))  \n",
       "3                  assert f(pi/2).numpy() == 1.0  \n",
       "4  assert tf.abs(grad_f(pi/2)[0]).numpy() < 1e-7  "
      ]
     },
     "execution_count": 3,
     "metadata": {},
     "output_type": "execute_result"
    }
   ],
   "source": [
    "df.head()"
   ]
  },
  {
   "cell_type": "code",
   "execution_count": 4,
   "metadata": {
    "scrolled": true
   },
   "outputs": [
    {
     "data": {
      "text/plain": [
       "line             0\n",
       "function         2\n",
       "package     624510\n",
       "class       974982\n",
       "repo             0\n",
       "path             0\n",
       "author         461\n",
       "commit           0\n",
       "code            37\n",
       "dtype: int64"
      ]
     },
     "execution_count": 4,
     "metadata": {},
     "output_type": "execute_result"
    }
   ],
   "source": [
    "df.isna().sum()"
   ]
  },
  {
   "cell_type": "code",
   "execution_count": 5,
   "metadata": {
    "scrolled": true
   },
   "outputs": [],
   "source": [
    "clean = df.drop(df[df.author.isnull()].index)\n",
    "clean = clean.drop(clean[clean.function.isnull()].index)"
   ]
  },
  {
   "cell_type": "code",
   "execution_count": 6,
   "metadata": {
    "scrolled": true
   },
   "outputs": [
    {
     "data": {
      "text/plain": [
       "line             0\n",
       "function         0\n",
       "package     624274\n",
       "class       974563\n",
       "repo             0\n",
       "path             0\n",
       "author           0\n",
       "commit           0\n",
       "code            37\n",
       "dtype: int64"
      ]
     },
     "execution_count": 6,
     "metadata": {},
     "output_type": "execute_result"
    }
   ],
   "source": [
    "clean.isna().sum()"
   ]
  },
  {
   "cell_type": "code",
   "execution_count": 112,
   "metadata": {
    "scrolled": true
   },
   "outputs": [
    {
     "data": {
      "text/html": [
       "<div>\n",
       "<style scoped>\n",
       "    .dataframe tbody tr th:only-of-type {\n",
       "        vertical-align: middle;\n",
       "    }\n",
       "\n",
       "    .dataframe tbody tr th {\n",
       "        vertical-align: top;\n",
       "    }\n",
       "\n",
       "    .dataframe thead th {\n",
       "        text-align: right;\n",
       "    }\n",
       "</style>\n",
       "<table border=\"1\" class=\"dataframe\">\n",
       "  <thead>\n",
       "    <tr style=\"text-align: right;\">\n",
       "      <th></th>\n",
       "      <th>function</th>\n",
       "      <th>package</th>\n",
       "      <th>class</th>\n",
       "      <th>repo</th>\n",
       "      <th>path</th>\n",
       "      <th>author</th>\n",
       "      <th>commit</th>\n",
       "      <th>code</th>\n",
       "      <th>combined</th>\n",
       "    </tr>\n",
       "  </thead>\n",
       "  <tbody>\n",
       "    <tr>\n",
       "      <th>count</th>\n",
       "      <td>1077910</td>\n",
       "      <td>453636</td>\n",
       "      <td>103347</td>\n",
       "      <td>1077910</td>\n",
       "      <td>1077910</td>\n",
       "      <td>1077910</td>\n",
       "      <td>1077910</td>\n",
       "      <td>1077873</td>\n",
       "      <td>1077910</td>\n",
       "    </tr>\n",
       "    <tr>\n",
       "      <th>unique</th>\n",
       "      <td>42238</td>\n",
       "      <td>3876</td>\n",
       "      <td>5867</td>\n",
       "      <td>3738</td>\n",
       "      <td>16524</td>\n",
       "      <td>7583</td>\n",
       "      <td>35233</td>\n",
       "      <td>481145</td>\n",
       "      <td>67654</td>\n",
       "    </tr>\n",
       "    <tr>\n",
       "      <th>top</th>\n",
       "      <td>print</td>\n",
       "      <td>matplotlib.pyplot</td>\n",
       "      <td>Sequential</td>\n",
       "      <td>deep-learning</td>\n",
       "      <td>note/s16a_synpipe_galaxy_1.ipynb</td>\n",
       "      <td>dr.guangtou@gmail.com</td>\n",
       "      <td>a58e916834e3f0adb2b91b8d12f5dc2f6711a008</td>\n",
       "      <td>get_ipython().run_line_magic('matplotlib', 'inline')</td>\n",
       "      <td>print</td>\n",
       "    </tr>\n",
       "    <tr>\n",
       "      <th>freq</th>\n",
       "      <td>95520</td>\n",
       "      <td>108864</td>\n",
       "      <td>7188</td>\n",
       "      <td>20913</td>\n",
       "      <td>8589</td>\n",
       "      <td>16332</td>\n",
       "      <td>10897</td>\n",
       "      <td>7580</td>\n",
       "      <td>95500</td>\n",
       "    </tr>\n",
       "  </tbody>\n",
       "</table>\n",
       "</div>"
      ],
      "text/plain": [
       "       function            package       class           repo  \\\n",
       "count   1077910  453636             103347      1077910         \n",
       "unique  42238    3876               5867        3738            \n",
       "top     print    matplotlib.pyplot  Sequential  deep-learning   \n",
       "freq    95520    108864             7188        20913           \n",
       "\n",
       "                                    path                 author  \\\n",
       "count   1077910                           1077910                 \n",
       "unique  16524                             7583                    \n",
       "top     note/s16a_synpipe_galaxy_1.ipynb  dr.guangtou@gmail.com   \n",
       "freq    8589                              16332                   \n",
       "\n",
       "                                          commit  \\\n",
       "count   1077910                                    \n",
       "unique  35233                                      \n",
       "top     a58e916834e3f0adb2b91b8d12f5dc2f6711a008   \n",
       "freq    10897                                      \n",
       "\n",
       "                                                        code combined  \n",
       "count   1077873                                               1077910  \n",
       "unique  481145                                                67654    \n",
       "top     get_ipython().run_line_magic('matplotlib', 'inline')  print    \n",
       "freq    7580                                                  95500    "
      ]
     },
     "execution_count": 112,
     "metadata": {},
     "output_type": "execute_result"
    }
   ],
   "source": [
    "clean.describe(include=['object'])"
   ]
  },
  {
   "cell_type": "code",
   "execution_count": 7,
   "metadata": {
    "scrolled": true
   },
   "outputs": [],
   "source": [
    "import numpy as np\n",
    "def combining(func, pack, c):\n",
    "    name = func\n",
    "    if c is not np.nan:\n",
    "        name = \".\".join([c, func])\n",
    "    if pack is not np.nan:\n",
    "        name = \".\".join([pack, name])\n",
    "    return name"
   ]
  },
  {
   "cell_type": "code",
   "execution_count": 8,
   "metadata": {
    "scrolled": true
   },
   "outputs": [],
   "source": [
    "clean['combined'] = clean.apply(lambda x: combining(x['function'], x['package'], x['class']), axis = 1)"
   ]
  },
  {
   "cell_type": "code",
   "execution_count": 165,
   "metadata": {
    "scrolled": true
   },
   "outputs": [
    {
     "data": {
      "text/html": [
       "<div>\n",
       "<style scoped>\n",
       "    .dataframe tbody tr th:only-of-type {\n",
       "        vertical-align: middle;\n",
       "    }\n",
       "\n",
       "    .dataframe tbody tr th {\n",
       "        vertical-align: top;\n",
       "    }\n",
       "\n",
       "    .dataframe thead th {\n",
       "        text-align: right;\n",
       "    }\n",
       "</style>\n",
       "<table border=\"1\" class=\"dataframe\">\n",
       "  <thead>\n",
       "    <tr style=\"text-align: right;\">\n",
       "      <th></th>\n",
       "      <th>line</th>\n",
       "      <th>function</th>\n",
       "      <th>package</th>\n",
       "      <th>class</th>\n",
       "      <th>repo</th>\n",
       "      <th>path</th>\n",
       "      <th>author</th>\n",
       "      <th>commit</th>\n",
       "      <th>code</th>\n",
       "      <th>combined</th>\n",
       "    </tr>\n",
       "  </thead>\n",
       "  <tbody>\n",
       "    <tr>\n",
       "      <th>0</th>\n",
       "      <td>39</td>\n",
       "      <td>enable_eager_execution</td>\n",
       "      <td>tensorflow</td>\n",
       "      <td>NaN</td>\n",
       "      <td>tensorflow</td>\n",
       "      <td>tensorflow/contrib/eager/python/examples/notebooks/automatic_differentiation.ipynb</td>\n",
       "      <td>blamb@google.com</td>\n",
       "      <td>486b96a51d6b0b394edf77d182f7283a8ec03e0d</td>\n",
       "      <td>tf.enable_eager_execution()</td>\n",
       "      <td>tensorflow.enable_eager_execution</td>\n",
       "    </tr>\n",
       "    <tr>\n",
       "      <th>1</th>\n",
       "      <td>54</td>\n",
       "      <td>square</td>\n",
       "      <td>tensorflow</td>\n",
       "      <td>NaN</td>\n",
       "      <td>tensorflow</td>\n",
       "      <td>tensorflow/contrib/eager/python/examples/notebooks/automatic_differentiation.ipynb</td>\n",
       "      <td>blamb@google.com</td>\n",
       "      <td>486b96a51d6b0b394edf77d182f7283a8ec03e0d</td>\n",
       "      <td>return tf.square(tf.sin(x))</td>\n",
       "      <td>tensorflow.square</td>\n",
       "    </tr>\n",
       "    <tr>\n",
       "      <th>2</th>\n",
       "      <td>54</td>\n",
       "      <td>sin</td>\n",
       "      <td>tensorflow</td>\n",
       "      <td>NaN</td>\n",
       "      <td>tensorflow</td>\n",
       "      <td>tensorflow/contrib/eager/python/examples/notebooks/automatic_differentiation.ipynb</td>\n",
       "      <td>blamb@google.com</td>\n",
       "      <td>486b96a51d6b0b394edf77d182f7283a8ec03e0d</td>\n",
       "      <td>return tf.square(tf.sin(x))</td>\n",
       "      <td>tensorflow.sin</td>\n",
       "    </tr>\n",
       "    <tr>\n",
       "      <th>3</th>\n",
       "      <td>56</td>\n",
       "      <td>f</td>\n",
       "      <td>NaN</td>\n",
       "      <td>NaN</td>\n",
       "      <td>tensorflow</td>\n",
       "      <td>tensorflow/contrib/eager/python/examples/notebooks/automatic_differentiation.ipynb</td>\n",
       "      <td>blamb@google.com</td>\n",
       "      <td>486b96a51d6b0b394edf77d182f7283a8ec03e0d</td>\n",
       "      <td>assert f(pi/2).numpy() == 1.0</td>\n",
       "      <td>f</td>\n",
       "    </tr>\n",
       "    <tr>\n",
       "      <th>4</th>\n",
       "      <td>63</td>\n",
       "      <td>numpy</td>\n",
       "      <td>tensorflow</td>\n",
       "      <td>NaN</td>\n",
       "      <td>tensorflow</td>\n",
       "      <td>tensorflow/contrib/eager/python/examples/notebooks/automatic_differentiation.ipynb</td>\n",
       "      <td>blamb@google.com</td>\n",
       "      <td>486b96a51d6b0b394edf77d182f7283a8ec03e0d</td>\n",
       "      <td>assert tf.abs(grad_f(pi/2)[0]).numpy() &lt; 1e-7</td>\n",
       "      <td>tensorflow.numpy</td>\n",
       "    </tr>\n",
       "  </tbody>\n",
       "</table>\n",
       "</div>"
      ],
      "text/plain": [
       "   line                function     package class        repo  \\\n",
       "0  39    enable_eager_execution  tensorflow  NaN   tensorflow   \n",
       "1  54    square                  tensorflow  NaN   tensorflow   \n",
       "2  54    sin                     tensorflow  NaN   tensorflow   \n",
       "3  56    f                       NaN         NaN   tensorflow   \n",
       "4  63    numpy                   tensorflow  NaN   tensorflow   \n",
       "\n",
       "                                                                                 path  \\\n",
       "0  tensorflow/contrib/eager/python/examples/notebooks/automatic_differentiation.ipynb   \n",
       "1  tensorflow/contrib/eager/python/examples/notebooks/automatic_differentiation.ipynb   \n",
       "2  tensorflow/contrib/eager/python/examples/notebooks/automatic_differentiation.ipynb   \n",
       "3  tensorflow/contrib/eager/python/examples/notebooks/automatic_differentiation.ipynb   \n",
       "4  tensorflow/contrib/eager/python/examples/notebooks/automatic_differentiation.ipynb   \n",
       "\n",
       "             author                                    commit  \\\n",
       "0  blamb@google.com  486b96a51d6b0b394edf77d182f7283a8ec03e0d   \n",
       "1  blamb@google.com  486b96a51d6b0b394edf77d182f7283a8ec03e0d   \n",
       "2  blamb@google.com  486b96a51d6b0b394edf77d182f7283a8ec03e0d   \n",
       "3  blamb@google.com  486b96a51d6b0b394edf77d182f7283a8ec03e0d   \n",
       "4  blamb@google.com  486b96a51d6b0b394edf77d182f7283a8ec03e0d   \n",
       "\n",
       "                                            code  \\\n",
       "0  tf.enable_eager_execution()                     \n",
       "1    return tf.square(tf.sin(x))                   \n",
       "2    return tf.square(tf.sin(x))                   \n",
       "3  assert f(pi/2).numpy() == 1.0                   \n",
       "4  assert tf.abs(grad_f(pi/2)[0]).numpy() < 1e-7   \n",
       "\n",
       "                            combined  \n",
       "0  tensorflow.enable_eager_execution  \n",
       "1  tensorflow.square                  \n",
       "2  tensorflow.sin                     \n",
       "3  f                                  \n",
       "4  tensorflow.numpy                   "
      ]
     },
     "execution_count": 165,
     "metadata": {},
     "output_type": "execute_result"
    }
   ],
   "source": [
    "clean.head()"
   ]
  },
  {
   "cell_type": "code",
   "execution_count": 10,
   "metadata": {
    "scrolled": true
   },
   "outputs": [],
   "source": [
    "authors = clean[['author','combined']].groupby(['author'])['combined'].apply(list).reset_index()"
   ]
  },
  {
   "cell_type": "code",
   "execution_count": 11,
   "metadata": {
    "scrolled": true
   },
   "outputs": [
    {
     "data": {
      "text/plain": [
       "7583"
      ]
     },
     "execution_count": 11,
     "metadata": {},
     "output_type": "execute_result"
    }
   ],
   "source": [
    "len(authors)"
   ]
  },
  {
   "cell_type": "code",
   "execution_count": 12,
   "metadata": {
    "scrolled": true
   },
   "outputs": [
    {
     "data": {
      "text/html": [
       "<div>\n",
       "<style scoped>\n",
       "    .dataframe tbody tr th:only-of-type {\n",
       "        vertical-align: middle;\n",
       "    }\n",
       "\n",
       "    .dataframe tbody tr th {\n",
       "        vertical-align: top;\n",
       "    }\n",
       "\n",
       "    .dataframe thead th {\n",
       "        text-align: right;\n",
       "    }\n",
       "</style>\n",
       "<table border=\"1\" class=\"dataframe\">\n",
       "  <thead>\n",
       "    <tr style=\"text-align: right;\">\n",
       "      <th></th>\n",
       "      <th>author</th>\n",
       "      <th>combined</th>\n",
       "    </tr>\n",
       "  </thead>\n",
       "  <tbody>\n",
       "    <tr>\n",
       "      <th>0</th>\n",
       "      <td>--global</td>\n",
       "      <td>[get_ipython, pandas.read_csv, pandas.set_inde...</td>\n",
       "    </tr>\n",
       "    <tr>\n",
       "      <th>1</th>\n",
       "      <td>09zabeli@gmail.com</td>\n",
       "      <td>[get_ipython, numpy.all, numpy.all, exp, numpy...</td>\n",
       "    </tr>\n",
       "    <tr>\n",
       "      <th>2</th>\n",
       "      <td>0u812@users.noreply.github.com</td>\n",
       "      <td>[tellurium.getBoundarySpeciesIds, tellurium.ge...</td>\n",
       "    </tr>\n",
       "    <tr>\n",
       "      <th>3</th>\n",
       "      <td>0x4a50@gmail.com</td>\n",
       "      <td>[numpy.exp, numpy.dot, numpy.dot, numpy.dot, t...</td>\n",
       "    </tr>\n",
       "    <tr>\n",
       "      <th>4</th>\n",
       "      <td>1021036214@qq.com</td>\n",
       "      <td>[int, input, int, input, int, input, print, ra...</td>\n",
       "    </tr>\n",
       "  </tbody>\n",
       "</table>\n",
       "</div>"
      ],
      "text/plain": [
       "                           author  \\\n",
       "0                        --global   \n",
       "1              09zabeli@gmail.com   \n",
       "2  0u812@users.noreply.github.com   \n",
       "3                0x4a50@gmail.com   \n",
       "4               1021036214@qq.com   \n",
       "\n",
       "                                            combined  \n",
       "0  [get_ipython, pandas.read_csv, pandas.set_inde...  \n",
       "1  [get_ipython, numpy.all, numpy.all, exp, numpy...  \n",
       "2  [tellurium.getBoundarySpeciesIds, tellurium.ge...  \n",
       "3  [numpy.exp, numpy.dot, numpy.dot, numpy.dot, t...  \n",
       "4  [int, input, int, input, int, input, print, ra...  "
      ]
     },
     "execution_count": 12,
     "metadata": {},
     "output_type": "execute_result"
    }
   ],
   "source": [
    "authors.head()"
   ]
  },
  {
   "cell_type": "code",
   "execution_count": 48,
   "metadata": {
    "scrolled": true
   },
   "outputs": [
    {
     "data": {
      "text/plain": [
       "count    7583.000000 \n",
       "mean     142.148226  \n",
       "std      420.067820  \n",
       "min      1.000000    \n",
       "25%      13.000000   \n",
       "50%      49.000000   \n",
       "75%      139.000000  \n",
       "max      16332.000000\n",
       "Name: combined, dtype: float64"
      ]
     },
     "execution_count": 48,
     "metadata": {},
     "output_type": "execute_result"
    }
   ],
   "source": [
    "authors['combined'].apply(len).describe()"
   ]
  },
  {
   "cell_type": "markdown",
   "metadata": {},
   "source": [
    "# Topic Modelling"
   ]
  },
  {
   "cell_type": "code",
   "execution_count": 92,
   "metadata": {
    "scrolled": true
   },
   "outputs": [],
   "source": [
    "#Import all necessary libraries\n",
    "import glob\n",
    "import pandas as pd\n",
    "import numpy as np\n",
    "\n",
    "from gensim.corpora import Dictionary, MmCorpus\n",
    "from gensim.models.ldamulticore import LdaMulticore\n",
    "from gensim.models import CoherenceModel\n",
    "import pyLDAvis\n",
    "import pyLDAvis.gensim\n",
    "import warnings\n",
    "warnings.filterwarnings('ignore')\n",
    "import _pickle as pickle\n",
    "\n",
    "import re\n",
    "import random\n",
    "import collections\n",
    "\n",
    "from gensim import corpora, models\n",
    "import gensim\n",
    "\n",
    "from wordcloud import WordCloud\n",
    "import matplotlib.pyplot as plt\n",
    "from scipy import stats\n",
    "\n",
    "pyLDAvis.enable_notebook()\n",
    "random.seed(1234)\n",
    "\n",
    "from sklearn.metrics.cluster import adjusted_rand_score\n",
    "pd.options.display.max_columns = None"
   ]
  },
  {
   "cell_type": "code",
   "execution_count": 141,
   "metadata": {
    "scrolled": true
   },
   "outputs": [
    {
     "name": "stdout",
     "output_type": "stream",
     "text": [
      "Wall time: 1.92 s\n"
     ]
    }
   ],
   "source": [
    "%%time\n",
    "#build gensim corpus\n",
    "texts = authors['combined']\n",
    "dictionary = corpora.Dictionary(texts)\n",
    "dictionary.filter_extremes(no_below=10, no_above=0.4)\n",
    "dictionary.compactify()\n",
    "corpus = [dictionary.doc2bow(text) for text in texts]"
   ]
  },
  {
   "cell_type": "code",
   "execution_count": 50,
   "metadata": {
    "scrolled": true
   },
   "outputs": [
    {
     "data": {
      "text/plain": [
       "2359"
      ]
     },
     "execution_count": 50,
     "metadata": {},
     "output_type": "execute_result"
    }
   ],
   "source": [
    "len(dictionary)"
   ]
  },
  {
   "cell_type": "code",
   "execution_count": 153,
   "metadata": {
    "scrolled": true
   },
   "outputs": [
    {
     "name": "stdout",
     "output_type": "stream",
     "text": [
      "Wall time: 50.9 s\n"
     ]
    }
   ],
   "source": [
    "%%time\n",
    "ldamodel = gensim.models.ldamodel.LdaModel(corpus, id2word = dictionary, num_topics= 3, passes=10, chunksize=100, update_every=0, alpha='auto', random_state=1)"
   ]
  },
  {
   "cell_type": "code",
   "execution_count": 17,
   "metadata": {
    "scrolled": true
   },
   "outputs": [],
   "source": [
    "# helper to create descriptive tables (doc-topic probabilities) and visualizations for LDA models \n",
    "def getModelResults(ldamodel, corpus, dictionary):\n",
    "    vis = pyLDAvis.gensim.prepare(ldamodel,corpus, dictionary, sort_topics=False)\n",
    "    transformed = ldamodel.get_document_topics(corpus)\n",
    "    df = pd.DataFrame.from_records([{v:k for v, k in row} for row in transformed])\n",
    "    return vis, df    "
   ]
  },
  {
   "cell_type": "code",
   "execution_count": 154,
   "metadata": {
    "scrolled": true
   },
   "outputs": [
    {
     "name": "stdout",
     "output_type": "stream",
     "text": [
      "Wall time: 12.9 s\n"
     ]
    }
   ],
   "source": [
    "%%time\n",
    "# get descriptive stuff for all models\n",
    "vis, df_topic = getModelResults(ldamodel, corpus, dictionary)"
   ]
  },
  {
   "cell_type": "code",
   "execution_count": 155,
   "metadata": {
    "scrolled": true
   },
   "outputs": [
    {
     "data": {
      "text/plain": [
       "[(0,\n",
       "  '0.041*\"matplotlib.pyplot.plot\" + 0.021*\"matplotlib.pyplot.show\" + 0.018*\"numpy.array\" + 0.017*\"matplotlib.pyplot.figure\" + 0.016*\"matplotlib.pyplot.ylabel\" + 0.016*\"matplotlib.pyplot.xlabel\" + 0.015*\"fit\" + 0.014*\"add\" + 0.014*\"enumerate\" + 0.013*\"numpy.arange\"'),\n",
       " (1,\n",
       "  '0.029*\"str\" + 0.026*\"int\" + 0.025*\"numpy.array\" + 0.019*\"matplotlib.pyplot.plot\" + 0.016*\"list\" + 0.014*\"open\" + 0.014*\"matplotlib.pyplot.figure\" + 0.013*\"input\" + 0.012*\"numpy.zeros\" + 0.012*\"plot\"'),\n",
       " (2,\n",
       "  '0.025*\"tensorflow.placeholder\" + 0.023*\"tensorflow.Variable\" + 0.018*\"numpy.array\" + 0.012*\"tensorflow.reduce_mean\" + 0.011*\"tensorflow.Session\" + 0.011*\"enumerate\" + 0.010*\"list\" + 0.010*\"int\" + 0.010*\"numpy.zeros\" + 0.009*\"open\"')]"
      ]
     },
     "execution_count": 155,
     "metadata": {},
     "output_type": "execute_result"
    }
   ],
   "source": [
    "#print regular topics (top word probabilities)\n",
    "ldamodel.print_topics()"
   ]
  },
  {
   "cell_type": "code",
   "execution_count": 93,
   "metadata": {
    "scrolled": true
   },
   "outputs": [
    {
     "name": "stdout",
     "output_type": "stream",
     "text": [
      "Perplexity:  -5.88367854127155\n",
      "Coherence Score:  0.45777386166758305\n"
     ]
    }
   ],
   "source": [
    "# Compute Perplexity\n",
    "print('Perplexity: ', ldamodel.log_perplexity(corpus))  # a measure of how good the model is. lower the better.\n",
    "\n",
    "# Compute Coherence Score\n",
    "coherence_model_lda = CoherenceModel(model=ldamodel, texts=texts, dictionary=dictionary, coherence='c_v')\n",
    "coherence_lda = coherence_model_lda.get_coherence()\n",
    "print('Coherence Score: ', coherence_lda)"
   ]
  },
  {
   "cell_type": "code",
   "execution_count": 156,
   "metadata": {
    "scrolled": false
   },
   "outputs": [
    {
     "data": {
      "text/html": [
       "\n",
       "<link rel=\"stylesheet\" type=\"text/css\" href=\"https://cdn.rawgit.com/bmabey/pyLDAvis/files/ldavis.v1.0.0.css\">\n",
       "\n",
       "\n",
       "<div id=\"ldavis_el7762324088457923460889655\"></div>\n",
       "<script type=\"text/javascript\">\n",
       "\n",
       "var ldavis_el7762324088457923460889655_data = {\"mdsDat\": {\"x\": [-0.08254819058297116, -0.04267999942670604, 0.12522819000967725], \"y\": [-0.04297938933216332, 0.05318443362110463, -0.010205044288941232], \"topics\": [1, 2, 3], \"cluster\": [1, 1, 1], \"Freq\": [39.31904602050781, 41.59812927246094, 19.08281707763672]}, \"tinfo\": {\"Category\": [\"Default\", \"Default\", \"Default\", \"Default\", \"Default\", \"Default\", \"Default\", \"Default\", \"Default\", \"Default\", \"Default\", \"Default\", \"Default\", \"Default\", \"Default\", \"Default\", \"Default\", \"Default\", \"Default\", \"Default\", \"Default\", \"Default\", \"Default\", \"Default\", \"Default\", \"Default\", \"Default\", \"Default\", \"Default\", \"Default\", \"Topic1\", \"Topic1\", \"Topic1\", \"Topic1\", \"Topic1\", \"Topic1\", \"Topic1\", \"Topic1\", \"Topic1\", \"Topic1\", \"Topic1\", \"Topic1\", \"Topic1\", \"Topic1\", \"Topic1\", \"Topic1\", \"Topic1\", \"Topic1\", \"Topic1\", \"Topic1\", \"Topic1\", \"Topic1\", \"Topic1\", \"Topic1\", \"Topic1\", \"Topic1\", \"Topic1\", \"Topic1\", \"Topic1\", \"Topic1\", \"Topic1\", \"Topic1\", \"Topic1\", \"Topic1\", \"Topic1\", \"Topic1\", \"Topic1\", \"Topic1\", \"Topic1\", \"Topic1\", \"Topic1\", \"Topic1\", \"Topic1\", \"Topic1\", \"Topic1\", \"Topic1\", \"Topic1\", \"Topic1\", \"Topic1\", \"Topic1\", \"Topic1\", \"Topic1\", \"Topic1\", \"Topic1\", \"Topic1\", \"Topic1\", \"Topic1\", \"Topic1\", \"Topic1\", \"Topic1\", \"Topic1\", \"Topic1\", \"Topic1\", \"Topic1\", \"Topic1\", \"Topic1\", \"Topic1\", \"Topic1\", \"Topic1\", \"Topic1\", \"Topic1\", \"Topic1\", \"Topic1\", \"Topic1\", \"Topic1\", \"Topic1\", \"Topic1\", \"Topic1\", \"Topic1\", \"Topic1\", \"Topic1\", \"Topic2\", \"Topic2\", \"Topic2\", \"Topic2\", \"Topic2\", \"Topic2\", \"Topic2\", \"Topic2\", \"Topic2\", \"Topic2\", \"Topic2\", \"Topic2\", \"Topic2\", \"Topic2\", \"Topic2\", \"Topic2\", \"Topic2\", \"Topic2\", \"Topic2\", \"Topic2\", \"Topic2\", \"Topic2\", \"Topic2\", \"Topic2\", \"Topic2\", \"Topic2\", \"Topic2\", \"Topic2\", \"Topic2\", \"Topic2\", \"Topic2\", \"Topic2\", \"Topic2\", \"Topic2\", \"Topic2\", \"Topic2\", \"Topic2\", \"Topic2\", \"Topic2\", \"Topic2\", \"Topic2\", \"Topic2\", \"Topic2\", \"Topic2\", \"Topic2\", \"Topic2\", \"Topic2\", \"Topic2\", \"Topic2\", \"Topic2\", \"Topic2\", \"Topic2\", \"Topic2\", \"Topic2\", \"Topic2\", \"Topic2\", \"Topic2\", \"Topic2\", \"Topic2\", \"Topic2\", \"Topic2\", \"Topic2\", \"Topic2\", \"Topic2\", \"Topic2\", \"Topic2\", \"Topic2\", \"Topic2\", \"Topic2\", \"Topic2\", \"Topic2\", \"Topic2\", \"Topic2\", \"Topic2\", \"Topic2\", \"Topic2\", \"Topic2\", \"Topic2\", \"Topic2\", \"Topic2\", \"Topic2\", \"Topic2\", \"Topic2\", \"Topic2\", \"Topic2\", \"Topic2\", \"Topic2\", \"Topic3\", \"Topic3\", \"Topic3\", \"Topic3\", \"Topic3\", \"Topic3\", \"Topic3\", \"Topic3\", \"Topic3\", \"Topic3\", \"Topic3\", \"Topic3\", \"Topic3\", \"Topic3\", \"Topic3\", \"Topic3\", \"Topic3\", \"Topic3\", \"Topic3\", \"Topic3\", \"Topic3\", \"Topic3\", \"Topic3\", \"Topic3\", \"Topic3\", \"Topic3\", \"Topic3\", \"Topic3\", \"Topic3\", \"Topic3\", \"Topic3\", \"Topic3\", \"Topic3\", \"Topic3\", \"Topic3\", \"Topic3\", \"Topic3\", \"Topic3\", \"Topic3\", \"Topic3\", \"Topic3\", \"Topic3\", \"Topic3\", \"Topic3\", \"Topic3\", \"Topic3\", \"Topic3\", \"Topic3\", \"Topic3\", \"Topic3\", \"Topic3\", \"Topic3\", \"Topic3\", \"Topic3\", \"Topic3\", \"Topic3\", \"Topic3\", \"Topic3\", \"Topic3\", \"Topic3\", \"Topic3\", \"Topic3\", \"Topic3\", \"Topic3\", \"Topic3\", \"Topic3\", \"Topic3\", \"Topic3\", \"Topic3\", \"Topic3\", \"Topic3\", \"Topic3\", \"Topic3\", \"Topic3\", \"Topic3\", \"Topic3\", \"Topic3\", \"Topic3\", \"Topic3\", \"Topic3\"], \"Freq\": [4170.0, 3454.0, 3387.0, 2068.0, 1872.0, 8735.0, 15176.0, 1384.0, 9632.0, 1347.0, 1330.0, 1250.0, 3631.0, 1657.0, 1036.0, 1064.0, 2184.0, 1049.0, 1099.0, 847.0, 2310.0, 5094.0, 4766.0, 831.0, 869.0, 6058.0, 5043.0, 663.0, 610.0, 434.0, 1606.9073486328125, 427.7118225097656, 209.3001251220703, 108.93489837646484, 84.35574340820312, 32.9486198425293, 17.945152282714844, 28.891040802001953, 47.74421691894531, 35.684268951416016, 82.9675064086914, 48.17124938964844, 374.07012939453125, 450.6114807128906, 398.79669189453125, 38.86360168457031, 55.01744079589844, 82.5171890258789, 36.682308197021484, 58.872154235839844, 88.86329650878906, 96.9788818359375, 86.74678039550781, 43.779937744140625, 89.40581512451172, 541.5034790039062, 93.06096649169922, 105.22428131103516, 33.23952865600586, 19.342668533325195, 173.31639099121094, 647.7650146484375, 721.5374145507812, 2945.0849609375, 548.1063232421875, 765.1961059570312, 495.29205322265625, 683.5192260742188, 417.4893493652344, 440.7295837402344, 386.1302490234375, 375.77374267578125, 3400.427978515625, 3616.3271484375, 1745.860595703125, 607.7399291992188, 9726.650390625, 534.8501586914062, 646.7749633789062, 426.257080078125, 887.3468627929688, 588.2000732421875, 5093.30029296875, 991.3516845703125, 3788.31689453125, 3030.578125, 3731.51611328125, 1867.244140625, 2595.040283203125, 1609.9908447265625, 3265.906005859375, 4050.545654296875, 1911.31689453125, 2911.1953125, 3043.973876953125, 1257.315185546875, 2728.66796875, 2441.82470703125, 4330.7080078125, 889.351318359375, 2619.959228515625, 1762.906982421875, 1786.0985107421875, 1394.0440673828125, 1326.8878173828125, 1619.6844482421875, 1188.0037841796875, 1455.696044921875, 1749.2877197265625, 1633.5667724609375, 1591.8001708984375, 84.4007339477539, 3341.14990234375, 78.83389282226562, 231.53012084960938, 73.25325775146484, 108.49213409423828, 72.21776580810547, 72.15972900390625, 72.14077758789062, 127.78226470947266, 38.69544982910156, 71.88372039794922, 71.8681411743164, 35.910240173339844, 40.350345611572266, 34.96750259399414, 68.95977783203125, 66.17863464355469, 39.238590240478516, 25.789737701416016, 299.3930969238281, 63.9334831237793, 39.94466781616211, 25.73444366455078, 57.330909729003906, 17.632396697998047, 37.01701736450195, 19.37118911743164, 114.42379760742188, 15.843459129333496, 50.15376281738281, 139.46595764160156, 1999.120849609375, 139.84835815429688, 176.9259033203125, 77.72714233398438, 285.52178955078125, 194.9254150390625, 165.69898986816406, 962.2845458984375, 119.24935913085938, 650.7129516601562, 648.010986328125, 341.31915283203125, 7178.16259765625, 6497.30859375, 490.6604309082031, 580.96337890625, 484.1610412597656, 945.0391845703125, 782.2581787109375, 186.9246368408203, 825.4711303710938, 399.839599609375, 1105.4412841796875, 329.6673278808594, 526.992919921875, 3632.571044921875, 2922.29541015625, 6349.2783203125, 526.111083984375, 2103.27001953125, 1062.1798095703125, 2599.525390625, 3961.50244140625, 1940.539306640625, 2965.821533203125, 1200.0252685546875, 1877.4364013671875, 2225.373291015625, 2775.6630859375, 3488.989501953125, 1000.5322265625, 1333.0665283203125, 2480.683349609375, 1914.6024169921875, 2684.26220703125, 4799.76171875, 1503.2901611328125, 2331.655029296875, 2743.072998046875, 2220.795166015625, 2199.219482421875, 1658.3448486328125, 1613.38037109375, 1549.423095703125, 1545.9940185546875, 234.4535369873047, 392.4303283691406, 70.96826934814453, 178.0914306640625, 63.75905227661133, 124.33783721923828, 170.30142211914062, 44.42088317871094, 391.9554748535156, 49.33100891113281, 44.337520599365234, 52.72905349731445, 33.34321594238281, 38.51231002807617, 68.2135238647461, 313.0758972167969, 33.05000686645508, 113.5499038696289, 32.905696868896484, 98.49758911132812, 77.44934844970703, 32.71222686767578, 74.83988189697266, 32.63652420043945, 32.61346435546875, 32.54600143432617, 84.724365234375, 93.10665130615234, 44.926353454589844, 54.34688949584961, 402.3348693847656, 356.0360412597656, 675.0653076171875, 814.2810668945312, 212.05029296875, 970.37451171875, 2612.364501953125, 1034.2222900390625, 1054.3983154296875, 221.2333526611328, 1001.9406127929688, 345.79119873046875, 2938.497314453125, 333.6122741699219, 156.70130920410156, 355.93310546875, 336.5289611816406, 1301.185302734375, 764.2893676757812, 1402.8026123046875, 737.6908569335938, 595.8410034179688, 447.8269958496094, 478.6939392089844, 749.7649536132812, 346.6245422363281, 402.466064453125, 573.0891723632812, 377.87371826171875, 405.4536437988281, 946.582763671875, 395.9491882324219, 2042.56005859375, 1246.700927734375, 1083.2921142578125, 1125.112060546875, 1202.5782470703125, 1093.5821533203125, 1180.38134765625, 709.2372436523438, 954.9454345703125, 541.3717041015625, 732.8782958984375, 518.0540771484375, 864.123291015625, 862.3512573242188, 678.8927001953125, 702.3179321289062, 618.3068237304688, 649.8143920898438], \"Term\": [\"tensorflow.placeholder\", \"tensorflow.Variable\", \"input\", \"tensorflow.reduce_mean\", \"tensorflow.Session\", \"int\", \"matplotlib.pyplot.plot\", \"show_doc\", \"str\", \"tensorflow.matmul\", \"tensorflow.reshape\", \"tensorflow.zeros\", \"Sequential.add\", \"datetime.datetime\", \"tensorflow.constant\", \"tensorflow.variable_scope\", \"display\", \"tensorflow.global_variables_initializer\", \"tensorflow.maximum\", \"tensorflow.truncated_normal\", \"time.time\", \"fit\", \"add\", \"tensorflow.cast\", \"tensorflow.Session.run\", \"enumerate\", \"plot\", \"tensorflow.reset_default_graph\", \"tensorflow.InteractiveSession.run\", \"folium.add_to\", \"datetime.datetime\", \"Array\", \"poof\", \"Vector\", \"Rank2D.poof\", \"Rank2D.transform\", \"Array.transpose\", \"Rank2D\", \"ClassificationReport.fit\", \"ClassificationReport.score\", \"Rank2D.fit\", \"ClassificationReport.poof\", \"create\", \"Column\", \"date\", \"FunctionTransformer\", \"networkx.degree_centrality\", \"scipy.array\", \"preprocessing.RobustScaler\", \"LeakyReLU\", \"accuracy_adjacent\", \"holoviews.extension\", \"MLPClassifier\", \"MLPClassifier.predict\", \"display_cm\", \"Convolution2D\", \"augment_features\", \"networkx.nodes\", \"eye\", \"CountVectorizer.toarray\", \"f1_score\", \"Activation\", \"Table.read\", \"Sequential.add\", \"fit_generator\", \"Dropout\", \"BatchNormalization\", \"matplotlib.pyplot.axvline\", \"Sequential.fit_generator\", \"MaxPooling2D\", \"KernelDensity\", \"box\", \"add\", \"fit\", \"Dense\", \"Sequential.fit\", \"matplotlib.pyplot.plot\", \"matplotlib.pyplot.set_ylim\", \"Sequential\", \"Flatten\", \"compile\", \"Sequential.compile\", \"matplotlib.pyplot.show\", \"numpy.log10\", \"matplotlib.pyplot.ylabel\", \"matplotlib.pyplot.subplots\", \"matplotlib.pyplot.xlabel\", \"predict\", \"matplotlib.pyplot.legend\", \"matplotlib.pyplot.savefig\", \"enumerate\", \"matplotlib.pyplot.figure\", \"matplotlib.pyplot.scatter\", \"pandas.read_csv\", \"numpy.arange\", \"numpy.asarray\", \"matplotlib.pyplot.title\", \"numpy.linspace\", \"numpy.array\", \"matplotlib.pyplot.grid\", \"list\", \"zip\", \"pandas.DataFrame\", \"pandas.head\", \"numpy.sum\", \"dict\", \"sum\", \"numpy.mean\", \"open\", \"numpy.zeros\", \"str\", \"input.endswith\", \"input\", \"compute_sum\", \"scores\", \"parameterize\", \"readGraph\", \"getSparsifiedGraph\", \"getSparsifiedGraphOfSize\", \"readGraph.indexEdges\", \"ipywidgets.Text\", \"guess_game\", \"readGraph.size\", \"indexEdges\", \"show_instruction\", \"game_over\", \"show_team\", \"win\", \"lose\", \"str.endswith\", \"readGraph.isDirected\", \"Layout\", \"measure_performance\", \"fl_image\", \"isDirected\", \"pg8000.connect\", \"plalindrome\", \"VideoFileClip.fl_image\", \"upperEdgeIdBound\", \"StructField\", \"change\", \"VideoFileClip\", \"endswith\", \"display\", \"matplotlib.pyplot.add_feature\", \"assert_equal\", \"pg8000.cursor\", \"Markdown\", \"subs\", \"sleep\", \"requests.get\", \"ipywidgets.Dropdown\", \"requests.json\", \"execute\", \"ipywidgets.FloatSlider\", \"str\", \"int\", \"pyplot.xlabel\", \"random.randint\", \"pyplot.ylabel\", \"round\", \"HTML\", \"find_all\", \"run\", \"size\", \"Image\", \"count\", \"interact\", \"open\", \"plot\", \"numpy.array\", \"f\", \"matplotlib.pyplot.imshow\", \"numpy.ones\", \"pandas.DataFrame\", \"list\", \"float\", \"numpy.zeros\", \"type\", \"matplotlib.pyplot.subplot\", \"dict\", \"pandas.read_csv\", \"matplotlib.pyplot.figure\", \"pyplot.plot\", \"matplotlib.pyplot.add_subplot\", \"numpy.linspace\", \"numpy.mean\", \"matplotlib.pyplot.title\", \"matplotlib.pyplot.plot\", \"pandas.head\", \"numpy.arange\", \"matplotlib.pyplot.show\", \"matplotlib.pyplot.xlabel\", \"matplotlib.pyplot.ylabel\", \"zip\", \"matplotlib.pyplot.legend\", \"matplotlib.pyplot.subplots\", \"enumerate\", \"matplotlib.pylab.subplot\", \"folium.add_to\", \"matplotlib.pylab.ylim\", \"folium.Map.save\", \"folium.GeoJson\", \"folium.Marker\", \"tensorflow.FixedLenFeature\", \"folium.LayerControl\", \"folium.Map\", \"matplotlib.pylab.xlim\", \"helper.save_params\", \"untar_data\", \"problem_unittests.test_fully_conn\", \"helper.display_stats\", \"helper.load_preprocess_training_batch\", \"matplotlib.pylab.title\", \"problem_unittests.test_nn_image_inputs\", \"matplotlib.pylab.imshow\", \"neural_net_image_input\", \"tensorflow.as_list\", \"conv_layer.get_shape\", \"problem_unittests.test_nn_keep_prob_inputs\", \"helper.preprocess_and_save_data\", \"helper.display_image_predictions\", \"problem_unittests.test_normalize\", \"problem_unittests.test_output\", \"prefetch\", \"helper.load_data\", \"build_lstm\", \"tensorflow.mul\", \"tensorflow.Graph\", \"tensorflow.Graph.get_tensor_by_name\", \"tensorflow.truncated_normal\", \"tensorflow.constant\", \"matplotlib.pylab.figure\", \"tensorflow.zeros\", \"tensorflow.Variable\", \"tensorflow.matmul\", \"show_doc\", \"tensorflow.Graph.as_default\", \"tensorflow.reshape\", \"matplotlib.pylab.plot\", \"tensorflow.placeholder\", \"conv2d_maxpool\", \"tensorflow.as_default\", \"helper.split\", \"tensorflow.concat\", \"tensorflow.Session\", \"tensorflow.variable_scope\", \"tensorflow.reduce_mean\", \"tensorflow.global_variables_initializer\", \"tensorflow.cast\", \"tensorflow.InteractiveSession.run\", \"tensorflow.reset_default_graph\", \"tensorflow.maximum\", \"tensorflow.equal\", \"tensorflow.add\", \"tensorflow.Session.run\", \"tensorflow.random_uniform\", \"tensorflow.name_scope\", \"time.time\", \"tensorflow.argmax\", \"numpy.array\", \"enumerate\", \"plot\", \"numpy.zeros\", \"list\", \"open\", \"int\", \"set\", \"numpy.arange\", \"numpy.argmax\", \"matplotlib.pyplot.imshow\", \"show\", \"matplotlib.pyplot.show\", \"str\", \"zip\", \"matplotlib.pyplot.title\", \"float\", \"matplotlib.pyplot.plot\"], \"Total\": [4170.0, 3454.0, 3387.0, 2068.0, 1872.0, 8735.0, 15176.0, 1384.0, 9632.0, 1347.0, 1330.0, 1250.0, 3631.0, 1657.0, 1036.0, 1064.0, 2184.0, 1049.0, 1099.0, 847.0, 2310.0, 5094.0, 4766.0, 831.0, 869.0, 6058.0, 5043.0, 663.0, 610.0, 434.0, 1657.865478515625, 444.52825927734375, 217.747314453125, 113.57723236083984, 88.41163635253906, 34.66891098022461, 18.916898727416992, 30.472820281982422, 50.48369598388672, 37.82448196411133, 88.26575469970703, 51.46818542480469, 404.0906677246094, 488.6896057128906, 432.57110595703125, 42.843421936035156, 60.8167724609375, 91.60566711425781, 40.8213996887207, 65.62678527832031, 99.23858642578125, 108.37733459472656, 96.94789123535156, 49.01554489135742, 100.1758804321289, 607.4412231445312, 104.53093719482422, 118.76595306396484, 37.65170669555664, 21.95677947998047, 196.96995544433594, 748.244140625, 854.04150390625, 3631.135986328125, 647.3025512695312, 921.5043334960938, 590.29150390625, 825.6993408203125, 497.0552062988281, 534.078857421875, 465.1036071777344, 455.82861328125, 4766.7021484375, 5094.8525390625, 2368.628173828125, 768.2803955078125, 15176.2265625, 672.9258422851562, 844.1768798828125, 541.4094848632812, 1202.038818359375, 772.451904296875, 8700.49609375, 1387.9412841796875, 6375.7421875, 4980.10302734375, 6389.06005859375, 2997.75537109375, 4439.00732421875, 2515.239501953125, 6058.6005859375, 8087.1025390625, 3392.999755859375, 5920.18798828125, 6330.57421875, 2048.74853515625, 6115.248046875, 5316.7978515625, 12722.546875, 1304.402587890625, 7784.0400390625, 4100.14453125, 4704.45654296875, 3012.874755859375, 2818.360595703125, 4332.69873046875, 2308.92724609375, 3802.307861328125, 6475.44091796875, 5724.5, 9632.314453125, 85.46478271484375, 3387.823974609375, 79.96986389160156, 235.362548828125, 74.47224426269531, 110.33136749267578, 73.5726547241211, 73.5814208984375, 73.58426666259766, 130.65362548828125, 39.568233489990234, 73.6230239868164, 73.6253662109375, 36.82143783569336, 41.433067321777344, 35.908321380615234, 70.9146957397461, 68.16754913330078, 40.541473388671875, 26.732210159301758, 310.6432189941406, 66.38309478759766, 41.492103576660156, 26.74054527282715, 59.99449920654297, 18.46259307861328, 38.766788482666016, 20.31007194519043, 120.00125122070312, 16.62015151977539, 52.62253189086914, 147.91278076171875, 2184.015380859375, 148.89540100097656, 189.78338623046875, 82.2741470336914, 312.9874267578125, 211.40679931640625, 178.83172607421875, 1119.4305419921875, 127.78907012939453, 753.5755615234375, 752.2262573242188, 389.3184814453125, 9632.314453125, 8735.818359375, 573.9202270507812, 694.3079833984375, 571.7911987304688, 1187.1806640625, 982.0263061523438, 207.3346405029297, 1076.3914794921875, 483.7683410644531, 1529.5103759765625, 397.1604309082031, 689.5975341796875, 6475.44091796875, 5043.1884765625, 12722.546875, 693.140380859375, 3591.568359375, 1607.6744384765625, 4704.45654296875, 7784.0400390625, 3390.562744140625, 5724.5, 1905.64599609375, 3333.21484375, 4332.69873046875, 5920.18798828125, 8087.1025390625, 1576.70849609375, 2303.84033203125, 5316.7978515625, 3802.307861328125, 6115.248046875, 15176.2265625, 3012.874755859375, 6330.57421875, 8700.49609375, 6389.06005859375, 6375.7421875, 4100.14453125, 4439.00732421875, 4980.10302734375, 6058.6005859375, 259.0972900390625, 434.3088073730469, 79.51718139648438, 201.0180206298828, 72.14292907714844, 141.79031372070312, 194.333984375, 50.91566848754883, 453.71441650390625, 57.146671295166016, 52.628089904785156, 62.73313522338867, 39.889244079589844, 46.1292610168457, 81.83029174804688, 377.2036437988281, 39.85664749145508, 137.41961669921875, 39.82998275756836, 119.47380065917969, 94.04277038574219, 39.79799270629883, 91.13734436035156, 39.75114822387695, 39.77684783935547, 39.728485107421875, 103.55206298828125, 113.80699157714844, 55.04386520385742, 66.62808990478516, 498.3312683105469, 444.01739501953125, 847.4599609375, 1036.7877197265625, 264.8277587890625, 1250.641357421875, 3454.69775390625, 1347.78759765625, 1384.15478515625, 279.032470703125, 1330.4814453125, 446.9050598144531, 4170.99755859375, 432.6770324707031, 197.3054656982422, 468.7103271484375, 442.333984375, 1872.29296875, 1064.400634765625, 2068.447998046875, 1049.187255859375, 831.9449462890625, 610.3048706054688, 663.5993041992188, 1099.98583984375, 463.41180419921875, 555.2357177734375, 869.2651977539062, 525.8062744140625, 589.1517333984375, 2310.55322265625, 573.0463256835938, 12722.546875, 6058.6005859375, 5043.1884765625, 5724.5, 7784.0400390625, 6475.44091796875, 8735.818359375, 2714.85546875, 6330.57421875, 1303.56591796875, 3591.568359375, 1179.098876953125, 8700.49609375, 9632.314453125, 4100.14453125, 6115.248046875, 3390.562744140625, 15176.2265625], \"loglift\": [30.0, 29.0, 28.0, 27.0, 26.0, 25.0, 24.0, 23.0, 22.0, 21.0, 20.0, 19.0, 18.0, 17.0, 16.0, 15.0, 14.0, 13.0, 12.0, 11.0, 10.0, 9.0, 8.0, 7.0, 6.0, 5.0, 4.0, 3.0, 2.0, 1.0, 0.9021999835968018, 0.8949000239372253, 0.8938999772071838, 0.891700029373169, 0.8865000009536743, 0.8826000094413757, 0.8806999921798706, 0.8802000284194946, 0.8776999711990356, 0.8751999735832214, 0.8715999722480774, 0.8672999739646912, 0.8562999963760376, 0.8522999882698059, 0.8521999716758728, 0.8360000252723694, 0.8331999778747559, 0.8289999961853027, 0.8264999985694885, 0.8248000144958496, 0.8230000138282776, 0.8223000168800354, 0.8223000168800354, 0.8205000162124634, 0.8197000026702881, 0.8185999989509583, 0.8172000050544739, 0.8123999834060669, 0.8087999820709229, 0.8066999912261963, 0.8054999709129333, 0.7893000245094299, 0.7649000287055969, 0.7240999937057495, 0.7670999765396118, 0.7476000189781189, 0.7580000162124634, 0.7444999814033508, 0.7590000033378601, 0.7412999868392944, 0.7473999857902527, 0.7402999997138977, 0.5957000255584717, 0.5906999707221985, 0.6284000277519226, 0.6991000175476074, 0.4885999858379364, 0.7038000226020813, 0.6671000123023987, 0.6942999958992004, 0.6298999786376953, 0.6610000133514404, 0.39800000190734863, 0.597000002861023, 0.41290000081062317, 0.4368000030517578, 0.39570000767707825, 0.460099995136261, 0.39660000801086426, 0.48730000853538513, 0.3154999911785126, 0.24199999868869781, 0.359499990940094, 0.22370000183582306, 0.2011999934911728, 0.44519999623298645, 0.1264999955892563, 0.15530000627040863, -0.14419999718666077, 0.5504999756813049, -0.15549999475479126, 0.08940000087022781, -0.03500000014901161, 0.16279999911785126, 0.1800999939441681, -0.05050000175833702, 0.26899999380111694, -0.02669999934732914, -0.37529999017715454, -0.320499986410141, -0.8668000102043152, 0.8646000027656555, 0.8632000088691711, 0.8628000020980835, 0.8607000112533569, 0.8605999946594238, 0.8603000044822693, 0.8585000038146973, 0.8575999736785889, 0.8572999835014343, 0.8549000024795532, 0.8547999858856201, 0.8532000184059143, 0.8529999852180481, 0.8521000146865845, 0.850600004196167, 0.850600004196167, 0.8492000102996826, 0.8475000262260437, 0.8445000052452087, 0.8411999940872192, 0.8402000069618225, 0.8395000100135803, 0.8391000032424927, 0.8388000130653381, 0.8317000269889832, 0.8310999870300293, 0.8309000134468079, 0.829800009727478, 0.8295000195503235, 0.8292999863624573, 0.8291000127792358, 0.8183000087738037, 0.7886999845504761, 0.8144000172615051, 0.8069999814033508, 0.8202999830245972, 0.7853000164031982, 0.7958999872207642, 0.8008000254631042, 0.7257999777793884, 0.8080000281333923, 0.730400025844574, 0.7279999852180481, 0.7455000281333923, 0.5830000042915344, 0.5810999870300293, 0.7203999757766724, 0.6988999843597412, 0.7107999920845032, 0.6489999890327454, 0.6496999859809875, 0.7735000252723694, 0.6116999983787537, 0.6866000294685364, 0.5523999929428101, 0.6909000277519226, 0.6082000136375427, 0.29899999499320984, 0.3314000070095062, 0.18209999799728394, 0.6014000177383423, 0.34200000762939453, 0.4625999927520752, 0.2838999927043915, 0.20170000195503235, 0.3190999925136566, 0.21950000524520874, 0.4146000146865845, 0.30309998989105225, 0.21080000698566437, 0.11959999799728394, 0.0364999994635582, 0.4223000109195709, 0.33000001311302185, 0.11479999870061874, 0.19099999964237213, 0.053700000047683716, -0.27399998903274536, 0.1818999946117401, -0.1216999962925911, -0.27720001339912415, -0.17960000038146973, -0.18729999661445618, -0.02810000069439411, -0.13500000536441803, -0.2904999852180481, -0.4887000024318695, 1.556399941444397, 1.5549999475479126, 1.5426000356674194, 1.5353000164031982, 1.5327999591827393, 1.524999976158142, 1.524399995803833, 1.5198999643325806, 1.51010000705719, 1.5092999935150146, 1.4850000143051147, 1.482699990272522, 1.4771000146865845, 1.4759000539779663, 1.4744000434875488, 1.4700000286102295, 1.469099998474121, 1.4656000137329102, 1.465399980545044, 1.4632999897003174, 1.4622999429702759, 1.4602999687194824, 1.4594000577926636, 1.4592000246047974, 1.457800030708313, 1.4570000171661377, 1.4557000398635864, 1.4556000232696533, 1.4532999992370605, 1.4526000022888184, 1.4423999786376953, 1.4356000423431396, 1.4289000034332275, 1.4148000478744507, 1.4341000318527222, 1.4026999473571777, 1.3768999576568604, 1.3916000127792358, 1.3842999935150146, 1.424299955368042, 1.3727999925613403, 1.399899959564209, 1.3061000108718872, 1.396399974822998, 1.4259999990463257, 1.381100058555603, 1.3830000162124634, 1.2925000190734863, 1.3251999616622925, 1.2681000232696533, 1.3041000366210938, 1.32260000705719, 1.3467999696731567, 1.329800009727478, 1.2731000185012817, 1.3660000562667847, 1.3345999717712402, 1.239799976348877, 1.3259999752044678, 1.2826999425888062, 0.7639999985694885, 1.2867000102996826, -0.1728000044822693, 0.07540000230073929, 0.11829999834299088, 0.029500000178813934, -0.21119999885559082, -0.12219999730587006, -0.3452000021934509, 0.3140999972820282, -0.23510000109672546, 0.7775999903678894, 0.06700000166893005, 0.8339999914169312, -0.652999997138977, -0.7567999958992004, -0.14190000295639038, -0.5077999830245972, -0.04540000110864639, -1.4944000244140625], \"logprob\": [30.0, 29.0, 28.0, 27.0, 26.0, 25.0, 24.0, 23.0, 22.0, 21.0, 20.0, 19.0, 18.0, 17.0, 16.0, 15.0, 14.0, 13.0, 12.0, 11.0, 10.0, 9.0, 8.0, 7.0, 6.0, 5.0, 4.0, 3.0, 2.0, 1.0, -4.996399879455566, -6.320000171661377, -7.0346999168396, -7.687699794769287, -7.943399906158447, -8.883500099182129, -9.491100311279297, -9.014900207519531, -8.51259994506836, -8.80370044708252, -7.960000038146973, -8.503700256347656, -6.453999996185303, -6.2677998542785645, -6.389999866485596, -8.718400001525879, -8.370800018310547, -7.965400218963623, -8.776200294494629, -8.303099632263184, -7.891300201416016, -7.803999900817871, -7.915500164031982, -8.599300384521484, -7.885300159454346, -6.084099769592285, -7.845200061798096, -7.722400188446045, -8.874699592590332, -9.416099548339844, -7.223299980163574, -5.904900074005127, -5.797100067138672, -4.390600204467773, -6.072000026702881, -5.73829984664917, -6.173299789428711, -5.851200103759766, -6.344200134277344, -6.289999961853027, -6.422299861907959, -6.44950008392334, -4.246799945831299, -4.185200214385986, -4.913400173187256, -5.968699932098389, -3.1958000659942627, -6.096499919891357, -5.906499862670898, -6.323400020599365, -5.590199947357178, -6.001399993896484, -3.8427999019622803, -5.479400157928467, -4.138800144195557, -4.3618998527526855, -4.153900146484375, -4.846199989318848, -4.517099857330322, -4.994500160217285, -4.287199974060059, -4.071800231933594, -4.82289981842041, -4.402100086212158, -4.357500076293945, -5.241700172424316, -4.466899871826172, -4.577899932861328, -4.005000114440918, -5.5879998207092285, -4.507500171661377, -4.90369987487793, -4.890699863433838, -5.138500213623047, -5.187900066375732, -4.988500118255615, -5.298399925231934, -5.095200061798096, -4.911499977111816, -4.979899883270264, -5.005799770355225, -7.999199867248535, -4.320700168609619, -8.067500114440918, -6.990099906921387, -8.140899658203125, -7.7480998039245605, -8.155099868774414, -8.155900001525879, -8.156200408935547, -7.584499835968018, -8.77910041809082, -8.159700393676758, -8.15999984741211, -8.853799819946289, -8.737199783325195, -8.880399703979492, -8.201299667358398, -8.242400169372559, -8.76509952545166, -9.184800148010254, -6.732999801635742, -8.277000427246094, -8.747300148010254, -9.187000274658203, -8.38599967956543, -9.565099716186523, -8.823399543762207, -9.470999717712402, -7.694900035858154, -9.67199993133545, -8.519700050354004, -7.497000217437744, -4.8343000411987305, -7.494200229644775, -7.259099960327148, -8.081600189208984, -6.7804999351501465, -7.162199974060059, -7.3246002197265625, -5.565499782562256, -7.653600215911865, -5.956699848175049, -5.960899829864502, -6.6020002365112305, -3.555999994277954, -3.6556999683380127, -6.238999843597412, -6.070099830627441, -6.252399921417236, -5.583600044250488, -5.772600173950195, -7.204100131988525, -5.718800067901611, -6.443699836730957, -5.426799774169922, -6.63670015335083, -6.167600154876709, -4.237100124359131, -4.454699993133545, -3.6786999702453613, -6.169300079345703, -4.7835001945495605, -5.466700077056885, -4.571700096130371, -4.150400161743164, -4.864099979400635, -4.439899921417236, -5.344699859619141, -4.89709997177124, -4.727099895477295, -4.506100177764893, -4.277400016784668, -5.526500225067139, -5.23960018157959, -4.618500232696533, -4.877500057220459, -4.539599895477295, -3.9584999084472656, -5.1194000244140625, -4.680500030517578, -4.51800012588501, -4.7291998863220215, -4.738900184631348, -5.021200180053711, -5.048699855804443, -5.089200019836426, -5.091400146484375, -6.198299884796143, -5.683199882507324, -7.3933000564575195, -6.473199844360352, -7.500400066375732, -6.832499980926514, -6.51800012588501, -7.861800193786621, -5.6844000816345215, -7.756999969482422, -7.863699913024902, -7.690400123596191, -8.148699760437012, -8.004599571228027, -7.4328999519348145, -5.90910005569458, -8.157500267028809, -6.923299789428711, -8.16189956665039, -7.065499782562256, -7.3059000968933105, -8.167799949645996, -7.340199947357178, -8.170100212097168, -8.17080020904541, -8.172900199890137, -7.216100215911865, -7.121799945831299, -7.850500106811523, -7.660099983215332, -5.658199787139893, -5.7804999351501465, -5.140699863433838, -4.953199863433838, -6.298699855804443, -4.7778000831604, -3.7874999046325684, -4.714099884033203, -4.694799900054932, -6.25629997253418, -4.745800018310547, -5.809700012207031, -3.6698999404907227, -5.8454999923706055, -6.601200103759766, -5.780799865722656, -5.8368000984191895, -4.484499931335449, -5.016600131988525, -4.409299850463867, -5.052000045776367, -5.265600204467773, -5.55109977722168, -5.484499931335449, -5.035799980163574, -5.807300090789795, -5.657899856567383, -5.304500102996826, -5.7210001945495605, -5.6504998207092285, -4.802700042724609, -5.674200057983398, -4.033599853515625, -4.527299880981445, -4.667799949645996, -4.629899978637695, -4.563300132751465, -4.658299922943115, -4.581900119781494, -5.091300010681152, -4.793900012969971, -5.361400127410889, -5.058499813079834, -5.405399799346924, -4.893799781799316, -4.895899772644043, -5.1350998878479, -5.101099967956543, -5.228499889373779, -5.178800106048584]}, \"token.table\": {\"Topic\": [1, 2, 3, 1, 2, 3, 1, 2, 1, 2, 3, 1, 2, 3, 1, 2, 3, 1, 2, 3, 1, 2, 3, 1, 2, 3, 1, 2, 3, 1, 2, 3, 1, 2, 3, 1, 2, 3, 1, 2, 3, 1, 2, 3, 1, 2, 3, 1, 2, 3, 1, 2, 3, 1, 2, 3, 1, 2, 3, 1, 2, 3, 1, 2, 3, 1, 2, 3, 1, 2, 3, 1, 2, 3, 1, 2, 3, 1, 2, 3, 1, 2, 3, 1, 2, 3, 1, 2, 3, 1, 2, 3, 1, 2, 3, 1, 2, 3, 1, 2, 3, 1, 2, 3, 1, 2, 3, 1, 2, 3, 1, 2, 3, 1, 2, 3, 1, 2, 3, 1, 2, 3, 1, 2, 3, 1, 2, 3, 2, 1, 2, 3, 2, 3, 1, 2, 3, 1, 2, 3, 1, 2, 3, 1, 2, 1, 2, 3, 1, 2, 3, 1, 2, 3, 1, 2, 3, 1, 2, 3, 1, 2, 3, 1, 2, 3, 1, 2, 3, 1, 2, 3, 1, 2, 3, 1, 2, 3, 1, 2, 3, 1, 2, 3, 1, 2, 3, 1, 2, 3, 1, 2, 3, 1, 2, 3, 1, 2, 3, 1, 2, 3, 1, 2, 3, 1, 2, 3, 1, 2, 3, 2, 3, 1, 2, 1, 2, 2, 1, 2, 3, 1, 2, 3, 1, 2, 3, 1, 2, 3, 1, 2, 3, 1, 2, 3, 1, 2, 3, 1, 2, 3, 1, 2, 1, 2, 3, 2, 3, 1, 2, 3, 1, 2, 3, 1, 2, 3, 1, 2, 3, 1, 2, 3, 1, 2, 1, 2, 3, 2, 3, 1, 2, 3, 1, 2, 3, 1, 2, 3, 1, 2, 3, 1, 2, 3, 1, 2, 3, 1, 2, 3, 1, 2, 3, 1, 2, 3, 1, 2, 3, 1, 2, 3, 1, 2, 3, 1, 2, 3, 1, 2, 3, 1, 2, 3, 1, 2, 3, 1, 2, 3, 1, 2, 3, 1, 2, 3, 1, 2, 3, 1, 2, 3, 1, 2, 3, 1, 2, 3, 1, 2, 3, 1, 2, 3, 1, 2, 3, 1, 2, 3, 1, 2, 3, 1, 2, 3, 1, 2, 3, 1, 2, 3, 1, 2, 3, 1, 2, 3, 1, 2, 3, 1, 2, 3, 1, 2, 3, 1, 2, 3, 1, 2, 3, 1, 2, 3, 1, 2, 3, 1, 2, 3, 1, 2, 3, 1, 2, 1, 2, 3, 1, 2, 3, 2, 1, 2, 3, 1, 2, 3, 1, 2, 3, 1, 2, 3, 1, 2, 3, 1, 2, 3, 1, 2, 3, 1, 2, 3, 1, 2, 3, 1, 2, 3, 1, 2, 3, 1, 2, 3, 1, 2, 3, 1, 2, 3, 1, 2, 1, 2, 1, 2, 1, 2, 1, 2, 3, 1, 2, 3, 1, 2, 3, 1, 2, 3, 1, 2, 1, 2, 3, 1, 2, 3, 1, 2, 3, 1, 2, 3, 2, 3, 2, 3, 1, 2, 3, 1, 2, 3, 1, 2, 3, 1, 2, 1, 2, 3, 1, 2, 3, 1, 2, 3, 1, 2, 3, 1, 2, 3, 1, 2, 3, 1, 2, 3, 1, 2, 3, 1, 2, 3, 1, 2, 3, 1, 2, 3, 1, 2, 3, 1, 2, 3, 1, 2, 3, 1, 2, 3, 1, 2, 3, 1, 2, 3, 1, 2, 3, 1, 2, 3, 1, 2, 3, 1, 2, 3, 1, 2, 3, 1, 2, 3, 1, 2, 3, 1, 2, 3, 1, 2, 3, 1, 2, 3, 1, 2, 3, 1, 2, 3, 1, 2, 3, 1, 2, 3, 1, 2, 3, 1, 2, 3, 1, 2, 3, 1, 2, 2, 3, 1, 2, 3], \"Freq\": [0.8660274744033813, 0.1162722110748291, 0.01871046982705593, 0.962818443775177, 0.015747031196951866, 0.02024618163704872, 0.9515301585197449, 0.05286278948187828, 0.8385687470436096, 0.14230257272720337, 0.018634861335158348, 0.9508020281791687, 0.01980837620794773, 0.01980837620794773, 0.9326149821281433, 0.03885895758867264, 0.01942947879433632, 0.9517645239830017, 0.026437902823090553, 0.026437902823090553, 0.9228761792182922, 0.05934236943721771, 0.018416598439216614, 0.8922674059867859, 0.1004212349653244, 0.008231248706579208, 0.8653363585472107, 0.09108804166316986, 0.04554402083158493, 0.7371355295181274, 0.21531450748443604, 0.04728475213050842, 0.8301643133163452, 0.14758476614952087, 0.022788824513554573, 0.7868351340293884, 0.17362089455127716, 0.03878764808177948, 0.9102914333343506, 0.07002241909503937, 0.023340806365013123, 0.1364525556564331, 0.796312689781189, 0.06720797717571259, 0.15364393591880798, 0.7224534153938293, 0.12356895208358765, 0.829922616481781, 0.13115356862545013, 0.03870105370879173, 0.03219126909971237, 0.9625189900398254, 0.0032191271893680096, 0.899023175239563, 0.09142608195543289, 0.01523768063634634, 0.89738929271698, 0.0825185552239418, 0.02062963880598545, 0.8976743817329407, 0.08160676062107086, 0.020401690155267715, 0.03195016458630562, 0.9137747287750244, 0.05751029774546623, 0.8257207870483398, 0.1479182243347168, 0.026213357225060463, 0.9516677260398865, 0.03281613066792488, 0.03281613066792488, 0.9403420686721802, 0.03398826718330383, 0.02265884354710579, 0.9501011967658997, 0.022621456533670425, 0.022621456533670425, 0.9518614411354065, 0.028844285756349564, 0.028844285756349564, 0.7664270401000977, 0.20493336021900177, 0.028430061414837837, 0.8110409379005432, 0.1737748235464096, 0.015146775171160698, 0.7612124681472778, 0.20583805441856384, 0.03365905210375786, 0.7913777232170105, 0.16139940917491913, 0.04685789346694946, 0.8389410376548767, 0.13278202712535858, 0.02816588617861271, 0.04166623204946518, 0.9499900937080383, 0.008333246223628521, 0.8453921675682068, 0.09601406753063202, 0.05854516476392746, 0.9596993923187256, 0.026413744315505028, 0.017609162256121635, 0.038006532937288284, 0.9501633048057556, 0.019003266468644142, 0.02579527534544468, 0.9544252157211304, 0.02579527534544468, 0.8968285918235779, 0.07053707540035248, 0.03023017756640911, 0.7132813930511475, 0.1791595071554184, 0.10741178691387177, 0.05269164964556694, 0.9326422214508057, 0.015807494521141052, 0.8896887898445129, 0.06696581840515137, 0.03826618194580078, 0.8248714208602905, 0.0043876138515770435, 0.17111694812774658, 0.12717130780220032, 0.07266931235790253, 0.8175297975540161, 0.9626867771148682, 0.7379129528999329, 0.22711412608623505, 0.03494063392281532, 0.9878721237182617, 0.01250471081584692, 0.16640587151050568, 0.06240220367908478, 0.7719383835792542, 0.09570113569498062, 0.07443422079086304, 0.8187763690948486, 0.11834008991718292, 0.8308984637260437, 0.05035748332738876, 0.9255348443984985, 0.07424076646566391, 0.9223917126655579, 0.06935276091098785, 0.009247034788131714, 0.969318687915802, 0.027746520936489105, 0.0030159263405948877, 0.3739009201526642, 0.5135367512702942, 0.11263187974691391, 0.04303998872637749, 0.9152866005897522, 0.04166637361049652, 0.8884373903274536, 0.07985953986644745, 0.029947329312562943, 0.04732518643140793, 0.9397429823875427, 0.013521482236683369, 0.5390684008598328, 0.2551744282245636, 0.2058231085538864, 0.03722284361720085, 0.8614429235458374, 0.10103343427181244, 0.8764542937278748, 0.07967766374349594, 0.05311844125390053, 0.16879697144031525, 0.7588650584220886, 0.07213546335697174, 0.8783065676689148, 0.09138449281454086, 0.030461497604846954, 0.06752368807792664, 0.9019235968589783, 0.028938723728060722, 0.7097359299659729, 0.18489249050617218, 0.10540050268173218, 0.8465902209281921, 0.12976929545402527, 0.02317309007048607, 0.02410097047686577, 0.9640388488769531, 0.02410097047686577, 0.2453869879245758, 0.5724713206291199, 0.18227063119411469, 0.055445488542318344, 0.055445488542318344, 0.8871278166770935, 0.07856127619743347, 0.058920957148075104, 0.8641740679740906, 0.061712827533483505, 0.07493700832128525, 0.8639795780181885, 0.039797425270080566, 0.07462017238140106, 0.885492742061615, 0.04936867579817772, 0.07052668184041977, 0.8745308518409729, 0.05986523628234863, 0.03684014454483986, 0.9025835990905762, 0.9654124975204468, 0.02413531206548214, 0.013592006638646126, 0.9786244630813599, 0.01359038706868887, 0.9785078763961792, 0.9856391549110413, 0.025156505405902863, 0.15093903243541718, 0.8301646709442139, 0.043356429785490036, 0.1300692856311798, 0.8454503417015076, 0.026360418647527695, 0.15816251933574677, 0.8171730041503906, 0.036661241203546524, 0.12220413237810135, 0.8309881091117859, 0.04388980194926262, 0.13166940212249756, 0.8229337930679321, 0.05700377747416496, 0.0950062945485115, 0.8360553979873657, 0.07467298954725266, 0.1664140820503235, 0.7595309615135193, 0.8950210809707642, 0.09227021783590317, 0.018454043194651604, 0.013582275249063969, 0.9779238104820251, 0.008264891803264618, 0.9861787557601929, 0.005313144996762276, 0.9828609824180603, 0.011700726114213467, 0.12111057341098785, 0.7437196969985962, 0.13507607579231262, 0.18706563115119934, 0.7642138600349426, 0.04930412024259567, 0.023476185277104378, 0.9312220215797424, 0.03912697732448578, 0.02825450338423252, 0.8758895993232727, 0.09503787010908127, 0.015307649970054626, 0.9796895980834961, 0.007653824985027313, 0.0373963937163353, 0.9723062515258789, 0.3365861475467682, 0.5089901685714722, 0.15454699099063873, 0.9682026505470276, 0.029339473694562912, 0.11705721169710159, 0.08307286351919174, 0.8005203008651733, 0.10187774151563644, 0.07276981323957443, 0.8295758962631226, 0.10740536451339722, 0.11859342455863953, 0.7742136716842651, 0.06947197020053864, 0.023157324641942978, 0.9031356573104858, 0.11134569346904755, 0.058323934674263, 0.829790472984314, 0.06999532878398895, 0.06999532878398895, 0.8574427962303162, 0.05030359327793121, 0.06287949532270432, 0.8928887844085693, 0.053728993982076645, 0.9402573704719543, 0.006716124247759581, 0.3394332528114319, 0.5785990953445435, 0.08203693479299545, 0.8283886909484863, 0.13806478679180145, 0.03391064703464508, 0.5009210705757141, 0.4314276874065399, 0.06776221841573715, 0.6815380454063416, 0.2307569831609726, 0.08739633113145828, 0.21021457016468048, 0.5855380892753601, 0.20408912003040314, 0.5845901370048523, 0.36336952447891235, 0.052038662135601044, 0.6409366726875305, 0.3162841498851776, 0.042830146849155426, 0.6400980949401855, 0.32243451476097107, 0.03776976466178894, 0.5632184147834778, 0.36221635341644287, 0.07427056133747101, 0.7950356006622314, 0.13820244371891022, 0.06835819780826569, 0.5853689312934875, 0.3152693808078766, 0.0993046835064888, 0.3420121669769287, 0.5631200075149536, 0.09480337053537369, 0.6086219549179077, 0.31103774905204773, 0.08031962066888809, 0.44626152515411377, 0.438902884721756, 0.1147950142621994, 0.5841234922409058, 0.3476254642009735, 0.06839817017316818, 0.5941268801689148, 0.34490102529525757, 0.06085566058754921, 0.030128153041005135, 0.9641008973121643, 0.015064076520502567, 0.9043557643890381, 0.04932849854230881, 0.04932849854230881, 0.8840917348861694, 0.09261913597583771, 0.02525976486504078, 0.05021343007683754, 0.1255335658788681, 0.8285215497016907, 0.4808410704135895, 0.36837100982666016, 0.1508551985025406, 0.29457658529281616, 0.28997382521629333, 0.41501545906066895, 0.3404192626476288, 0.4990352988243103, 0.1605810523033142, 0.613545298576355, 0.30311188101768494, 0.08297748118638992, 0.4592989981174469, 0.46663424372673035, 0.07410475611686707, 0.7140071392059326, 0.18300485610961914, 0.10230980068445206, 0.3829253315925598, 0.5036414861679077, 0.11361520737409592, 0.22765803337097168, 0.6605815291404724, 0.1113409474492073, 0.47084110975265503, 0.3693636655807495, 0.15966728329658508, 0.28543978929519653, 0.5181238651275635, 0.19652371108531952, 0.27009743452072144, 0.5610429048538208, 0.1689460277557373, 0.37964001297950745, 0.5526674389839172, 0.06780804693698883, 0.46268102526664734, 0.49885910749435425, 0.03850143402814865, 0.49170735478401184, 0.4689040184020996, 0.03935685753822327, 0.013427821919322014, 0.980230987071991, 0.01666819490492344, 0.9500871300697327, 0.01666819490492344, 0.02430897206068039, 0.9480499625205994, 0.02430897206068039, 0.9749442934989929, 0.2058221697807312, 0.5793953537940979, 0.21474510431289673, 0.9598281383514404, 0.02296239510178566, 0.01377743761986494, 0.6227993369102478, 0.2878820598125458, 0.08940022438764572, 0.03862791135907173, 0.14485466480255127, 0.8208431601524353, 0.9063873291015625, 0.04899391159415245, 0.04899391159415245, 0.05013883113861084, 0.1253470778465271, 0.8272906541824341, 0.05017983540892601, 0.12544958293437958, 0.8279672861099243, 0.050253789871931076, 0.12563447654247284, 0.8291875720024109, 0.050280503928661346, 0.15084151923656464, 0.8296283483505249, 0.025170857086777687, 0.15102514624595642, 0.8306382894515991, 0.08054754883050919, 0.6348668932914734, 0.2847704589366913, 0.05749928206205368, 0.8555195927619934, 0.08712012320756912, 0.05946226418018341, 0.8464628458023071, 0.09444006532430649, 0.09793924540281296, 0.8368044495582581, 0.06625302135944366, 0.009063605219125748, 0.9788693785667419, 0.013589861802756786, 0.9784700274467468, 0.03740805387496948, 0.9726094603538513, 0.01358270738273859, 0.9779549241065979, 0.09022444486618042, 0.8593655228614807, 0.05002543702721596, 0.06635034829378128, 0.863881528377533, 0.07033136487007141, 0.11455712467432022, 0.796003520488739, 0.089287169277668, 0.13563838601112366, 0.7664497494697571, 0.09754814952611923, 0.9060574769973755, 0.09824720025062561, 0.012746293097734451, 0.9857133030891418, 0.004248764365911484, 0.37644729018211365, 0.3624502420425415, 0.2611556947231293, 0.14757032692432404, 0.413027286529541, 0.43931853771209717, 0.0007224625442177057, 0.23769018054008484, 0.7614755034446716, 0.9776912927627563, 0.027158092707395554, 0.9747044444084167, 0.02784869819879532, 0.12195920199155807, 0.8268420100212097, 0.05167762562632561, 0.0503266416490078, 0.9282469153404236, 0.02236739546060562, 0.16527698934078217, 0.7451999187469482, 0.08949043601751328, 0.02466609887778759, 0.9619778394699097, 0.04730216786265373, 0.9223923087120056, 0.02838130109012127, 0.5145246386528015, 0.40494996309280396, 0.08055689185857773, 0.041166242212057114, 0.08233248442411423, 0.8747826814651489, 0.07023440301418304, 0.12240853160619736, 0.8066923022270203, 0.08601149171590805, 0.12184961885213852, 0.7920225262641907, 0.03153029456734657, 0.1666601300239563, 0.8017703890800476, 0.10158856958150864, 0.1638525277376175, 0.7340593338012695, 0.13993535935878754, 0.16503827273845673, 0.694869875907898, 0.24618494510650635, 0.09548294544219971, 0.6591774225234985, 0.173097625374794, 0.07091792672872543, 0.756071925163269, 0.2017161250114441, 0.07384251058101654, 0.7240168452262878, 0.20068185031414032, 0.10819369554519653, 0.6910436153411865, 0.0861608162522316, 0.11657051742076874, 0.7957204580307007, 0.10044042766094208, 0.07533032447099686, 0.8202635049819946, 0.19592642784118652, 0.08774618804454803, 0.7163935303688049, 0.11529749631881714, 0.12434043735265732, 0.7618677616119385, 0.1504647433757782, 0.0646226778626442, 0.7851173281669617, 0.146737739443779, 0.10573748499155045, 0.7487940192222595, 0.1248585507273674, 0.1715613603591919, 0.7034016251564026, 0.15432699024677277, 0.07864740490913391, 0.7671831846237183, 0.14818371832370758, 0.17000219225883484, 0.6818269491195679, 0.1200694814324379, 0.07504342496395111, 0.8104689717292786, 0.22065623104572296, 0.09165720641613007, 0.6874290108680725, 0.15104299783706665, 0.14456972479820251, 0.7043878436088562, 0.1977914720773697, 0.08368100970983505, 0.7188959717750549, 0.16679172217845917, 0.15470536053180695, 0.6782863140106201, 0.12808933854103088, 0.15069334208965302, 0.721821129322052, 0.13604098558425903, 0.11048632115125656, 0.7531108260154724, 0.12153966724872589, 0.08141977339982986, 0.7964978218078613, 0.1456218659877777, 0.13622690737247467, 0.7177748680114746, 0.1671142578125, 0.05757046118378639, 0.7756020426750183, 0.18480423092842102, 0.40553057193756104, 0.4098585546016693, 0.31485384702682495, 0.6297076940536499, 0.055099423974752426, 0.01594053953886032, 0.1434648483991623, 0.8448485732078552, 0.04923665523529053, 0.93549644947052, 0.9729999899864197, 0.028202898800373077, 0.42998483777046204, 0.40437600016593933, 0.16560392081737518], \"Term\": [\"Activation\", \"Activation\", \"Activation\", \"Array\", \"Array\", \"Array\", \"Array.transpose\", \"Array.transpose\", \"BatchNormalization\", \"BatchNormalization\", \"BatchNormalization\", \"ClassificationReport.fit\", \"ClassificationReport.fit\", \"ClassificationReport.fit\", \"ClassificationReport.poof\", \"ClassificationReport.poof\", \"ClassificationReport.poof\", \"ClassificationReport.score\", \"ClassificationReport.score\", \"ClassificationReport.score\", \"Column\", \"Column\", \"Column\", \"Convolution2D\", \"Convolution2D\", \"Convolution2D\", \"CountVectorizer.toarray\", \"CountVectorizer.toarray\", \"CountVectorizer.toarray\", \"Dense\", \"Dense\", \"Dense\", \"Dropout\", \"Dropout\", \"Dropout\", \"Flatten\", \"Flatten\", \"Flatten\", \"FunctionTransformer\", \"FunctionTransformer\", \"FunctionTransformer\", \"HTML\", \"HTML\", \"HTML\", \"Image\", \"Image\", \"Image\", \"KernelDensity\", \"KernelDensity\", \"KernelDensity\", \"Layout\", \"Layout\", \"Layout\", \"LeakyReLU\", \"LeakyReLU\", \"LeakyReLU\", \"MLPClassifier\", \"MLPClassifier\", \"MLPClassifier\", \"MLPClassifier.predict\", \"MLPClassifier.predict\", \"MLPClassifier.predict\", \"Markdown\", \"Markdown\", \"Markdown\", \"MaxPooling2D\", \"MaxPooling2D\", \"MaxPooling2D\", \"Rank2D\", \"Rank2D\", \"Rank2D\", \"Rank2D.fit\", \"Rank2D.fit\", \"Rank2D.fit\", \"Rank2D.poof\", \"Rank2D.poof\", \"Rank2D.poof\", \"Rank2D.transform\", \"Rank2D.transform\", \"Rank2D.transform\", \"Sequential\", \"Sequential\", \"Sequential\", \"Sequential.add\", \"Sequential.add\", \"Sequential.add\", \"Sequential.compile\", \"Sequential.compile\", \"Sequential.compile\", \"Sequential.fit\", \"Sequential.fit\", \"Sequential.fit\", \"Sequential.fit_generator\", \"Sequential.fit_generator\", \"Sequential.fit_generator\", \"StructField\", \"StructField\", \"StructField\", \"Table.read\", \"Table.read\", \"Table.read\", \"Vector\", \"Vector\", \"Vector\", \"VideoFileClip\", \"VideoFileClip\", \"VideoFileClip\", \"VideoFileClip.fl_image\", \"VideoFileClip.fl_image\", \"VideoFileClip.fl_image\", \"accuracy_adjacent\", \"accuracy_adjacent\", \"accuracy_adjacent\", \"add\", \"add\", \"add\", \"assert_equal\", \"assert_equal\", \"assert_equal\", \"augment_features\", \"augment_features\", \"augment_features\", \"box\", \"box\", \"box\", \"build_lstm\", \"build_lstm\", \"build_lstm\", \"change\", \"compile\", \"compile\", \"compile\", \"compute_sum\", \"compute_sum\", \"conv2d_maxpool\", \"conv2d_maxpool\", \"conv2d_maxpool\", \"conv_layer.get_shape\", \"conv_layer.get_shape\", \"conv_layer.get_shape\", \"count\", \"count\", \"count\", \"create\", \"create\", \"date\", \"date\", \"date\", \"datetime.datetime\", \"datetime.datetime\", \"datetime.datetime\", \"dict\", \"dict\", \"dict\", \"display\", \"display\", \"display\", \"display_cm\", \"display_cm\", \"display_cm\", \"endswith\", \"endswith\", \"endswith\", \"enumerate\", \"enumerate\", \"enumerate\", \"execute\", \"execute\", \"execute\", \"eye\", \"eye\", \"eye\", \"f\", \"f\", \"f\", \"f1_score\", \"f1_score\", \"f1_score\", \"find_all\", \"find_all\", \"find_all\", \"fit\", \"fit\", \"fit\", \"fit_generator\", \"fit_generator\", \"fit_generator\", \"fl_image\", \"fl_image\", \"fl_image\", \"float\", \"float\", \"float\", \"folium.GeoJson\", \"folium.GeoJson\", \"folium.GeoJson\", \"folium.LayerControl\", \"folium.LayerControl\", \"folium.LayerControl\", \"folium.Map\", \"folium.Map\", \"folium.Map\", \"folium.Map.save\", \"folium.Map.save\", \"folium.Map.save\", \"folium.Marker\", \"folium.Marker\", \"folium.Marker\", \"folium.add_to\", \"folium.add_to\", \"folium.add_to\", \"game_over\", \"game_over\", \"getSparsifiedGraph\", \"getSparsifiedGraph\", \"getSparsifiedGraphOfSize\", \"getSparsifiedGraphOfSize\", \"guess_game\", \"helper.display_image_predictions\", \"helper.display_image_predictions\", \"helper.display_image_predictions\", \"helper.display_stats\", \"helper.display_stats\", \"helper.display_stats\", \"helper.load_data\", \"helper.load_data\", \"helper.load_data\", \"helper.load_preprocess_training_batch\", \"helper.load_preprocess_training_batch\", \"helper.load_preprocess_training_batch\", \"helper.preprocess_and_save_data\", \"helper.preprocess_and_save_data\", \"helper.preprocess_and_save_data\", \"helper.save_params\", \"helper.save_params\", \"helper.save_params\", \"helper.split\", \"helper.split\", \"helper.split\", \"holoviews.extension\", \"holoviews.extension\", \"holoviews.extension\", \"indexEdges\", \"indexEdges\", \"input\", \"input\", \"input\", \"input.endswith\", \"input.endswith\", \"int\", \"int\", \"int\", \"interact\", \"interact\", \"interact\", \"ipywidgets.Dropdown\", \"ipywidgets.Dropdown\", \"ipywidgets.Dropdown\", \"ipywidgets.FloatSlider\", \"ipywidgets.FloatSlider\", \"ipywidgets.FloatSlider\", \"ipywidgets.Text\", \"ipywidgets.Text\", \"ipywidgets.Text\", \"isDirected\", \"isDirected\", \"list\", \"list\", \"list\", \"lose\", \"lose\", \"matplotlib.pylab.figure\", \"matplotlib.pylab.figure\", \"matplotlib.pylab.figure\", \"matplotlib.pylab.imshow\", \"matplotlib.pylab.imshow\", \"matplotlib.pylab.imshow\", \"matplotlib.pylab.plot\", \"matplotlib.pylab.plot\", \"matplotlib.pylab.plot\", \"matplotlib.pylab.subplot\", \"matplotlib.pylab.subplot\", \"matplotlib.pylab.subplot\", \"matplotlib.pylab.title\", \"matplotlib.pylab.title\", \"matplotlib.pylab.title\", \"matplotlib.pylab.xlim\", \"matplotlib.pylab.xlim\", \"matplotlib.pylab.xlim\", \"matplotlib.pylab.ylim\", \"matplotlib.pylab.ylim\", \"matplotlib.pylab.ylim\", \"matplotlib.pyplot.add_feature\", \"matplotlib.pyplot.add_feature\", \"matplotlib.pyplot.add_feature\", \"matplotlib.pyplot.add_subplot\", \"matplotlib.pyplot.add_subplot\", \"matplotlib.pyplot.add_subplot\", \"matplotlib.pyplot.axvline\", \"matplotlib.pyplot.axvline\", \"matplotlib.pyplot.axvline\", \"matplotlib.pyplot.figure\", \"matplotlib.pyplot.figure\", \"matplotlib.pyplot.figure\", \"matplotlib.pyplot.grid\", \"matplotlib.pyplot.grid\", \"matplotlib.pyplot.grid\", \"matplotlib.pyplot.imshow\", \"matplotlib.pyplot.imshow\", \"matplotlib.pyplot.imshow\", \"matplotlib.pyplot.legend\", \"matplotlib.pyplot.legend\", \"matplotlib.pyplot.legend\", \"matplotlib.pyplot.plot\", \"matplotlib.pyplot.plot\", \"matplotlib.pyplot.plot\", \"matplotlib.pyplot.savefig\", \"matplotlib.pyplot.savefig\", \"matplotlib.pyplot.savefig\", \"matplotlib.pyplot.scatter\", \"matplotlib.pyplot.scatter\", \"matplotlib.pyplot.scatter\", \"matplotlib.pyplot.set_ylim\", \"matplotlib.pyplot.set_ylim\", \"matplotlib.pyplot.set_ylim\", \"matplotlib.pyplot.show\", \"matplotlib.pyplot.show\", \"matplotlib.pyplot.show\", \"matplotlib.pyplot.subplot\", \"matplotlib.pyplot.subplot\", \"matplotlib.pyplot.subplot\", \"matplotlib.pyplot.subplots\", \"matplotlib.pyplot.subplots\", \"matplotlib.pyplot.subplots\", \"matplotlib.pyplot.title\", \"matplotlib.pyplot.title\", \"matplotlib.pyplot.title\", \"matplotlib.pyplot.xlabel\", \"matplotlib.pyplot.xlabel\", \"matplotlib.pyplot.xlabel\", \"matplotlib.pyplot.ylabel\", \"matplotlib.pyplot.ylabel\", \"matplotlib.pyplot.ylabel\", \"measure_performance\", \"measure_performance\", \"measure_performance\", \"networkx.degree_centrality\", \"networkx.degree_centrality\", \"networkx.degree_centrality\", \"networkx.nodes\", \"networkx.nodes\", \"networkx.nodes\", \"neural_net_image_input\", \"neural_net_image_input\", \"neural_net_image_input\", \"numpy.arange\", \"numpy.arange\", \"numpy.arange\", \"numpy.argmax\", \"numpy.argmax\", \"numpy.argmax\", \"numpy.array\", \"numpy.array\", \"numpy.array\", \"numpy.asarray\", \"numpy.asarray\", \"numpy.asarray\", \"numpy.linspace\", \"numpy.linspace\", \"numpy.linspace\", \"numpy.log10\", \"numpy.log10\", \"numpy.log10\", \"numpy.mean\", \"numpy.mean\", \"numpy.mean\", \"numpy.ones\", \"numpy.ones\", \"numpy.ones\", \"numpy.sum\", \"numpy.sum\", \"numpy.sum\", \"numpy.zeros\", \"numpy.zeros\", \"numpy.zeros\", \"open\", \"open\", \"open\", \"pandas.DataFrame\", \"pandas.DataFrame\", \"pandas.DataFrame\", \"pandas.head\", \"pandas.head\", \"pandas.head\", \"pandas.read_csv\", \"pandas.read_csv\", \"pandas.read_csv\", \"parameterize\", \"parameterize\", \"pg8000.connect\", \"pg8000.connect\", \"pg8000.connect\", \"pg8000.cursor\", \"pg8000.cursor\", \"pg8000.cursor\", \"plalindrome\", \"plot\", \"plot\", \"plot\", \"poof\", \"poof\", \"poof\", \"predict\", \"predict\", \"predict\", \"prefetch\", \"prefetch\", \"prefetch\", \"preprocessing.RobustScaler\", \"preprocessing.RobustScaler\", \"preprocessing.RobustScaler\", \"problem_unittests.test_fully_conn\", \"problem_unittests.test_fully_conn\", \"problem_unittests.test_fully_conn\", \"problem_unittests.test_nn_image_inputs\", \"problem_unittests.test_nn_image_inputs\", \"problem_unittests.test_nn_image_inputs\", \"problem_unittests.test_nn_keep_prob_inputs\", \"problem_unittests.test_nn_keep_prob_inputs\", \"problem_unittests.test_nn_keep_prob_inputs\", \"problem_unittests.test_normalize\", \"problem_unittests.test_normalize\", \"problem_unittests.test_normalize\", \"problem_unittests.test_output\", \"problem_unittests.test_output\", \"problem_unittests.test_output\", \"pyplot.plot\", \"pyplot.plot\", \"pyplot.plot\", \"pyplot.xlabel\", \"pyplot.xlabel\", \"pyplot.xlabel\", \"pyplot.ylabel\", \"pyplot.ylabel\", \"pyplot.ylabel\", \"random.randint\", \"random.randint\", \"random.randint\", \"readGraph\", \"readGraph\", \"readGraph.indexEdges\", \"readGraph.indexEdges\", \"readGraph.isDirected\", \"readGraph.isDirected\", \"readGraph.size\", \"readGraph.size\", \"requests.get\", \"requests.get\", \"requests.get\", \"requests.json\", \"requests.json\", \"requests.json\", \"round\", \"round\", \"round\", \"run\", \"run\", \"run\", \"scipy.array\", \"scipy.array\", \"scores\", \"scores\", \"scores\", \"set\", \"set\", \"set\", \"show\", \"show\", \"show\", \"show_doc\", \"show_doc\", \"show_doc\", \"show_instruction\", \"show_instruction\", \"show_team\", \"show_team\", \"size\", \"size\", \"size\", \"sleep\", \"sleep\", \"sleep\", \"str\", \"str\", \"str\", \"str.endswith\", \"str.endswith\", \"subs\", \"subs\", \"subs\", \"sum\", \"sum\", \"sum\", \"tensorflow.FixedLenFeature\", \"tensorflow.FixedLenFeature\", \"tensorflow.FixedLenFeature\", \"tensorflow.Graph\", \"tensorflow.Graph\", \"tensorflow.Graph\", \"tensorflow.Graph.as_default\", \"tensorflow.Graph.as_default\", \"tensorflow.Graph.as_default\", \"tensorflow.Graph.get_tensor_by_name\", \"tensorflow.Graph.get_tensor_by_name\", \"tensorflow.Graph.get_tensor_by_name\", \"tensorflow.InteractiveSession.run\", \"tensorflow.InteractiveSession.run\", \"tensorflow.InteractiveSession.run\", \"tensorflow.Session\", \"tensorflow.Session\", \"tensorflow.Session\", \"tensorflow.Session.run\", \"tensorflow.Session.run\", \"tensorflow.Session.run\", \"tensorflow.Variable\", \"tensorflow.Variable\", \"tensorflow.Variable\", \"tensorflow.add\", \"tensorflow.add\", \"tensorflow.add\", \"tensorflow.argmax\", \"tensorflow.argmax\", \"tensorflow.argmax\", \"tensorflow.as_default\", \"tensorflow.as_default\", \"tensorflow.as_default\", \"tensorflow.as_list\", \"tensorflow.as_list\", \"tensorflow.as_list\", \"tensorflow.cast\", \"tensorflow.cast\", \"tensorflow.cast\", \"tensorflow.concat\", \"tensorflow.concat\", \"tensorflow.concat\", \"tensorflow.constant\", \"tensorflow.constant\", \"tensorflow.constant\", \"tensorflow.equal\", \"tensorflow.equal\", \"tensorflow.equal\", \"tensorflow.global_variables_initializer\", \"tensorflow.global_variables_initializer\", \"tensorflow.global_variables_initializer\", \"tensorflow.matmul\", \"tensorflow.matmul\", \"tensorflow.matmul\", \"tensorflow.maximum\", \"tensorflow.maximum\", \"tensorflow.maximum\", \"tensorflow.mul\", \"tensorflow.mul\", \"tensorflow.mul\", \"tensorflow.name_scope\", \"tensorflow.name_scope\", \"tensorflow.name_scope\", \"tensorflow.placeholder\", \"tensorflow.placeholder\", \"tensorflow.placeholder\", \"tensorflow.random_uniform\", \"tensorflow.random_uniform\", \"tensorflow.random_uniform\", \"tensorflow.reduce_mean\", \"tensorflow.reduce_mean\", \"tensorflow.reduce_mean\", \"tensorflow.reset_default_graph\", \"tensorflow.reset_default_graph\", \"tensorflow.reset_default_graph\", \"tensorflow.reshape\", \"tensorflow.reshape\", \"tensorflow.reshape\", \"tensorflow.truncated_normal\", \"tensorflow.truncated_normal\", \"tensorflow.truncated_normal\", \"tensorflow.variable_scope\", \"tensorflow.variable_scope\", \"tensorflow.variable_scope\", \"tensorflow.zeros\", \"tensorflow.zeros\", \"tensorflow.zeros\", \"time.time\", \"time.time\", \"time.time\", \"type\", \"type\", \"type\", \"untar_data\", \"untar_data\", \"untar_data\", \"upperEdgeIdBound\", \"upperEdgeIdBound\", \"win\", \"win\", \"zip\", \"zip\", \"zip\"]}, \"R\": 30, \"lambda.step\": 0.01, \"plot.opts\": {\"xlab\": \"PC1\", \"ylab\": \"PC2\"}, \"topic.order\": [1, 2, 3]};\n",
       "\n",
       "function LDAvis_load_lib(url, callback){\n",
       "  var s = document.createElement('script');\n",
       "  s.src = url;\n",
       "  s.async = true;\n",
       "  s.onreadystatechange = s.onload = callback;\n",
       "  s.onerror = function(){console.warn(\"failed to load library \" + url);};\n",
       "  document.getElementsByTagName(\"head\")[0].appendChild(s);\n",
       "}\n",
       "\n",
       "if(typeof(LDAvis) !== \"undefined\"){\n",
       "   // already loaded: just create the visualization\n",
       "   !function(LDAvis){\n",
       "       new LDAvis(\"#\" + \"ldavis_el7762324088457923460889655\", ldavis_el7762324088457923460889655_data);\n",
       "   }(LDAvis);\n",
       "}else if(typeof define === \"function\" && define.amd){\n",
       "   // require.js is available: use it to load d3/LDAvis\n",
       "   require.config({paths: {d3: \"https://cdnjs.cloudflare.com/ajax/libs/d3/3.5.5/d3.min\"}});\n",
       "   require([\"d3\"], function(d3){\n",
       "      window.d3 = d3;\n",
       "      LDAvis_load_lib(\"https://cdn.rawgit.com/bmabey/pyLDAvis/files/ldavis.v1.0.0.js\", function(){\n",
       "        new LDAvis(\"#\" + \"ldavis_el7762324088457923460889655\", ldavis_el7762324088457923460889655_data);\n",
       "      });\n",
       "    });\n",
       "}else{\n",
       "    // require.js not available: dynamically load d3 & LDAvis\n",
       "    LDAvis_load_lib(\"https://cdnjs.cloudflare.com/ajax/libs/d3/3.5.5/d3.min.js\", function(){\n",
       "         LDAvis_load_lib(\"https://cdn.rawgit.com/bmabey/pyLDAvis/files/ldavis.v1.0.0.js\", function(){\n",
       "                 new LDAvis(\"#\" + \"ldavis_el7762324088457923460889655\", ldavis_el7762324088457923460889655_data);\n",
       "            })\n",
       "         });\n",
       "}\n",
       "</script>"
      ],
      "text/plain": [
       "PreparedData(topic_coordinates=              x         y  topics  cluster       Freq\n",
       "topic                                                \n",
       "0     -0.082548 -0.042979  1       1        39.319046\n",
       "1     -0.042680  0.053184  2       1        41.598129\n",
       "2      0.125228 -0.010205  3       1        19.082817, topic_info=     Category          Freq                                     Term  \\\n",
       "term                                                                   \n",
       "70    Default  4170.000000   tensorflow.placeholder                    \n",
       "61    Default  3454.000000   tensorflow.Variable                       \n",
       "90    Default  3387.000000   input                                     \n",
       "73    Default  2068.000000   tensorflow.reduce_mean                    \n",
       "248   Default  1872.000000   tensorflow.Session                        \n",
       "23    Default  8735.000000   int                                       \n",
       "141   Default  15176.000000  matplotlib.pyplot.plot                    \n",
       "367   Default  1384.000000   show_doc                                  \n",
       "105   Default  9632.000000   str                                       \n",
       "571   Default  1347.000000   tensorflow.matmul                         \n",
       "74    Default  1330.000000   tensorflow.reshape                        \n",
       "83    Default  1250.000000   tensorflow.zeros                          \n",
       "595   Default  3631.000000   Sequential.add                            \n",
       "1926  Default  1657.000000   datetime.datetime                         \n",
       "63    Default  1036.000000   tensorflow.constant                       \n",
       "82    Default  1064.000000   tensorflow.variable_scope                 \n",
       "202   Default  2184.000000   display                                   \n",
       "709   Default  1049.000000   tensorflow.global_variables_initializer   \n",
       "68    Default  1099.000000   tensorflow.maximum                        \n",
       "80    Default  847.000000    tensorflow.truncated_normal               \n",
       "131   Default  2310.000000   time.time                                 \n",
       "261   Default  5094.000000   fit                                       \n",
       "171   Default  4766.000000   add                                       \n",
       "567   Default  831.000000    tensorflow.cast                           \n",
       "395   Default  869.000000    tensorflow.Session.run                    \n",
       "38    Default  6058.000000   enumerate                                 \n",
       "432   Default  5043.000000   plot                                      \n",
       "640   Default  663.000000    tensorflow.reset_default_graph            \n",
       "706   Default  610.000000    tensorflow.InteractiveSession.run         \n",
       "317   Default  434.000000    folium.add_to                             \n",
       "...       ...         ...                                  ...         \n",
       "709   Topic3   737.690857    tensorflow.global_variables_initializer   \n",
       "567   Topic3   595.841003    tensorflow.cast                           \n",
       "706   Topic3   447.826996    tensorflow.InteractiveSession.run         \n",
       "640   Topic3   478.693939    tensorflow.reset_default_graph            \n",
       "68    Topic3   749.764954    tensorflow.maximum                        \n",
       "708   Topic3   346.624542    tensorflow.equal                          \n",
       "396   Topic3   402.466064    tensorflow.add                            \n",
       "395   Topic3   573.089172    tensorflow.Session.run                    \n",
       "71    Topic3   377.873718    tensorflow.random_uniform                 \n",
       "710   Topic3   405.453644    tensorflow.name_scope                     \n",
       "131   Topic3   946.582764    time.time                                 \n",
       "566   Topic3   395.949188    tensorflow.argmax                         \n",
       "48    Topic3   2042.560059   numpy.array                               \n",
       "38    Topic3   1246.700928   enumerate                                 \n",
       "432   Topic3   1083.292114   plot                                      \n",
       "189   Topic3   1125.112061   numpy.zeros                               \n",
       "24    Topic3   1202.578247   list                                      \n",
       "26    Topic3   1093.582153   open                                      \n",
       "23    Topic3   1180.381348   int                                       \n",
       "58    Topic3   709.237244    set                                       \n",
       "17    Topic3   954.945435    numpy.arange                              \n",
       "47    Topic3   541.371704    numpy.argmax                              \n",
       "167   Topic3   732.878296    matplotlib.pyplot.imshow                  \n",
       "638   Topic3   518.054077    show                                      \n",
       "270   Topic3   864.123291    matplotlib.pyplot.show                    \n",
       "105   Topic3   862.351257    str                                       \n",
       "85    Topic3   678.892700    zip                                       \n",
       "143   Topic3   702.317932    matplotlib.pyplot.title                   \n",
       "137   Topic3   618.306824    float                                     \n",
       "141   Topic3   649.814392    matplotlib.pyplot.plot                    \n",
       "\n",
       "             Total  loglift  logprob  \n",
       "term                                  \n",
       "70    4170.000000   30.0000  30.0000  \n",
       "61    3454.000000   29.0000  29.0000  \n",
       "90    3387.000000   28.0000  28.0000  \n",
       "73    2068.000000   27.0000  27.0000  \n",
       "248   1872.000000   26.0000  26.0000  \n",
       "23    8735.000000   25.0000  25.0000  \n",
       "141   15176.000000  24.0000  24.0000  \n",
       "367   1384.000000   23.0000  23.0000  \n",
       "105   9632.000000   22.0000  22.0000  \n",
       "571   1347.000000   21.0000  21.0000  \n",
       "74    1330.000000   20.0000  20.0000  \n",
       "83    1250.000000   19.0000  19.0000  \n",
       "595   3631.000000   18.0000  18.0000  \n",
       "1926  1657.000000   17.0000  17.0000  \n",
       "63    1036.000000   16.0000  16.0000  \n",
       "82    1064.000000   15.0000  15.0000  \n",
       "202   2184.000000   14.0000  14.0000  \n",
       "709   1049.000000   13.0000  13.0000  \n",
       "68    1099.000000   12.0000  12.0000  \n",
       "80    847.000000    11.0000  11.0000  \n",
       "131   2310.000000   10.0000  10.0000  \n",
       "261   5094.000000   9.0000   9.0000   \n",
       "171   4766.000000   8.0000   8.0000   \n",
       "567   831.000000    7.0000   7.0000   \n",
       "395   869.000000    6.0000   6.0000   \n",
       "38    6058.000000   5.0000   5.0000   \n",
       "432   5043.000000   4.0000   4.0000   \n",
       "640   663.000000    3.0000   3.0000   \n",
       "706   610.000000    2.0000   2.0000   \n",
       "317   434.000000    1.0000   1.0000   \n",
       "...          ...       ...      ...   \n",
       "709   1049.187256   1.3041  -5.0520   \n",
       "567   831.944946    1.3226  -5.2656   \n",
       "706   610.304871    1.3468  -5.5511   \n",
       "640   663.599304    1.3298  -5.4845   \n",
       "68    1099.985840   1.2731  -5.0358   \n",
       "708   463.411804    1.3660  -5.8073   \n",
       "396   555.235718    1.3346  -5.6579   \n",
       "395   869.265198    1.2398  -5.3045   \n",
       "71    525.806274    1.3260  -5.7210   \n",
       "710   589.151733    1.2827  -5.6505   \n",
       "131   2310.553223   0.7640  -4.8027   \n",
       "566   573.046326    1.2867  -5.6742   \n",
       "48    12722.546875 -0.1728  -4.0336   \n",
       "38    6058.600586   0.0754  -4.5273   \n",
       "432   5043.188477   0.1183  -4.6678   \n",
       "189   5724.500000   0.0295  -4.6299   \n",
       "24    7784.040039  -0.2112  -4.5633   \n",
       "26    6475.440918  -0.1222  -4.6583   \n",
       "23    8735.818359  -0.3452  -4.5819   \n",
       "58    2714.855469   0.3141  -5.0913   \n",
       "17    6330.574219  -0.2351  -4.7939   \n",
       "47    1303.565918   0.7776  -5.3614   \n",
       "167   3591.568359   0.0670  -5.0585   \n",
       "638   1179.098877   0.8340  -5.4054   \n",
       "270   8700.496094  -0.6530  -4.8938   \n",
       "105   9632.314453  -0.7568  -4.8959   \n",
       "85    4100.144531  -0.1419  -5.1351   \n",
       "143   6115.248047  -0.5078  -5.1011   \n",
       "137   3390.562744  -0.0454  -5.2285   \n",
       "141   15176.226562 -1.4944  -5.1788   \n",
       "\n",
       "[278 rows x 6 columns], token_table=      Topic      Freq                            Term\n",
       "term                                                 \n",
       "474   1      0.866027  Activation                    \n",
       "474   2      0.116272  Activation                    \n",
       "474   3      0.018710  Activation                    \n",
       "1848  1      0.962818  Array                         \n",
       "1848  2      0.015747  Array                         \n",
       "1848  3      0.020246  Array                         \n",
       "1849  1      0.951530  Array.transpose               \n",
       "1849  2      0.052863  Array.transpose               \n",
       "476   1      0.838569  BatchNormalization            \n",
       "476   2      0.142303  BatchNormalization            \n",
       "476   3      0.018635  BatchNormalization            \n",
       "1176  1      0.950802  ClassificationReport.fit      \n",
       "1176  2      0.019808  ClassificationReport.fit      \n",
       "1176  3      0.019808  ClassificationReport.fit      \n",
       "1177  1      0.932615  ClassificationReport.poof     \n",
       "1177  2      0.038859  ClassificationReport.poof     \n",
       "1177  3      0.019429  ClassificationReport.poof     \n",
       "2201  1      0.951765  ClassificationReport.score    \n",
       "2201  2      0.026438  ClassificationReport.score    \n",
       "2201  3      0.026438  ClassificationReport.score    \n",
       "1881  1      0.922876  Column                        \n",
       "1881  2      0.059342  Column                        \n",
       "1881  3      0.018417  Column                        \n",
       "477   1      0.892267  Convolution2D                 \n",
       "477   2      0.100421  Convolution2D                 \n",
       "477   3      0.008231  Convolution2D                 \n",
       "1439  1      0.865336  CountVectorizer.toarray       \n",
       "1439  2      0.091088  CountVectorizer.toarray       \n",
       "1439  3      0.045544  CountVectorizer.toarray       \n",
       "30    1      0.737136  Dense                         \n",
       "...  ..           ...                      ...       \n",
       "640   2      0.150693  tensorflow.reset_default_graph\n",
       "640   3      0.721821  tensorflow.reset_default_graph\n",
       "74    1      0.136041  tensorflow.reshape            \n",
       "74    2      0.110486  tensorflow.reshape            \n",
       "74    3      0.753111  tensorflow.reshape            \n",
       "80    1      0.121540  tensorflow.truncated_normal   \n",
       "80    2      0.081420  tensorflow.truncated_normal   \n",
       "80    3      0.796498  tensorflow.truncated_normal   \n",
       "82    1      0.145622  tensorflow.variable_scope     \n",
       "82    2      0.136227  tensorflow.variable_scope     \n",
       "82    3      0.717775  tensorflow.variable_scope     \n",
       "83    1      0.167114  tensorflow.zeros              \n",
       "83    2      0.057570  tensorflow.zeros              \n",
       "83    3      0.775602  tensorflow.zeros              \n",
       "131   1      0.184804  time.time                     \n",
       "131   2      0.405531  time.time                     \n",
       "131   3      0.409859  time.time                     \n",
       "231   1      0.314854  type                          \n",
       "231   2      0.629708  type                          \n",
       "231   3      0.055099  type                          \n",
       "368   1      0.015941  untar_data                    \n",
       "368   2      0.143465  untar_data                    \n",
       "368   3      0.844849  untar_data                    \n",
       "2298  1      0.049237  upperEdgeIdBound              \n",
       "2298  2      0.935496  upperEdgeIdBound              \n",
       "106   2      0.973000  win                           \n",
       "106   3      0.028203  win                           \n",
       "85    1      0.429985  zip                           \n",
       "85    2      0.404376  zip                           \n",
       "85    3      0.165604  zip                           \n",
       "\n",
       "[606 rows x 3 columns], R=30, lambda_step=0.01, plot_opts={'xlab': 'PC1', 'ylab': 'PC2'}, topic_order=[1, 2, 3])"
      ]
     },
     "execution_count": 156,
     "metadata": {},
     "output_type": "execute_result"
    }
   ],
   "source": [
    "# inspect regular topics - ATTENTION: ALL TOPICS ARE SHIFTED WITH ID +1 w.r.t. GENSIM\n",
    "vis"
   ]
  },
  {
   "cell_type": "code",
   "execution_count": 88,
   "metadata": {
    "scrolled": true
   },
   "outputs": [
    {
     "data": {
      "text/html": [
       "<div>\n",
       "<style scoped>\n",
       "    .dataframe tbody tr th:only-of-type {\n",
       "        vertical-align: middle;\n",
       "    }\n",
       "\n",
       "    .dataframe tbody tr th {\n",
       "        vertical-align: top;\n",
       "    }\n",
       "\n",
       "    .dataframe thead th {\n",
       "        text-align: right;\n",
       "    }\n",
       "</style>\n",
       "<table border=\"1\" class=\"dataframe\">\n",
       "  <thead>\n",
       "    <tr style=\"text-align: right;\">\n",
       "      <th></th>\n",
       "      <th>author</th>\n",
       "      <th>0</th>\n",
       "      <th>1</th>\n",
       "      <th>2</th>\n",
       "      <th>3</th>\n",
       "      <th>4</th>\n",
       "      <th>5</th>\n",
       "      <th>6</th>\n",
       "      <th>7</th>\n",
       "      <th>8</th>\n",
       "      <th>9</th>\n",
       "    </tr>\n",
       "  </thead>\n",
       "  <tbody>\n",
       "    <tr>\n",
       "      <th>0</th>\n",
       "      <td>--global</td>\n",
       "      <td>NaN</td>\n",
       "      <td>NaN</td>\n",
       "      <td>NaN</td>\n",
       "      <td>NaN</td>\n",
       "      <td>NaN</td>\n",
       "      <td>NaN</td>\n",
       "      <td>NaN</td>\n",
       "      <td>NaN</td>\n",
       "      <td>NaN</td>\n",
       "      <td>0.985323</td>\n",
       "    </tr>\n",
       "    <tr>\n",
       "      <th>1</th>\n",
       "      <td>09zabeli@gmail.com</td>\n",
       "      <td>NaN</td>\n",
       "      <td>0.650625</td>\n",
       "      <td>NaN</td>\n",
       "      <td>NaN</td>\n",
       "      <td>0.342522</td>\n",
       "      <td>NaN</td>\n",
       "      <td>NaN</td>\n",
       "      <td>NaN</td>\n",
       "      <td>NaN</td>\n",
       "      <td>NaN</td>\n",
       "    </tr>\n",
       "    <tr>\n",
       "      <th>2</th>\n",
       "      <td>0u812@users.noreply.github.com</td>\n",
       "      <td>NaN</td>\n",
       "      <td>NaN</td>\n",
       "      <td>NaN</td>\n",
       "      <td>NaN</td>\n",
       "      <td>NaN</td>\n",
       "      <td>0.989180</td>\n",
       "      <td>NaN</td>\n",
       "      <td>NaN</td>\n",
       "      <td>NaN</td>\n",
       "      <td>NaN</td>\n",
       "    </tr>\n",
       "    <tr>\n",
       "      <th>3</th>\n",
       "      <td>0x4a50@gmail.com</td>\n",
       "      <td>NaN</td>\n",
       "      <td>NaN</td>\n",
       "      <td>NaN</td>\n",
       "      <td>NaN</td>\n",
       "      <td>NaN</td>\n",
       "      <td>NaN</td>\n",
       "      <td>NaN</td>\n",
       "      <td>NaN</td>\n",
       "      <td>0.998154</td>\n",
       "      <td>NaN</td>\n",
       "    </tr>\n",
       "    <tr>\n",
       "      <th>4</th>\n",
       "      <td>1021036214@qq.com</td>\n",
       "      <td>NaN</td>\n",
       "      <td>0.996774</td>\n",
       "      <td>NaN</td>\n",
       "      <td>NaN</td>\n",
       "      <td>NaN</td>\n",
       "      <td>NaN</td>\n",
       "      <td>NaN</td>\n",
       "      <td>NaN</td>\n",
       "      <td>NaN</td>\n",
       "      <td>NaN</td>\n",
       "    </tr>\n",
       "    <tr>\n",
       "      <th>5</th>\n",
       "      <td>10246101+PMeira@users.noreply.github.com</td>\n",
       "      <td>NaN</td>\n",
       "      <td>NaN</td>\n",
       "      <td>NaN</td>\n",
       "      <td>NaN</td>\n",
       "      <td>NaN</td>\n",
       "      <td>0.885699</td>\n",
       "      <td>NaN</td>\n",
       "      <td>NaN</td>\n",
       "      <td>NaN</td>\n",
       "      <td>0.107010</td>\n",
       "    </tr>\n",
       "    <tr>\n",
       "      <th>6</th>\n",
       "      <td>1070251317@qq.com</td>\n",
       "      <td>NaN</td>\n",
       "      <td>0.997595</td>\n",
       "      <td>NaN</td>\n",
       "      <td>NaN</td>\n",
       "      <td>NaN</td>\n",
       "      <td>NaN</td>\n",
       "      <td>NaN</td>\n",
       "      <td>NaN</td>\n",
       "      <td>NaN</td>\n",
       "      <td>NaN</td>\n",
       "    </tr>\n",
       "    <tr>\n",
       "      <th>7</th>\n",
       "      <td>1098035510@qq.com</td>\n",
       "      <td>NaN</td>\n",
       "      <td>0.999230</td>\n",
       "      <td>NaN</td>\n",
       "      <td>NaN</td>\n",
       "      <td>NaN</td>\n",
       "      <td>NaN</td>\n",
       "      <td>NaN</td>\n",
       "      <td>NaN</td>\n",
       "      <td>NaN</td>\n",
       "      <td>NaN</td>\n",
       "    </tr>\n",
       "    <tr>\n",
       "      <th>8</th>\n",
       "      <td>1101318+mrw34@users.noreply.github.com</td>\n",
       "      <td>0.160273</td>\n",
       "      <td>0.098773</td>\n",
       "      <td>0.074469</td>\n",
       "      <td>0.078858</td>\n",
       "      <td>0.076820</td>\n",
       "      <td>0.128673</td>\n",
       "      <td>0.082352</td>\n",
       "      <td>0.058280</td>\n",
       "      <td>0.073302</td>\n",
       "      <td>0.168200</td>\n",
       "    </tr>\n",
       "    <tr>\n",
       "      <th>9</th>\n",
       "      <td>1109253641np@sina.com</td>\n",
       "      <td>NaN</td>\n",
       "      <td>0.997645</td>\n",
       "      <td>NaN</td>\n",
       "      <td>NaN</td>\n",
       "      <td>NaN</td>\n",
       "      <td>NaN</td>\n",
       "      <td>NaN</td>\n",
       "      <td>NaN</td>\n",
       "      <td>NaN</td>\n",
       "      <td>NaN</td>\n",
       "    </tr>\n",
       "    <tr>\n",
       "      <th>10</th>\n",
       "      <td>1119062521@qq.com</td>\n",
       "      <td>NaN</td>\n",
       "      <td>0.998868</td>\n",
       "      <td>NaN</td>\n",
       "      <td>NaN</td>\n",
       "      <td>NaN</td>\n",
       "      <td>NaN</td>\n",
       "      <td>NaN</td>\n",
       "      <td>NaN</td>\n",
       "      <td>NaN</td>\n",
       "      <td>NaN</td>\n",
       "    </tr>\n",
       "    <tr>\n",
       "      <th>11</th>\n",
       "      <td>11262246+JonathanShor@users.noreply.github.com</td>\n",
       "      <td>0.680001</td>\n",
       "      <td>NaN</td>\n",
       "      <td>NaN</td>\n",
       "      <td>NaN</td>\n",
       "      <td>NaN</td>\n",
       "      <td>NaN</td>\n",
       "      <td>NaN</td>\n",
       "      <td>0.311896</td>\n",
       "      <td>NaN</td>\n",
       "      <td>NaN</td>\n",
       "    </tr>\n",
       "    <tr>\n",
       "      <th>12</th>\n",
       "      <td>1147619850@qq.com</td>\n",
       "      <td>NaN</td>\n",
       "      <td>0.984098</td>\n",
       "      <td>NaN</td>\n",
       "      <td>NaN</td>\n",
       "      <td>NaN</td>\n",
       "      <td>NaN</td>\n",
       "      <td>NaN</td>\n",
       "      <td>NaN</td>\n",
       "      <td>NaN</td>\n",
       "      <td>NaN</td>\n",
       "    </tr>\n",
       "    <tr>\n",
       "      <th>13</th>\n",
       "      <td>1150596359@qq.com</td>\n",
       "      <td>NaN</td>\n",
       "      <td>0.991367</td>\n",
       "      <td>NaN</td>\n",
       "      <td>NaN</td>\n",
       "      <td>NaN</td>\n",
       "      <td>NaN</td>\n",
       "      <td>NaN</td>\n",
       "      <td>NaN</td>\n",
       "      <td>NaN</td>\n",
       "      <td>NaN</td>\n",
       "    </tr>\n",
       "    <tr>\n",
       "      <th>14</th>\n",
       "      <td>1154945484@qq.com</td>\n",
       "      <td>NaN</td>\n",
       "      <td>0.789644</td>\n",
       "      <td>NaN</td>\n",
       "      <td>NaN</td>\n",
       "      <td>0.196763</td>\n",
       "      <td>NaN</td>\n",
       "      <td>NaN</td>\n",
       "      <td>NaN</td>\n",
       "      <td>NaN</td>\n",
       "      <td>NaN</td>\n",
       "    </tr>\n",
       "    <tr>\n",
       "      <th>15</th>\n",
       "      <td>11741049+arnoldandreasson@users.noreply.github.com</td>\n",
       "      <td>NaN</td>\n",
       "      <td>0.972534</td>\n",
       "      <td>NaN</td>\n",
       "      <td>NaN</td>\n",
       "      <td>NaN</td>\n",
       "      <td>NaN</td>\n",
       "      <td>NaN</td>\n",
       "      <td>NaN</td>\n",
       "      <td>NaN</td>\n",
       "      <td>NaN</td>\n",
       "    </tr>\n",
       "    <tr>\n",
       "      <th>16</th>\n",
       "      <td>1179378933@qq.com</td>\n",
       "      <td>NaN</td>\n",
       "      <td>0.997543</td>\n",
       "      <td>NaN</td>\n",
       "      <td>NaN</td>\n",
       "      <td>NaN</td>\n",
       "      <td>NaN</td>\n",
       "      <td>NaN</td>\n",
       "      <td>NaN</td>\n",
       "      <td>NaN</td>\n",
       "      <td>NaN</td>\n",
       "    </tr>\n",
       "    <tr>\n",
       "      <th>17</th>\n",
       "      <td>1193795546@qq.com</td>\n",
       "      <td>0.017901</td>\n",
       "      <td>0.899340</td>\n",
       "      <td>NaN</td>\n",
       "      <td>NaN</td>\n",
       "      <td>NaN</td>\n",
       "      <td>0.014372</td>\n",
       "      <td>NaN</td>\n",
       "      <td>NaN</td>\n",
       "      <td>NaN</td>\n",
       "      <td>0.018787</td>\n",
       "    </tr>\n",
       "    <tr>\n",
       "      <th>18</th>\n",
       "      <td>11beseuahmed@seecs.edu.pk</td>\n",
       "      <td>NaN</td>\n",
       "      <td>NaN</td>\n",
       "      <td>0.428285</td>\n",
       "      <td>NaN</td>\n",
       "      <td>NaN</td>\n",
       "      <td>NaN</td>\n",
       "      <td>NaN</td>\n",
       "      <td>0.530186</td>\n",
       "      <td>NaN</td>\n",
       "      <td>NaN</td>\n",
       "    </tr>\n",
       "    <tr>\n",
       "      <th>19</th>\n",
       "      <td>1224310616@qq.com</td>\n",
       "      <td>NaN</td>\n",
       "      <td>0.997906</td>\n",
       "      <td>NaN</td>\n",
       "      <td>NaN</td>\n",
       "      <td>NaN</td>\n",
       "      <td>NaN</td>\n",
       "      <td>NaN</td>\n",
       "      <td>NaN</td>\n",
       "      <td>NaN</td>\n",
       "      <td>NaN</td>\n",
       "    </tr>\n",
       "  </tbody>\n",
       "</table>\n",
       "</div>"
      ],
      "text/plain": [
       "                                                author         0         1  \\\n",
       "0   --global                                           NaN       NaN         \n",
       "1   09zabeli@gmail.com                                 NaN        0.650625   \n",
       "2   0u812@users.noreply.github.com                     NaN       NaN         \n",
       "3   0x4a50@gmail.com                                   NaN       NaN         \n",
       "4   1021036214@qq.com                                  NaN        0.996774   \n",
       "5   10246101+PMeira@users.noreply.github.com           NaN       NaN         \n",
       "6   1070251317@qq.com                                  NaN        0.997595   \n",
       "7   1098035510@qq.com                                  NaN        0.999230   \n",
       "8   1101318+mrw34@users.noreply.github.com              0.160273  0.098773   \n",
       "9   1109253641np@sina.com                              NaN        0.997645   \n",
       "10  1119062521@qq.com                                  NaN        0.998868   \n",
       "11  11262246+JonathanShor@users.noreply.github.com      0.680001 NaN         \n",
       "12  1147619850@qq.com                                  NaN        0.984098   \n",
       "13  1150596359@qq.com                                  NaN        0.991367   \n",
       "14  1154945484@qq.com                                  NaN        0.789644   \n",
       "15  11741049+arnoldandreasson@users.noreply.github.com NaN        0.972534   \n",
       "16  1179378933@qq.com                                  NaN        0.997543   \n",
       "17  1193795546@qq.com                                   0.017901  0.899340   \n",
       "18  11beseuahmed@seecs.edu.pk                          NaN       NaN         \n",
       "19  1224310616@qq.com                                  NaN        0.997906   \n",
       "\n",
       "           2         3         4         5         6         7         8  \\\n",
       "0  NaN       NaN       NaN       NaN       NaN       NaN       NaN         \n",
       "1  NaN       NaN        0.342522 NaN       NaN       NaN       NaN         \n",
       "2  NaN       NaN       NaN        0.989180 NaN       NaN       NaN         \n",
       "3  NaN       NaN       NaN       NaN       NaN       NaN        0.998154   \n",
       "4  NaN       NaN       NaN       NaN       NaN       NaN       NaN         \n",
       "5  NaN       NaN       NaN        0.885699 NaN       NaN       NaN         \n",
       "6  NaN       NaN       NaN       NaN       NaN       NaN       NaN         \n",
       "7  NaN       NaN       NaN       NaN       NaN       NaN       NaN         \n",
       "8   0.074469  0.078858  0.076820  0.128673  0.082352  0.058280  0.073302   \n",
       "9  NaN       NaN       NaN       NaN       NaN       NaN       NaN         \n",
       "10 NaN       NaN       NaN       NaN       NaN       NaN       NaN         \n",
       "11 NaN       NaN       NaN       NaN       NaN        0.311896 NaN         \n",
       "12 NaN       NaN       NaN       NaN       NaN       NaN       NaN         \n",
       "13 NaN       NaN       NaN       NaN       NaN       NaN       NaN         \n",
       "14 NaN       NaN        0.196763 NaN       NaN       NaN       NaN         \n",
       "15 NaN       NaN       NaN       NaN       NaN       NaN       NaN         \n",
       "16 NaN       NaN       NaN       NaN       NaN       NaN       NaN         \n",
       "17 NaN       NaN       NaN        0.014372 NaN       NaN       NaN         \n",
       "18  0.428285 NaN       NaN       NaN       NaN        0.530186 NaN         \n",
       "19 NaN       NaN       NaN       NaN       NaN       NaN       NaN         \n",
       "\n",
       "           9  \n",
       "0   0.985323  \n",
       "1  NaN        \n",
       "2  NaN        \n",
       "3  NaN        \n",
       "4  NaN        \n",
       "5   0.107010  \n",
       "6  NaN        \n",
       "7  NaN        \n",
       "8   0.168200  \n",
       "9  NaN        \n",
       "10 NaN        \n",
       "11 NaN        \n",
       "12 NaN        \n",
       "13 NaN        \n",
       "14 NaN        \n",
       "15 NaN        \n",
       "16 NaN        \n",
       "17  0.018787  \n",
       "18 NaN        \n",
       "19 NaN        "
      ]
     },
     "execution_count": 88,
     "metadata": {},
     "output_type": "execute_result"
    }
   ],
   "source": [
    "#inspect first 10 documents and their topic distributions\n",
    "pd.set_option('display.max_colwidth', -1)\n",
    "topics_post = pd.concat([authors['author'], df_topic], axis=1)\n",
    "topics_post.head(20)"
   ]
  },
  {
   "cell_type": "code",
   "execution_count": 90,
   "metadata": {
    "scrolled": true
   },
   "outputs": [
    {
     "data": {
      "text/plain": [
       "9    1877\n",
       "0    1180\n",
       "5    877 \n",
       "1    670 \n",
       "8    669 \n",
       "3    525 \n",
       "6    501 \n",
       "2    490 \n",
       "4    439 \n",
       "7    355 \n",
       "Name: cat, dtype: int64"
      ]
     },
     "execution_count": 90,
     "metadata": {},
     "output_type": "execute_result"
    }
   ],
   "source": [
    "pd.DataFrame(df_topic.idxmax(axis=1), columns=['cat'])['cat'].value_counts()"
   ]
  },
  {
   "cell_type": "code",
   "execution_count": 150,
   "metadata": {
    "scrolled": true
   },
   "outputs": [
    {
     "name": "stdout",
     "output_type": "stream",
     "text": [
      "Wall time: 24min 5s\n"
     ]
    }
   ],
   "source": [
    "%%time\n",
    "cos = []\n",
    "for i in range(2,20):\n",
    "    ldamodel = gensim.models.ldamodel.LdaModel(corpus, id2word = dictionary, num_topics= i, passes=10, chunksize=100, update_every=0, alpha='asymmetric', random_state=1)    \n",
    "    coherence_model_lda = CoherenceModel(model=ldamodel, texts=texts, dictionary=dictionary, coherence='c_v')\n",
    "    coherence_lda = coherence_model_lda.get_coherence()\n",
    "    cos.append(coherence_lda)"
   ]
  },
  {
   "cell_type": "code",
   "execution_count": 151,
   "metadata": {
    "scrolled": true
   },
   "outputs": [
    {
     "data": {
      "image/png": "[encoded data removed]",
      "text/plain": [
       "<Figure size 432x288 with 1 Axes>"
      ]
     },
     "metadata": {
      "needs_background": "light"
     },
     "output_type": "display_data"
    }
   ],
   "source": [
    "# Show graph\n",
    "limit=20 \n",
    "start=2\n",
    "x = range(start, limit)\n",
    "plt.plot(x, cos)\n",
    "plt.xlabel(\"Num Topics\")\n",
    "plt.ylabel(\"Coherence score\")\n",
    "plt.legend((\"coherence_values\"), loc='best')\n",
    "plt.show()"
   ]
  },
  {
   "cell_type": "code",
   "execution_count": 152,
   "metadata": {
    "scrolled": true
   },
   "outputs": [
    {
     "data": {
      "text/plain": [
       "[0.4342720581927352,\n",
       " 0.47482760034960414,\n",
       " 0.4494494888736474,\n",
       " 0.44893039403023555,\n",
       " 0.46431295719384136,\n",
       " 0.4562267068871669,\n",
       " 0.47485139840164403,\n",
       " 0.4296739797770362,\n",
       " 0.4592889851225916,\n",
       " 0.4387184143354998,\n",
       " 0.46612482640066566,\n",
       " 0.45955506567023635,\n",
       " 0.4729754147987926,\n",
       " 0.46469090504086685,\n",
       " 0.4754845668776234,\n",
       " 0.46960123063127845,\n",
       " 0.48064052516712497,\n",
       " 0.475040301957298]"
      ]
     },
     "execution_count": 152,
     "metadata": {},
     "output_type": "execute_result"
    }
   ],
   "source": [
    "cos"
   ]
  },
  {
   "cell_type": "markdown",
   "metadata": {},
   "source": [
    "## Removing All Matplotlib"
   ]
  },
  {
   "cell_type": "code",
   "execution_count": 166,
   "metadata": {
    "scrolled": true
   },
   "outputs": [
    {
     "ename": "ValueError",
     "evalue": "The truth value of a Series is ambiguous. Use a.empty, a.bool(), a.item(), a.any() or a.all().",
     "output_type": "error",
     "traceback": [
      "\u001b[1;31m---------------------------------------------------------------------------\u001b[0m",
      "\u001b[1;31mValueError\u001b[0m                                Traceback (most recent call last)",
      "\u001b[1;32m<ipython-input-166-e7029bcc7f7d>\u001b[0m in \u001b[0;36m<module>\u001b[1;34m\u001b[0m\n\u001b[0;32m      1\u001b[0m \u001b[1;31m#no_frequent = clean.drop(clean[clean['package'] in [\"matplotlib.pyplot\",\"matplotlib\"]].index)\u001b[0m\u001b[1;33m\u001b[0m\u001b[1;33m\u001b[0m\u001b[0m\n\u001b[1;32m----> 2\u001b[1;33m \u001b[0mno_frequent\u001b[0m \u001b[1;33m=\u001b[0m \u001b[0mno_frequent\u001b[0m\u001b[1;33m.\u001b[0m\u001b[0mdrop\u001b[0m\u001b[1;33m(\u001b[0m\u001b[0mno_frequent\u001b[0m\u001b[1;33m[\u001b[0m\u001b[0mno_frequent\u001b[0m\u001b[1;33m[\u001b[0m\u001b[1;34m'function'\u001b[0m\u001b[1;33m]\u001b[0m \u001b[1;32min\u001b[0m \u001b[1;33m[\u001b[0m\u001b[1;34m\"print\"\u001b[0m\u001b[1;33m,\u001b[0m\u001b[1;34m\"len\"\u001b[0m\u001b[1;33m]\u001b[0m\u001b[1;33m]\u001b[0m\u001b[1;33m.\u001b[0m\u001b[0mindex\u001b[0m\u001b[1;33m)\u001b[0m\u001b[1;33m\u001b[0m\u001b[0m\n\u001b[0m",
      "\u001b[1;32mc:\\users\\patrick\\appdata\\local\\programs\\python\\python36\\lib\\site-packages\\pandas\\core\\generic.py\u001b[0m in \u001b[0;36m__nonzero__\u001b[1;34m(self)\u001b[0m\n\u001b[0;32m   1574\u001b[0m         raise ValueError(\"The truth value of a {0} is ambiguous. \"\n\u001b[0;32m   1575\u001b[0m                          \u001b[1;34m\"Use a.empty, a.bool(), a.item(), a.any() or a.all().\"\u001b[0m\u001b[1;33m\u001b[0m\u001b[0m\n\u001b[1;32m-> 1576\u001b[1;33m                          .format(self.__class__.__name__))\n\u001b[0m\u001b[0;32m   1577\u001b[0m \u001b[1;33m\u001b[0m\u001b[0m\n\u001b[0;32m   1578\u001b[0m     \u001b[0m__bool__\u001b[0m \u001b[1;33m=\u001b[0m \u001b[0m__nonzero__\u001b[0m\u001b[1;33m\u001b[0m\u001b[0m\n",
      "\u001b[1;31mValueError\u001b[0m: The truth value of a Series is ambiguous. Use a.empty, a.bool(), a.item(), a.any() or a.all()."
     ]
    }
   ],
   "source": [
    "no_frequent = clean.drop(clean[clean['package'] in [\"matplotlib.pyplot\",\"matplotlib\"]].index)\n",
    "no_frequent = no_frequent.drop(no_frequent[no_frequent['function'] in [\"print\",\"len\"]].index)"
   ]
  },
  {
   "cell_type": "code",
   "execution_count": 170,
   "metadata": {},
   "outputs": [],
   "source": [
    "test = clean.drop(clean[clean['package'] == \"matplotlib.pyplot\"].index)\n",
    "test = test.drop(clean[clean['package'] == \"matplotlib\"].index)"
   ]
  },
  {
   "cell_type": "code",
   "execution_count": 171,
   "metadata": {},
   "outputs": [],
   "source": [
    "test_filter = test[['author','combined']].groupby(['author'])['combined'].apply(list).reset_index()"
   ]
  },
  {
   "cell_type": "code",
   "execution_count": 167,
   "metadata": {
    "scrolled": true
   },
   "outputs": [
    {
     "data": {
      "text/html": [
       "<div>\n",
       "<style scoped>\n",
       "    .dataframe tbody tr th:only-of-type {\n",
       "        vertical-align: middle;\n",
       "    }\n",
       "\n",
       "    .dataframe tbody tr th {\n",
       "        vertical-align: top;\n",
       "    }\n",
       "\n",
       "    .dataframe thead th {\n",
       "        text-align: right;\n",
       "    }\n",
       "</style>\n",
       "<table border=\"1\" class=\"dataframe\">\n",
       "  <thead>\n",
       "    <tr style=\"text-align: right;\">\n",
       "      <th></th>\n",
       "      <th>function</th>\n",
       "      <th>package</th>\n",
       "      <th>class</th>\n",
       "      <th>repo</th>\n",
       "      <th>path</th>\n",
       "      <th>author</th>\n",
       "      <th>commit</th>\n",
       "      <th>code</th>\n",
       "      <th>combined</th>\n",
       "    </tr>\n",
       "  </thead>\n",
       "  <tbody>\n",
       "    <tr>\n",
       "      <th>count</th>\n",
       "      <td>873526</td>\n",
       "      <td>344757</td>\n",
       "      <td>103301</td>\n",
       "      <td>873526</td>\n",
       "      <td>873526</td>\n",
       "      <td>873526</td>\n",
       "      <td>873526</td>\n",
       "      <td>873498</td>\n",
       "      <td>873526</td>\n",
       "    </tr>\n",
       "    <tr>\n",
       "      <th>unique</th>\n",
       "      <td>42202</td>\n",
       "      <td>3875</td>\n",
       "      <td>5867</td>\n",
       "      <td>3729</td>\n",
       "      <td>16289</td>\n",
       "      <td>7492</td>\n",
       "      <td>34119</td>\n",
       "      <td>405042</td>\n",
       "      <td>67370</td>\n",
       "    </tr>\n",
       "    <tr>\n",
       "      <th>top</th>\n",
       "      <td>len</td>\n",
       "      <td>numpy</td>\n",
       "      <td>Sequential</td>\n",
       "      <td>deep-learning</td>\n",
       "      <td>note/s16a_synpipe_galaxy_1.ipynb</td>\n",
       "      <td>dr.guangtou@gmail.com</td>\n",
       "      <td>a58e916834e3f0adb2b91b8d12f5dc2f6711a008</td>\n",
       "      <td>get_ipython().run_line_magic('matplotlib', 'inline')</td>\n",
       "      <td>len</td>\n",
       "    </tr>\n",
       "    <tr>\n",
       "      <th>freq</th>\n",
       "      <td>30644</td>\n",
       "      <td>99968</td>\n",
       "      <td>7188</td>\n",
       "      <td>19269</td>\n",
       "      <td>6111</td>\n",
       "      <td>11770</td>\n",
       "      <td>10771</td>\n",
       "      <td>7580</td>\n",
       "      <td>30643</td>\n",
       "    </tr>\n",
       "  </tbody>\n",
       "</table>\n",
       "</div>"
      ],
      "text/plain": [
       "       function package       class           repo  \\\n",
       "count   873526   344757  103301      873526          \n",
       "unique  42202    3875    5867        3729            \n",
       "top     len      numpy   Sequential  deep-learning   \n",
       "freq    30644    99968   7188        19269           \n",
       "\n",
       "                                    path                 author  \\\n",
       "count   873526                            873526                  \n",
       "unique  16289                             7492                    \n",
       "top     note/s16a_synpipe_galaxy_1.ipynb  dr.guangtou@gmail.com   \n",
       "freq    6111                              11770                   \n",
       "\n",
       "                                          commit  \\\n",
       "count   873526                                     \n",
       "unique  34119                                      \n",
       "top     a58e916834e3f0adb2b91b8d12f5dc2f6711a008   \n",
       "freq    10771                                      \n",
       "\n",
       "                                                        code combined  \n",
       "count   873498                                                873526   \n",
       "unique  405042                                                67370    \n",
       "top     get_ipython().run_line_magic('matplotlib', 'inline')  len      \n",
       "freq    7580                                                  30643    "
      ]
     },
     "execution_count": 167,
     "metadata": {},
     "output_type": "execute_result"
    }
   ],
   "source": [
    "no_frequent.describe(include=['object'])"
   ]
  },
  {
   "cell_type": "code",
   "execution_count": 118,
   "metadata": {
    "scrolled": true
   },
   "outputs": [],
   "source": [
    "authors_filter = no_frequent[['author','combined']].groupby(['author'])['combined'].apply(list).reset_index()"
   ]
  },
  {
   "cell_type": "code",
   "execution_count": 124,
   "metadata": {
    "scrolled": true
   },
   "outputs": [
    {
     "data": {
      "text/plain": [
       "7492"
      ]
     },
     "execution_count": 124,
     "metadata": {},
     "output_type": "execute_result"
    }
   ],
   "source": [
    "len(authors_filter)"
   ]
  },
  {
   "cell_type": "code",
   "execution_count": 119,
   "metadata": {
    "scrolled": true
   },
   "outputs": [
    {
     "data": {
      "text/plain": [
       "count    7492.000000 \n",
       "mean     116.594501  \n",
       "std      340.192428  \n",
       "min      1.000000    \n",
       "25%      12.000000   \n",
       "50%      40.000000   \n",
       "75%      116.000000  \n",
       "max      11770.000000\n",
       "Name: combined, dtype: float64"
      ]
     },
     "execution_count": 119,
     "metadata": {},
     "output_type": "execute_result"
    }
   ],
   "source": [
    "authors_filter['combined'].apply(len).describe()"
   ]
  },
  {
   "cell_type": "code",
   "execution_count": 172,
   "metadata": {
    "scrolled": true
   },
   "outputs": [
    {
     "name": "stdout",
     "output_type": "stream",
     "text": [
      "Wall time: 1.73 s\n"
     ]
    }
   ],
   "source": [
    "%%time\n",
    "#build gensim corpus\n",
    "texts_2 = test_filter['combined']\n",
    "dictionary_2 = corpora.Dictionary(texts_2)\n",
    "dictionary_2.filter_extremes(no_below=10, no_above=0.4)\n",
    "dictionary_2.compactify()\n",
    "corpus_2 = [dictionary_2.doc2bow(text) for text in texts_2]"
   ]
  },
  {
   "cell_type": "code",
   "execution_count": 176,
   "metadata": {
    "scrolled": true
   },
   "outputs": [
    {
     "name": "stdout",
     "output_type": "stream",
     "text": [
      "Wall time: 46.3 s\n"
     ]
    }
   ],
   "source": [
    "%%time\n",
    "lda_filter = gensim.models.ldamodel.LdaModel(corpus_2, id2word = dictionary_2, num_topics= 5, passes=10, chunksize=100, update_every=0, alpha='auto', random_state=1)"
   ]
  },
  {
   "cell_type": "code",
   "execution_count": null,
   "metadata": {
    "scrolled": true
   },
   "outputs": [],
   "source": [
    "lda_filter.print_topics()"
   ]
  },
  {
   "cell_type": "code",
   "execution_count": 179,
   "metadata": {
    "scrolled": true
   },
   "outputs": [
    {
     "name": "stdout",
     "output_type": "stream",
     "text": [
      "Wall time: 12.1 s\n"
     ]
    }
   ],
   "source": [
    "%%time\n",
    "# get descriptive stuff for all models\n",
    "v_filter, df_filter = getModelResults(lda_filter, corpus_2, dictionary_2)"
   ]
  },
  {
   "cell_type": "code",
   "execution_count": 180,
   "metadata": {
    "scrolled": false
   },
   "outputs": [
    {
     "data": {
      "text/html": [
       "\n",
       "<link rel=\"stylesheet\" type=\"text/css\" href=\"https://cdn.rawgit.com/bmabey/pyLDAvis/files/ldavis.v1.0.0.css\">\n",
       "\n",
       "\n",
       "<div id=\"ldavis_el7762328363356804867515406\"></div>\n",
       "<script type=\"text/javascript\">\n",
       "\n",
       "var ldavis_el7762328363356804867515406_data = {\"mdsDat\": {\"x\": [-0.029432591475539956, 0.14099400700468517, -0.01452715707595558, -0.1368852436975747, 0.03985098524438506], \"y\": [-0.0425512217032181, 0.07612879849877427, 0.04789329043774402, 0.045512170544144415, -0.12698303777744463], \"topics\": [1, 2, 3, 4, 5], \"cluster\": [1, 1, 1, 1, 1], \"Freq\": [27.41783905029297, 15.3317232131958, 18.657350540161133, 15.496994972229004, 23.09609031677246]}, \"tinfo\": {\"Category\": [\"Default\", \"Default\", \"Default\", \"Default\", \"Default\", \"Default\", \"Default\", \"Default\", \"Default\", \"Default\", \"Default\", \"Default\", \"Default\", \"Default\", \"Default\", \"Default\", \"Default\", \"Default\", \"Default\", \"Default\", \"Default\", \"Default\", \"Default\", \"Default\", \"Default\", \"Default\", \"Default\", \"Default\", \"Default\", \"Default\", \"Topic1\", \"Topic1\", \"Topic1\", \"Topic1\", \"Topic1\", \"Topic1\", \"Topic1\", \"Topic1\", \"Topic1\", \"Topic1\", \"Topic1\", \"Topic1\", \"Topic1\", \"Topic1\", \"Topic1\", \"Topic1\", \"Topic1\", \"Topic1\", \"Topic1\", \"Topic1\", \"Topic1\", \"Topic1\", \"Topic1\", \"Topic1\", \"Topic1\", \"Topic1\", \"Topic1\", \"Topic1\", \"Topic1\", \"Topic1\", \"Topic1\", \"Topic1\", \"Topic1\", \"Topic1\", \"Topic1\", \"Topic1\", \"Topic1\", \"Topic1\", \"Topic1\", \"Topic1\", \"Topic1\", \"Topic1\", \"Topic1\", \"Topic1\", \"Topic1\", \"Topic1\", \"Topic1\", \"Topic1\", \"Topic1\", \"Topic1\", \"Topic1\", \"Topic1\", \"Topic1\", \"Topic1\", \"Topic1\", \"Topic1\", \"Topic1\", \"Topic1\", \"Topic1\", \"Topic1\", \"Topic1\", \"Topic1\", \"Topic1\", \"Topic1\", \"Topic1\", \"Topic1\", \"Topic1\", \"Topic1\", \"Topic1\", \"Topic1\", \"Topic1\", \"Topic1\", \"Topic1\", \"Topic1\", \"Topic1\", \"Topic1\", \"Topic1\", \"Topic1\", \"Topic1\", \"Topic1\", \"Topic1\", \"Topic2\", \"Topic2\", \"Topic2\", \"Topic2\", \"Topic2\", \"Topic2\", \"Topic2\", \"Topic2\", \"Topic2\", \"Topic2\", \"Topic2\", \"Topic2\", \"Topic2\", \"Topic2\", \"Topic2\", \"Topic2\", \"Topic2\", \"Topic2\", \"Topic2\", \"Topic2\", \"Topic2\", \"Topic2\", \"Topic2\", \"Topic2\", \"Topic2\", \"Topic2\", \"Topic2\", \"Topic2\", \"Topic2\", \"Topic2\", \"Topic2\", \"Topic2\", \"Topic2\", \"Topic2\", \"Topic2\", \"Topic2\", \"Topic2\", \"Topic2\", \"Topic2\", \"Topic2\", \"Topic2\", \"Topic2\", \"Topic2\", \"Topic2\", \"Topic2\", \"Topic2\", \"Topic2\", \"Topic2\", \"Topic2\", \"Topic2\", \"Topic2\", \"Topic2\", \"Topic2\", \"Topic2\", \"Topic2\", \"Topic2\", \"Topic2\", \"Topic2\", \"Topic2\", \"Topic2\", \"Topic2\", \"Topic2\", \"Topic2\", \"Topic2\", \"Topic2\", \"Topic2\", \"Topic2\", \"Topic2\", \"Topic2\", \"Topic2\", \"Topic2\", \"Topic2\", \"Topic2\", \"Topic3\", \"Topic3\", \"Topic3\", \"Topic3\", \"Topic3\", \"Topic3\", \"Topic3\", \"Topic3\", \"Topic3\", \"Topic3\", \"Topic3\", \"Topic3\", \"Topic3\", \"Topic3\", \"Topic3\", \"Topic3\", \"Topic3\", \"Topic3\", \"Topic3\", \"Topic3\", \"Topic3\", \"Topic3\", \"Topic3\", \"Topic3\", \"Topic3\", \"Topic3\", \"Topic3\", \"Topic3\", \"Topic3\", \"Topic3\", \"Topic3\", \"Topic3\", \"Topic3\", \"Topic3\", \"Topic3\", \"Topic3\", \"Topic3\", \"Topic3\", \"Topic3\", \"Topic3\", \"Topic3\", \"Topic3\", \"Topic3\", \"Topic3\", \"Topic3\", \"Topic3\", \"Topic3\", \"Topic3\", \"Topic3\", \"Topic3\", \"Topic3\", \"Topic3\", \"Topic3\", \"Topic3\", \"Topic3\", \"Topic3\", \"Topic3\", \"Topic3\", \"Topic3\", \"Topic3\", \"Topic3\", \"Topic3\", \"Topic3\", \"Topic3\", \"Topic3\", \"Topic3\", \"Topic3\", \"Topic3\", \"Topic3\", \"Topic3\", \"Topic3\", \"Topic3\", \"Topic3\", \"Topic4\", \"Topic4\", \"Topic4\", \"Topic4\", \"Topic4\", \"Topic4\", \"Topic4\", \"Topic4\", \"Topic4\", \"Topic4\", \"Topic4\", \"Topic4\", \"Topic4\", \"Topic4\", \"Topic4\", \"Topic4\", \"Topic4\", \"Topic4\", \"Topic4\", \"Topic4\", \"Topic4\", \"Topic4\", \"Topic4\", \"Topic4\", \"Topic4\", \"Topic4\", \"Topic4\", \"Topic4\", \"Topic4\", \"Topic4\", \"Topic4\", \"Topic4\", \"Topic4\", \"Topic4\", \"Topic4\", \"Topic4\", \"Topic4\", \"Topic4\", \"Topic4\", \"Topic4\", \"Topic4\", \"Topic4\", \"Topic4\", \"Topic4\", \"Topic4\", \"Topic4\", \"Topic4\", \"Topic4\", \"Topic4\", \"Topic4\", \"Topic4\", \"Topic4\", \"Topic4\", \"Topic4\", \"Topic4\", \"Topic4\", \"Topic4\", \"Topic4\", \"Topic4\", \"Topic4\", \"Topic4\", \"Topic4\", \"Topic4\", \"Topic4\", \"Topic4\", \"Topic4\", \"Topic4\", \"Topic4\", \"Topic4\", \"Topic4\", \"Topic5\", \"Topic5\", \"Topic5\", \"Topic5\", \"Topic5\", \"Topic5\", \"Topic5\", \"Topic5\", \"Topic5\", \"Topic5\", \"Topic5\", \"Topic5\", \"Topic5\", \"Topic5\", \"Topic5\", \"Topic5\", \"Topic5\", \"Topic5\", \"Topic5\", \"Topic5\", \"Topic5\", \"Topic5\", \"Topic5\", \"Topic5\", \"Topic5\", \"Topic5\", \"Topic5\", \"Topic5\", \"Topic5\", \"Topic5\", \"Topic5\", \"Topic5\", \"Topic5\", \"Topic5\", \"Topic5\", \"Topic5\", \"Topic5\", \"Topic5\", \"Topic5\", \"Topic5\", \"Topic5\", \"Topic5\", \"Topic5\", \"Topic5\", \"Topic5\", \"Topic5\", \"Topic5\", \"Topic5\", \"Topic5\", \"Topic5\", \"Topic5\", \"Topic5\", \"Topic5\", \"Topic5\", \"Topic5\", \"Topic5\", \"Topic5\", \"Topic5\", \"Topic5\", \"Topic5\", \"Topic5\", \"Topic5\", \"Topic5\", \"Topic5\", \"Topic5\", \"Topic5\", \"Topic5\", \"Topic5\", \"Topic5\", \"Topic5\", \"Topic5\", \"Topic5\", \"Topic5\", \"Topic5\", \"Topic5\", \"Topic5\"], \"Freq\": [3335.0, 4211.0, 3221.0, 8842.0, 2776.0, 3451.0, 2546.0, 1712.0, 2143.0, 1225.0, 3363.0, 5635.0, 1751.0, 6431.0, 6528.0, 5111.0, 5033.0, 1728.0, 1443.0, 1575.0, 5198.0, 1084.0, 1071.0, 1006.0, 4511.0, 1122.0, 819.0, 764.0, 684.0, 7570.0, 103.44932556152344, 82.67843627929688, 122.04595184326172, 254.22723388671875, 164.48907470703125, 247.02377319335938, 44.56818771362305, 27.08378791809082, 41.72325134277344, 98.62765502929688, 24.530813217163086, 372.0633850097656, 275.35894775390625, 22.646060943603516, 273.39471435546875, 22.9990291595459, 51.33449935913086, 257.4031677246094, 17.00910758972168, 48.5579719543457, 27.882307052612305, 45.85873031616211, 66.28167724609375, 17.44573211669922, 29.196863174438477, 83.67359924316406, 99.69779968261719, 59.645626068115234, 142.6546630859375, 43.088417053222656, 136.68276977539062, 288.8638610839844, 184.15560913085938, 611.1231079101562, 323.2599182128906, 447.3713684082031, 3303.533203125, 579.2205810546875, 244.17689514160156, 471.8160705566406, 810.3348388671875, 878.3447265625, 312.74554443359375, 222.2811279296875, 6087.03515625, 3008.222412109375, 2075.824462890625, 641.5447998046875, 711.9354248046875, 1505.9713134765625, 507.9035949707031, 653.8311767578125, 529.11962890625, 526.2424926757812, 1664.168701171875, 853.9312744140625, 2500.236083984375, 2540.071533203125, 877.2273559570312, 1339.5596923828125, 992.6683959960938, 940.8638916015625, 677.6367797851562, 539.235107421875, 2051.079833984375, 770.7413940429688, 2395.985595703125, 1355.7283935546875, 1675.89697265625, 1646.1988525390625, 1945.9122314453125, 904.8062744140625, 758.6555786132812, 943.794921875, 1127.9150390625, 732.3006591796875, 756.4894409179688, 724.5142822265625, 980.7630615234375, 761.0431518554688, 785.885009765625, 70.1191635131836, 70.53024291992188, 69.49014282226562, 69.40724182128906, 69.3445816040039, 80.38285064697266, 68.8182601928711, 1165.1610107421875, 102.5595703125, 73.99800109863281, 47.91852569580078, 51.039058685302734, 62.04723358154297, 18.463136672973633, 64.34888458251953, 35.88420104980469, 215.0355682373047, 24.122669219970703, 32.41236114501953, 33.18997573852539, 16.597009658813477, 23.92862319946289, 37.137969970703125, 360.3323059082031, 14.85134220123291, 20.376068115234375, 2995.6708984375, 9.65539264678955, 13.624279975891113, 15.999425888061523, 126.79681396484375, 24.418243408203125, 525.9459838867188, 3177.02294921875, 539.7999267578125, 2356.681884765625, 459.8552551269531, 371.24444580078125, 615.676025390625, 407.69512939453125, 569.0726928710938, 434.6102600097656, 1479.390625, 346.4023132324219, 754.240966796875, 509.7809753417969, 366.82196044921875, 309.86419677734375, 355.7872619628906, 247.50546264648438, 3866.2001953125, 443.35296630859375, 362.50653076171875, 222.01034545898438, 160.12203979492188, 309.6786804199219, 216.43312072753906, 239.1613006591797, 188.2121124267578, 776.124267578125, 496.52813720703125, 1193.0576171875, 1565.985595703125, 1240.4300537109375, 636.0276489257812, 774.6408081054688, 510.6434631347656, 729.8583374023438, 814.020751953125, 523.7885131835938, 596.5510864257812, 397.5306701660156, 382.28326416015625, 62.59219741821289, 68.43840026855469, 67.68501281738281, 24.174175262451172, 48.971595764160156, 48.68001937866211, 19.116161346435547, 46.79901885986328, 137.08889770507812, 582.5462646484375, 2374.5869140625, 599.4220581054688, 187.781982421875, 214.32167053222656, 50.60660171508789, 917.4530029296875, 849.33740234375, 47.103294372558594, 132.4069366455078, 312.29620361328125, 79.23507690429688, 40.052574157714844, 79.47431182861328, 65.21782684326172, 61.715782165527344, 49.46767044067383, 71.90404510498047, 72.9747314453125, 191.2675323486328, 13.096083641052246, 360.7327575683594, 212.41122436523438, 2675.325439453125, 534.6966552734375, 175.38372802734375, 699.9891967773438, 367.2505187988281, 1271.085205078125, 1143.939208984375, 385.30328369140625, 207.60430908203125, 799.7267456054688, 635.4345703125, 341.1036682128906, 323.23138427734375, 601.5154418945312, 611.8423461914062, 297.31866455078125, 395.0613708496094, 219.5926513671875, 275.5490417480469, 261.25732421875, 296.3547668457031, 2661.582275390625, 361.54010009765625, 2211.802001953125, 2433.462646484375, 465.6246337890625, 943.4183959960938, 1056.7115478515625, 1111.626220703125, 923.5217895507812, 987.4978637695312, 592.8370361328125, 678.722900390625, 632.1721801757812, 702.24365234375, 718.2643432617188, 528.7868041992188, 551.4041748046875, 603.6878051757812, 569.6190795898438, 565.4881591796875, 126.59243774414062, 95.97195434570312, 132.20492553710938, 361.3597412109375, 309.3700866699219, 306.4456787109375, 83.53689575195312, 1378.974609375, 43.10524368286133, 68.3315200805664, 326.7790222167969, 110.17730712890625, 73.34445190429688, 36.02867126464844, 55.54436492919922, 81.12422180175781, 26.86973762512207, 37.95553207397461, 176.51708984375, 70.68376922607422, 60.25151443481445, 42.85205078125, 33.87433624267578, 96.7609634399414, 38.25013732910156, 89.8819580078125, 97.27734375, 18.711774826049805, 111.4332275390625, 450.0377197265625, 475.92279052734375, 1263.6427001953125, 1801.63916015625, 472.8668518066406, 601.3535766601562, 344.9761047363281, 960.4735717773438, 256.9444885253906, 740.4295043945312, 157.16600036621094, 676.4658203125, 316.51336669921875, 156.67544555664062, 513.8580322265625, 2361.3916015625, 442.8398742675781, 431.27691650390625, 367.2160339355469, 289.4927673339844, 2016.313720703125, 391.91265869140625, 1415.468017578125, 935.6145629882812, 642.0341186523438, 486.3687438964844, 1829.4456787109375, 859.2208251953125, 583.2601318359375, 1643.443115234375, 1023.9943237304688, 617.7389526367188, 951.5391235351562, 637.1516723632812, 920.3187866210938, 527.9329833984375, 529.207275390625, 625.6941528320312, 529.9977416992188, 568.3807983398438, 503.75933837890625, 221.36585998535156, 87.21159362792969, 86.52505493164062, 34.01970672607422, 362.7592468261719, 69.2046890258789, 412.2267150878906, 180.06077575683594, 153.63119506835938, 124.49629211425781, 65.31704711914062, 237.27694702148438, 412.4244689941406, 34.91090393066406, 199.47637939453125, 44.04714584350586, 46.121212005615234, 27.82160186767578, 51.42835235595703, 112.78624725341797, 45.68128967285156, 125.70295715332031, 19.825502395629883, 39.13191604614258, 45.8764533996582, 392.72503662109375, 177.4217071533203, 395.8287048339844, 115.96102905273438, 29.88422966003418, 486.88446044921875, 232.1547088623047, 122.88301086425781, 431.8605651855469, 462.8867492675781, 2524.698486328125, 112.41059112548828, 1050.5118408203125, 462.1184387207031, 108.94400024414062, 640.9534912109375, 219.86744689941406, 512.5419311523438, 288.1688537597656, 3040.71728515625, 825.0100708007812, 3584.162109375, 1120.4439697265625, 498.5875244140625, 710.099609375, 835.6845703125, 2389.475341796875, 450.18072509765625, 589.7160034179688, 1300.3408203125, 312.2035217285156, 1964.890380859375, 444.5499267578125, 387.3312072753906, 1307.443603515625, 1994.4840087890625, 1192.515625, 1559.4725341796875, 1874.7091064453125, 1146.836181640625, 766.8424072265625, 780.503662109375, 674.458251953125, 1122.7802734375, 970.9583129882812, 800.1797485351562, 508.86981201171875, 544.0554809570312, 567.0267333984375, 554.9046630859375, 537.6279296875], \"Term\": [\"input\", \"add\", \"Sequential.add\", \"int\", \"tensorflow.Variable\", \"tensorflow.placeholder\", \"display\", \"datetime.datetime\", \"Dense\", \"show_doc\", \"pandas.head\", \"numpy.linspace\", \"pyplot.plot\", \"pandas.read_csv\", \"numpy.arange\", \"pandas.DataFrame\", \"fit\", \"tensorflow.reduce_mean\", \"numpy.log10\", \"tensorflow.Session\", \"plot\", \"tensorflow.matmul\", \"compile\", \"tensorflow.zeros\", \"dict\", \"HTML\", \"Dropout\", \"Sequential\", \"Sequential.fit\", \"list\", \"Vector\", \"scipy.array\", \"StructField\", \"subplot\", \"ylim\", \"bar\", \"pymc.Normal\", \"StructType\", \"numpy.rad2deg\", \"medfilt\", \"udf\", \"Array\", \"ylabel\", \"mxnet.cpu\", \"xlabel\", \"DoubleType\", \"platform.system\", \"title\", \"torch.unsqueeze\", \"VideoFileClip\", \"torch.Tensor\", \"misc.imread\", \"preprocessing.RobustScaler.transform\", \"randomSplit\", \"augment_features_gradient\", \"augment_features\", \"pymc3.Deterministic\", \"groupBy\", \"xlim\", \"xticks\", \"torch.zeros\", \"pymc3.Normal\", \"withColumn\", \"requests.json\", \"Variable\", \"help\", \"plot\", \"execute\", \"grid\", \"legend\", \"requests.get\", \"set_ylabel\", \"imshow\", \"pymc3.sample\", \"numpy.array\", \"numpy.zeros\", \"numpy.mean\", \"numpy.std\", \"set_xlabel\", \"numpy.sum\", \"set_xlim\", \"set_title\", \"numpy.unique\", \"numpy.loadtxt\", \"float\", \"numpy.where\", \"enumerate\", \"numpy.arange\", \"map\", \"numpy.sqrt\", \"numpy.dot\", \"type\", \"round\", \"numpy.append\", \"list\", \"Image\", \"str\", \"zip\", \"open\", \"pandas.read_csv\", \"int\", \"sum\", \"numpy.ones\", \"max\", \"numpy.linspace\", \"min\", \"numpy.max\", \"abs\", \"pandas.DataFrame\", \"numpy.asarray\", \"numpy.exp\", \"readGraph.size\", \"parameterize\", \"indexEdges\", \"getSparsifiedGraph\", \"getSparsifiedGraphOfSize\", \"input.endswith\", \"readGraph.indexEdges\", \"show_doc\", \"readGraph\", \"compute_sum\", \"menu\", \"untar_data\", \"lose\", \"upperEdgeIdBound\", \"win\", \"guess_game\", \"scores\", \"isDirected\", \"show_team\", \"show_instruction\", \"plalindrome\", \"readGraph.isDirected\", \"game_over\", \"box\", \"change\", \"get_ch_table\", \"input\", \"xingzuo\", \"triangle\", \"welcome\", \"endswith\", \"addEdge\", \"Activation\", \"add\", \"Sequential.fit\", \"Sequential.add\", \"fit_generator\", \"MaxPooling2D\", \"Dropout\", \"BatchNormalization\", \"Sequential\", \"Conv2D\", \"Dense\", \"Sequential.fit_generator\", \"compile\", \"Sequential.compile\", \"Flatten\", \"Adam\", \"size\", \"Model.fit\", \"int\", \"random.randint\", \"Convolution2D\", \"Model.compile\", \"Sequential.evaluate\", \"sin\", \"Sequential.predict\", \"cos\", \"save_weights\", \"time.time\", \"show\", \"fit\", \"str\", \"open\", \"set\", \"plot\", \"sorted\", \"list\", \"numpy.array\", \"predict\", \"enumerate\", \"numpy.zeros\", \"numpy.asarray\", \"csv_to_numpy_array\", \"conv_layer.as_list\", \"conv_layer.get_shape\", \"h2o.import_file\", \"fully_connected.as_list\", \"fully_connected.get_shape\", \"h2o.init\", \"weight_variable\", \"tensorflow.as_default\", \"tensorflow.truncated_normal\", \"tensorflow.Variable\", \"tensorflow.Session.run\", \"Node\", \"connect\", \"get_pricing\", \"tensorflow.matmul\", \"tensorflow.zeros\", \"process_decoding_input\", \"tensorflow.assign\", \"tensorflow.equal\", \"conv_layer\", \"bias_variable\", \"tensorflow.as_list\", \"tensorflow.cond\", \"Rectangle\", \"tensorflow.histogram_summary\", \"decoding_layer_train\", \"decoding_layer_infer\", \"tensorflow.control_dependencies\", \"tensorflow.merge_all_summaries\", \"tensorflow.add\", \"grade\", \"tensorflow.placeholder\", \"tensorflow.cast\", \"tensorflow.sigmoid\", \"tensorflow.maximum\", \"tensorflow.argmax\", \"tensorflow.reduce_mean\", \"tensorflow.Session\", \"tensorflow.random_normal\", \"tensorflow.initialize_all_variables\", \"tensorflow.reshape\", \"tensorflow.global_variables_initializer\", \"tensorflow.eval\", \"tensorflow.random_uniform\", \"tensorflow.constant\", \"tensorflow.variable_scope\", \"tensorflow.ones_like\", \"tensorflow.reset_default_graph\", \"fully_conn\", \"discriminator\", \"conv2d_maxpool\", \"tensorflow.Graph\", \"list\", \"train\", \"str\", \"numpy.array\", \"run\", \"dict\", \"enumerate\", \"open\", \"numpy.zeros\", \"int\", \"set\", \"zip\", \"float\", \"numpy.linspace\", \"numpy.arange\", \"time.time\", \"predict\", \"fit\", \"numpy.mean\", \"add\", \"exists\", \"Button\", \"ipywidgets.Text\", \"create\", \"Markdown\", \"Layout\", \"pyplot.yticks\", \"datetime.datetime\", \"pyplot.suptitle\", \"math.radians\", \"pyplot.subplot\", \"pyplot.xticks\", \"HBox\", \"to_html\", \"pyplot.loglog\", \"healpy.mollview\", \"simplify\", \"latex\", \"Figure\", \"VBox\", \"plotly.graph_objs.Bar\", \"Javascript\", \"pyplot.contourf\", \"pyplot.grid\", \"css_styling\", \"pylab.ylabel\", \"pylab.xlabel\", \"pyplot.contour\", \"Print\", \"pyplot.title\", \"pyplot.ylabel\", \"pyplot.plot\", \"display\", \"pyplot.xlabel\", \"Table.read\", \"Column\", \"numpy.log10\", \"pyplot.legend\", \"HTML\", \"numpy.amax\", \"join\", \"KernelDensity\", \"pyplot.ylim\", \"pyplot.show\", \"numpy.linspace\", \"pyplot.figure\", \"numpy.load\", \"copy.deepcopy\", \"pyplot.imshow\", \"numpy.arange\", \"interact\", \"dict\", \"numpy.exp\", \"numpy.abs\", \"numpy.cos\", \"str\", \"numpy.sqrt\", \"numpy.sin\", \"numpy.array\", \"numpy.zeros\", \"numpy.asarray\", \"enumerate\", \"numpy.reshape\", \"int\", \"numpy.max\", \"max\", \"open\", \"numpy.mean\", \"list\", \"pandas.read_csv\", \"assert_equal\", \"Rank2D.fit\", \"Rank2D.poof\", \"Rank2D.transform\", \"matplotlib.pylab.title\", \"folium.GeoJson\", \"folium.add_to\", \"matplotlib.pylab.show\", \"Normal\", \"matplotlib.pylab.legend\", \"Uniform\", \"matplotlib.pylab.subplot\", \"matplotlib.pylab.plot\", \"ClassificationReport.score\", \"poof\", \"pandas.to_pickle\", \"ClassificationReport.fit\", \"Rank2D\", \"matplotlib.pylab.xlim\", \"pandas.Timestamp\", \"folium.LayerControl\", \"pandas.read_sql_query\", \"pandas.stack\", \"pandas.duplicated\", \"ClassificationReport.poof\", \"date\", \"folium.Map.save\", \"folium.Map\", \"pandas.DatetimeIndex\", \"to_pickle\", \"pandas.set_index\", \"matplotlib.pylab.figure\", \"folium.Marker\", \"pandas.read_excel\", \"json.dumps\", \"pandas.head\", \"matplotlib.pylab.xlabel\", \"pandas.groupby\", \"pandas.plot\", \"matplotlib.pylab.ylabel\", \"pandas.merge\", \"pandas.DataFrame.groupby\", \"pandas.DataFrame.head\", \"pandas.reset_index\", \"pandas.DataFrame\", \"pandas.Series\", \"pandas.read_csv\", \"head\", \"groupby\", \"pandas.drop\", \"pandas.concat\", \"fit\", \"pandas.to_datetime\", \"train_test_split\", \"predict\", \"pandas.rename\", \"open\", \"score\", \"RandomForestClassifier\", \"zip\", \"str\", \"dict\", \"list\", \"numpy.array\", \"numpy.linspace\", \"sum\", \"set\", \"type\", \"int\", \"numpy.arange\", \"enumerate\", \"fit_transform\", \"max\", \"plot\", \"numpy.mean\", \"float\"], \"Total\": [3335.0, 4211.0, 3221.0, 8842.0, 2776.0, 3451.0, 2546.0, 1712.0, 2143.0, 1225.0, 3363.0, 5635.0, 1751.0, 6431.0, 6528.0, 5111.0, 5033.0, 1728.0, 1443.0, 1575.0, 5198.0, 1084.0, 1071.0, 1006.0, 4511.0, 1122.0, 819.0, 764.0, 684.0, 7570.0, 109.06975555419922, 89.28501892089844, 133.05946350097656, 279.4931335449219, 182.74029541015625, 275.51898193359375, 49.870018005371094, 30.507822036743164, 47.11281204223633, 112.05514526367188, 28.083829879760742, 425.9645080566406, 315.401611328125, 26.105241775512695, 315.8473815917969, 27.021530151367188, 60.33795166015625, 303.549072265625, 20.16144371032715, 57.62232208251953, 33.21554946899414, 54.69982147216797, 80.30924224853516, 21.20497703552246, 35.54410171508789, 102.08425903320312, 122.12004089355469, 73.09815979003906, 175.2763671875, 52.97142028808594, 168.47442626953125, 371.2593994140625, 233.84332275390625, 834.16943359375, 432.58154296875, 616.2769775390625, 5198.0458984375, 818.1420288085938, 332.27606201171875, 676.4803466796875, 1231.521240234375, 1372.4935302734375, 450.4195556640625, 308.39349365234375, 12852.6708984375, 5817.21630859375, 3896.8681640625, 1026.6884765625, 1156.5924072265625, 2823.198974609375, 796.5277099609375, 1077.716796875, 837.66259765625, 842.8001098632812, 3442.259033203125, 1549.5367431640625, 5905.21728515625, 6528.59619140625, 1680.6517333984375, 3063.316650390625, 2020.906494140625, 2047.9674072265625, 1275.583740234375, 903.4301147460938, 7570.3740234375, 1602.788330078125, 9997.703125, 4173.056640625, 6618.5380859375, 6431.85302734375, 8842.708984375, 2352.67822265625, 1712.0869140625, 2780.670654296875, 5635.4892578125, 1612.3074951171875, 1827.9833984375, 1591.1063232421875, 5111.236328125, 2055.67138671875, 2601.00634765625, 72.34889221191406, 73.19702911376953, 72.28443145751953, 72.27549743652344, 72.28337097167969, 84.03130340576172, 72.2273941040039, 1225.725830078125, 108.28899383544922, 78.46643829345703, 51.52243423461914, 54.923744201660156, 66.93189239501953, 19.94215202331543, 69.57167053222656, 38.81902313232422, 232.64805603027344, 26.22832489013672, 35.327423095703125, 36.19113540649414, 18.124921798706055, 26.20448875427246, 40.682090759277344, 395.50408935546875, 16.31954002380371, 22.641094207763672, 3335.68896484375, 10.901151657104492, 15.420494079589844, 18.21877098083496, 145.52194213867188, 28.004058837890625, 652.2242431640625, 4211.91552734375, 684.0148315429688, 3221.96044921875, 584.8232421875, 471.6085510253906, 819.2198486328125, 532.4331665039062, 764.1359252929688, 573.2469482421875, 2143.81396484375, 450.9082336425781, 1071.57470703125, 698.8035888671875, 486.50555419921875, 412.4959716796875, 484.20556640625, 328.06268310546875, 8842.708984375, 682.2051391601562, 544.2830810546875, 307.1575927734375, 205.15184020996094, 484.9510192871094, 305.3739013671875, 356.7671813964844, 256.3729248046875, 2171.19580078125, 1129.072998046875, 5033.494140625, 9997.703125, 6618.5380859375, 2638.23046875, 5198.0458984375, 2039.6275634765625, 7570.3740234375, 12852.6708984375, 2970.95458984375, 5905.21728515625, 5817.21630859375, 2055.67138671875, 67.63695526123047, 74.40333557128906, 74.63378143310547, 26.71099853515625, 54.60615921020508, 54.660274505615234, 21.9198055267334, 54.03478240966797, 159.41297912597656, 680.6694946289062, 2776.150634765625, 701.3743896484375, 220.16580200195312, 251.32553100585938, 59.75141906738281, 1084.6669921875, 1006.4097290039062, 56.196449279785156, 159.35009765625, 376.54193115234375, 95.56056213378906, 48.455833435058594, 96.49713134765625, 79.51483154296875, 75.81871032714844, 60.87587356567383, 88.89989471435547, 90.6139907836914, 237.71224975585938, 16.359935760498047, 452.5061950683594, 265.60400390625, 3451.00537109375, 680.093505859375, 219.50198364257812, 911.765625, 470.56622314453125, 1728.8153076171875, 1575.2705078125, 502.1595458984375, 263.36651611328125, 1099.1412353515625, 886.4063720703125, 457.5434875488281, 434.12481689453125, 863.7009887695312, 901.8228759765625, 400.41668701171875, 559.47021484375, 285.2091369628906, 380.32855224609375, 357.95574951171875, 420.7232666015625, 7570.3740234375, 563.5429077148438, 9997.703125, 12852.6708984375, 1090.122802734375, 4511.75830078125, 5905.21728515625, 6618.5380859375, 5817.21630859375, 8842.708984375, 2638.23046875, 4173.056640625, 3442.259033203125, 5635.4892578125, 6528.59619140625, 2171.19580078125, 2970.95458984375, 5033.494140625, 3896.8681640625, 4211.91552734375, 134.0030517578125, 112.0929946899414, 155.47024536132812, 426.0489196777344, 369.70587158203125, 367.3280334472656, 100.69452667236328, 1712.072265625, 53.54730224609375, 85.17237854003906, 407.4288024902344, 137.5615692138672, 91.66062927246094, 45.195281982421875, 71.00829315185547, 103.7982177734375, 34.50817108154297, 48.861507415771484, 227.62721252441406, 92.4833755493164, 79.47333526611328, 56.639381408691406, 44.879512786865234, 128.9990692138672, 51.1192626953125, 121.5379867553711, 131.69876098632812, 25.417755126953125, 151.44142150878906, 615.1031494140625, 652.1297607421875, 1751.33154296875, 2546.9345703125, 654.7971801757812, 871.115966796875, 490.7962646484375, 1443.8968505859375, 364.658935546875, 1122.771728515625, 219.7606964111328, 1087.5054931640625, 472.9765625, 221.09857177734375, 906.2710571289062, 5635.4892578125, 779.9256591796875, 762.88134765625, 634.2477416992188, 476.9387512207031, 6528.59619140625, 764.8517456054688, 4511.75830078125, 2601.00634765625, 1664.8592529296875, 1140.133056640625, 9997.703125, 3063.316650390625, 1640.2843017578125, 12852.6708984375, 5817.21630859375, 2055.67138671875, 5905.21728515625, 2301.510498046875, 8842.708984375, 1827.9833984375, 2780.670654296875, 6618.5380859375, 3896.8681640625, 7570.3740234375, 6431.85302734375, 233.99420166015625, 94.47335815429688, 94.2874755859375, 37.08450698852539, 398.6905822753906, 76.34967041015625, 456.28643798828125, 200.77996826171875, 171.41128540039062, 141.6802215576172, 74.36006164550781, 270.204833984375, 470.6477966308594, 39.973060607910156, 229.14706420898438, 50.69374084472656, 53.16127014160156, 32.16145706176758, 59.708030700683594, 131.1847686767578, 53.19899368286133, 146.81039428710938, 23.257938385009766, 45.91790008544922, 53.99161148071289, 462.4154052734375, 210.4468536376953, 471.0322265625, 138.04296875, 35.62382125854492, 584.3018188476562, 277.2869873046875, 147.1683807373047, 531.1939697265625, 580.571533203125, 3363.236328125, 136.2704620361328, 1445.2059326171875, 606.46337890625, 131.88031005859375, 871.5087280273438, 279.6799011230469, 709.2888793945312, 378.44610595703125, 5111.236328125, 1223.00390625, 6431.85302734375, 1851.5252685546875, 724.9669189453125, 1124.101806640625, 1404.0093994140625, 5033.494140625, 697.1394653320312, 1029.782958984375, 2970.95458984375, 444.0545654296875, 6618.5380859375, 754.4150390625, 615.791015625, 4173.056640625, 9997.703125, 4511.75830078125, 7570.3740234375, 12852.6708984375, 5635.4892578125, 2352.67822265625, 2638.23046875, 2047.9674072265625, 8842.708984375, 6528.59619140625, 5905.21728515625, 1048.192138671875, 2780.670654296875, 5198.0458984375, 3896.8681640625, 3442.259033203125], \"loglift\": [30.0, 29.0, 28.0, 27.0, 26.0, 25.0, 24.0, 23.0, 22.0, 21.0, 20.0, 19.0, 18.0, 17.0, 16.0, 15.0, 14.0, 13.0, 12.0, 11.0, 10.0, 9.0, 8.0, 7.0, 6.0, 5.0, 4.0, 3.0, 2.0, 1.0, 1.2410999536514282, 1.2171000242233276, 1.2075999975204468, 1.1992000341415405, 1.1887999773025513, 1.1848000288009644, 1.1815999746322632, 1.1749000549316406, 1.1725000143051147, 1.1663000583648682, 1.1586999893188477, 1.1586999893188477, 1.1582000255584717, 1.1518000364303589, 1.1496000289916992, 1.1327999830245972, 1.1324000358581543, 1.12909996509552, 1.1239999532699585, 1.1227999925613403, 1.11899995803833, 1.1176999807357788, 1.1019999980926514, 1.0987999439239502, 1.0973000526428223, 1.0951000452041626, 1.0910999774932861, 1.0906000137329102, 1.0880000591278076, 1.087499976158142, 1.0849000215530396, 1.0429999828338623, 1.0550999641418457, 0.9828000068664551, 1.0026999711990356, 0.9736999869346619, 0.8406999707221985, 0.9485999941825867, 0.9858999848365784, 0.9337000250816345, 0.8754000067710876, 0.847599983215332, 0.9291999936103821, 0.9664999842643738, 0.5465999841690063, 0.6345000267028809, 0.6642000079154968, 0.8238000273704529, 0.8087000250816345, 0.6654999852180481, 0.843999981880188, 0.7942000031471252, 0.8345999717712402, 0.8230000138282776, 0.5672000050544739, 0.6980999708175659, 0.4345000088214874, 0.3499999940395355, 0.6438000202178955, 0.4668000042438507, 0.5831000208854675, 0.5162000060081482, 0.6614000201225281, 0.777899980545044, -0.011900000274181366, 0.5618000030517578, -0.13459999859333038, 0.1696999967098236, -0.0794999971985817, -0.06880000233650208, -0.2198999971151352, 0.3384000062942505, 0.48010000586509705, 0.2134000062942505, -0.31470000743865967, 0.5047000050544739, 0.4117000102996826, 0.5073000192642212, -0.35690000653266907, 0.3003000020980835, 0.09709999710321426, 1.8438999652862549, 1.8380999565124512, 1.835800051689148, 1.8348000049591064, 1.8336999416351318, 1.830899953842163, 1.8269000053405762, 1.8245999813079834, 1.8208999633789062, 1.81659996509552, 1.8027000427246094, 1.801900029182434, 1.7994999885559082, 1.798200011253357, 1.7971999645233154, 1.7965999841690063, 1.7964999675750732, 1.791599988937378, 1.7891000509262085, 1.788699984550476, 1.7871999740600586, 1.7843999862670898, 1.78410005569458, 1.782099962234497, 1.781000018119812, 1.7697999477386475, 1.767699956893921, 1.7539000511169434, 1.7513999938964844, 1.745300054550171, 1.7374999523162842, 1.7381999492645264, 1.660099983215332, 1.5932999849319458, 1.6384999752044678, 1.5625, 1.6347999572753906, 1.6360000371932983, 1.5895999670028687, 1.608299970626831, 1.5805000066757202, 1.5983999967575073, 1.5042999982833862, 1.6116000413894653, 1.5240999460220337, 1.5599000453948975, 1.592900037765503, 1.5892000198364258, 1.5671000480651855, 1.593500018119812, 1.0478999614715576, 1.4443000555038452, 1.4687999486923218, 1.5506000518798828, 1.6274000406265259, 1.4266999959945679, 1.531000018119812, 1.4752999544143677, 1.5662000179290771, 0.8464999794960022, 1.0536999702453613, 0.435699999332428, 0.021400000900030136, 0.20080000162124634, 0.45260000228881836, -0.0284000001847744, 0.4903999865055084, -0.46389999985694885, -0.8841000199317932, 0.1396999955177307, -0.4171999990940094, -0.8080999851226807, 0.1931000053882599, 1.6014000177383423, 1.5953999757766724, 1.5812000036239624, 1.5791000127792358, 1.5700000524520874, 1.563099980354309, 1.542099952697754, 1.5351999998092651, 1.5281000137329102, 1.523300051689148, 1.5226999521255493, 1.5219000577926636, 1.5197999477386475, 1.519700050354004, 1.5127999782562256, 1.5115000009536743, 1.5091999769210815, 1.5024000406265259, 1.4937000274658203, 1.4918999671936035, 1.4916000366210938, 1.4884999990463257, 1.4848999977111816, 1.4807000160217285, 1.473099946975708, 1.4714000225067139, 1.4667999744415283, 1.462399959564209, 1.4615000486373901, 1.4564000368118286, 1.452299952507019, 1.455399990081787, 1.424299955368042, 1.4384000301361084, 1.4544999599456787, 1.4146000146865845, 1.430999994277954, 1.371399998664856, 1.3589999675750732, 1.4140000343322754, 1.440999984741211, 1.3609000444412231, 1.3460999727249146, 1.385200023651123, 1.3839999437332153, 1.317199945449829, 1.2910000085830688, 1.3811999559402466, 1.3309999704360962, 1.4175000190734863, 1.3566999435424805, 1.3639999628067017, 1.3285000324249268, 0.6335999965667725, 1.2351000308990479, 0.1703999936580658, 0.014700000174343586, 0.8282999992370605, 0.11400000005960464, -0.04170000180602074, -0.10509999841451645, -0.1615000069141388, -0.5131999850273132, 0.1860000044107437, -0.13729999959468842, -0.015799999237060547, -0.4036000072956085, -0.5281999707221985, 0.26649999618530273, -0.005200000014156103, -0.44190001487731934, -0.24400000274181366, -0.32910001277923584, 1.8076000213623047, 1.7093000411987305, 1.7023999691009521, 1.6998000144958496, 1.686400055885315, 1.6833000183105469, 1.6777000427246094, 1.6482000350952148, 1.6476000547409058, 1.6441999673843384, 1.6439000368118286, 1.6425000429153442, 1.6416000127792358, 1.6377999782562256, 1.618899941444397, 1.6181000471115112, 1.614300012588501, 1.611899971961975, 1.610200047492981, 1.5957000255584717, 1.5875999927520752, 1.5856000185012817, 1.5831999778747559, 1.5770000219345093, 1.5744999647140503, 1.5628000497817993, 1.5615999698638916, 1.5582000017166138, 1.557800054550171, 1.5520999431610107, 1.5494999885559082, 1.538100004196167, 1.5183000564575195, 1.5390000343322754, 1.493899941444397, 1.5119999647140503, 1.4567999839782715, 1.5144000053405762, 1.448199987411499, 1.5292999744415283, 1.389799952507019, 1.4628000259399414, 1.5200999975204468, 1.2970999479293823, 0.994700014591217, 1.2984999418258667, 1.2941999435424805, 1.3179999589920044, 1.3653000593185425, 0.6895999908447266, 1.1958999633789062, 0.705299973487854, 0.8421000242233276, 0.9117000102996826, 1.0125999450683594, 0.16619999706745148, 0.5932999849319458, 0.8305000066757202, -0.19220000505447388, 0.1273999959230423, 0.6621999740600586, 0.039000000804662704, 0.5802000164985657, -0.39809998869895935, 0.6225000023841858, 0.20550000667572021, -0.4941999912261963, -0.13050000369548798, -0.7246999740600586, -0.6823999881744385, 1.409999966621399, 1.3854999542236328, 1.3796000480651855, 1.3791999816894531, 1.3710999488830566, 1.367300033569336, 1.3639999628067017, 1.356600046157837, 1.3559999465942383, 1.3361999988555908, 1.335800051689148, 1.3356000185012817, 1.333400011062622, 1.3301000595092773, 1.326799988746643, 1.3250000476837158, 1.3234000205993652, 1.3206000328063965, 1.3162000179290771, 1.3143999576568604, 1.3131999969482422, 1.3102999925613403, 1.305799961090088, 1.3056000471115112, 1.3026000261306763, 1.3021999597549438, 1.294800043106079, 1.291599988937378, 1.291200041770935, 1.2898000478744507, 1.2831000089645386, 1.2878999710083008, 1.2851999998092651, 1.2584999799728394, 1.2389999628067017, 1.1786999702453613, 1.2730000019073486, 1.1464999914169312, 1.1936999559402466, 1.274399995803833, 1.1582000255584717, 1.2249000072479248, 1.1405999660491943, 1.1929999589920044, 0.9462000131607056, 1.0717999935150146, 0.8808000087738037, 0.9631999731063843, 1.0911999940872192, 1.0061999559402466, 0.9466999769210815, 0.7204999923706055, 1.0282000303268433, 0.9079999923706055, 0.63919997215271, 1.1131999492645264, 0.25110000371932983, 0.9366000294685364, 1.0018999576568604, 0.30489999055862427, -0.14650000631809235, 0.13490000367164612, -0.1143999993801117, -0.4596000015735626, -0.1265999972820282, 0.34450000524520874, 0.2476000040769577, 0.3547999858856201, -0.5982999801635742, -0.44020000100135803, -0.5332000255584717, 0.742900013923645, -0.16590000689029694, -0.7501000165939331, -0.483599990606308, -0.3912000060081482], \"logprob\": [30.0, 29.0, 28.0, 27.0, 26.0, 25.0, 24.0, 23.0, 22.0, 21.0, 20.0, 19.0, 18.0, 17.0, 16.0, 15.0, 14.0, 13.0, 12.0, 11.0, 10.0, 9.0, 8.0, 7.0, 6.0, 5.0, 4.0, 3.0, 2.0, 1.0, -7.183700084686279, -7.407899856567383, -7.018400192260742, -6.284599781036377, -6.71999979019165, -6.313300132751465, -8.025799751281738, -8.523900032043457, -8.09179973602295, -7.231500148773193, -8.622900009155273, -5.903800010681152, -6.204699993133545, -8.702799797058105, -6.211900234222412, -8.687399864196777, -7.884500026702881, -6.272200107574463, -8.989100456237793, -7.940100193023682, -8.494799613952637, -7.997300148010254, -7.628900051116943, -8.963700294494629, -8.448800086975098, -7.395899772644043, -7.220699787139893, -7.734399795532227, -6.862400054931641, -8.059599876403809, -6.905200004577637, -6.156899929046631, -6.60699987411499, -5.40749979019165, -6.044400215148926, -5.719399929046631, -3.720099925994873, -5.461100101470947, -6.324900150299072, -5.666200160980225, -5.125400066375732, -5.0447998046875, -6.077400207519531, -6.418900012969971, -3.1089000701904297, -3.813699960708618, -4.184700012207031, -5.35890007019043, -5.254799842834473, -4.5055999755859375, -5.59250020980835, -5.340000152587891, -5.551599979400635, -5.55709981918335, -4.405700206756592, -5.072999954223633, -3.998699903488159, -3.9828999042510986, -5.04610013961792, -4.622700214385986, -4.922399997711182, -4.97599983215332, -5.304200172424316, -5.532700061798096, -4.196700096130371, -5.17549991607666, -4.041299819946289, -4.6107001304626465, -4.39870023727417, -4.416600227355957, -4.249300003051758, -5.015100002288818, -5.191299915313721, -4.972899913787842, -4.7947001457214355, -5.226600170135498, -5.1940999031066895, -5.237299919128418, -4.934500217437744, -5.1880998611450195, -5.156000137329102, -6.991399765014648, -6.985499858856201, -7.000400066375732, -7.0015997886657715, -7.002500057220459, -6.854700088500977, -7.0100998878479, -4.1809000968933105, -6.611100196838379, -6.9375, -7.372000217437744, -7.309000015258789, -7.113699913024902, -8.325799942016602, -7.077199935913086, -7.661200046539307, -5.870699882507324, -8.05840015411377, -7.763000011444092, -7.739299774169922, -8.432299613952637, -8.066499710083008, -7.6269001960754395, -5.354499816894531, -8.543499946594238, -8.22719955444336, -3.236599922180176, -8.973999977111816, -8.62969970703125, -8.468999862670898, -6.39900016784668, -8.046199798583984, -4.97629976272583, -3.177799940109253, -4.950300216674805, -3.4765000343322754, -5.110599994659424, -5.324699878692627, -4.81879997253418, -5.230999946594238, -4.897500038146973, -5.167099952697754, -3.942199945449829, -5.393899917602539, -4.615799903869629, -5.007599830627441, -5.336699962615967, -5.50540018081665, -5.367199897766113, -5.730100154876709, -2.9814999103546143, -5.147200107574463, -5.348499774932861, -5.838799953460693, -6.165599822998047, -5.50600004196167, -5.864299774169922, -5.764400005340576, -6.004000186920166, -4.587200164794922, -5.033899784088135, -4.157299995422363, -3.8852999210357666, -4.118299961090088, -4.786300182342529, -4.589099884033203, -5.005899906158447, -4.64870023727417, -4.539599895477295, -4.980500221252441, -4.850399971008301, -5.25629997253418, -5.295400142669678, -7.301199913024902, -7.211900234222412, -7.2230000495910645, -8.252599716186523, -7.546599864959717, -7.552599906921387, -8.487299919128418, -7.5920000076293945, -6.517199993133545, -5.070499897003174, -3.665299892425537, -5.041900157928467, -6.202600002288818, -6.070400238037109, -7.513800144195557, -4.616300106048584, -4.693399906158447, -7.5854997634887695, -6.552000045776367, -5.693900108337402, -7.065400123596191, -7.747700214385986, -7.062399864196777, -7.2600998878479, -7.315299987792969, -7.536499977111816, -7.162499904632568, -7.147799968719482, -6.184199810028076, -8.865599632263184, -5.549699783325195, -6.0792999267578125, -3.5460000038146973, -5.156199932098389, -6.270899772644043, -4.8867998123168945, -5.531799793243408, -4.290200233459473, -4.395599842071533, -5.483799934387207, -6.102200031280518, -4.753600120544434, -4.98360013961792, -5.6057000160217285, -5.6595001220703125, -5.038400173187256, -5.021399974822998, -5.743100166320801, -5.458799839019775, -6.04610013961792, -5.8190999031066895, -5.872399806976318, -5.746300220489502, -3.5511999130249023, -5.547500133514404, -3.736299991607666, -3.6407999992370605, -5.29449987411499, -4.588399887084961, -4.474899768829346, -4.424300193786621, -4.6097002029418945, -4.542699813842773, -5.0528998374938965, -4.917699813842773, -4.988699913024902, -4.883600234985352, -4.861000061035156, -5.167300224304199, -5.125400066375732, -5.034800052642822, -5.092899799346924, -5.100200176239014, -6.411300182342529, -6.688199996948242, -6.3678998947143555, -5.362400054931641, -5.5177001953125, -5.527200222015381, -6.827000141143799, -4.023200035095215, -7.48859977722168, -7.027900218963623, -5.4629998207092285, -6.55019998550415, -6.957099914550781, -7.668000221252441, -7.235099792480469, -6.856299877166748, -7.961299896240234, -7.615900039672852, -6.07889986038208, -6.994100093841553, -7.15369987487793, -7.494500160217285, -7.729599952697754, -6.679999828338623, -7.608099937438965, -6.753799915313721, -6.674699783325195, -8.323100090026855, -6.53879976272583, -5.142899990081787, -5.086999893188477, -4.110499858856201, -3.7558000087738037, -5.093500137329102, -4.853099822998047, -5.40880012512207, -4.384799957275391, -5.703400135040283, -4.644999980926514, -6.195000171661377, -4.735400199890137, -5.494900226593018, -6.1981000900268555, -5.010300159454346, -3.485300064086914, -5.15910005569458, -5.185500144958496, -5.34630012512207, -5.584099769592285, -3.643199920654297, -5.281199932098389, -3.9971001148223877, -4.411099910736084, -4.787600040435791, -5.065299987792969, -3.740499973297119, -4.496200084686279, -4.883600234985352, -3.8477001190185547, -4.320799827575684, -4.826200008392334, -4.394199848175049, -4.795300006866455, -4.427499771118164, -4.98330020904541, -4.980899810791016, -4.813399791717529, -4.979400157928467, -4.9095001220703125, -5.030200004577637, -6.251500129699707, -7.1828999519348145, -7.190899848937988, -8.124300003051758, -5.757500171661377, -7.4141998291015625, -5.629700183868408, -6.458000183105469, -6.616700172424316, -6.827000141143799, -7.4720001220703125, -6.18209981918335, -5.629199981689453, -8.09850025177002, -6.355599880218506, -7.866000175476074, -7.820000171661377, -8.325499534606934, -7.711100101470947, -6.92579984664917, -7.829599857330322, -6.817399978637695, -8.664299964904785, -7.984300136566162, -7.825300216674805, -5.678199768066406, -6.472799777984619, -5.670300006866455, -6.8979997634887695, -8.253999710083008, -5.4633002281188965, -6.20389986038208, -6.840099811553955, -5.583199977874756, -5.513800144195557, -3.8173999786376953, -6.929100036621094, -4.694300174713135, -5.515500068664551, -6.9604997634887695, -5.188300132751465, -6.258299827575684, -5.411900043487549, -5.98769998550415, -3.6314001083374023, -4.9359002113342285, -3.4670000076293945, -4.629799842834473, -5.439499855041504, -5.085899829864502, -4.922999858856201, -3.872499942779541, -5.541600227355957, -5.271599769592285, -4.480899810791016, -5.907599925994873, -4.0680999755859375, -5.554200172424316, -5.691999912261963, -4.475500106811523, -4.053100109100342, -4.567500114440918, -4.299200057983398, -4.115099906921387, -4.606500148773193, -5.008999824523926, -4.991300106048584, -5.137400150299072, -4.627699851989746, -4.7729997634887695, -4.9664998054504395, -5.419099807739258, -5.352200031280518, -5.3109002113342285, -5.332499980926514, -5.364099979400635]}, \"token.table\": {\"Topic\": [1, 2, 3, 4, 5, 1, 2, 3, 4, 5, 1, 2, 3, 5, 1, 2, 3, 4, 5, 1, 2, 3, 4, 5, 2, 3, 5, 2, 3, 5, 2, 3, 5, 1, 2, 3, 4, 5, 1, 2, 3, 4, 5, 1, 2, 3, 4, 5, 1, 2, 3, 4, 5, 1, 3, 4, 5, 1, 2, 3, 4, 5, 1, 2, 3, 4, 5, 1, 2, 3, 4, 5, 1, 2, 3, 4, 5, 1, 2, 3, 4, 5, 1, 2, 3, 4, 5, 1, 2, 3, 4, 5, 1, 2, 3, 4, 5, 1, 2, 3, 4, 5, 1, 2, 3, 4, 5, 1, 2, 3, 4, 5, 1, 2, 3, 4, 5, 1, 2, 3, 4, 5, 1, 2, 3, 4, 5, 1, 2, 3, 4, 5, 1, 2, 3, 4, 5, 1, 2, 3, 4, 5, 2, 3, 5, 1, 2, 3, 5, 1, 2, 3, 5, 2, 3, 5, 1, 2, 3, 4, 5, 1, 2, 3, 4, 5, 1, 2, 3, 4, 5, 1, 2, 3, 4, 5, 1, 2, 3, 4, 5, 1, 2, 3, 4, 5, 1, 2, 3, 4, 5, 1, 2, 3, 4, 5, 1, 2, 3, 4, 5, 1, 3, 4, 5, 1, 2, 3, 4, 5, 1, 2, 3, 5, 1, 2, 3, 4, 5, 1, 2, 3, 4, 5, 1, 2, 3, 5, 1, 3, 4, 5, 1, 2, 3, 4, 5, 1, 2, 3, 4, 5, 2, 3, 5, 1, 2, 3, 4, 5, 1, 2, 3, 4, 5, 1, 2, 3, 4, 5, 1, 2, 3, 4, 5, 1, 2, 3, 4, 5, 1, 2, 4, 5, 2, 3, 1, 2, 3, 4, 5, 1, 2, 3, 1, 2, 3, 4, 5, 1, 2, 3, 4, 5, 1, 2, 3, 4, 5, 1, 2, 3, 4, 5, 1, 2, 3, 4, 5, 1, 2, 3, 4, 5, 1, 2, 3, 4, 5, 1, 2, 3, 4, 5, 1, 2, 3, 4, 5, 1, 3, 4, 5, 1, 2, 3, 4, 5, 1, 2, 3, 4, 5, 1, 2, 3, 4, 5, 1, 2, 3, 4, 5, 1, 2, 3, 4, 5, 1, 2, 3, 4, 5, 1, 2, 3, 4, 5, 1, 2, 3, 4, 5, 1, 2, 3, 4, 5, 1, 2, 3, 4, 5, 2, 3, 4, 5, 1, 2, 3, 4, 5, 1, 2, 3, 4, 5, 1, 2, 3, 4, 5, 1, 2, 3, 4, 5, 1, 2, 3, 4, 5, 1, 2, 3, 4, 5, 1, 2, 3, 4, 5, 1, 2, 3, 4, 5, 1, 2, 3, 4, 5, 1, 2, 3, 4, 5, 1, 2, 3, 4, 5, 1, 2, 3, 4, 5, 1, 2, 3, 4, 5, 2, 3, 5, 2, 3, 5, 2, 3, 5, 2, 3, 1, 2, 3, 4, 5, 1, 2, 3, 4, 5, 1, 2, 3, 4, 5, 1, 2, 3, 4, 5, 1, 2, 3, 4, 5, 2, 3, 1, 2, 3, 1, 3, 1, 2, 3, 4, 5, 1, 2, 3, 4, 5, 1, 2, 3, 4, 5, 1, 2, 3, 4, 5, 2, 3, 5, 1, 2, 3, 4, 5, 1, 2, 3, 1, 2, 3, 4, 5, 1, 2, 3, 4, 5, 1, 2, 3, 4, 5, 2, 3, 1, 2, 3, 4, 5, 1, 2, 3, 4, 5, 1, 2, 3, 4, 5, 1, 2, 3, 4, 5, 1, 2, 3, 4, 5, 1, 2, 3, 5, 1, 2, 3, 4, 5, 1, 2, 3, 4, 5, 1, 2, 3, 4, 5, 1, 2, 3, 4, 5, 1, 2, 3, 4, 5, 1, 2, 3, 4, 5, 1, 2, 3, 4, 5, 1, 2, 3, 4, 5, 1, 2, 3, 4, 5, 1, 2, 3, 4, 5, 1, 2, 3, 4, 5, 1, 2, 3, 4, 5, 1, 2, 3, 4, 5, 1, 2, 3, 5, 1, 2, 3, 4, 5, 1, 2, 3, 4, 5, 1, 2, 1, 2, 3, 4, 5, 1, 2, 3, 4, 5, 1, 2, 3, 4, 5, 1, 2, 3, 4, 5, 1, 2, 3, 4, 5, 1, 2, 3, 4, 5, 1, 2, 3, 4, 5, 1, 2, 3, 4, 5, 1, 2, 3, 4, 5, 1, 2, 3, 4, 5, 1, 2, 3, 4, 5, 1, 2, 3, 4, 5, 1, 2, 3, 4, 5, 1, 2, 3, 4, 5, 1, 2, 3, 4, 5, 1, 2, 3, 4, 5, 1, 2, 3, 4, 1, 2, 3, 4, 5, 1, 2, 3, 4, 5, 1, 2, 3, 4, 5, 1, 2, 3, 4, 5, 1, 2, 3, 4, 5, 1, 2, 3, 4, 5, 1, 2, 3, 4, 5, 1, 2, 3, 4, 5, 1, 2, 3, 4, 5, 1, 2, 3, 4, 5, 1, 2, 3, 4, 5, 1, 2, 3, 4, 5, 1, 2, 3, 4, 5, 1, 2, 3, 4, 5, 1, 2, 3, 4, 5, 1, 2, 3, 4, 5, 1, 2, 3, 4, 5, 1, 2, 3, 4, 5, 1, 2, 3, 4, 5, 1, 2, 3, 4, 5, 1, 2, 3, 4, 5, 1, 2, 3, 4, 5, 1, 2, 3, 4, 5, 1, 2, 3, 4, 5, 1, 2, 3, 4, 5, 1, 2, 3, 4, 5, 1, 2, 3, 4, 5, 1, 2, 3, 4, 5, 1, 2, 3, 4, 5, 1, 2, 3, 4, 5, 1, 2, 3, 4, 5, 2, 3, 5, 2, 3, 1, 2, 3, 4, 5, 1, 2, 3, 4, 5, 1, 2, 3, 4, 5, 1, 2, 3, 4, 5, 1, 2, 3, 4, 5, 1, 2, 3, 4, 5, 1, 2, 3, 4, 5, 1, 2, 3, 4, 5, 1, 2, 3, 4, 5, 1, 2, 3, 4, 5, 1, 2, 3, 4, 5, 1, 2, 3, 4, 5, 1, 2, 3, 4, 5, 1, 2, 3, 4, 5, 1, 2, 3, 4, 5, 1, 2, 3, 4, 5, 1, 2, 3, 4, 5, 1, 2, 3, 4, 5, 1, 2, 3, 4, 5, 1, 2, 3, 4, 5, 1, 2, 3, 4, 5, 1, 2, 3, 4, 5, 1, 2, 3, 4, 5, 1, 2, 3, 4, 5, 1, 2, 3, 4, 5, 1, 2, 3, 4, 5, 1, 2, 3, 4, 5, 1, 2, 3, 4, 5, 1, 2, 3, 4, 5, 1, 2, 3, 4, 5, 1, 2, 3, 4, 5, 1, 3, 5, 2, 3, 5, 2, 3, 5, 2, 3, 2, 3, 5, 1, 2, 3, 4, 5, 1, 2, 3, 4, 5, 1, 2, 3, 4, 5, 1, 2, 3, 4, 5, 1, 2, 3, 4, 5, 1, 2, 3, 4, 1, 2, 3, 4, 5, 1, 2, 3, 5, 1, 2, 3, 4, 5, 1, 2, 3, 4, 5, 1, 2, 3, 4, 5, 1, 2, 3, 4, 5, 1, 2, 3, 4, 5, 1, 2, 3, 4, 5, 1, 2, 5, 2, 3, 5, 2, 3, 5, 1, 2, 3, 4, 5, 1, 2, 3, 4, 5, 1, 2, 3, 4, 5, 1, 2, 3, 4, 5, 1, 2, 3, 4, 5, 1, 2, 3, 4, 5, 1, 2, 3, 4, 5, 1, 2, 3, 4, 5, 1, 2, 3, 4, 5, 1, 2, 3, 4, 5, 1, 2, 3, 4, 5, 1, 2, 3, 4, 5, 1, 2, 3, 4, 5, 1, 2, 3, 4, 5, 1, 2, 3, 4, 5, 1, 2, 3, 4, 5, 1, 2, 3, 4, 5, 1, 2, 3, 4, 5, 1, 2, 3, 4, 5, 1, 2, 3, 4, 5, 1, 2, 3, 4, 5, 1, 2, 3, 4, 5, 1, 2, 3, 4, 5, 1, 2, 3, 4, 5, 1, 2, 3, 4, 5, 1, 2, 3, 4, 5, 1, 2, 3, 4, 5, 1, 3, 4, 5, 1, 2, 3, 4, 5, 1, 2, 3, 4, 5, 1, 2, 3, 4, 5, 1, 2, 3, 4, 5, 1, 2, 3, 4, 5, 1, 2, 3, 4, 5, 1, 2, 3, 4, 5, 1, 2, 3, 4, 5, 1, 2, 3, 4, 5, 1, 2, 3, 4, 5, 1, 2, 3, 4, 5, 1, 2, 3, 4, 5, 1, 2, 3, 4, 5, 1, 2, 3, 4, 5, 1, 2, 4, 5, 1, 2, 3, 4, 5, 1, 2, 5, 1, 2, 3, 4, 5, 1, 2, 3, 4, 5, 1, 2, 3, 4, 5, 2, 3, 1, 2, 3, 4, 5, 1, 2, 3, 4, 1, 2, 5, 2, 3, 1, 2, 3, 4, 5, 1, 2, 3, 5, 1, 2, 3, 5, 1, 2, 3, 4, 5, 2, 3, 1, 2, 3, 4, 5, 1, 2, 3, 4, 5, 1, 2, 3, 4, 5, 1, 2, 3, 4, 5, 1, 2, 3, 4, 5, 1, 2, 3, 4, 5], \"Freq\": [0.02606465481221676, 0.8064711093902588, 0.11959077417850494, 0.007666075136512518, 0.04139680415391922, 0.019394129514694214, 0.7515224814414978, 0.06060665100812912, 0.0048485323786735535, 0.16242583096027374, 0.8733121752738953, 0.05164749547839165, 0.030518975108861923, 0.04460465535521507, 0.011269019916653633, 0.7662933468818665, 0.056345101445913315, 0.0056345099583268166, 0.1596444547176361, 0.008921164087951183, 0.07136931270360947, 0.017842328175902367, 0.856431782245636, 0.04460582137107849, 0.09405343234539032, 0.03762137517333031, 0.8652915954589844, 0.09260697662830353, 0.03704279288649559, 0.8519842028617859, 0.07505054771900177, 0.025016847997903824, 0.8755896687507629, 0.04686262086033821, 0.17115044593811035, 0.06723767518997192, 0.7029393315315247, 0.012225031852722168, 0.010466692969202995, 0.7588352560997009, 0.15351150929927826, 0.029655631631612778, 0.04884456843137741, 0.04776925966143608, 0.6669323444366455, 0.11391131579875946, 0.012860954739153385, 0.1598432958126068, 0.02938687801361084, 0.6898919343948364, 0.12361147254705429, 0.009329168125987053, 0.1474008560180664, 0.8511731028556824, 0.0740150511264801, 0.03700752556324005, 0.03700752556324005, 0.0402822270989418, 0.7519348859786987, 0.10375725477933884, 0.01342740934342146, 0.09155051410198212, 0.013179443776607513, 0.026358887553215027, 0.03953833132982254, 0.7775871753692627, 0.14497387409210205, 0.03288760036230087, 0.7543593049049377, 0.08221899718046188, 0.010277374647557735, 0.12127302587032318, 0.054549045860767365, 0.08727847784757614, 0.010909809730947018, 0.7964161038398743, 0.04363923892378807, 0.11489423364400864, 0.04631395637989044, 0.06323636323213577, 0.6590831875801086, 0.11667554080486298, 0.4810366928577423, 0.044297803193330765, 0.18405424058437347, 0.14724339544773102, 0.1434999257326126, 0.01765556074678898, 0.08827780187129974, 0.03531112149357796, 0.7591890692710876, 0.10593336075544357, 0.01479988731443882, 0.2241125851869583, 0.03594258427619934, 0.6702234745025635, 0.054971013218164444, 0.040835436433553696, 0.09256032109260559, 0.019056536257267, 0.8330428600311279, 0.013611811213195324, 0.07032617181539536, 0.00540970591828227, 0.05139220505952835, 0.8357995748519897, 0.037867940962314606, 0.019083622843027115, 0.7866693735122681, 0.10814053565263748, 0.01060201320797205, 0.07421409338712692, 0.061857499182224274, 0.722756028175354, 0.10418105125427246, 0.016278289258480072, 0.09766973555088043, 0.02743378095328808, 0.7559530735015869, 0.08534954488277435, 0.01828918792307377, 0.11278332769870758, 0.09992469102144241, 0.018168125301599503, 0.8539019227027893, 0.018168125301599503, 0.013626093976199627, 0.040837451815605164, 0.011667842976748943, 0.029169607907533646, 0.029169607907533646, 0.8984239101409912, 0.03961927816271782, 0.013206426054239273, 0.0066032130271196365, 0.7329566478729248, 0.21130281686782837, 0.1623927503824234, 0.05846139043569565, 0.10068351030349731, 0.04709389805793762, 0.6284599900245667, 0.09327935427427292, 0.031093118712306023, 0.870607316493988, 0.010584995150566101, 0.05292497202754021, 0.021169990301132202, 0.9208945631980896, 0.010605862364172935, 0.05302931368350983, 0.02121172472834587, 0.9227100610733032, 0.05393087863922119, 0.026965439319610596, 0.9168249368667603, 0.03956807032227516, 0.01318935677409172, 0.8177400827407837, 0.09232549369335175, 0.05275742709636688, 0.01701267994940281, 0.7446319460868835, 0.08637207001447678, 0.005234670825302601, 0.14657078683376312, 0.012414801865816116, 0.73154217004776, 0.145563542842865, 0.00558666093274951, 0.10490507632493973, 0.014310172758996487, 0.7298188209533691, 0.09874019026756287, 0.005724069196730852, 0.1516878306865692, 0.004874438513070345, 0.779910147190094, 0.11698652058839798, 0.004874438513070345, 0.08773989230394363, 0.01461956650018692, 0.7894565463066101, 0.08771739900112152, 0.002923913300037384, 0.10526087880134583, 0.004435492213815451, 0.7673401832580566, 0.03326619043946266, 0.0022177461069077253, 0.190726175904274, 0.026197392493486404, 0.7073296308517456, 0.09496554732322693, 0.006549348123371601, 0.16373370587825775, 0.9168832898139954, 0.007515436969697475, 0.007515436969697475, 0.02254630997776985, 0.05260805785655975, 0.8850189447402954, 0.032778479158878326, 0.032778479158878326, 0.032778479158878326, 0.10101984441280365, 0.14808590710163116, 0.03673448786139488, 0.689919650554657, 0.02295905537903309, 0.02689615823328495, 0.02689615823328495, 0.0672403946518898, 0.8741251230239868, 0.032438263297080994, 0.12975305318832397, 0.032438263297080994, 0.7677055597305298, 0.04325101524591446, 0.7466800212860107, 0.09940322488546371, 0.06935108453035355, 0.004623405635356903, 0.0809096023440361, 0.9443497657775879, 0.009168444201350212, 0.03667377680540085, 0.009168444201350212, 0.8503649234771729, 0.0694175437092781, 0.017354385927319527, 0.0694175437092781, 0.45565780997276306, 0.1772351711988449, 0.10055895894765854, 0.15838035941123962, 0.10810088366270065, 0.03347645327448845, 0.7542886137962341, 0.13414324820041656, 0.012820770032703876, 0.0650535374879837, 0.8570186495780945, 0.07141821831464767, 0.03570910915732384, 0.017094440758228302, 0.008547220379114151, 0.0042736101895570755, 0.025641661137342453, 0.9444678425788879, 0.822849690914154, 0.00979582965373993, 0.03918331861495972, 0.08816246688365936, 0.03918331861495972, 0.8158878087997437, 0.028134062886238098, 0.056268125772476196, 0.056268125772476196, 0.028134062886238098, 0.8964899778366089, 0.021777084097266197, 0.025406597182154655, 0.007259028032422066, 0.05081319436430931, 0.08254940062761307, 0.041274700313806534, 0.8254939913749695, 0.041274700313806534, 0.020637350156903267, 0.02275577001273632, 0.910230815410614, 0.058153633028268814, 0.007585256360471249, 0.919143557548523, 0.06127623841166496, 0.03359541669487953, 0.7036373615264893, 0.16611067950725555, 0.013998091220855713, 0.08305533975362778, 0.012744301930069923, 0.943078339099884, 0.03823290765285492, 0.04774684086441994, 0.027852322906255722, 0.8514853119850159, 0.02387342043220997, 0.04774684086441994, 0.053079187870025635, 0.050285544246435165, 0.7291404008865356, 0.1033647283911705, 0.06425375491380692, 0.052322838455438614, 0.08371654152870178, 0.8267008662223816, 0.020929135382175446, 0.020929135382175446, 0.04032077267765999, 0.013440257869660854, 0.913937509059906, 0.013440257869660854, 0.013440257869660854, 0.053595032542943954, 0.013398758135735989, 0.9111155867576599, 0.026797516271471977, 0.013398758135735989, 0.11194363981485367, 0.1734338104724884, 0.05360681191086769, 0.5786382555961609, 0.08198688924312592, 0.13454152643680573, 0.6699046492576599, 0.03924127668142319, 0.11492088437080383, 0.042044226080179214, 0.10327452421188354, 0.035207223147153854, 0.009388593025505543, 0.847320556640625, 0.0023471482563763857, 0.03912419453263283, 0.05868629366159439, 0.05868629366159439, 0.7433596849441528, 0.11737258732318878, 0.04435444995760918, 0.931443452835083, 0.014784816652536392, 0.014784816652536392, 0.02378813549876213, 0.04108859598636627, 0.03243836387991905, 0.05190138518810272, 0.8498851656913757, 0.01693853735923767, 0.13375604152679443, 0.009929487481713295, 0.8054566383361816, 0.034461162984371185, 0.04414329305291176, 0.06621494144201279, 0.8056151270866394, 0.07725076377391815, 0.02207164652645588, 0.044994428753852844, 0.056243035942316055, 0.8098997473716736, 0.06749164313077927, 0.022497214376926422, 0.16002629697322845, 0.052751053124666214, 0.20900942385196686, 0.31362494826316833, 0.26442018151283264, 0.09202569723129272, 0.07099125534296036, 0.7256883382797241, 0.049956806004047394, 0.0631033331155777, 0.10561715811491013, 0.01923881471157074, 0.07224370539188385, 0.7075172066688538, 0.095801442861557, 0.04810271039605141, 0.8727205991744995, 0.04810271039605141, 0.006871815770864487, 0.02061544731259346, 0.42335444688796997, 0.10109703987836838, 0.17899425327777863, 0.16121336817741394, 0.13547343015670776, 0.7077010869979858, 0.05133583024144173, 0.059891801327466965, 0.017111944034695625, 0.16256345808506012, 0.0074625164270401, 0.0223875492811203, 0.9477396011352539, 0.0223875492811203, 0.138075053691864, 0.23701229691505432, 0.11999616771936417, 0.030197709798812866, 0.47462061047554016, 0.0239388570189476, 0.786562442779541, 0.02735869400203228, 0.003419836750254035, 0.15902240574359894, 0.18412654101848602, 0.11639087647199631, 0.18889667093753815, 0.024804612621665, 0.48559799790382385, 0.4834034740924835, 0.09121916443109512, 0.18360036611557007, 0.08540903031826019, 0.15629270672798157, 0.013097633607685566, 0.013097633607685566, 0.03929290175437927, 0.026195267215371132, 0.9037367105484009, 0.03759469464421272, 0.01879734732210636, 0.07518938928842545, 0.01879734732210636, 0.8646780252456665, 0.014860979281365871, 0.010614984668791294, 0.10190385580062866, 0.03184495493769646, 0.8407068252563477, 0.01900717429816723, 0.014255380257964134, 0.07602869719266891, 0.05226973071694374, 0.8410674333572388, 0.006794937886297703, 0.020384812727570534, 0.09512913227081299, 0.04076962545514107, 0.8357773423194885, 0.008766422979533672, 0.010958028957247734, 0.05698174983263016, 0.01972445286810398, 0.9029415845870972, 0.05609918385744095, 0.03856818750500679, 0.7713637948036194, 0.09466737508773804, 0.04207438975572586, 0.05493885651230812, 0.018312953412532806, 0.8973346948623657, 0.018312953412532806, 0.018312953412532806, 0.05488446727395058, 0.018294822424650192, 0.8964462876319885, 0.018294822424650192, 0.018294822424650192, 0.9094911217689514, 0.04916168004274368, 0.02458084002137184, 0.9546803832054138, 0.027671895921230316, 0.013835947960615158, 0.9545763731002808, 0.02766888029873371, 0.013834440149366856, 0.8833495378494263, 0.04416747763752937, 0.016736004501581192, 0.016736004501581192, 0.8535361886024475, 0.016736004501581192, 0.10041602700948715, 0.0640050619840622, 0.0865950807929039, 0.7981807589530945, 0.007530007045716047, 0.04518004134297371, 0.7343291640281677, 0.0842672809958458, 0.05116227641701698, 0.030095458030700684, 0.10232455283403397, 0.8208140730857849, 0.027360469102859497, 0.12312211096286774, 0.013680234551429749, 0.013680234551429749, 0.15035168826580048, 0.05793367698788643, 0.040001824498176575, 0.06345117092132568, 0.6883072853088379, 0.927380383014679, 0.05152112990617752, 0.037437763065099716, 0.037437763065099716, 0.8985062837600708, 0.09124168753623962, 0.8667960166931152, 0.18579275906085968, 0.10153790563344955, 0.05616990476846695, 0.05184914544224739, 0.6049066781997681, 0.02890223078429699, 0.009634076617658138, 0.048170384019613266, 0.780360221862793, 0.1348770707845688, 0.7253232002258301, 0.03569823503494263, 0.10384941101074219, 0.037320882081985474, 0.0973588228225708, 0.6949076652526855, 0.06216426193714142, 0.16873157024383545, 0.026641827076673508, 0.048843350261449814, 0.9545623660087585, 0.027668476104736328, 0.013834238052368164, 0.022184321656823158, 0.8981652855873108, 0.05665995925664902, 0.003297669580206275, 0.019786017015576363, 0.011900327168405056, 0.9520261883735657, 0.023800654336810112, 0.2200683057308197, 0.4371963441371918, 0.11161737889051437, 0.10404051840305328, 0.12699727714061737, 0.1438187211751938, 0.05229771509766579, 0.12812940776348114, 0.5125176310539246, 0.16473780572414398, 0.04502469301223755, 0.08361728489398956, 0.012864197604358196, 0.8490370512008667, 0.012864197604358196, 0.9150412678718567, 0.03812671825289726, 0.0937926322221756, 0.04137910157442093, 0.1324131190776825, 0.6216060519218445, 0.11034426838159561, 0.07062006741762161, 0.04478345811367035, 0.05684054270386696, 0.0292814914137125, 0.7974900007247925, 0.1023300364613533, 0.02046600729227066, 0.06139802560210228, 0.7777082920074463, 0.04093201458454132, 0.6977290511131287, 0.0768684595823288, 0.05321662500500679, 0.07539021968841553, 0.0960855707526207, 0.27092453837394714, 0.0964285284280777, 0.35163387656211853, 0.07502932101488113, 0.2059343457221985, 0.014940560795366764, 0.9263147711753845, 0.04482168331742287, 0.014940560795366764, 0.5218213796615601, 0.06842583417892456, 0.2088475525379181, 0.055335674434900284, 0.1451817750930786, 0.046963583678007126, 0.0821862667798996, 0.011740895919501781, 0.7983809113502502, 0.046963583678007126, 0.05409557744860649, 0.021638231351971626, 0.06491469591856003, 0.021638231351971626, 0.8366782665252686, 0.014116296544671059, 0.007058148272335529, 0.08469777554273605, 0.014116296544671059, 0.8752104043960571, 0.014873117208480835, 0.016997847706079483, 0.08286451548337936, 0.008498923853039742, 0.8753892183303833, 0.009961153380572796, 0.014941729605197906, 0.059766918420791626, 0.014941729605197906, 0.8965038061141968, 0.014803583733737469, 0.022205376997590065, 0.059214334934949875, 0.022205376997590065, 0.8771123886108398, 0.015049264766275883, 0.01254105381667614, 0.05016421526670456, 0.01254105381667614, 0.9104804992675781, 0.029353389516472816, 0.0220150426030159, 0.1100752130150795, 0.014676694758236408, 0.8218949437141418, 0.03349633142352104, 0.03349633142352104, 0.06699266284704208, 0.01674816571176052, 0.8541564345359802, 0.030330533161759377, 0.02274789847433567, 0.1061568632721901, 0.015165266580879688, 0.826507031917572, 0.3394864499568939, 0.10501063615083694, 0.16938360035419464, 0.19024187326431274, 0.19563625752925873, 0.8834935426712036, 0.017848355695605278, 0.026772532612085342, 0.04462088644504547, 0.035696711391210556, 0.019409021362662315, 0.9316329956054688, 0.03881804272532463, 0.019409021362662315, 0.45400768518447876, 0.08125001192092896, 0.17180345952510834, 0.11474238336086273, 0.17800574004650116, 0.8409534096717834, 0.018281595781445503, 0.05484478548169136, 0.07312638312578201, 0.018281595781445503, 0.8810490965843201, 0.11491944640874863, 0.3964298963546753, 0.06907490640878677, 0.071477510035038, 0.3856181800365448, 0.07748402655124664, 0.06825606524944305, 0.05005444586277008, 0.11376010626554489, 0.7144134640693665, 0.05005444586277008, 0.5966150760650635, 0.05202394723892212, 0.11290303617715836, 0.13282710313796997, 0.10626167804002762, 0.38905760645866394, 0.04334775730967522, 0.10997769981622696, 0.30879533290863037, 0.1487302929162979, 0.47359806299209595, 0.06333313882350922, 0.18929918110370636, 0.12783335149288177, 0.14588408172130585, 0.3701953589916229, 0.1858273595571518, 0.07296886295080185, 0.30063170194625854, 0.07053656876087189, 0.2736522853374481, 0.030698170885443687, 0.1298094093799591, 0.42626604437828064, 0.13945740461349487, 0.49136364459991455, 0.1068827286362648, 0.19941546022891998, 0.10836721211671829, 0.09451204538345337, 0.30219072103500366, 0.08612051606178284, 0.1091885045170784, 0.35986071825027466, 0.14263710379600525, 0.20016008615493774, 0.05270172283053398, 0.12456770986318588, 0.418952077627182, 0.20353157818317413, 0.2739613354206085, 0.03539213538169861, 0.07602754980325699, 0.5649633407592773, 0.04981115460395813, 0.6241100430488586, 0.041528232395648956, 0.1281442642211914, 0.14831511676311493, 0.05813952907919884, 0.09834497421979904, 0.10250039398670197, 0.049865059554576874, 0.6648674607276917, 0.08380100131034851, 0.41357049345970154, 0.050328683108091354, 0.1608329713344574, 0.2888428866863251, 0.08643404394388199, 0.5327355265617371, 0.042854927480220795, 0.14627130329608917, 0.1360066533088684, 0.14242206513881683, 0.44331860542297363, 0.06016049534082413, 0.11097567528486252, 0.2330489158630371, 0.15244552493095398, 0.8914772272109985, 0.042451296001672745, 0.06367694586515427, 0.021225648000836372, 0.2698228061199188, 0.1199212446808815, 0.19378577172756195, 0.2767747640609741, 0.13990812003612518, 0.3029962480068207, 0.03779832646250725, 0.12497833371162415, 0.35542619228363037, 0.17801791429519653, 0.4374343752861023, 0.05059875175356865, 0.11392880231142044, 0.28041502833366394, 0.11751968413591385, 0.6253113746643066, 0.047726258635520935, 0.07110238820314407, 0.11395861953496933, 0.14220477640628815, 0.5334374308586121, 0.11405501514673233, 0.10661664605140686, 0.13318225741386414, 0.11263818293809891, 0.6315191984176636, 0.04655812680721283, 0.10027904063463211, 0.10027904063463211, 0.12057360261678696, 0.5511324405670166, 0.09293100237846375, 0.089704230427742, 0.17876310646533966, 0.08712281286716461, 0.5170857906341553, 0.06841760128736496, 0.15883885324001312, 0.17602920532226562, 0.07976323366165161, 0.2532281279563904, 0.18735255300998688, 0.16801293194293976, 0.09458281844854355, 0.2968933582305908, 0.19193008542060852, 0.07082435488700867, 0.09880192577838898, 0.04362936690449715, 0.5949636697769165, 0.0822368711233139, 0.03575516119599342, 0.07866135239601135, 0.01787758059799671, 0.7866135239601135, 0.12970738112926483, 0.06344382464885712, 0.07049313932657242, 0.012688765302300453, 0.7232596278190613, 0.06519708782434464, 0.02897648513317108, 0.03622060641646385, 0.02897648513317108, 0.8403180837631226, 0.10384267568588257, 0.02698274329304695, 0.1618964523077011, 0.031888697296381, 0.6745685935020447, 0.06860552728176117, 0.022868508473038673, 0.022868508473038673, 0.03049134463071823, 0.8613804578781128, 0.19016966223716736, 0.07193683832883835, 0.08760625123977661, 0.05484293773770332, 0.5954375863075256, 0.22951658070087433, 0.04359035938978195, 0.06583033502101898, 0.02935677208006382, 0.631615400314331, 0.06533399969339371, 0.02177799865603447, 0.02177799865603447, 0.02177799865603447, 0.8493419885635376, 0.10102366656064987, 0.017990516498684883, 0.10033172369003296, 0.0539715476334095, 0.7272319793701172, 0.15431565046310425, 0.022597281262278557, 0.053519878536462784, 0.019029289484024048, 0.7507649660110474, 0.09408970922231674, 0.05048716068267822, 0.052782028913497925, 0.06769868731498718, 0.7355061173439026, 0.117072194814682, 0.03957369923591614, 0.06760507076978683, 0.01319123338907957, 0.7617937326431274, 0.25591379404067993, 0.04508809372782707, 0.06343428790569305, 0.07835999876260757, 0.5572266578674316, 0.0884799212217331, 0.018825514242053032, 0.05271144211292267, 0.028238272294402122, 0.8132622241973877, 0.10898410528898239, 0.0068115065805613995, 0.02043452113866806, 0.0068115065805613995, 0.858249843120575, 0.11034680157899857, 0.051795437932014465, 0.0585513636469841, 0.0765671655535698, 0.7026163339614868, 0.08455629646778107, 0.044920530170202255, 0.05813245102763176, 0.05284768342971802, 0.7610066533088684, 0.04963188245892525, 0.025671664625406265, 0.0547662153840065, 0.03594033047556877, 0.8334733843803406, 0.04299607127904892, 0.04299607127904892, 0.08599214255809784, 0.04299607127904892, 0.8599214553833008, 0.1620909571647644, 0.08463156223297119, 0.07602495700120926, 0.03155753016471863, 0.6454949378967285, 0.059178903698921204, 0.019726300612092018, 0.019726300612092018, 0.039452601224184036, 0.8679572343826294, 0.9699847102165222, 0.027323514223098755, 0.013661757111549377, 0.9379350543022156, 0.05517265200614929, 0.8452391624450684, 0.016573317348957062, 0.016573317348957062, 0.049719952046871185, 0.049719952046871185, 0.6356234550476074, 0.14909449219703674, 0.0546359159052372, 0.051557835191488266, 0.10907945036888123, 0.06291418522596359, 0.050331346690654755, 0.08807985484600067, 0.7549701929092407, 0.050331346690654755, 0.004364009480923414, 0.09600821137428284, 0.03054806776344776, 0.004364009480923414, 0.8684379458427429, 0.17065222561359406, 0.17637428641319275, 0.18546228110790253, 0.029956702142953873, 0.437569797039032, 0.821823239326477, 0.024903733283281326, 0.04980746656656265, 0.04980746656656265, 0.062259335070848465, 0.05338415503501892, 0.03558943793177605, 0.836351752281189, 0.0711788758635521, 0.017794718965888023, 0.06833777576684952, 0.007593085989356041, 0.14426863193511963, 0.7365293502807617, 0.045558515936136246, 0.0658230409026146, 0.008227880112826824, 0.1316460818052292, 0.7405092120170593, 0.049367282539606094, 0.9023457765579224, 0.020052127540111542, 0.020052127540111542, 0.020052127540111542, 0.040104255080223083, 0.8188664317131042, 0.03275465592741966, 0.01637732796370983, 0.06550931185483932, 0.07369797676801682, 0.7784314751625061, 0.10504784435033798, 0.010774138383567333, 0.021548276767134666, 0.08349956572055817, 0.7198595404624939, 0.07133743166923523, 0.012970441952347755, 0.032426103949546814, 0.16213053464889526, 0.03934257850050926, 0.03934257850050926, 0.11802773177623749, 0.7475089430809021, 0.03934257850050926, 0.08912752568721771, 0.044563762843608856, 0.08912752568721771, 0.7575839757919312, 0.022281881421804428, 0.15514299273490906, 0.12949952483177185, 0.07821258157491684, 0.5680028796195984, 0.0692373663187027, 0.06201595067977905, 0.06201595067977905, 0.06976794451475143, 0.7519434094429016, 0.05426395684480667, 0.19080017507076263, 0.09435173869132996, 0.056611042469739914, 0.6059478521347046, 0.052417632192373276, 0.07952636480331421, 0.06855721026659012, 0.07952636480331421, 0.7047681212425232, 0.06581492722034454, 0.04224858805537224, 0.014082862064242363, 0.1126628965139389, 0.7886402606964111, 0.05633144825696945, 0.07822619378566742, 0.10106595605611801, 0.04453754052519798, 0.7217365503311157, 0.05538642778992653, 0.2173742651939392, 0.07503274083137512, 0.05848139896988869, 0.5671592354774475, 0.08165327459573746, 0.05645158141851425, 0.068723663687706, 0.04663391411304474, 0.8025942444801331, 0.026998581364750862, 0.05602523311972618, 0.03735015541315079, 0.11205046623945236, 0.8030283451080322, 0.018675077706575394, 0.0764099508523941, 0.06828123331069946, 0.08291292190551758, 0.7315846085548401, 0.040643591433763504, 0.058033235371112823, 0.03817976266145706, 0.10995770990848541, 0.7223610877990723, 0.07177795469760895, 0.050886306911706924, 0.029077889397740364, 0.07996419072151184, 0.7996419668197632, 0.04361683130264282, 0.0521368645131588, 0.038335926830768585, 0.10887403786182404, 0.7299160957336426, 0.07053811103105545, 0.054274436086416245, 0.06784304231405258, 0.09045739471912384, 0.7100905179977417, 0.0768887847661972, 0.05958615988492966, 0.02979307994246483, 0.03972410410642624, 0.834206223487854, 0.02979307994246483, 0.13925430178642273, 0.6493647694587708, 0.1289934515953064, 0.0161241814494133, 0.06596256047487259, 0.8016985654830933, 0.0943174809217453, 0.0943174809217453, 0.9511585235595703, 0.03693819418549538, 0.009234548546373844, 0.9553161859512329, 0.027690324932336807, 0.013845162466168404, 0.915873646736145, 0.03816140070557594, 0.9675338268280029, 0.013821911998093128, 0.013821911998093128, 0.6577231287956238, 0.07308034598827362, 0.030856147408485413, 0.01299206167459488, 0.22492507100105286, 0.7324650883674622, 0.027572335675358772, 0.021578349173069, 0.009590378031134605, 0.20978951454162598, 0.5315213799476624, 0.1317044049501419, 0.07055593281984329, 0.06663616001605988, 0.20069243013858795, 0.08531148731708527, 0.05228768661618233, 0.4274747669696808, 0.10732735693454742, 0.3274860382080078, 0.035105109214782715, 0.7333067655563354, 0.0936136320233345, 0.015602272003889084, 0.12091760337352753, 0.9296072125434875, 0.011200087144970894, 0.022400174289941788, 0.03360026329755783, 0.22931674122810364, 0.062299925833940506, 0.10604242235422134, 0.013255302794277668, 0.5898609757423401, 0.038685042411088943, 0.9241427183151245, 0.02149168960750103, 0.017193352803587914, 0.15692336857318878, 0.2410706728696823, 0.2247718721628189, 0.08149401843547821, 0.29603174328804016, 0.6068384647369385, 0.05474536493420601, 0.08072621375322342, 0.03618761524558067, 0.22083723545074463, 0.6156014800071716, 0.08819010108709335, 0.07003331184387207, 0.08905471116304398, 0.13660819828510284, 0.6377681493759155, 0.10922407358884811, 0.05398431047797203, 0.12931126356124878, 0.07030514627695084, 0.6397115588188171, 0.08378910273313522, 0.07286009192466736, 0.07067428529262543, 0.13260535895824432, 0.23116308450698853, 0.4401841163635254, 0.12222415953874588, 0.09033960103988647, 0.11602438241243362, 0.0032633724622428417, 0.9504572749137878, 0.04568721354007721, 0.9118254780769348, 0.05526215210556984, 0.02763107605278492, 0.9058119058609009, 0.056613244116306305, 0.028306622058153152, 0.11591457575559616, 0.02897864393889904, 0.08693592995405197, 0.7824233770370483, 0.02897864393889904, 0.16908924281597137, 0.6392397880554199, 0.05155159905552864, 0.11959970742464066, 0.022682704031467438, 0.10119669139385223, 0.7352249026298523, 0.02271762490272522, 0.014456669799983501, 0.12597955763339996, 0.26230278611183167, 0.2505359351634979, 0.17944452166557312, 0.10001826286315918, 0.20788109302520752, 0.2396550476551056, 0.15663596987724304, 0.22125081717967987, 0.18294201791286469, 0.19944581389427185, 0.9087879657745361, 0.03577905520796776, 0.04293486475944519, 0.003577905474230647, 0.010733716189861298, 0.3846679925918579, 0.11178749054670334, 0.12921443581581116, 0.04888046160340309, 0.32601141929626465, 0.0760594978928566, 0.014261155389249325, 0.7035503387451172, 0.1711338609457016, 0.0332760289311409, 0.08316031843423843, 0.039358317852020264, 0.7262244820594788, 0.09522174298763275, 0.05586342141032219, 0.051327794790267944, 0.028515441343188286, 0.8540374636650085, 0.029941212385892868, 0.035644300282001495, 0.0522305965423584, 0.019091183319687843, 0.855501115322113, 0.05979502573609352, 0.013327807188034058, 0.07292717695236206, 0.028728889301419258, 0.7977791428565979, 0.0685073509812355, 0.030938802286982536, 0.09137927740812302, 0.03612668812274933, 0.779911458492279, 0.06587807834148407, 0.027626292780041695, 0.06273014843463898, 0.01254602987319231, 0.8594030737876892, 0.037638090550899506, 0.02509205974638462, 0.08290401846170425, 0.020726004615426064, 0.8186771869659424, 0.03108900785446167, 0.04145200923085213, 0.050203923135995865, 0.012550980783998966, 0.8283647298812866, 0.06275490671396255, 0.04392843320965767, 0.05881544202566147, 0.047052353620529175, 0.7866565585136414, 0.07204891741275787, 0.03528926521539688, 0.0754576176404953, 0.02515253983438015, 0.8174575567245483, 0.0503050796687603, 0.02515253983438015, 0.09494026750326157, 0.04399670660495758, 0.6970005035400391, 0.11693862080574036, 0.04747013375163078, 0.05889473482966423, 0.03786090016365051, 0.8034924864768982, 0.07572180032730103, 0.025240600109100342, 0.06373792141675949, 0.023901719599962234, 0.8285929560661316, 0.053114935755729675, 0.02921321429312229, 0.04152610898017883, 0.043711692094802856, 0.7452843189239502, 0.11365039646625519, 0.056825198233127594, 0.10266171395778656, 0.028203768655657768, 0.7163757085800171, 0.09250836074352264, 0.059791989624500275, 0.06570747494697571, 0.016426868736743927, 0.8049165606498718, 0.06570747494697571, 0.032853737473487854, 0.04936086758971214, 0.0341729074716568, 0.7897738814353943, 0.08733076602220535, 0.04176688939332962, 0.04794098064303398, 0.033189911395311356, 0.845420777797699, 0.055316515266895294, 0.01843883842229843, 0.06032251939177513, 0.06909670680761337, 0.7677411437034607, 0.06251606345176697, 0.03948383033275604, 0.06112493574619293, 0.7946241497993469, 0.06112493574619293, 0.06112493574619293, 0.06243496015667915, 0.08740894496440887, 0.741727352142334, 0.06243496015667915, 0.04495317116379738, 0.05940297991037369, 0.04578375816345215, 0.775136411190033, 0.08403348177671432, 0.035931557416915894, 0.10753554105758667, 0.01593119092285633, 0.7666885852813721, 0.07368176430463791, 0.035845182836055756, 0.08062197268009186, 0.043766215443611145, 0.7440256476402283, 0.09674637019634247, 0.03224879130721092, 0.08213717490434647, 0.05263720080256462, 0.7351855039596558, 0.09370578825473785, 0.03586271032691002, 0.07864583283662796, 0.04825993999838829, 0.7060250639915466, 0.11796874552965164, 0.051834750920534134, 0.08097230643033981, 0.0864311158657074, 0.7278409600257874, 0.0609566792845726, 0.044580258429050446, 0.05922497808933258, 0.06833650916814804, 0.7972593307495117, 0.036446139216423035, 0.031890373677015305, 0.05435824766755104, 0.026444552466273308, 0.8565096855163574, 0.052889104932546616, 0.011753134429454803, 0.08205602318048477, 0.05211666598916054, 0.6786255240440369, 0.13084609806537628, 0.057660989463329315, 0.04670066013932228, 0.018878990784287453, 0.8435928225517273, 0.07054780423641205, 0.019872622564435005, 0.20495617389678955, 0.35740673542022705, 0.24364453554153442, 0.07829786837100983, 0.11560449749231339, 0.8466506004333496, 0.02635488286614418, 0.029649242758750916, 0.03953232243657112, 0.05929848551750183, 0.022126203402876854, 0.022126203402876854, 0.04425240680575371, 0.796543300151825, 0.11063101887702942, 0.028071103617548943, 0.08421331644058228, 0.056142207235097885, 0.842133104801178, 0.8429786562919617, 0.030106380581855774, 0.06021276116371155, 0.030106380581855774, 0.06021276116371155, 0.8431935906410217, 0.09919924288988113, 0.04959962144494057, 0.8131797909736633, 0.059356190264225006, 0.047484952956438065, 0.03561371564865112, 0.047484952956438065, 0.19519364833831787, 0.08872438967227936, 0.6423645615577698, 0.023068340495228767, 0.0514601469039917, 0.22431911528110504, 0.06700441241264343, 0.11750049144029617, 0.017479412257671356, 0.5729362368583679, 0.9078826904296875, 0.06484876573085785, 0.459479957818985, 0.09863438457250595, 0.05322350189089775, 0.05957125872373581, 0.32910680770874023, 0.8901919722557068, 0.035607680678367615, 0.07121536135673523, 0.035607680678367615, 0.018207062035799026, 0.9285601377487183, 0.05462118610739708, 0.902610719203949, 0.050145041197538376, 0.07402639091014862, 0.018506597727537155, 0.8698101043701172, 0.018506597727537155, 0.018506597727537155, 0.054888445883989334, 0.8782151341438293, 0.054888445883989334, 0.054888445883989334, 0.014373666606843472, 0.9199146628379822, 0.04312099888920784, 0.014373666606843472, 0.7868516445159912, 0.038487307727336884, 0.11973828822374344, 0.04276367649435997, 0.012829102575778961, 0.917334258556366, 0.0917334258556366, 0.8643414974212646, 0.03799303248524666, 0.041159119457006454, 0.009498258121311665, 0.04432520642876625, 0.8158544301986694, 0.034231655299663544, 0.051347482949495316, 0.02852637879550457, 0.07416858524084091, 0.8117584586143494, 0.01887810416519642, 0.03775620833039284, 0.01887810416519642, 0.11326862871646881, 0.8719042539596558, 0.03170560672879219, 0.03170560672879219, 0.009511682204902172, 0.05389953404664993, 0.8974484801292419, 0.02736123465001583, 0.021888988092541695, 0.005472247023135424, 0.04377797618508339, 0.3249416649341583, 0.08530917018651962, 0.16271047294139862, 0.11382544040679932, 0.3131996691226959], \"Term\": [\"Activation\", \"Activation\", \"Activation\", \"Activation\", \"Activation\", \"Adam\", \"Adam\", \"Adam\", \"Adam\", \"Adam\", \"Array\", \"Array\", \"Array\", \"Array\", \"BatchNormalization\", \"BatchNormalization\", \"BatchNormalization\", \"BatchNormalization\", \"BatchNormalization\", \"Button\", \"Button\", \"Button\", \"Button\", \"Button\", \"ClassificationReport.fit\", \"ClassificationReport.fit\", \"ClassificationReport.fit\", \"ClassificationReport.poof\", \"ClassificationReport.poof\", \"ClassificationReport.poof\", \"ClassificationReport.score\", \"ClassificationReport.score\", \"ClassificationReport.score\", \"Column\", \"Column\", \"Column\", \"Column\", \"Column\", \"Conv2D\", \"Conv2D\", \"Conv2D\", \"Conv2D\", \"Conv2D\", \"Convolution2D\", \"Convolution2D\", \"Convolution2D\", \"Convolution2D\", \"Convolution2D\", \"Dense\", \"Dense\", \"Dense\", \"Dense\", \"Dense\", \"DoubleType\", \"DoubleType\", \"DoubleType\", \"DoubleType\", \"Dropout\", \"Dropout\", \"Dropout\", \"Dropout\", \"Dropout\", \"Figure\", \"Figure\", \"Figure\", \"Figure\", \"Figure\", \"Flatten\", \"Flatten\", \"Flatten\", \"Flatten\", \"Flatten\", \"HBox\", \"HBox\", \"HBox\", \"HBox\", \"HBox\", \"HTML\", \"HTML\", \"HTML\", \"HTML\", \"HTML\", \"Image\", \"Image\", \"Image\", \"Image\", \"Image\", \"Javascript\", \"Javascript\", \"Javascript\", \"Javascript\", \"Javascript\", \"KernelDensity\", \"KernelDensity\", \"KernelDensity\", \"KernelDensity\", \"KernelDensity\", \"Layout\", \"Layout\", \"Layout\", \"Layout\", \"Layout\", \"Markdown\", \"Markdown\", \"Markdown\", \"Markdown\", \"Markdown\", \"MaxPooling2D\", \"MaxPooling2D\", \"MaxPooling2D\", \"MaxPooling2D\", \"MaxPooling2D\", \"Model.compile\", \"Model.compile\", \"Model.compile\", \"Model.compile\", \"Model.compile\", \"Model.fit\", \"Model.fit\", \"Model.fit\", \"Model.fit\", \"Model.fit\", \"Node\", \"Node\", \"Node\", \"Node\", \"Node\", \"Normal\", \"Normal\", \"Normal\", \"Normal\", \"Normal\", \"Print\", \"Print\", \"Print\", \"Print\", \"Print\", \"RandomForestClassifier\", \"RandomForestClassifier\", \"RandomForestClassifier\", \"RandomForestClassifier\", \"RandomForestClassifier\", \"Rank2D\", \"Rank2D\", \"Rank2D\", \"Rank2D.fit\", \"Rank2D.fit\", \"Rank2D.fit\", \"Rank2D.fit\", \"Rank2D.poof\", \"Rank2D.poof\", \"Rank2D.poof\", \"Rank2D.poof\", \"Rank2D.transform\", \"Rank2D.transform\", \"Rank2D.transform\", \"Rectangle\", \"Rectangle\", \"Rectangle\", \"Rectangle\", \"Rectangle\", \"Sequential\", \"Sequential\", \"Sequential\", \"Sequential\", \"Sequential\", \"Sequential.add\", \"Sequential.add\", \"Sequential.add\", \"Sequential.add\", \"Sequential.add\", \"Sequential.compile\", \"Sequential.compile\", \"Sequential.compile\", \"Sequential.compile\", \"Sequential.compile\", \"Sequential.evaluate\", \"Sequential.evaluate\", \"Sequential.evaluate\", \"Sequential.evaluate\", \"Sequential.evaluate\", \"Sequential.fit\", \"Sequential.fit\", \"Sequential.fit\", \"Sequential.fit\", \"Sequential.fit\", \"Sequential.fit_generator\", \"Sequential.fit_generator\", \"Sequential.fit_generator\", \"Sequential.fit_generator\", \"Sequential.fit_generator\", \"Sequential.predict\", \"Sequential.predict\", \"Sequential.predict\", \"Sequential.predict\", \"Sequential.predict\", \"StructField\", \"StructField\", \"StructField\", \"StructField\", \"StructField\", \"StructType\", \"StructType\", \"StructType\", \"StructType\", \"Table.read\", \"Table.read\", \"Table.read\", \"Table.read\", \"Table.read\", \"Uniform\", \"Uniform\", \"Uniform\", \"Uniform\", \"VBox\", \"VBox\", \"VBox\", \"VBox\", \"VBox\", \"Variable\", \"Variable\", \"Variable\", \"Variable\", \"Variable\", \"Vector\", \"Vector\", \"Vector\", \"Vector\", \"VideoFileClip\", \"VideoFileClip\", \"VideoFileClip\", \"VideoFileClip\", \"abs\", \"abs\", \"abs\", \"abs\", \"abs\", \"add\", \"add\", \"add\", \"add\", \"add\", \"addEdge\", \"addEdge\", \"addEdge\", \"assert_equal\", \"assert_equal\", \"assert_equal\", \"assert_equal\", \"assert_equal\", \"augment_features\", \"augment_features\", \"augment_features\", \"augment_features\", \"augment_features\", \"augment_features_gradient\", \"augment_features_gradient\", \"augment_features_gradient\", \"augment_features_gradient\", \"augment_features_gradient\", \"bar\", \"bar\", \"bar\", \"bar\", \"bar\", \"bias_variable\", \"bias_variable\", \"bias_variable\", \"bias_variable\", \"bias_variable\", \"box\", \"box\", \"box\", \"box\", \"change\", \"change\", \"compile\", \"compile\", \"compile\", \"compile\", \"compile\", \"compute_sum\", \"compute_sum\", \"compute_sum\", \"connect\", \"connect\", \"connect\", \"connect\", \"connect\", \"conv2d_maxpool\", \"conv2d_maxpool\", \"conv2d_maxpool\", \"conv2d_maxpool\", \"conv2d_maxpool\", \"conv_layer\", \"conv_layer\", \"conv_layer\", \"conv_layer\", \"conv_layer\", \"conv_layer.as_list\", \"conv_layer.as_list\", \"conv_layer.as_list\", \"conv_layer.as_list\", \"conv_layer.as_list\", \"conv_layer.get_shape\", \"conv_layer.get_shape\", \"conv_layer.get_shape\", \"conv_layer.get_shape\", \"conv_layer.get_shape\", \"copy.deepcopy\", \"copy.deepcopy\", \"copy.deepcopy\", \"copy.deepcopy\", \"copy.deepcopy\", \"cos\", \"cos\", \"cos\", \"cos\", \"cos\", \"create\", \"create\", \"create\", \"create\", \"create\", \"css_styling\", \"css_styling\", \"css_styling\", \"css_styling\", \"css_styling\", \"csv_to_numpy_array\", \"csv_to_numpy_array\", \"csv_to_numpy_array\", \"csv_to_numpy_array\", \"date\", \"date\", \"date\", \"date\", \"date\", \"datetime.datetime\", \"datetime.datetime\", \"datetime.datetime\", \"datetime.datetime\", \"datetime.datetime\", \"decoding_layer_infer\", \"decoding_layer_infer\", \"decoding_layer_infer\", \"decoding_layer_infer\", \"decoding_layer_infer\", \"decoding_layer_train\", \"decoding_layer_train\", \"decoding_layer_train\", \"decoding_layer_train\", \"decoding_layer_train\", \"dict\", \"dict\", \"dict\", \"dict\", \"dict\", \"discriminator\", \"discriminator\", \"discriminator\", \"discriminator\", \"discriminator\", \"display\", \"display\", \"display\", \"display\", \"display\", \"endswith\", \"endswith\", \"endswith\", \"endswith\", \"endswith\", \"enumerate\", \"enumerate\", \"enumerate\", \"enumerate\", \"enumerate\", \"execute\", \"execute\", \"execute\", \"execute\", \"execute\", \"exists\", \"exists\", \"exists\", \"exists\", \"fit\", \"fit\", \"fit\", \"fit\", \"fit\", \"fit_generator\", \"fit_generator\", \"fit_generator\", \"fit_generator\", \"fit_generator\", \"fit_transform\", \"fit_transform\", \"fit_transform\", \"fit_transform\", \"fit_transform\", \"float\", \"float\", \"float\", \"float\", \"float\", \"folium.GeoJson\", \"folium.GeoJson\", \"folium.GeoJson\", \"folium.GeoJson\", \"folium.GeoJson\", \"folium.LayerControl\", \"folium.LayerControl\", \"folium.LayerControl\", \"folium.LayerControl\", \"folium.LayerControl\", \"folium.Map\", \"folium.Map\", \"folium.Map\", \"folium.Map\", \"folium.Map\", \"folium.Map.save\", \"folium.Map.save\", \"folium.Map.save\", \"folium.Map.save\", \"folium.Map.save\", \"folium.Marker\", \"folium.Marker\", \"folium.Marker\", \"folium.Marker\", \"folium.Marker\", \"folium.add_to\", \"folium.add_to\", \"folium.add_to\", \"folium.add_to\", \"folium.add_to\", \"fully_conn\", \"fully_conn\", \"fully_conn\", \"fully_conn\", \"fully_conn\", \"fully_connected.as_list\", \"fully_connected.as_list\", \"fully_connected.as_list\", \"fully_connected.as_list\", \"fully_connected.as_list\", \"fully_connected.get_shape\", \"fully_connected.get_shape\", \"fully_connected.get_shape\", \"fully_connected.get_shape\", \"fully_connected.get_shape\", \"game_over\", \"game_over\", \"game_over\", \"getSparsifiedGraph\", \"getSparsifiedGraph\", \"getSparsifiedGraph\", \"getSparsifiedGraphOfSize\", \"getSparsifiedGraphOfSize\", \"getSparsifiedGraphOfSize\", \"get_ch_table\", \"get_ch_table\", \"get_pricing\", \"get_pricing\", \"get_pricing\", \"get_pricing\", \"get_pricing\", \"grade\", \"grade\", \"grade\", \"grade\", \"grade\", \"grid\", \"grid\", \"grid\", \"grid\", \"grid\", \"groupBy\", \"groupBy\", \"groupBy\", \"groupBy\", \"groupBy\", \"groupby\", \"groupby\", \"groupby\", \"groupby\", \"groupby\", \"guess_game\", \"guess_game\", \"h2o.import_file\", \"h2o.import_file\", \"h2o.import_file\", \"h2o.init\", \"h2o.init\", \"head\", \"head\", \"head\", \"head\", \"head\", \"healpy.mollview\", \"healpy.mollview\", \"healpy.mollview\", \"healpy.mollview\", \"healpy.mollview\", \"help\", \"help\", \"help\", \"help\", \"help\", \"imshow\", \"imshow\", \"imshow\", \"imshow\", \"imshow\", \"indexEdges\", \"indexEdges\", \"indexEdges\", \"input\", \"input\", \"input\", \"input\", \"input\", \"input.endswith\", \"input.endswith\", \"input.endswith\", \"int\", \"int\", \"int\", \"int\", \"int\", \"interact\", \"interact\", \"interact\", \"interact\", \"interact\", \"ipywidgets.Text\", \"ipywidgets.Text\", \"ipywidgets.Text\", \"ipywidgets.Text\", \"ipywidgets.Text\", \"isDirected\", \"isDirected\", \"join\", \"join\", \"join\", \"join\", \"join\", \"json.dumps\", \"json.dumps\", \"json.dumps\", \"json.dumps\", \"json.dumps\", \"latex\", \"latex\", \"latex\", \"latex\", \"latex\", \"legend\", \"legend\", \"legend\", \"legend\", \"legend\", \"list\", \"list\", \"list\", \"list\", \"list\", \"lose\", \"lose\", \"lose\", \"lose\", \"map\", \"map\", \"map\", \"map\", \"map\", \"math.radians\", \"math.radians\", \"math.radians\", \"math.radians\", \"math.radians\", \"matplotlib.pylab.figure\", \"matplotlib.pylab.figure\", \"matplotlib.pylab.figure\", \"matplotlib.pylab.figure\", \"matplotlib.pylab.figure\", \"matplotlib.pylab.legend\", \"matplotlib.pylab.legend\", \"matplotlib.pylab.legend\", \"matplotlib.pylab.legend\", \"matplotlib.pylab.legend\", \"matplotlib.pylab.plot\", \"matplotlib.pylab.plot\", \"matplotlib.pylab.plot\", \"matplotlib.pylab.plot\", \"matplotlib.pylab.plot\", \"matplotlib.pylab.show\", \"matplotlib.pylab.show\", \"matplotlib.pylab.show\", \"matplotlib.pylab.show\", \"matplotlib.pylab.show\", \"matplotlib.pylab.subplot\", \"matplotlib.pylab.subplot\", \"matplotlib.pylab.subplot\", \"matplotlib.pylab.subplot\", \"matplotlib.pylab.subplot\", \"matplotlib.pylab.title\", \"matplotlib.pylab.title\", \"matplotlib.pylab.title\", \"matplotlib.pylab.title\", \"matplotlib.pylab.title\", \"matplotlib.pylab.xlabel\", \"matplotlib.pylab.xlabel\", \"matplotlib.pylab.xlabel\", \"matplotlib.pylab.xlabel\", \"matplotlib.pylab.xlabel\", \"matplotlib.pylab.xlim\", \"matplotlib.pylab.xlim\", \"matplotlib.pylab.xlim\", \"matplotlib.pylab.xlim\", \"matplotlib.pylab.xlim\", \"matplotlib.pylab.ylabel\", \"matplotlib.pylab.ylabel\", \"matplotlib.pylab.ylabel\", \"matplotlib.pylab.ylabel\", \"matplotlib.pylab.ylabel\", \"max\", \"max\", \"max\", \"max\", \"max\", \"medfilt\", \"medfilt\", \"medfilt\", \"medfilt\", \"medfilt\", \"menu\", \"menu\", \"menu\", \"menu\", \"min\", \"min\", \"min\", \"min\", \"min\", \"misc.imread\", \"misc.imread\", \"misc.imread\", \"misc.imread\", \"misc.imread\", \"mxnet.cpu\", \"mxnet.cpu\", \"numpy.abs\", \"numpy.abs\", \"numpy.abs\", \"numpy.abs\", \"numpy.abs\", \"numpy.amax\", \"numpy.amax\", \"numpy.amax\", \"numpy.amax\", \"numpy.amax\", \"numpy.append\", \"numpy.append\", \"numpy.append\", \"numpy.append\", \"numpy.append\", \"numpy.arange\", \"numpy.arange\", \"numpy.arange\", \"numpy.arange\", \"numpy.arange\", \"numpy.array\", \"numpy.array\", \"numpy.array\", \"numpy.array\", \"numpy.array\", \"numpy.asarray\", \"numpy.asarray\", \"numpy.asarray\", \"numpy.asarray\", \"numpy.asarray\", \"numpy.cos\", \"numpy.cos\", \"numpy.cos\", \"numpy.cos\", \"numpy.cos\", \"numpy.dot\", \"numpy.dot\", \"numpy.dot\", \"numpy.dot\", \"numpy.dot\", \"numpy.exp\", \"numpy.exp\", \"numpy.exp\", \"numpy.exp\", \"numpy.exp\", \"numpy.linspace\", \"numpy.linspace\", \"numpy.linspace\", \"numpy.linspace\", \"numpy.linspace\", \"numpy.load\", \"numpy.load\", \"numpy.load\", \"numpy.load\", \"numpy.load\", \"numpy.loadtxt\", \"numpy.loadtxt\", \"numpy.loadtxt\", \"numpy.loadtxt\", \"numpy.loadtxt\", \"numpy.log10\", \"numpy.log10\", \"numpy.log10\", \"numpy.log10\", \"numpy.log10\", \"numpy.max\", \"numpy.max\", \"numpy.max\", \"numpy.max\", \"numpy.max\", \"numpy.mean\", \"numpy.mean\", \"numpy.mean\", \"numpy.mean\", \"numpy.mean\", \"numpy.ones\", \"numpy.ones\", \"numpy.ones\", \"numpy.ones\", \"numpy.ones\", \"numpy.rad2deg\", \"numpy.rad2deg\", \"numpy.rad2deg\", \"numpy.rad2deg\", \"numpy.reshape\", \"numpy.reshape\", \"numpy.reshape\", \"numpy.reshape\", \"numpy.reshape\", \"numpy.sin\", \"numpy.sin\", \"numpy.sin\", \"numpy.sin\", \"numpy.sin\", \"numpy.sqrt\", \"numpy.sqrt\", \"numpy.sqrt\", \"numpy.sqrt\", \"numpy.sqrt\", \"numpy.std\", \"numpy.std\", \"numpy.std\", \"numpy.std\", \"numpy.std\", \"numpy.sum\", \"numpy.sum\", \"numpy.sum\", \"numpy.sum\", \"numpy.sum\", \"numpy.unique\", \"numpy.unique\", \"numpy.unique\", \"numpy.unique\", \"numpy.unique\", \"numpy.where\", \"numpy.where\", \"numpy.where\", \"numpy.where\", \"numpy.where\", \"numpy.zeros\", \"numpy.zeros\", \"numpy.zeros\", \"numpy.zeros\", \"numpy.zeros\", \"open\", \"open\", \"open\", \"open\", \"open\", \"pandas.DataFrame\", \"pandas.DataFrame\", \"pandas.DataFrame\", \"pandas.DataFrame\", \"pandas.DataFrame\", \"pandas.DataFrame.groupby\", \"pandas.DataFrame.groupby\", \"pandas.DataFrame.groupby\", \"pandas.DataFrame.groupby\", \"pandas.DataFrame.groupby\", \"pandas.DataFrame.head\", \"pandas.DataFrame.head\", \"pandas.DataFrame.head\", \"pandas.DataFrame.head\", \"pandas.DataFrame.head\", \"pandas.DatetimeIndex\", \"pandas.DatetimeIndex\", \"pandas.DatetimeIndex\", \"pandas.DatetimeIndex\", \"pandas.DatetimeIndex\", \"pandas.Series\", \"pandas.Series\", \"pandas.Series\", \"pandas.Series\", \"pandas.Series\", \"pandas.Timestamp\", \"pandas.Timestamp\", \"pandas.Timestamp\", \"pandas.Timestamp\", \"pandas.Timestamp\", \"pandas.concat\", \"pandas.concat\", \"pandas.concat\", \"pandas.concat\", \"pandas.concat\", \"pandas.drop\", \"pandas.drop\", \"pandas.drop\", \"pandas.drop\", \"pandas.drop\", \"pandas.duplicated\", \"pandas.duplicated\", \"pandas.duplicated\", \"pandas.duplicated\", \"pandas.duplicated\", \"pandas.groupby\", \"pandas.groupby\", \"pandas.groupby\", \"pandas.groupby\", \"pandas.groupby\", \"pandas.head\", \"pandas.head\", \"pandas.head\", \"pandas.head\", \"pandas.head\", \"pandas.merge\", \"pandas.merge\", \"pandas.merge\", \"pandas.merge\", \"pandas.merge\", \"pandas.plot\", \"pandas.plot\", \"pandas.plot\", \"pandas.plot\", \"pandas.plot\", \"pandas.read_csv\", \"pandas.read_csv\", \"pandas.read_csv\", \"pandas.read_csv\", \"pandas.read_csv\", \"pandas.read_excel\", \"pandas.read_excel\", \"pandas.read_excel\", \"pandas.read_excel\", \"pandas.read_excel\", \"pandas.read_sql_query\", \"pandas.read_sql_query\", \"pandas.read_sql_query\", \"pandas.read_sql_query\", \"pandas.read_sql_query\", \"pandas.rename\", \"pandas.rename\", \"pandas.rename\", \"pandas.rename\", \"pandas.rename\", \"pandas.reset_index\", \"pandas.reset_index\", \"pandas.reset_index\", \"pandas.reset_index\", \"pandas.reset_index\", \"pandas.set_index\", \"pandas.set_index\", \"pandas.set_index\", \"pandas.set_index\", \"pandas.set_index\", \"pandas.stack\", \"pandas.stack\", \"pandas.stack\", \"pandas.stack\", \"pandas.stack\", \"pandas.to_datetime\", \"pandas.to_datetime\", \"pandas.to_datetime\", \"pandas.to_datetime\", \"pandas.to_datetime\", \"pandas.to_pickle\", \"pandas.to_pickle\", \"pandas.to_pickle\", \"pandas.to_pickle\", \"pandas.to_pickle\", \"parameterize\", \"parameterize\", \"parameterize\", \"plalindrome\", \"plalindrome\", \"platform.system\", \"platform.system\", \"platform.system\", \"platform.system\", \"platform.system\", \"plot\", \"plot\", \"plot\", \"plot\", \"plot\", \"plotly.graph_objs.Bar\", \"plotly.graph_objs.Bar\", \"plotly.graph_objs.Bar\", \"plotly.graph_objs.Bar\", \"plotly.graph_objs.Bar\", \"poof\", \"poof\", \"poof\", \"poof\", \"poof\", \"predict\", \"predict\", \"predict\", \"predict\", \"predict\", \"preprocessing.RobustScaler.transform\", \"preprocessing.RobustScaler.transform\", \"preprocessing.RobustScaler.transform\", \"preprocessing.RobustScaler.transform\", \"preprocessing.RobustScaler.transform\", \"process_decoding_input\", \"process_decoding_input\", \"process_decoding_input\", \"process_decoding_input\", \"process_decoding_input\", \"pylab.xlabel\", \"pylab.xlabel\", \"pylab.xlabel\", \"pylab.xlabel\", \"pylab.xlabel\", \"pylab.ylabel\", \"pylab.ylabel\", \"pylab.ylabel\", \"pylab.ylabel\", \"pylab.ylabel\", \"pymc.Normal\", \"pymc.Normal\", \"pymc.Normal\", \"pymc.Normal\", \"pymc.Normal\", \"pymc3.Deterministic\", \"pymc3.Deterministic\", \"pymc3.Deterministic\", \"pymc3.Deterministic\", \"pymc3.Deterministic\", \"pymc3.Normal\", \"pymc3.Normal\", \"pymc3.Normal\", \"pymc3.Normal\", \"pymc3.Normal\", \"pymc3.sample\", \"pymc3.sample\", \"pymc3.sample\", \"pymc3.sample\", \"pymc3.sample\", \"pyplot.contour\", \"pyplot.contour\", \"pyplot.contour\", \"pyplot.contour\", \"pyplot.contour\", \"pyplot.contourf\", \"pyplot.contourf\", \"pyplot.contourf\", \"pyplot.contourf\", \"pyplot.contourf\", \"pyplot.figure\", \"pyplot.figure\", \"pyplot.figure\", \"pyplot.figure\", \"pyplot.figure\", \"pyplot.grid\", \"pyplot.grid\", \"pyplot.grid\", \"pyplot.grid\", \"pyplot.grid\", \"pyplot.imshow\", \"pyplot.imshow\", \"pyplot.imshow\", \"pyplot.imshow\", \"pyplot.imshow\", \"pyplot.legend\", \"pyplot.legend\", \"pyplot.legend\", \"pyplot.legend\", \"pyplot.legend\", \"pyplot.loglog\", \"pyplot.loglog\", \"pyplot.loglog\", \"pyplot.loglog\", \"pyplot.loglog\", \"pyplot.plot\", \"pyplot.plot\", \"pyplot.plot\", \"pyplot.plot\", \"pyplot.plot\", \"pyplot.show\", \"pyplot.show\", \"pyplot.show\", \"pyplot.show\", \"pyplot.show\", \"pyplot.subplot\", \"pyplot.subplot\", \"pyplot.subplot\", \"pyplot.subplot\", \"pyplot.subplot\", \"pyplot.suptitle\", \"pyplot.suptitle\", \"pyplot.suptitle\", \"pyplot.suptitle\", \"pyplot.suptitle\", \"pyplot.title\", \"pyplot.title\", \"pyplot.title\", \"pyplot.title\", \"pyplot.title\", \"pyplot.xlabel\", \"pyplot.xlabel\", \"pyplot.xlabel\", \"pyplot.xlabel\", \"pyplot.xlabel\", \"pyplot.xticks\", \"pyplot.xticks\", \"pyplot.xticks\", \"pyplot.xticks\", \"pyplot.xticks\", \"pyplot.ylabel\", \"pyplot.ylabel\", \"pyplot.ylabel\", \"pyplot.ylabel\", \"pyplot.ylabel\", \"pyplot.ylim\", \"pyplot.ylim\", \"pyplot.ylim\", \"pyplot.ylim\", \"pyplot.ylim\", \"pyplot.yticks\", \"pyplot.yticks\", \"pyplot.yticks\", \"pyplot.yticks\", \"pyplot.yticks\", \"random.randint\", \"random.randint\", \"random.randint\", \"random.randint\", \"random.randint\", \"randomSplit\", \"randomSplit\", \"randomSplit\", \"readGraph\", \"readGraph\", \"readGraph\", \"readGraph.indexEdges\", \"readGraph.indexEdges\", \"readGraph.indexEdges\", \"readGraph.isDirected\", \"readGraph.isDirected\", \"readGraph.size\", \"readGraph.size\", \"readGraph.size\", \"requests.get\", \"requests.get\", \"requests.get\", \"requests.get\", \"requests.get\", \"requests.json\", \"requests.json\", \"requests.json\", \"requests.json\", \"requests.json\", \"round\", \"round\", \"round\", \"round\", \"round\", \"run\", \"run\", \"run\", \"run\", \"run\", \"save_weights\", \"save_weights\", \"save_weights\", \"save_weights\", \"save_weights\", \"scipy.array\", \"scipy.array\", \"scipy.array\", \"scipy.array\", \"score\", \"score\", \"score\", \"score\", \"score\", \"scores\", \"scores\", \"scores\", \"scores\", \"set\", \"set\", \"set\", \"set\", \"set\", \"set_title\", \"set_title\", \"set_title\", \"set_title\", \"set_title\", \"set_xlabel\", \"set_xlabel\", \"set_xlabel\", \"set_xlabel\", \"set_xlabel\", \"set_xlim\", \"set_xlim\", \"set_xlim\", \"set_xlim\", \"set_xlim\", \"set_ylabel\", \"set_ylabel\", \"set_ylabel\", \"set_ylabel\", \"set_ylabel\", \"show\", \"show\", \"show\", \"show\", \"show\", \"show_doc\", \"show_doc\", \"show_doc\", \"show_instruction\", \"show_instruction\", \"show_instruction\", \"show_team\", \"show_team\", \"show_team\", \"simplify\", \"simplify\", \"simplify\", \"simplify\", \"simplify\", \"sin\", \"sin\", \"sin\", \"sin\", \"sin\", \"size\", \"size\", \"size\", \"size\", \"size\", \"sorted\", \"sorted\", \"sorted\", \"sorted\", \"sorted\", \"str\", \"str\", \"str\", \"str\", \"str\", \"subplot\", \"subplot\", \"subplot\", \"subplot\", \"subplot\", \"sum\", \"sum\", \"sum\", \"sum\", \"sum\", \"tensorflow.Graph\", \"tensorflow.Graph\", \"tensorflow.Graph\", \"tensorflow.Graph\", \"tensorflow.Graph\", \"tensorflow.Session\", \"tensorflow.Session\", \"tensorflow.Session\", \"tensorflow.Session\", \"tensorflow.Session\", \"tensorflow.Session.run\", \"tensorflow.Session.run\", \"tensorflow.Session.run\", \"tensorflow.Session.run\", \"tensorflow.Session.run\", \"tensorflow.Variable\", \"tensorflow.Variable\", \"tensorflow.Variable\", \"tensorflow.Variable\", \"tensorflow.Variable\", \"tensorflow.add\", \"tensorflow.add\", \"tensorflow.add\", \"tensorflow.add\", \"tensorflow.add\", \"tensorflow.argmax\", \"tensorflow.argmax\", \"tensorflow.argmax\", \"tensorflow.argmax\", \"tensorflow.argmax\", \"tensorflow.as_default\", \"tensorflow.as_default\", \"tensorflow.as_default\", \"tensorflow.as_default\", \"tensorflow.as_default\", \"tensorflow.as_list\", \"tensorflow.as_list\", \"tensorflow.as_list\", \"tensorflow.as_list\", \"tensorflow.as_list\", \"tensorflow.assign\", \"tensorflow.assign\", \"tensorflow.assign\", \"tensorflow.assign\", \"tensorflow.assign\", \"tensorflow.cast\", \"tensorflow.cast\", \"tensorflow.cast\", \"tensorflow.cast\", \"tensorflow.cast\", \"tensorflow.cond\", \"tensorflow.cond\", \"tensorflow.cond\", \"tensorflow.cond\", \"tensorflow.cond\", \"tensorflow.constant\", \"tensorflow.constant\", \"tensorflow.constant\", \"tensorflow.constant\", \"tensorflow.constant\", \"tensorflow.control_dependencies\", \"tensorflow.control_dependencies\", \"tensorflow.control_dependencies\", \"tensorflow.control_dependencies\", \"tensorflow.control_dependencies\", \"tensorflow.equal\", \"tensorflow.equal\", \"tensorflow.equal\", \"tensorflow.equal\", \"tensorflow.equal\", \"tensorflow.eval\", \"tensorflow.eval\", \"tensorflow.eval\", \"tensorflow.eval\", \"tensorflow.eval\", \"tensorflow.global_variables_initializer\", \"tensorflow.global_variables_initializer\", \"tensorflow.global_variables_initializer\", \"tensorflow.global_variables_initializer\", \"tensorflow.global_variables_initializer\", \"tensorflow.histogram_summary\", \"tensorflow.histogram_summary\", \"tensorflow.histogram_summary\", \"tensorflow.histogram_summary\", \"tensorflow.histogram_summary\", \"tensorflow.initialize_all_variables\", \"tensorflow.initialize_all_variables\", \"tensorflow.initialize_all_variables\", \"tensorflow.initialize_all_variables\", \"tensorflow.initialize_all_variables\", \"tensorflow.matmul\", \"tensorflow.matmul\", \"tensorflow.matmul\", \"tensorflow.matmul\", \"tensorflow.matmul\", \"tensorflow.maximum\", \"tensorflow.maximum\", \"tensorflow.maximum\", \"tensorflow.maximum\", \"tensorflow.maximum\", \"tensorflow.merge_all_summaries\", \"tensorflow.merge_all_summaries\", \"tensorflow.merge_all_summaries\", \"tensorflow.merge_all_summaries\", \"tensorflow.ones_like\", \"tensorflow.ones_like\", \"tensorflow.ones_like\", \"tensorflow.ones_like\", \"tensorflow.ones_like\", \"tensorflow.placeholder\", \"tensorflow.placeholder\", \"tensorflow.placeholder\", \"tensorflow.placeholder\", \"tensorflow.placeholder\", \"tensorflow.random_normal\", \"tensorflow.random_normal\", \"tensorflow.random_normal\", \"tensorflow.random_normal\", \"tensorflow.random_normal\", \"tensorflow.random_uniform\", \"tensorflow.random_uniform\", \"tensorflow.random_uniform\", \"tensorflow.random_uniform\", \"tensorflow.random_uniform\", \"tensorflow.reduce_mean\", \"tensorflow.reduce_mean\", \"tensorflow.reduce_mean\", \"tensorflow.reduce_mean\", \"tensorflow.reduce_mean\", \"tensorflow.reset_default_graph\", \"tensorflow.reset_default_graph\", \"tensorflow.reset_default_graph\", \"tensorflow.reset_default_graph\", \"tensorflow.reset_default_graph\", \"tensorflow.reshape\", \"tensorflow.reshape\", \"tensorflow.reshape\", \"tensorflow.reshape\", \"tensorflow.reshape\", \"tensorflow.sigmoid\", \"tensorflow.sigmoid\", \"tensorflow.sigmoid\", \"tensorflow.sigmoid\", \"tensorflow.sigmoid\", \"tensorflow.truncated_normal\", \"tensorflow.truncated_normal\", \"tensorflow.truncated_normal\", \"tensorflow.truncated_normal\", \"tensorflow.truncated_normal\", \"tensorflow.variable_scope\", \"tensorflow.variable_scope\", \"tensorflow.variable_scope\", \"tensorflow.variable_scope\", \"tensorflow.variable_scope\", \"tensorflow.zeros\", \"tensorflow.zeros\", \"tensorflow.zeros\", \"tensorflow.zeros\", \"tensorflow.zeros\", \"time.time\", \"time.time\", \"time.time\", \"time.time\", \"time.time\", \"title\", \"title\", \"title\", \"title\", \"title\", \"to_html\", \"to_html\", \"to_html\", \"to_html\", \"to_html\", \"to_pickle\", \"to_pickle\", \"to_pickle\", \"to_pickle\", \"torch.Tensor\", \"torch.Tensor\", \"torch.Tensor\", \"torch.Tensor\", \"torch.Tensor\", \"torch.unsqueeze\", \"torch.unsqueeze\", \"torch.unsqueeze\", \"torch.zeros\", \"torch.zeros\", \"torch.zeros\", \"torch.zeros\", \"torch.zeros\", \"train\", \"train\", \"train\", \"train\", \"train\", \"train_test_split\", \"train_test_split\", \"train_test_split\", \"train_test_split\", \"train_test_split\", \"triangle\", \"triangle\", \"type\", \"type\", \"type\", \"type\", \"type\", \"udf\", \"udf\", \"udf\", \"udf\", \"untar_data\", \"untar_data\", \"untar_data\", \"upperEdgeIdBound\", \"upperEdgeIdBound\", \"weight_variable\", \"weight_variable\", \"weight_variable\", \"weight_variable\", \"weight_variable\", \"welcome\", \"welcome\", \"welcome\", \"welcome\", \"win\", \"win\", \"win\", \"win\", \"withColumn\", \"withColumn\", \"withColumn\", \"withColumn\", \"withColumn\", \"xingzuo\", \"xingzuo\", \"xlabel\", \"xlabel\", \"xlabel\", \"xlabel\", \"xlabel\", \"xlim\", \"xlim\", \"xlim\", \"xlim\", \"xlim\", \"xticks\", \"xticks\", \"xticks\", \"xticks\", \"xticks\", \"ylabel\", \"ylabel\", \"ylabel\", \"ylabel\", \"ylabel\", \"ylim\", \"ylim\", \"ylim\", \"ylim\", \"ylim\", \"zip\", \"zip\", \"zip\", \"zip\", \"zip\"]}, \"R\": 30, \"lambda.step\": 0.01, \"plot.opts\": {\"xlab\": \"PC1\", \"ylab\": \"PC2\"}, \"topic.order\": [1, 2, 3, 4, 5]};\n",
       "\n",
       "function LDAvis_load_lib(url, callback){\n",
       "  var s = document.createElement('script');\n",
       "  s.src = url;\n",
       "  s.async = true;\n",
       "  s.onreadystatechange = s.onload = callback;\n",
       "  s.onerror = function(){console.warn(\"failed to load library \" + url);};\n",
       "  document.getElementsByTagName(\"head\")[0].appendChild(s);\n",
       "}\n",
       "\n",
       "if(typeof(LDAvis) !== \"undefined\"){\n",
       "   // already loaded: just create the visualization\n",
       "   !function(LDAvis){\n",
       "       new LDAvis(\"#\" + \"ldavis_el7762328363356804867515406\", ldavis_el7762328363356804867515406_data);\n",
       "   }(LDAvis);\n",
       "}else if(typeof define === \"function\" && define.amd){\n",
       "   // require.js is available: use it to load d3/LDAvis\n",
       "   require.config({paths: {d3: \"https://cdnjs.cloudflare.com/ajax/libs/d3/3.5.5/d3.min\"}});\n",
       "   require([\"d3\"], function(d3){\n",
       "      window.d3 = d3;\n",
       "      LDAvis_load_lib(\"https://cdn.rawgit.com/bmabey/pyLDAvis/files/ldavis.v1.0.0.js\", function(){\n",
       "        new LDAvis(\"#\" + \"ldavis_el7762328363356804867515406\", ldavis_el7762328363356804867515406_data);\n",
       "      });\n",
       "    });\n",
       "}else{\n",
       "    // require.js not available: dynamically load d3 & LDAvis\n",
       "    LDAvis_load_lib(\"https://cdnjs.cloudflare.com/ajax/libs/d3/3.5.5/d3.min.js\", function(){\n",
       "         LDAvis_load_lib(\"https://cdn.rawgit.com/bmabey/pyLDAvis/files/ldavis.v1.0.0.js\", function(){\n",
       "                 new LDAvis(\"#\" + \"ldavis_el7762328363356804867515406\", ldavis_el7762328363356804867515406_data);\n",
       "            })\n",
       "         });\n",
       "}\n",
       "</script>"
      ],
      "text/plain": [
       "PreparedData(topic_coordinates=              x         y  topics  cluster       Freq\n",
       "topic                                                \n",
       "0     -0.029433 -0.042551  1       1        27.417839\n",
       "1      0.140994  0.076129  2       1        15.331723\n",
       "2     -0.014527  0.047893  3       1        18.657351\n",
       "3     -0.136885  0.045512  4       1        15.496995\n",
       "4      0.039851 -0.126983  5       1        23.096090, topic_info=     Category         Freq                    Term         Total  loglift  \\\n",
       "term                                                                        \n",
       "90    Default  3335.000000  input                   3335.000000   30.0000   \n",
       "163   Default  4211.000000  add                     4211.000000   29.0000   \n",
       "563   Default  3221.000000  Sequential.add          3221.000000   28.0000   \n",
       "23    Default  8842.000000  int                     8842.000000   27.0000   \n",
       "61    Default  2776.000000  tensorflow.Variable     2776.000000   26.0000   \n",
       "70    Default  3451.000000  tensorflow.placeholder  3451.000000   25.0000   \n",
       "194   Default  2546.000000  display                 2546.000000   24.0000   \n",
       "1826  Default  1712.000000  datetime.datetime       1712.000000   23.0000   \n",
       "30    Default  2143.000000  Dense                   2143.000000   22.0000   \n",
       "353   Default  1225.000000  show_doc                1225.000000   21.0000   \n",
       "165   Default  3363.000000  pandas.head             3363.000000   20.0000   \n",
       "214   Default  5635.000000  numpy.linspace          5635.000000   19.0000   \n",
       "546   Default  1751.000000  pyplot.plot             1751.000000   18.0000   \n",
       "6     Default  6431.000000  pandas.read_csv         6431.000000   17.0000   \n",
       "17    Default  6528.000000  numpy.arange            6528.000000   16.0000   \n",
       "112   Default  5111.000000  pandas.DataFrame        5111.000000   15.0000   \n",
       "252   Default  5033.000000  fit                     5033.000000   14.0000   \n",
       "73    Default  1728.000000  tensorflow.reduce_mean  1728.000000   13.0000   \n",
       "929   Default  1443.000000  numpy.log10             1443.000000   12.0000   \n",
       "239   Default  1575.000000  tensorflow.Session      1575.000000   11.0000   \n",
       "412   Default  5198.000000  plot                    5198.000000   10.0000   \n",
       "541   Default  1084.000000  tensorflow.matmul       1084.000000   9.0000    \n",
       "349   Default  1071.000000  compile                 1071.000000   8.0000    \n",
       "83    Default  1006.000000  tensorflow.zeros        1006.000000   7.0000    \n",
       "213   Default  4511.000000  dict                    4511.000000   6.0000    \n",
       "311   Default  1122.000000  HTML                    1122.000000   5.0000    \n",
       "684   Default  819.000000   Dropout                 819.000000    4.0000    \n",
       "431   Default  764.000000   Sequential              764.000000    3.0000    \n",
       "690   Default  684.000000   Sequential.fit          684.000000    2.0000    \n",
       "24    Default  7570.000000  list                    7570.000000   1.0000    \n",
       "...       ...         ...              ...                 ...       ...    \n",
       "6     Topic5   3584.162109  pandas.read_csv         6431.853027   0.8808    \n",
       "178   Topic5   1120.443970  head                    1851.525269   0.9632    \n",
       "177   Topic5   498.587524   groupby                 724.966919    1.0912    \n",
       "164   Topic5   710.099609   pandas.drop             1124.101807   1.0062    \n",
       "185   Topic5   835.684570   pandas.concat           1404.009399   0.9467    \n",
       "252   Topic5   2389.475342  fit                     5033.494141   0.7205    \n",
       "169   Topic5   450.180725   pandas.to_datetime      697.139465    1.0282    \n",
       "274   Topic5   589.716003   train_test_split        1029.782959   0.9080    \n",
       "411   Topic5   1300.340820  predict                 2970.954590   0.6392    \n",
       "1167  Topic5   312.203522   pandas.rename           444.054565    1.1132    \n",
       "26    Topic5   1964.890381  open                    6618.538086   0.2511    \n",
       "271   Topic5   444.549927   score                   754.415039    0.9366    \n",
       "277   Topic5   387.331207   RandomForestClassifier  615.791016    1.0019    \n",
       "85    Topic5   1307.443604  zip                     4173.056641   0.3049    \n",
       "105   Topic5   1994.484009  str                     9997.703125  -0.1465    \n",
       "213   Topic5   1192.515625  dict                    4511.758301   0.1349    \n",
       "24    Topic5   1559.472534  list                    7570.374023  -0.1144    \n",
       "48    Topic5   1874.709106  numpy.array             12852.670898 -0.4596    \n",
       "214   Topic5   1146.836182  numpy.linspace          5635.489258  -0.1266    \n",
       "159   Topic5   766.842407   sum                     2352.678223   0.3445    \n",
       "58    Topic5   780.503662   set                     2638.230469   0.2476    \n",
       "223   Topic5   674.458252   type                    2047.967407   0.3548    \n",
       "23    Topic5   1122.780273  int                     8842.708984  -0.5983    \n",
       "17    Topic5   970.958313   numpy.arange            6528.596191  -0.4402    \n",
       "38    Topic5   800.179749   enumerate               5905.217285  -0.5332    \n",
       "366   Topic5   508.869812   fit_transform           1048.192139   0.7429    \n",
       "15    Topic5   544.055481   max                     2780.670654  -0.1659    \n",
       "412   Topic5   567.026733   plot                    5198.045898  -0.7501    \n",
       "141   Topic5   554.904663   numpy.mean              3896.868164  -0.4836    \n",
       "137   Topic5   537.627930   float                   3442.259033  -0.3912    \n",
       "\n",
       "      logprob  \n",
       "term           \n",
       "90    30.0000  \n",
       "163   29.0000  \n",
       "563   28.0000  \n",
       "23    27.0000  \n",
       "61    26.0000  \n",
       "70    25.0000  \n",
       "194   24.0000  \n",
       "1826  23.0000  \n",
       "30    22.0000  \n",
       "353   21.0000  \n",
       "165   20.0000  \n",
       "214   19.0000  \n",
       "546   18.0000  \n",
       "6     17.0000  \n",
       "17    16.0000  \n",
       "112   15.0000  \n",
       "252   14.0000  \n",
       "73    13.0000  \n",
       "929   12.0000  \n",
       "239   11.0000  \n",
       "412   10.0000  \n",
       "541   9.0000   \n",
       "349   8.0000   \n",
       "83    7.0000   \n",
       "213   6.0000   \n",
       "311   5.0000   \n",
       "684   4.0000   \n",
       "431   3.0000   \n",
       "690   2.0000   \n",
       "24    1.0000   \n",
       "...      ...   \n",
       "6    -3.4670   \n",
       "178  -4.6298   \n",
       "177  -5.4395   \n",
       "164  -5.0859   \n",
       "185  -4.9230   \n",
       "252  -3.8725   \n",
       "169  -5.5416   \n",
       "274  -5.2716   \n",
       "411  -4.4809   \n",
       "1167 -5.9076   \n",
       "26   -4.0681   \n",
       "271  -5.5542   \n",
       "277  -5.6920   \n",
       "85   -4.4755   \n",
       "105  -4.0531   \n",
       "213  -4.5675   \n",
       "24   -4.2992   \n",
       "48   -4.1151   \n",
       "214  -4.6065   \n",
       "159  -5.0090   \n",
       "58   -4.9913   \n",
       "223  -5.1374   \n",
       "23   -4.6277   \n",
       "17   -4.7730   \n",
       "38   -4.9665   \n",
       "366  -5.4191   \n",
       "15   -5.3522   \n",
       "412  -5.3109   \n",
       "141  -5.3325   \n",
       "137  -5.3641   \n",
       "\n",
       "[403 rows x 6 columns], token_table=      Topic      Freq                       Term\n",
       "term                                            \n",
       "453   1      0.026065  Activation               \n",
       "453   2      0.806471  Activation               \n",
       "453   3      0.119591  Activation               \n",
       "453   4      0.007666  Activation               \n",
       "453   5      0.041397  Activation               \n",
       "454   1      0.019394  Adam                     \n",
       "454   2      0.751522  Adam                     \n",
       "454   3      0.060607  Adam                     \n",
       "454   4      0.004849  Adam                     \n",
       "454   5      0.162426  Adam                     \n",
       "1749  1      0.873312  Array                    \n",
       "1749  2      0.051647  Array                    \n",
       "1749  3      0.030519  Array                    \n",
       "1749  5      0.044605  Array                    \n",
       "455   1      0.011269  BatchNormalization       \n",
       "455   2      0.766293  BatchNormalization       \n",
       "455   3      0.056345  BatchNormalization       \n",
       "455   4      0.005635  BatchNormalization       \n",
       "455   5      0.159644  BatchNormalization       \n",
       "2080  1      0.008921  Button                   \n",
       "2080  2      0.071369  Button                   \n",
       "2080  3      0.017842  Button                   \n",
       "2080  4      0.856432  Button                   \n",
       "2080  5      0.044606  Button                   \n",
       "1112  2      0.094053  ClassificationReport.fit \n",
       "1112  3      0.037621  ClassificationReport.fit \n",
       "1112  5      0.865292  ClassificationReport.fit \n",
       "1113  2      0.092607  ClassificationReport.poof\n",
       "1113  3      0.037043  ClassificationReport.poof\n",
       "1113  5      0.851984  ClassificationReport.poof\n",
       "...  ..           ...                        ...\n",
       "777   1      0.864341  xlabel                   \n",
       "777   2      0.037993  xlabel                   \n",
       "777   3      0.041159  xlabel                   \n",
       "777   4      0.009498  xlabel                   \n",
       "777   5      0.044325  xlabel                   \n",
       "954   1      0.815854  xlim                     \n",
       "954   2      0.034232  xlim                     \n",
       "954   3      0.051347  xlim                     \n",
       "954   4      0.028526  xlim                     \n",
       "954   5      0.074169  xlim                     \n",
       "778   1      0.811758  xticks                   \n",
       "778   2      0.018878  xticks                   \n",
       "778   3      0.037756  xticks                   \n",
       "778   4      0.018878  xticks                   \n",
       "778   5      0.113269  xticks                   \n",
       "779   1      0.871904  ylabel                   \n",
       "779   2      0.031706  ylabel                   \n",
       "779   3      0.031706  ylabel                   \n",
       "779   4      0.009512  ylabel                   \n",
       "779   5      0.053900  ylabel                   \n",
       "955   1      0.897448  ylim                     \n",
       "955   2      0.027361  ylim                     \n",
       "955   3      0.021889  ylim                     \n",
       "955   4      0.005472  ylim                     \n",
       "955   5      0.043778  ylim                     \n",
       "85    1      0.324942  zip                      \n",
       "85    2      0.085309  zip                      \n",
       "85    3      0.162710  zip                      \n",
       "85    4      0.113825  zip                      \n",
       "85    5      0.313200  zip                      \n",
       "\n",
       "[1445 rows x 3 columns], R=30, lambda_step=0.01, plot_opts={'xlab': 'PC1', 'ylab': 'PC2'}, topic_order=[1, 2, 3, 4, 5])"
      ]
     },
     "execution_count": 180,
     "metadata": {},
     "output_type": "execute_result"
    }
   ],
   "source": [
    "# inspect regular topics - ATTENTION: ALL TOPICS ARE SHIFTED WITH ID +1 w.r.t. GENSIM\n",
    "v_filter"
   ]
  },
  {
   "cell_type": "code",
   "execution_count": 173,
   "metadata": {
    "scrolled": false
   },
   "outputs": [
    {
     "name": "stdout",
     "output_type": "stream",
     "text": [
      "Wall time: 20min 25s\n"
     ]
    }
   ],
   "source": [
    "%%time\n",
    "cos_2 = []\n",
    "for i in range(2,20):\n",
    "    ldamodel_2 = gensim.models.ldamodel.LdaModel(corpus_2, id2word = dictionary_2, num_topics= i, passes=10, chunksize=100, update_every=0, alpha='asymmetric', random_state=1)    \n",
    "    coherence_model_lda_2 = CoherenceModel(model=ldamodel_2, texts=texts_2, dictionary=dictionary_2, coherence='c_v')\n",
    "    coherence_2 = coherence_model_lda_2.get_coherence()\n",
    "    cos_2.append(coherence_2)"
   ]
  },
  {
   "cell_type": "code",
   "execution_count": 174,
   "metadata": {
    "scrolled": false
   },
   "outputs": [
    {
     "data": {
      "image/png": "[encoded data removed]",
      "text/plain": [
       "<Figure size 432x288 with 1 Axes>"
      ]
     },
     "metadata": {
      "needs_background": "light"
     },
     "output_type": "display_data"
    }
   ],
   "source": [
    "# Show graph\n",
    "limit=20 \n",
    "start=2\n",
    "x = range(start, limit)\n",
    "plt.plot(x, cos_2)\n",
    "plt.xlabel(\"Num Topics\")\n",
    "plt.ylabel(\"Coherence score\")\n",
    "plt.legend((\"coherence_values\"), loc='best')\n",
    "plt.show()"
   ]
  },
  {
   "cell_type": "code",
   "execution_count": 175,
   "metadata": {
    "scrolled": true
   },
   "outputs": [
    {
     "data": {
      "text/plain": [
       "[0.40380381088525963,\n",
       " 0.43000805504279027,\n",
       " 0.45203708581625923,\n",
       " 0.46725190204056516,\n",
       " 0.450796544088238,\n",
       " 0.46713539682723576,\n",
       " 0.45525764195671087,\n",
       " 0.44706832454348405,\n",
       " 0.43507766199658543,\n",
       " 0.4536276181862046,\n",
       " 0.46760379934698443,\n",
       " 0.4867674334592066,\n",
       " 0.4822977762182298,\n",
       " 0.48741464075917895,\n",
       " 0.4708002776202618,\n",
       " 0.4645332468790504,\n",
       " 0.46528257077792046,\n",
       " 0.4600440036058848]"
      ]
     },
     "execution_count": 175,
     "metadata": {},
     "output_type": "execute_result"
    }
   ],
   "source": [
    "cos_2"
   ]
  }
 ],
 "metadata": {
  "kernelspec": {
   "display_name": "Python 3",
   "language": "python",
   "name": "python3"
  },
  "language_info": {
   "codemirror_mode": {
    "name": "ipython",
    "version": 3
   },
   "file_extension": ".py",
   "mimetype": "text/x-python",
   "name": "python",
   "nbconvert_exporter": "python",
   "pygments_lexer": "ipython3",
   "version": "3.6.5"
  }
 },
 "nbformat": 4,
 "nbformat_minor": 2
}
