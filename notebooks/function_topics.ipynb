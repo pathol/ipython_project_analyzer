{
 "cells": [
  {
   "cell_type": "markdown",
   "metadata": {},
   "source": [
    "# Topic Modelling of used functions\n",
    "## Function that collects all the calls"
   ]
  },
  {
   "cell_type": "code",
   "execution_count": 16,
   "metadata": {},
   "outputs": [],
   "source": [
    "import ast\n",
    "\n",
    "class CallCollector(ast.NodeVisitor):\n",
    "    def __init__(self):\n",
    "        self.calls = []\n",
    "\n",
    "    def visit_Call(self, node):\n",
    "        self.calls.append(node.func.attr)\n",
    "    \n",
    "    def get_calls(self):\n",
    "        return(self.calls) "
   ]
  },
  {
   "cell_type": "markdown",
   "metadata": {},
   "source": [
    "## Test of the function"
   ]
  },
  {
   "cell_type": "code",
   "execution_count": 15,
   "metadata": {},
   "outputs": [
    {
     "data": {
      "text/plain": [
       "['connect', 'cursor', 'execute', 'fetchall', 'DataFrame']"
      ]
     },
     "execution_count": 15,
     "metadata": {},
     "output_type": "execute_result"
    }
   ],
   "source": [
    "tree = ast.parse('''\n",
    "connection = pymysql.connect()\n",
    "with connection.cursor() as cursor:\n",
    "    sql = \"\"\n",
    "    cursor.execute(sql)\n",
    "    test = cursor.fetchall()\n",
    "    test = pd.DataFrame(test)\n",
    "''')\n",
    "cc = CallCollector()\n",
    "cc.visit(tree)\n",
    "cc.get_calls()"
   ]
  },
  {
   "cell_type": "markdown",
   "metadata": {},
   "source": [
    "## Get all the code blocks from a notebook"
   ]
  },
  {
   "cell_type": "code",
   "execution_count": 17,
   "metadata": {},
   "outputs": [],
   "source": [
    "from nbformat import reads, NO_CONVERT\n",
    "def code_extractor(jpt):\n",
    "    notebook = reads(jpt, NO_CONVERT)\n",
    "    cells = notebook.cells\n",
    "    code_cells = [c for c in cells if c.cell_type == 'code']\n",
    "    code = []\n",
    "    for cell in code_cells:\n",
    "        source = cell.source\n",
    "        code.append(source)\n",
    "    return code"
   ]
  },
  {
   "cell_type": "markdown",
   "metadata": {},
   "source": [
    "## Extract all used functions "
   ]
  },
  {
   "cell_type": "code",
   "execution_count": 31,
   "metadata": {},
   "outputs": [
    {
     "name": "stdout",
     "output_type": "stream",
     "text": [
      "Wall time: 0 ns\n"
     ]
    }
   ],
   "source": [
    "import csv\n",
    "# incresing the csv field size\n",
    "import ctypes\n",
    "csv.field_size_limit(int(ctypes.c_ulong(-1).value // 2))\n",
    "\n",
    "calls = list()\n",
    "with open('../data/jupyter_files.csv',\"r\", encoding=\"utf8\") as csvfile:\n",
    "    data = csv.DictReader(csvfile)\n",
    "    for row in data:\n",
    "        jpt = row['content']\n",
    "        try:\n",
    "            code = code_extractor(jpt)\n",
    "            for c in code:\n",
    "                tree = ast.parse(c)\n",
    "                cc = CallCollector()\n",
    "                cc.visit(tree)\n",
    "                call = cc.get_calls()\n",
    "                calls.append(call)\n",
    "        except KeyboardInterrupt:\n",
    "            break\n",
    "        except:\n",
    "            continue"
   ]
  },
  {
   "cell_type": "markdown",
   "metadata": {},
   "source": [
    "### Write the list to disk"
   ]
  },
  {
   "cell_type": "code",
   "execution_count": null,
   "metadata": {},
   "outputs": [],
   "source": [
    "import pickle\n",
    "\n",
    "with open('../data/calls', 'wb') as fp:\n",
    "    pickle.dump(calls, fp)"
   ]
  },
  {
   "cell_type": "markdown",
   "metadata": {},
   "source": [
    "### Read the list from disk"
   ]
  },
  {
   "cell_type": "code",
   "execution_count": 6,
   "metadata": {},
   "outputs": [],
   "source": [
    "import pickle\n",
    "\n",
    "with open('../data/calls', 'rb') as fp:\n",
    "    calls = pickle.load(fp)"
   ]
  },
  {
   "cell_type": "markdown",
   "metadata": {},
   "source": [
    "## Inspect the data and clean up"
   ]
  },
  {
   "cell_type": "code",
   "execution_count": 7,
   "metadata": {},
   "outputs": [
    {
     "data": {
      "text/plain": [
       "30214"
      ]
     },
     "execution_count": 7,
     "metadata": {},
     "output_type": "execute_result"
    }
   ],
   "source": [
    "len(calls)"
   ]
  },
  {
   "cell_type": "markdown",
   "metadata": {},
   "source": [
    "### Empty Blocks"
   ]
  },
  {
   "cell_type": "code",
   "execution_count": 5,
   "metadata": {},
   "outputs": [
    {
     "data": {
      "text/plain": [
       "15802"
      ]
     },
     "execution_count": 5,
     "metadata": {},
     "output_type": "execute_result"
    }
   ],
   "source": [
    "calls.count([])"
   ]
  },
  {
   "cell_type": "code",
   "execution_count": 8,
   "metadata": {},
   "outputs": [
    {
     "data": {
      "text/plain": [
       "14412"
      ]
     },
     "execution_count": 8,
     "metadata": {},
     "output_type": "execute_result"
    }
   ],
   "source": [
    "#Function to remove all occurences of a specific item\n",
    "def remove_values_from_list(the_list, val):\n",
    "    return [value for value in the_list if value != val]\n",
    "#remove all empty blocks\n",
    "new_calls = remove_values_from_list(calls, [])\n",
    "len(new_calls)"
   ]
  },
  {
   "cell_type": "markdown",
   "metadata": {},
   "source": [
    "## How many function calls are there per block?"
   ]
  },
  {
   "cell_type": "code",
   "execution_count": 7,
   "metadata": {},
   "outputs": [
    {
     "data": {
      "text/plain": [
       "count    14412.000000\n",
       "mean         1.931030\n",
       "std          2.260795\n",
       "min          1.000000\n",
       "25%          1.000000\n",
       "50%          1.000000\n",
       "75%          2.000000\n",
       "max         65.000000\n",
       "dtype: float64"
      ]
     },
     "execution_count": 7,
     "metadata": {},
     "output_type": "execute_result"
    }
   ],
   "source": [
    "import pandas as pd\n",
    "c = []\n",
    "for i in new_calls:\n",
    "    c.append(len(i))\n",
    "c = pd.Series(c)\n",
    "c.describe()"
   ]
  },
  {
   "cell_type": "code",
   "execution_count": 10,
   "metadata": {},
   "outputs": [
    {
     "data": {
      "text/plain": [
       "5161"
      ]
     },
     "execution_count": 10,
     "metadata": {},
     "output_type": "execute_result"
    }
   ],
   "source": [
    "len(c[c > 1])"
   ]
  },
  {
   "cell_type": "code",
   "execution_count": 12,
   "metadata": {},
   "outputs": [
    {
     "data": {
      "text/plain": [
       "count    5161.000000\n",
       "mean        3.599884\n",
       "std         3.151988\n",
       "min         2.000000\n",
       "25%         2.000000\n",
       "50%         3.000000\n",
       "75%         4.000000\n",
       "max        65.000000\n",
       "dtype: float64"
      ]
     },
     "execution_count": 12,
     "metadata": {},
     "output_type": "execute_result"
    }
   ],
   "source": [
    "c[c > 1].describe()"
   ]
  },
  {
   "cell_type": "markdown",
   "metadata": {},
   "source": [
    "# Topic Modelling of the functions with code blocks as a document"
   ]
  },
  {
   "cell_type": "code",
   "execution_count": 2,
   "metadata": {},
   "outputs": [
    {
     "name": "stderr",
     "output_type": "stream",
     "text": [
      "c:\\users\\patrick\\appdata\\local\\programs\\python\\python36\\lib\\site-packages\\gensim\\utils.py:1212: UserWarning: detected Windows; aliasing chunkize to chunkize_serial\n",
      "  warnings.warn(\"detected Windows; aliasing chunkize to chunkize_serial\")\n"
     ]
    }
   ],
   "source": [
    "#Import all necessary libraries\n",
    "import glob\n",
    "import pandas as pd\n",
    "import numpy as np\n",
    "\n",
    "from gensim.corpora import Dictionary, MmCorpus\n",
    "from gensim.models.ldamulticore import LdaMulticore\n",
    "\n",
    "import pyLDAvis\n",
    "import pyLDAvis.gensim\n",
    "import warnings\n",
    "warnings.filterwarnings('ignore')\n",
    "import _pickle as pickle\n",
    "\n",
    "import re\n",
    "import random\n",
    "import collections\n",
    "\n",
    "from gensim import corpora, models\n",
    "import gensim\n",
    "\n",
    "from wordcloud import WordCloud\n",
    "import matplotlib.pyplot as plt\n",
    "from scipy import stats\n",
    "\n",
    "pyLDAvis.enable_notebook()\n",
    "random.seed(1234)\n",
    "\n",
    "from sklearn.metrics.cluster import adjusted_rand_score\n",
    "pd.options.display.max_columns = None"
   ]
  },
  {
   "cell_type": "code",
   "execution_count": 9,
   "metadata": {},
   "outputs": [
    {
     "name": "stdout",
     "output_type": "stream",
     "text": [
      "Wall time: 273 ms\n"
     ]
    }
   ],
   "source": [
    "%%time\n",
    "#build gensim corpus\n",
    "texts = new_calls\n",
    "dictionary = corpora.Dictionary(texts)\n",
    "dictionary.filter_extremes(no_below=3, no_above=0.4)\n",
    "dictionary.compactify()\n",
    "corpus = [dictionary.doc2bow(text) for text in texts]"
   ]
  },
  {
   "cell_type": "code",
   "execution_count": 10,
   "metadata": {},
   "outputs": [
    {
     "data": {
      "text/plain": [
       "1176"
      ]
     },
     "execution_count": 10,
     "metadata": {},
     "output_type": "execute_result"
    }
   ],
   "source": [
    "len(dictionary)"
   ]
  },
  {
   "cell_type": "code",
   "execution_count": 11,
   "metadata": {},
   "outputs": [
    {
     "name": "stdout",
     "output_type": "stream",
     "text": [
      "Wall time: 31.9 s\n"
     ]
    }
   ],
   "source": [
    "%%time\n",
    "ldamodelnormal = gensim.models.ldamodel.LdaModel(corpus, num_topics=7, id2word = dictionary, passes=10, chunksize=100, update_every=0, alpha=1/15, random_state=1)"
   ]
  },
  {
   "cell_type": "code",
   "execution_count": 12,
   "metadata": {},
   "outputs": [],
   "source": [
    "# helper to create descriptive tables (doc-topic probabilities) and visualizations for LDA models \n",
    "def getModelResults(ldamodel, corpus, dictionary):\n",
    "    vis = pyLDAvis.gensim.prepare(ldamodel,corpus, dictionary, sort_topics=False)\n",
    "    transformed = ldamodel.get_document_topics(corpus)\n",
    "    df = pd.DataFrame.from_records([{v:k for v, k in row} for row in transformed])\n",
    "    return vis, df    "
   ]
  },
  {
   "cell_type": "code",
   "execution_count": 13,
   "metadata": {},
   "outputs": [],
   "source": [
    "# get the top topic per document into a list\n",
    "def maxTop(x):\n",
    "    mx = max(x,key=lambda item:item[1])\n",
    "    if (mx[1]>0.0):\n",
    "        return(mx[0])\n",
    "    else:\n",
    "        return 99"
   ]
  },
  {
   "cell_type": "code",
   "execution_count": 14,
   "metadata": {},
   "outputs": [
    {
     "name": "stdout",
     "output_type": "stream",
     "text": [
      "Wall time: 13.8 s\n"
     ]
    }
   ],
   "source": [
    "%%time\n",
    "# get descriptive stuff for all models\n",
    "normalv, dfnormal = getModelResults(ldamodelnormal, corpus, dictionary)"
   ]
  },
  {
   "cell_type": "code",
   "execution_count": 15,
   "metadata": {},
   "outputs": [
    {
     "data": {
      "text/plain": [
       "[(0,\n",
       "  '0.063*\"plot\" + 0.055*\"show\" + 0.028*\"ylabel\" + 0.027*\"xlabel\" + 0.022*\"append\" + 0.020*\"init\" + 0.019*\"figure\" + 0.019*\"title\"'),\n",
       " (1,\n",
       "  '0.058*\"join\" + 0.051*\"extension\" + 0.050*\"apply\" + 0.024*\"execute\" + 0.024*\"head\" + 0.018*\"Series\" + 0.017*\"basicConfig\" + 0.016*\"connect\"'),\n",
       " (2,\n",
       "  '0.042*\"count\" + 0.040*\"insert\" + 0.037*\"arange\" + 0.026*\"sqrt\" + 0.025*\"sin\" + 0.024*\"mean\" + 0.021*\"join\" + 0.020*\"cos\"'),\n",
       " (3,\n",
       "  '0.222*\"read_csv\" + 0.056*\"add\" + 0.030*\"head\" + 0.028*\"opts\" + 0.025*\"plot\" + 0.024*\"linspace\" + 0.019*\"chdir\" + 0.017*\"json\"'),\n",
       " (4,\n",
       "  '0.094*\"append\" + 0.043*\"load\" + 0.023*\"astype\" + 0.023*\"set\" + 0.022*\"run\" + 0.022*\"extension\" + 0.019*\"seed\" + 0.019*\"conv2d\"'),\n",
       " (5,\n",
       "  '0.121*\"array\" + 0.054*\"DataFrame\" + 0.030*\"placeholder\" + 0.027*\"read_csv\" + 0.027*\"Variable\" + 0.023*\"drop\" + 0.019*\"head\" + 0.018*\"append\"'),\n",
       " (6,\n",
       "  '0.102*\"head\" + 0.093*\"load_data\" + 0.043*\"reshape\" + 0.038*\"get\" + 0.035*\"split\" + 0.034*\"show\" + 0.027*\"describe\" + 0.017*\"DataFrame\"')]"
      ]
     },
     "execution_count": 15,
     "metadata": {},
     "output_type": "execute_result"
    }
   ],
   "source": [
    "#print regular topics (top word probabilities)\n",
    "ldamodelnormal.print_topics(num_words=8)"
   ]
  },
  {
   "cell_type": "code",
   "execution_count": 16,
   "metadata": {},
   "outputs": [
    {
     "data": {
      "text/html": [
       "\n",
       "<link rel=\"stylesheet\" type=\"text/css\" href=\"https://cdn.rawgit.com/bmabey/pyLDAvis/files/ldavis.v1.0.0.css\">\n",
       "\n",
       "\n",
       "<div id=\"ldavis_el77725279377787274914700\"></div>\n",
       "<script type=\"text/javascript\">\n",
       "\n",
       "var ldavis_el77725279377787274914700_data = {\"mdsDat\": {\"x\": [0.19685932012685375, 0.008355966050123247, -0.22287241898637064, -0.004286495940847492, 0.10187342134495533, -0.10473828917726583, 0.024808496582551846], \"y\": [-0.048219797136261164, -0.19788420479107188, -0.05678131453101992, 0.2163160206962029, 0.03505784702537877, 0.041923891740486836, 0.009587556996284573], \"topics\": [1, 2, 3, 4, 5, 6, 7], \"cluster\": [1, 1, 1, 1, 1, 1, 1], \"Freq\": [16.97441864013672, 12.5492525100708, 12.68783187866211, 15.472543716430664, 14.67428970336914, 13.813715934753418, 13.82795238494873]}, \"tinfo\": {\"Category\": [\"Default\", \"Default\", \"Default\", \"Default\", \"Default\", \"Default\", \"Default\", \"Default\", \"Default\", \"Default\", \"Default\", \"Default\", \"Default\", \"Default\", \"Default\", \"Default\", \"Default\", \"Default\", \"Default\", \"Default\", \"Default\", \"Default\", \"Default\", \"Default\", \"Default\", \"Default\", \"Default\", \"Default\", \"Default\", \"Default\", \"Topic1\", \"Topic1\", \"Topic1\", \"Topic1\", \"Topic1\", \"Topic1\", \"Topic1\", \"Topic1\", \"Topic1\", \"Topic1\", \"Topic1\", \"Topic1\", \"Topic1\", \"Topic1\", \"Topic1\", \"Topic1\", \"Topic1\", \"Topic1\", \"Topic1\", \"Topic1\", \"Topic1\", \"Topic1\", \"Topic1\", \"Topic1\", \"Topic1\", \"Topic1\", \"Topic1\", \"Topic1\", \"Topic1\", \"Topic1\", \"Topic1\", \"Topic1\", \"Topic1\", \"Topic1\", \"Topic1\", \"Topic1\", \"Topic1\", \"Topic1\", \"Topic1\", \"Topic1\", \"Topic1\", \"Topic1\", \"Topic1\", \"Topic1\", \"Topic1\", \"Topic1\", \"Topic1\", \"Topic1\", \"Topic1\", \"Topic1\", \"Topic1\", \"Topic1\", \"Topic1\", \"Topic1\", \"Topic1\", \"Topic1\", \"Topic1\", \"Topic1\", \"Topic1\", \"Topic1\", \"Topic1\", \"Topic1\", \"Topic2\", \"Topic2\", \"Topic2\", \"Topic2\", \"Topic2\", \"Topic2\", \"Topic2\", \"Topic2\", \"Topic2\", \"Topic2\", \"Topic2\", \"Topic2\", \"Topic2\", \"Topic2\", \"Topic2\", \"Topic2\", \"Topic2\", \"Topic2\", \"Topic2\", \"Topic2\", \"Topic2\", \"Topic2\", \"Topic2\", \"Topic2\", \"Topic2\", \"Topic2\", \"Topic2\", \"Topic2\", \"Topic2\", \"Topic2\", \"Topic2\", \"Topic2\", \"Topic2\", \"Topic2\", \"Topic2\", \"Topic2\", \"Topic2\", \"Topic2\", \"Topic2\", \"Topic2\", \"Topic2\", \"Topic2\", \"Topic2\", \"Topic2\", \"Topic2\", \"Topic2\", \"Topic2\", \"Topic2\", \"Topic2\", \"Topic2\", \"Topic2\", \"Topic2\", \"Topic2\", \"Topic2\", \"Topic2\", \"Topic2\", \"Topic2\", \"Topic2\", \"Topic2\", \"Topic2\", \"Topic2\", \"Topic2\", \"Topic2\", \"Topic2\", \"Topic3\", \"Topic3\", \"Topic3\", \"Topic3\", \"Topic3\", \"Topic3\", \"Topic3\", \"Topic3\", \"Topic3\", \"Topic3\", \"Topic3\", \"Topic3\", \"Topic3\", \"Topic3\", \"Topic3\", \"Topic3\", \"Topic3\", \"Topic3\", \"Topic3\", \"Topic3\", \"Topic3\", \"Topic3\", \"Topic3\", \"Topic3\", \"Topic3\", \"Topic3\", \"Topic3\", \"Topic3\", \"Topic3\", \"Topic3\", \"Topic3\", \"Topic3\", \"Topic3\", \"Topic3\", \"Topic3\", \"Topic3\", \"Topic3\", \"Topic3\", \"Topic3\", \"Topic3\", \"Topic3\", \"Topic3\", \"Topic3\", \"Topic3\", \"Topic3\", \"Topic3\", \"Topic3\", \"Topic3\", \"Topic3\", \"Topic3\", \"Topic3\", \"Topic3\", \"Topic3\", \"Topic3\", \"Topic3\", \"Topic3\", \"Topic3\", \"Topic3\", \"Topic3\", \"Topic3\", \"Topic3\", \"Topic4\", \"Topic4\", \"Topic4\", \"Topic4\", \"Topic4\", \"Topic4\", \"Topic4\", \"Topic4\", \"Topic4\", \"Topic4\", \"Topic4\", \"Topic4\", \"Topic4\", \"Topic4\", \"Topic4\", \"Topic4\", \"Topic4\", \"Topic4\", \"Topic4\", \"Topic4\", \"Topic4\", \"Topic4\", \"Topic4\", \"Topic4\", \"Topic4\", \"Topic4\", \"Topic4\", \"Topic4\", \"Topic4\", \"Topic4\", \"Topic4\", \"Topic4\", \"Topic4\", \"Topic4\", \"Topic4\", \"Topic4\", \"Topic4\", \"Topic4\", \"Topic4\", \"Topic4\", \"Topic4\", \"Topic4\", \"Topic4\", \"Topic4\", \"Topic4\", \"Topic4\", \"Topic4\", \"Topic4\", \"Topic4\", \"Topic4\", \"Topic4\", \"Topic4\", \"Topic4\", \"Topic4\", \"Topic5\", \"Topic5\", \"Topic5\", \"Topic5\", \"Topic5\", \"Topic5\", \"Topic5\", \"Topic5\", \"Topic5\", \"Topic5\", \"Topic5\", \"Topic5\", \"Topic5\", \"Topic5\", \"Topic5\", \"Topic5\", \"Topic5\", \"Topic5\", \"Topic5\", \"Topic5\", \"Topic5\", \"Topic5\", \"Topic5\", \"Topic5\", \"Topic5\", \"Topic5\", \"Topic5\", \"Topic5\", \"Topic5\", \"Topic5\", \"Topic5\", \"Topic5\", \"Topic5\", \"Topic5\", \"Topic5\", \"Topic5\", \"Topic5\", \"Topic5\", \"Topic5\", \"Topic5\", \"Topic5\", \"Topic5\", \"Topic5\", \"Topic5\", \"Topic5\", \"Topic5\", \"Topic5\", \"Topic5\", \"Topic5\", \"Topic5\", \"Topic5\", \"Topic5\", \"Topic5\", \"Topic5\", \"Topic5\", \"Topic5\", \"Topic5\", \"Topic5\", \"Topic5\", \"Topic5\", \"Topic5\", \"Topic5\", \"Topic5\", \"Topic6\", \"Topic6\", \"Topic6\", \"Topic6\", \"Topic6\", \"Topic6\", \"Topic6\", \"Topic6\", \"Topic6\", \"Topic6\", \"Topic6\", \"Topic6\", \"Topic6\", \"Topic6\", \"Topic6\", \"Topic6\", \"Topic6\", \"Topic6\", \"Topic6\", \"Topic6\", \"Topic6\", \"Topic6\", \"Topic6\", \"Topic6\", \"Topic6\", \"Topic6\", \"Topic6\", \"Topic6\", \"Topic6\", \"Topic6\", \"Topic6\", \"Topic6\", \"Topic6\", \"Topic6\", \"Topic6\", \"Topic6\", \"Topic6\", \"Topic6\", \"Topic6\", \"Topic6\", \"Topic6\", \"Topic6\", \"Topic6\", \"Topic6\", \"Topic6\", \"Topic6\", \"Topic6\", \"Topic6\", \"Topic6\", \"Topic6\", \"Topic6\", \"Topic6\", \"Topic6\", \"Topic6\", \"Topic6\", \"Topic6\", \"Topic6\", \"Topic6\", \"Topic7\", \"Topic7\", \"Topic7\", \"Topic7\", \"Topic7\", \"Topic7\", \"Topic7\", \"Topic7\", \"Topic7\", \"Topic7\", \"Topic7\", \"Topic7\", \"Topic7\", \"Topic7\", \"Topic7\", \"Topic7\", \"Topic7\", \"Topic7\", \"Topic7\", \"Topic7\", \"Topic7\", \"Topic7\", \"Topic7\", \"Topic7\", \"Topic7\", \"Topic7\", \"Topic7\", \"Topic7\", \"Topic7\", \"Topic7\", \"Topic7\", \"Topic7\", \"Topic7\", \"Topic7\", \"Topic7\", \"Topic7\", \"Topic7\", \"Topic7\", \"Topic7\", \"Topic7\", \"Topic7\", \"Topic7\", \"Topic7\", \"Topic7\", \"Topic7\", \"Topic7\", \"Topic7\", \"Topic7\", \"Topic7\", \"Topic7\", \"Topic7\", \"Topic7\", \"Topic7\", \"Topic7\", \"Topic7\", \"Topic7\", \"Topic7\", \"Topic7\", \"Topic7\", \"Topic7\", \"Topic7\", \"Topic7\", \"Topic7\", \"Topic7\", \"Topic7\"], \"Freq\": [1048.0, 448.0, 404.0, 585.0, 724.0, 424.0, 257.0, 177.0, 278.0, 308.0, 136.0, 173.0, 170.0, 438.0, 141.0, 325.0, 166.0, 216.0, 177.0, 126.0, 105.0, 142.0, 139.0, 130.0, 111.0, 92.0, 112.0, 98.0, 138.0, 101.0, 22.85435676574707, 21.334508895874023, 34.759395599365234, 14.117667198181152, 28.710954666137695, 14.661226272583008, 7.274509906768799, 6.34023904800415, 6.340238571166992, 20.723163604736328, 13.364750862121582, 5.308108806610107, 5.30810546875, 25.557064056396484, 16.5567626953125, 8.72002124786377, 6.892736434936523, 6.892739772796631, 6.892736911773682, 9.509496688842773, 13.68057918548584, 82.91597747802734, 4.275975227355957, 4.275651931762695, 8.477365493774414, 8.477365493774414, 5.860514163970947, 117.59606170654297, 10.061993598937988, 15.0783109664917, 113.4332504272461, 23.15039825439453, 57.707767486572266, 22.18653678894043, 53.39873504638672, 78.5260009765625, 54.16032791137695, 28.404499053955078, 17.43930435180664, 63.2196159362793, 261.2908020019531, 56.489715576171875, 23.539215087890625, 61.35764694213867, 18.058013916015625, 78.56218719482422, 227.59942626953125, 23.24563980102539, 34.64812469482422, 57.413238525390625, 26.878530502319336, 31.18229866027832, 26.841339111328125, 39.81928253173828, 25.690837860107422, 92.09581756591797, 25.14165496826172, 66.38577270507812, 38.27638244628906, 45.48189926147461, 33.340702056884766, 28.039926528930664, 14.9871826171875, 7.069422721862793, 13.0731782913208, 6.079705238342285, 8.588863372802734, 153.852783203125, 7.599175930023193, 13.607404708862305, 7.5992207527160645, 10.04113483428955, 4.100265979766846, 4.100265026092529, 4.100264549255371, 5.619657516479492, 7.139255523681641, 14.06622314453125, 18.76561737060547, 3.1105473041534424, 3.110546588897705, 3.1105458736419678, 3.1105456352233887, 3.1105456352233887, 3.1105456352233887, 3.1104087829589844, 6.149576187133789, 4.63006067276001, 9.188602447509766, 43.39058303833008, 6.1495747566223145, 9.112318992614746, 12.097515106201172, 37.078285217285156, 9.718398094177246, 13.287219047546387, 10.227019309997559, 6.6793694496154785, 38.78133010864258, 74.29084777832031, 17.16714096069336, 51.029537200927734, 41.187095642089844, 176.47979736328125, 34.4411506652832, 155.25833129882812, 54.843902587890625, 28.59214973449707, 36.116092681884766, 15.027680397033691, 21.327266693115234, 48.69263458251953, 25.121002197265625, 30.82535171508789, 31.787124633789062, 34.071170806884766, 13.426959037780762, 25.496692657470703, 34.440731048583984, 24.350238800048828, 74.06401824951172, 35.44127655029297, 28.95815086364746, 20.659515380859375, 17.761472702026367, 19.98936653137207, 129.60321044921875, 12.542222023010254, 7.377778053283691, 123.93017578125, 5.311952590942383, 7.930680751800537, 49.50968933105469, 12.135161399841309, 6.897794723510742, 12.131308555603027, 4.279110908508301, 4.279110908508301, 4.279078483581543, 4.279071807861328, 12.868728637695312, 5.864902973175049, 5.864902019500732, 16.412540435791016, 12.4688720703125, 3.2462236881256104, 3.246222734451294, 3.2462220191955566, 3.2462222576141357, 3.2462220191955566, 3.246220350265503, 12.100248336791992, 4.832015514373779, 4.832014560699463, 21.649919509887695, 4.790602684020996, 12.465805053710938, 60.31463623046875, 73.54991149902344, 80.26323699951172, 26.641387939453125, 30.49280548095703, 48.308677673339844, 115.33179473876953, 21.961702346801758, 35.92546081542969, 41.3729133605957, 59.49087142944336, 13.584127426147461, 12.128639221191406, 75.60005187988281, 27.78192901611328, 39.27529525756836, 22.705154418945312, 23.417381286621094, 27.748247146606445, 26.700218200683594, 17.494083404541016, 25.753318786621094, 65.15682983398438, 48.430572509765625, 39.50640869140625, 25.850162506103516, 18.31350326538086, 40.64431381225586, 27.619935989379883, 22.727724075317383, 7.430780410766602, 7.430780410766602, 26.787641525268555, 30.502273559570312, 47.873104095458984, 5.605677604675293, 5.605677604675293, 5.605677604675293, 5.605677604675293, 62.29545974731445, 15.7964506149292, 10.232847213745117, 10.23285961151123, 10.23285961151123, 10.23285961151123, 11.633777618408203, 6.094161510467529, 26.14305877685547, 6.094162940979004, 3.7805731296539307, 3.780571460723877, 3.7805709838867188, 9.093815803527832, 16.325504302978516, 15.772590637207031, 209.12680053710938, 28.51213836669922, 7.495204448699951, 9.588229179382324, 5.181612014770508, 834.7752685546875, 40.50063705444336, 73.2992935180664, 42.647010803222656, 36.25701141357422, 52.90354537963867, 24.86372184753418, 11.65595531463623, 18.72966766357422, 21.849624633789062, 10.284915924072266, 104.81719207763672, 19.67436981201172, 18.775541305541992, 15.213715553283691, 17.783924102783203, 91.47566223144531, 92.5367202758789, 112.1823959350586, 39.08334732055664, 26.4921932220459, 30.038774490356445, 20.419727325439453, 18.07693862915039, 50.71269607543945, 28.625537872314453, 14.737284660339355, 12.062921524047852, 153.33908081054688, 80.6661148071289, 13.110340118408203, 16.254613876342773, 3.8024415969848633, 3.8024415969848633, 3.802440643310547, 3.802440643310547, 3.802440643310547, 3.8021864891052246, 3.791276454925537, 9.865533828735352, 6.037003517150879, 19.23822593688965, 24.546218872070312, 67.27423095703125, 10.986625671386719, 6.555935382843018, 2.8846116065979004, 2.8846116065979004, 2.8846113681793213, 2.884610176086426, 2.884610176086426, 2.8846099376678467, 2.8846099376678467, 2.8846099376678467, 2.8846099376678467, 4.293753623962402, 4.293753147125244, 7.1120429039001465, 37.48548126220703, 64.2988052368164, 7.687631130218506, 21.003368377685547, 45.007041931152344, 33.32537841796875, 54.64977264404297, 25.09551239013672, 334.5058898925781, 34.86789321899414, 14.790111541748047, 82.64289855957031, 31.280338287353516, 80.04883575439453, 23.752399444580078, 14.51948070526123, 65.1463394165039, 44.441043853759766, 42.35710525512695, 69.32792663574219, 29.603513717651367, 17.165891647338867, 77.95343017578125, 51.47067642211914, 19.808433532714844, 57.82590103149414, 50.218666076660156, 37.32819366455078, 26.071718215942383, 12.679854393005371, 407.11834716796875, 15.432808876037598, 47.33743667602539, 13.597089767456055, 28.37291145324707, 5.507410526275635, 16.366676330566406, 10.922323226928711, 89.98639678955078, 4.610841274261475, 6.883889198303223, 25.910507202148438, 5.987332820892334, 5.987328052520752, 50.35813903808594, 3.7142984867095947, 3.714299201965332, 3.7141635417938232, 48.491146087646484, 5.0907793045043945, 5.0907793045043945, 5.0907793045043945, 5.090776443481445, 29.203752517700195, 55.86310958862305, 100.52064514160156, 10.095865249633789, 6.467257976531982, 6.467257976531982, 9.909309387207031, 14.991416931152344, 12.6438570022583, 19.747453689575195, 14.67287540435791, 16.747522354125977, 13.371997833251953, 181.06031799316406, 13.889817237854004, 21.631729125976562, 36.043941497802734, 78.21080017089844, 56.20356369018555, 43.52748107910156, 17.530366897583008, 12.431774139404297, 13.702218055725098, 35.00205612182617, 92.29205322265625, 62.01618957519531, 64.5027847290039, 48.59897994995117, 25.989276885986328, 35.660491943359375, 22.030696868896484, 26.817102432250977, 20.959646224975586, 18.2353515625, 9.298540115356445, 7.465102195739746, 10.706146240234375, 14.863937377929688, 10.226691246032715, 10.280120849609375, 145.0548553466797, 4.7148003578186035, 4.7148003578186035, 4.714799404144287, 6.990664005279541, 10.77086353302002, 3.7980339527130127, 3.7980337142944336, 3.7980337142944336, 3.7980337142944336, 3.7979674339294434, 7.52497673034668, 8.937332153320312, 5.205544471740723, 5.20554256439209, 5.20554256439209, 22.117902755737305, 8.020564079284668, 42.55897521972656, 2.881267786026001, 2.881267786026001, 2.881267786026001, 2.881267786026001, 2.881267786026001, 313.6397399902344, 12.243091583251953, 12.131081581115723, 2.881267786026001, 2.881267786026001, 39.5661506652832, 11.196889877319336, 89.2474594116211, 118.59480285644531, 17.447101593017578, 31.937862396240234, 126.93872833251953, 22.72720718383789, 341.969482421875, 49.44890594482422, 37.8519287109375, 20.19314956665039, 42.17048645019531, 14.834794044494629, 17.944475173950195, 20.755769729614258, 114.26227569580078, 21.115949630737305, 14.365357398986816, 55.86456298828125, 49.4041633605957, 13.590446472167969, 19.023696899414062, 20.85212516784668, 16.153398513793945, 18.852693557739258, 17.66724395751953, 17.40412139892578, 16.055688858032227, 15.373588562011719], \"Term\": [\"read_csv\", \"array\", \"load_data\", \"append\", \"head\", \"plot\", \"add\", \"apply\", \"extension\", \"join\", \"count\", \"load\", \"reshape\", \"show\", \"insert\", \"DataFrame\", \"arange\", \"get\", \"split\", \"placeholder\", \"Variable\", \"ylabel\", \"xlabel\", \"describe\", \"sqrt\", \"set\", \"execute\", \"init\", \"astype\", \"mean\", \"axvline\", \"set_params\", \"summary\", \"tensor\", \"imread\", \"pivot_table\", \"flip_left_right\", \"TH1F\", \"backward\", \"get_file\", \"resize_images\", \"xscale\", \"Veneer\", \"read_table\", \"contains\", \"EMA\", \"reset_working_block\", \"tick_params\", \"installPackage\", \"highlight_null\", \"Storage\", \"init\", \"get_sensors\", \"load_dataset\", \"any\", \"receive_simpledeal\", \"Niche\", \"ylabel\", \"plot_section\", \"ylim\", \"xlabel\", \"make\", \"set_option\", \"send\", \"legend\", \"title\", \"load_iris\", \"savefig\", \"transform\", \"fit\", \"plot\", \"read\", \"set_title\", \"imshow\", \"create_test_model\", \"figure\", \"show\", \"text\", \"setLevel\", \"copy\", \"getLogger\", \"merge\", \"axis\", \"scatter\", \"set_xlabel\", \"append\", \"set_ylabel\", \"head\", \"run\", \"linspace\", \"join\", \"split\", \"marching_cubes_lewiner\", \"create_observable\", \"read_data\", \"distance2SWM\", \"Data\", \"apply\", \"MongoClient\", \"load_accounts\", \"Reaction\", \"log10\", \"countTets\", \"packages\", \"executemany\", \"sign\", \"bucketized_column\", \"setKcst\", \"commit\", \"Raster\", \"TmComp\", \"trim\", \"from_records\", \"frequencies\", \"SpecObj\", \"interp\", \"train_perceptron\", \"form_submission\", \"applymap\", \"setup\", \"Game\", \"numeric_column\", \"getOrCreate\", \"read_excel\", \"export_to_xml\", \"set_mantle_target\", \"dataframe\", \"add_argument\", \"listdir\", \"execute\", \"from_csv\", \"basicConfig\", \"filterwarnings\", \"join\", \"cursor\", \"extension\", \"Series\", \"sample\", \"info\", \"strftime\", \"InteractiveSession\", \"connect\", \"makedirs\", \"getcwd\", \"dot\", \"fillna\", \"table\", \"max\", \"concat\", \"hist\", \"head\", \"DataFrame\", \"show\", \"describe\", \"rand\", \"arange\", \"count\", \"Tensor\", \"create_sandbox\", \"insert\", \"html\", \"thompson\", \"dense\", \"add_model\", \"Standard\", \"fromarray\", \"loadMesh\", \"find_one\", \"vectorize\", \"histogram\", \"textFile\", \"runif\", \"to_dict\", \"magic\", \"set_value_BC\", \"add_polynomial\", \"standardize\", \"activate_interactive_df\", \"run_metrics\", \"LoadLibrary\", \"setNumThreads\", \"system\", \"det\", \"neighbors\", \"cumsum\", \"add_edge\", \"sort_index\", \"cos\", \"mean\", \"sqrt\", \"dirname\", \"sub\", \"reset_index\", \"arange\", \"random\", \"Curve\", \"compile\", \"replace\", \"rollback\", \"remove\", \"sin\", \"to_numpy\", \"exists\", \"parse\", \"Image\", \"rename\", \"loadtxt\", \"read_json\", \"meshgrid\", \"join\", \"linspace\", \"load_data\", \"drop\", \"abspath\", \"read_csv\", \"DataFrame\", \"seed\", \"with_diskcache\", \"NumpyDataset\", \"add_children\", \"move_to_com\", \"display\", \"YPlane\", \"ZPlane\", \"ZCylinder\", \"XPlane\", \"json\", \"urlretrieve\", \"Arrow\", \"download_extract\", \"Cell\", \"add_cell\", \"log_prob\", \"trade\", \"all\", \"load_vistrail\", \"surface\", \"executing_eagerly\", \"insert_order\", \"generate\", \"add_nuclide\", \"start\", \"add\", \"glob\", \"Extras\", \"assert_almost_equal\", \"select_latest_version\", \"read_csv\", \"dropna\", \"chdir\", \"constant\", \"save\", \"Simulation\", \"set_printoptions\", \"initialize\", \"add_to\", \"Map\", \"Figure\", \"opts\", \"update\", \"SFrame\", \"to_frame\", \"where\", \"linspace\", \"plot\", \"head\", \"get\", \"drop\", \"show\", \"execute\", \"seed\", \"enable_eager_execution\", \"notebook_extension\", \"interpolate\", \"SReac\", \"load\", \"set\", \"valuation_mcs_european_single\", \"isnull\", \"reduceByKey\", \"to_openmm\", \"circular\", \"is_synchronized\", \"get_backend\", \"Canvas\", \"tz_convert\", \"simplify\", \"label\", \"init_printing\", \"variable_scope\", \"conv2d\", \"get_dummies\", \"call\", \"random_flip_left_right\", \"Port\", \"cancel\", \"ClientV1\", \"poisson\", \"insert_one\", \"txn\", \"load_training_metadata\", \"columninfo\", \"RapXML\", \"providers\", \"FixedLenFeature\", \"value_counts\", \"format\", \"translate\", \"import_file\", \"to_csv\", \"output\", \"read_data_sets\", \"download\", \"append\", \"map\", \"min\", \"astype\", \"uniform\", \"run\", \"read_pickle\", \"asarray\", \"sum\", \"set_index\", \"exp\", \"seed\", \"abspath\", \"defaults\", \"extension\", \"opts\", \"matrix\", \"head\", \"read_csv\", \"plot\", \"show\", \"output_plot_data\", \"array\", \"Dense\", \"reindex\", \"to_numeric\", \"predict\", \"random_normal\", \"ion\", \"parquet\", \"Variable\", \"BeautifulSoup\", \"create_group\", \"rc\", \"properties\", \"convert\", \"keys\", \"activities\", \"len\", \"mult\", \"set_verbosity\", \"LogPosterior\", \"set_max_iterations\", \"MCMCController\", \"set_credentials_file\", \"sort\", \"unique\", \"placeholder\", \"square\", \"World\", \"pad_sequences\", \"pop\", \"index\", \"block_tables\", \"concatenate\", \"name_scope\", \"fit_transform\", \"transpose\", \"DataFrame\", \"strip\", \"Model\", \"open\", \"drop\", \"zeros\", \"normal\", \"Timestamp\", \"loadmat\", \"relu\", \"astype\", \"read_csv\", \"append\", \"head\", \"load_data\", \"copy\", \"linspace\", \"concat\", \"get\", \"extension\", \"sin\", \"Node\", \"pcolormesh\", \"create_array\", \"Polygons\", \"pprint\", \"Weather\", \"reshape\", \"QA_fetch_get_stock_day\", \"enable\", \"add_mesh\", \"drop_duplicates\", \"standard\", \"LinearRegression\", \"Flow\", \"to_pandas\", \"ParquetFile\", \"ConfigParser\", \"contourf\", \"tag\", \"set_global\", \"DataPot\", \"omega\", \"context\", \"read_hdf\", \"tail\", \"BayesianRidge\", \"RANSACRegressor\", \"SGDRegressor\", \"RidgeCV\", \"TheilSenRegressor\", \"load_data\", \"get_install_path\", \"unstack\", \"LassoLars\", \"ElasticNetCV\", \"read_csv_metadata\", \"coastlines\", \"describe\", \"split\", \"datetime\", \"randint\", \"get\", \"genfromtxt\", \"head\", \"use\", \"randn\", \"matmul\", \"add_constant\", \"reload\", \"minimize\", \"to\", \"show\", \"__init__\", \"reduce_mean\", \"DataFrame\", \"append\", \"axes\", \"imshow\", \"seed\", \"zeros\", \"plot\", \"join\", \"linspace\", \"sin\", \"sum\"], \"Total\": [1048.0, 448.0, 404.0, 585.0, 724.0, 424.0, 257.0, 177.0, 278.0, 308.0, 136.0, 173.0, 170.0, 438.0, 141.0, 325.0, 166.0, 216.0, 177.0, 126.0, 105.0, 142.0, 139.0, 130.0, 111.0, 92.0, 112.0, 98.0, 138.0, 101.0, 23.66383171081543, 22.63205909729004, 36.90876007080078, 15.351208686828613, 31.64916229248047, 16.38564682006836, 8.17090892791748, 7.149714469909668, 7.149714946746826, 23.645090103149414, 15.269009590148926, 6.117582321166992, 6.11758279800415, 29.59615135192871, 19.281131744384766, 10.21666431427002, 8.118844985961914, 8.128236770629883, 8.128236770629883, 11.238823890686035, 16.21009635925293, 98.25648498535156, 5.085450172424316, 5.0854268074035645, 10.139880180358887, 10.193347930908203, 7.0867085456848145, 142.35227966308594, 12.217840194702148, 18.317724227905273, 139.12718200683594, 28.380971908569336, 72.41845703125, 27.59526824951172, 69.40443420410156, 107.12080383300781, 72.99270629882812, 37.10861587524414, 22.143375396728516, 89.83433532714844, 424.03411865234375, 80.11500549316406, 31.09950065612793, 92.15035247802734, 23.225858688354492, 124.16136169433594, 438.01373291015625, 31.135704040527344, 50.819705963134766, 102.19302368164062, 39.1036262512207, 47.927528381347656, 39.88605880737305, 72.36773681640625, 37.71493911743164, 585.0995483398438, 37.66624450683594, 724.109375, 138.33456420898438, 268.93988037109375, 308.02490234375, 177.29220581054688, 15.802715301513672, 7.884958744049072, 14.745864868164062, 6.895238876342773, 9.830984115600586, 177.2626495361328, 8.838821411132812, 15.861845970153809, 8.894388198852539, 11.823543548583984, 4.915799617767334, 4.915800094604492, 4.915799617767334, 6.91494083404541, 8.807862281799316, 17.548582077026367, 23.52359390258789, 3.9260802268981934, 3.926079750061035, 3.926079511642456, 3.9260802268981934, 3.9260799884796143, 3.9260799884796143, 3.926067352294922, 7.818145751953125, 5.925581455230713, 11.79737377166748, 55.842586517333984, 7.925081729888916, 11.815037727355957, 15.698564529418945, 49.18036651611328, 12.767706871032715, 17.88797950744629, 13.663044929504395, 8.744796752929688, 55.76195526123047, 112.02301025390625, 23.679906845092773, 77.98011016845703, 62.170005798339844, 308.02490234375, 52.006011962890625, 278.5559387207031, 91.83235168457031, 44.598079681396484, 58.72733688354492, 21.42391586303711, 33.12871551513672, 90.84149169921875, 40.85011672973633, 52.99119567871094, 56.87127685546875, 68.67365264892578, 19.344202041625977, 52.2007942199707, 91.18891143798828, 59.52772521972656, 724.109375, 325.8420104980469, 438.01373291015625, 130.84255981445312, 65.8351821899414, 166.16346740722656, 136.47503662109375, 13.351592063903809, 8.18714714050293, 141.65631103515625, 6.121366500854492, 9.199975967407227, 57.75204849243164, 14.256994247436523, 8.123793601989746, 14.329883575439453, 5.088479042053223, 5.088479042053223, 5.08847713470459, 5.088473796844482, 15.353097915649414, 7.1341962814331055, 7.1341962814331055, 20.17298126220703, 15.415806770324707, 4.05558967590332, 4.055588722229004, 4.055589199066162, 4.055589199066162, 4.055589199066162, 4.055589199066162, 15.158369064331055, 6.065447807312012, 6.067900657653809, 27.298789978027344, 6.06274938583374, 16.0771427154541, 82.45760345458984, 101.48409271240234, 111.57103729248047, 35.613059997558594, 41.258663177490234, 66.83055114746094, 166.16346740722656, 29.46771812438965, 52.654151916503906, 61.74658203125, 94.1767807006836, 18.300552368164062, 16.148666381835938, 129.41781616210938, 43.28251266479492, 65.70347595214844, 34.85472106933594, 38.386260986328125, 49.23208999633789, 47.1768798828125, 27.285987854003906, 57.11593246459961, 308.02490234375, 268.93988037109375, 404.0473937988281, 157.4529266357422, 52.911643981933594, 1048.3475341796875, 325.8420104980469, 155.7027130126953, 8.257338523864746, 8.257339477539062, 30.306442260742188, 34.739986419677734, 54.7910270690918, 6.432234287261963, 6.432234287261963, 6.432234287261963, 6.432234287261963, 71.54602813720703, 18.275707244873047, 11.902569770812988, 11.91146469116211, 11.956034660339355, 11.956033706665039, 13.739038467407227, 7.337353229522705, 31.588891983032227, 7.400356292724609, 4.6071295738220215, 4.60713005065918, 4.60713005065918, 11.116643905639648, 20.068479537963867, 19.425277709960938, 257.7746887207031, 35.15121078491211, 9.281734466552734, 11.881380081176758, 6.434687614440918, 1048.3475341796875, 50.83678436279297, 92.85357666015625, 55.0695915222168, 46.94283676147461, 69.58292388916016, 32.54266357421875, 14.654911041259766, 25.301511764526367, 30.55430793762207, 12.863869667053223, 203.23794555664062, 28.297836303710938, 28.3324031829834, 21.51603889465332, 26.71531867980957, 268.93988037109375, 424.03411865234375, 724.109375, 216.02792358398438, 157.4529266357422, 438.01373291015625, 112.02301025390625, 155.7027130126953, 53.4030876159668, 30.32248306274414, 15.652067184448242, 12.888725280761719, 173.83648681640625, 92.57197570800781, 15.632406234741211, 19.436912536621094, 4.6282453536987305, 4.628244876861572, 4.628244876861572, 4.6282453536987305, 4.6282453536987305, 4.62827730178833, 4.62963342666626, 12.057275772094727, 7.446364402770996, 24.040245056152344, 30.811697006225586, 85.43151092529297, 14.009126663208008, 8.371458053588867, 3.710414409637451, 3.710414409637451, 3.710413932800293, 3.710413932800293, 3.710413932800293, 3.710414171218872, 3.710413932800293, 3.710414171218872, 3.710414171218872, 5.545581817626953, 5.545581817626953, 9.313745498657227, 51.0789909362793, 90.00011444091797, 10.140952110290527, 28.997516632080078, 64.35977935791016, 47.64341354370117, 80.35152435302734, 36.098140716552734, 585.0995483398438, 52.40283203125, 20.46795654296875, 138.63800048828125, 47.192413330078125, 138.33456420898438, 35.65345764160156, 20.665538787841797, 112.65374755859375, 73.51942443847656, 75.45967864990234, 155.7027130126953, 52.911643981933594, 25.362895965576172, 278.5559387207031, 203.23794555664062, 33.90032958984375, 724.109375, 1048.3475341796875, 424.03411865234375, 438.01373291015625, 13.508697509765625, 448.4046936035156, 17.11469268798828, 53.27213668823242, 15.380644798278809, 32.51192855834961, 6.336254119873047, 18.992551803588867, 12.689595222473145, 105.39754486083984, 5.439697742462158, 8.139250755310059, 30.73813819885254, 7.296163558959961, 7.296164512634277, 61.44768524169922, 4.543142318725586, 4.543142795562744, 4.543163299560547, 60.35320281982422, 6.343686103820801, 6.343686103820801, 6.343686103820801, 6.343687057495117, 36.47841262817383, 69.91292572021484, 126.4659652709961, 12.738224029541016, 8.215950965881348, 8.255370140075684, 12.650232315063477, 19.294340133666992, 16.261293411254883, 26.179485321044922, 19.173080444335938, 22.10007095336914, 17.53331756591797, 325.8420104980469, 19.1253719329834, 32.00413513183594, 61.39344024658203, 157.4529266357422, 108.55189514160156, 79.95594024658203, 26.291078567504883, 17.507150650024414, 21.160982131958008, 138.63800048828125, 1048.3475341796875, 585.0995483398438, 724.109375, 404.0473937988281, 102.19302368164062, 268.93988037109375, 91.18891143798828, 216.02792358398438, 278.5559387207031, 129.41781616210938, 10.124603271484375, 8.291057586669922, 11.956167221069336, 16.649181365966797, 11.95396614074707, 12.025928497314453, 170.13308715820312, 5.5407562255859375, 5.540756702423096, 5.540756702423096, 8.351146697998047, 13.035725593566895, 4.623988628387451, 4.623989105224609, 4.623989105224609, 4.623989105224609, 4.623997688293457, 9.188995361328125, 11.013181686401367, 6.455564498901367, 6.455564975738525, 6.5114850997924805, 27.745878219604492, 10.154577255249023, 53.95178985595703, 3.7072222232818604, 3.7072222232818604, 3.7072222232818604, 3.7072222232818604, 3.7072222232818604, 404.0473937988281, 15.76773452758789, 15.830808639526367, 3.7072222232818604, 3.7072222232818604, 54.236297607421875, 14.880837440490723, 130.84255981445312, 177.29220581054688, 24.082263946533203, 47.20682144165039, 216.02792358398438, 33.277381896972656, 724.109375, 83.79373168945312, 66.89342498779297, 32.84173583984375, 81.5931396484375, 23.112567901611328, 29.892616271972656, 37.365684509277344, 438.01373291015625, 38.967803955078125, 22.420814514160156, 325.8420104980469, 585.0995483398438, 26.69609832763672, 92.15035247802734, 155.7027130126953, 108.55189514160156, 424.03411865234375, 308.02490234375, 268.93988037109375, 129.41781616210938, 112.65374755859375], \"loglift\": [30.0, 29.0, 28.0, 27.0, 26.0, 25.0, 24.0, 23.0, 22.0, 21.0, 20.0, 19.0, 18.0, 17.0, 16.0, 15.0, 14.0, 13.0, 12.0, 11.0, 10.0, 9.0, 8.0, 7.0, 6.0, 5.0, 4.0, 3.0, 2.0, 1.0, 1.738700032234192, 1.714400053024292, 1.7135000228881836, 1.6897000074386597, 1.6759999990463257, 1.6622999906539917, 1.6572999954223633, 1.6533000469207764, 1.6533000469207764, 1.6416000127792358, 1.6403000354766846, 1.631500005722046, 1.631500005722046, 1.6267000436782837, 1.6210999488830566, 1.6151000261306763, 1.6096999645233154, 1.6086000204086304, 1.6086000204086304, 1.6064000129699707, 1.6038000583648682, 1.603700041770935, 1.600100040435791, 1.600000023841858, 1.5944000482559204, 1.5891000032424927, 1.5835000276565552, 1.5823999643325806, 1.579300045967102, 1.5788999795913696, 1.5693000555038452, 1.5698000192642212, 1.5463999509811401, 1.555299997329712, 1.511299967765808, 1.4629000425338745, 1.475100040435791, 1.5061999559402466, 1.5347000360488892, 1.4220999479293823, 1.2892999649047852, 1.4241000413894653, 1.4948999881744385, 1.3667999505996704, 1.5218000411987305, 1.3157999515533447, 1.1188000440597534, 1.4811999797821045, 1.3904000520706177, 1.1969000101089478, 1.3985999822616577, 1.3436000347137451, 1.3774000406265259, 1.1761000156402588, 1.3895000219345093, -0.0754999965429306, 1.3691999912261963, -0.6159999966621399, 0.4885999858379364, -0.003700000001117587, -0.4499000012874603, -0.07069999724626541, 2.0225000381469727, 1.9663000106811523, 1.9551000595092773, 1.9495999813079834, 1.9404000043869019, 1.933899998664856, 1.924399971961975, 1.9221999645233154, 1.9180999994277954, 1.9120999574661255, 1.8940999507904053, 1.8940999507904053, 1.8940999507904053, 1.8681000471115112, 1.8654999732971191, 1.8543000221252441, 1.8494999408721924, 1.8427000045776367, 1.8427000045776367, 1.8427000045776367, 1.8427000045776367, 1.8427000045776367, 1.8427000045776367, 1.8425999879837036, 1.8353999853134155, 1.8287999629974365, 1.825600028038025, 1.823199987411499, 1.8219000101089478, 1.8157999515533447, 1.8149000406265259, 1.7929999828338623, 1.8026000261306763, 1.7782000303268433, 1.7857999801635742, 1.8061000108718872, 1.712399959564209, 1.6648000478744507, 1.7539000511169434, 1.6514999866485596, 1.6638000011444092, 1.5184999704360962, 1.6634000539779663, 1.4910000562667847, 1.559999942779541, 1.63100004196167, 1.5893000364303589, 1.720900058746338, 1.63510000705719, 1.4519000053405762, 1.5893000364303589, 1.5336999893188477, 1.4938000440597534, 1.3746000528335571, 1.7103999853134155, 1.3589999675750732, 1.1017999649047852, 1.1815999746322632, -0.2045000046491623, -0.14300000667572021, -0.6409000158309937, 0.2296999990940094, 0.7653999924659729, -0.04230000078678131, 2.0129001140594482, 2.002000093460083, 1.9603999853134155, 1.930799961090088, 1.922700047492981, 1.916100025177002, 1.9105000495910645, 1.90339994430542, 1.9009000062942505, 1.8980000019073486, 1.8912999629974365, 1.8912999629974365, 1.8912999629974365, 1.8912999629974365, 1.8880000114440918, 1.8686000108718872, 1.8686000108718872, 1.858199954032898, 1.8523999452590942, 1.8418999910354614, 1.8418999910354614, 1.8418999910354614, 1.8418999910354614, 1.8418999910354614, 1.8418999910354614, 1.8392000198364258, 1.8372000455856323, 1.8367999792099, 1.8327000141143799, 1.8289999961853027, 1.8100999593734741, 1.7517999410629272, 1.7425999641418457, 1.735200047492981, 1.7742999792099, 1.7621999979019165, 1.7400000095367432, 1.6993999481201172, 1.7704999446868896, 1.6821999549865723, 1.6641000509262085, 1.6052000522613525, 1.7664999961853027, 1.7783000469207764, 1.526900053024292, 1.6211999654769897, 1.5499999523162842, 1.6359000205993652, 1.5702999830245972, 1.4911999702453613, 1.495300054550171, 1.6200000047683716, 1.2680000066757202, 0.5110999941825867, 0.35019999742507935, -0.2605000138282776, 0.25769999623298645, 1.003499984741211, -1.1856000423431396, -0.4032999873161316, 0.14020000398159027, 1.760599970817566, 1.760599970817566, 1.7426999807357788, 1.7359999418258667, 1.7310999631881714, 1.728600025177002, 1.728600025177002, 1.728600025177002, 1.728600025177002, 1.7276999950408936, 1.7202999591827393, 1.715000033378601, 1.7142000198364258, 1.7105000019073486, 1.7105000019073486, 1.6998000144958496, 1.6805000305175781, 1.676900029182434, 1.6719000339508057, 1.6684000492095947, 1.6684000492095947, 1.6684000492095947, 1.6653000116348267, 1.6597000360488892, 1.6577999591827393, 1.656999945640564, 1.6568000316619873, 1.6523000001907349, 1.6517000198364258, 1.6495000123977661, 1.6382999420166016, 1.638800024986267, 1.6296000480651855, 1.6104999780654907, 1.607800006866455, 1.5921000242233276, 1.597000002861023, 1.6370999813079834, 1.5652999877929688, 1.5307999849319458, 1.6424000263214111, 1.2038999795913696, 1.5025999546051025, 1.454699993133545, 1.5195000171661377, 1.4592000246047974, 0.7876999974250793, 0.34389999508857727, 0.0013000000035390258, 0.15639999508857727, 0.08380000293254852, -0.8137000203132629, 0.1639000028371811, -0.287200003862381, 1.867400050163269, 1.8615000247955322, 1.8588999509811401, 1.8529000282287598, 1.7935999631881714, 1.7813999652862549, 1.7431000471115112, 1.7403000593185425, 1.722499966621399, 1.722499966621399, 1.722499966621399, 1.722499966621399, 1.722499966621399, 1.722499966621399, 1.7193000316619873, 1.718500018119812, 1.7093000411987305, 1.6962000131607056, 1.6916999816894531, 1.6800999641418457, 1.6759999990463257, 1.6746000051498413, 1.6672999858856201, 1.6672999858856201, 1.6672999858856201, 1.6672999858856201, 1.6672999858856201, 1.6672999858856201, 1.6672999858856201, 1.6672999858856201, 1.6672999858856201, 1.6632000207901, 1.6632000207901, 1.649399995803833, 1.6096999645233154, 1.582800030708313, 1.6420999765396118, 1.596500039100647, 1.561400055885315, 1.5615999698638916, 1.5335999727249146, 1.5555000305175781, 1.3598999977111816, 1.5117000341415405, 1.5942000150680542, 1.4017000198364258, 1.5077999830245972, 1.371999979019165, 1.5128999948501587, 1.566100001335144, 1.371399998664856, 1.4156999588012695, 1.341599941253662, 1.1100000143051147, 1.3382999897003174, 1.5286999940872192, 0.6456000208854675, 0.5457000136375427, 1.3818000555038452, -0.6083999872207642, -1.1195000410079956, -0.5109999775886536, -0.9023000001907349, 1.916200041770935, 1.8828999996185303, 1.876099944114685, 1.8614000082015991, 1.8562999963760376, 1.8432999849319458, 1.8393000364303589, 1.8307000398635864, 1.8294999599456787, 1.8214000463485718, 1.8142000436782837, 1.812000036239624, 1.8086999654769897, 1.7818000316619873, 1.7818000316619873, 1.780500054359436, 1.7781000137329102, 1.7781000137329102, 1.777999997138977, 1.760699987411499, 1.7595000267028809, 1.7595000267028809, 1.7595000267028809, 1.7595000267028809, 1.757099986076355, 1.7552000284194946, 1.749899983406067, 1.746999979019165, 1.7402000427246094, 1.7353999614715576, 1.7352999448776245, 1.7272000312805176, 1.7279000282287598, 1.69760000705719, 1.7120000123977661, 1.7022000551223755, 1.7086000442504883, 1.3918999433517456, 1.659600019454956, 1.5878000259399414, 1.4469000101089478, 1.2798000574111938, 1.3213000297546387, 1.371399998664856, 1.5742000341415405, 1.6371999979019165, 1.5448999404907227, 0.6029999852180481, -0.4505000114440918, -0.26489999890327454, -0.43869999051094055, -0.13840000331401825, 0.6103000044822693, -0.04089999943971634, 0.5590000152587891, -0.10689999908208847, -0.6075000166893005, 0.01979999989271164, 1.893399953842163, 1.8734999895095825, 1.8680000305175781, 1.8651000261306763, 1.8223999738693237, 1.8215999603271484, 1.819000005722046, 1.8171000480651855, 1.8171000480651855, 1.8171000480651855, 1.8006999492645264, 1.787600040435791, 1.7817000150680542, 1.7817000150680542, 1.7817000150680542, 1.7817000150680542, 1.7817000150680542, 1.7786999940872192, 1.7696000337600708, 1.7632999420166016, 1.7632999420166016, 1.7546000480651855, 1.7517999410629272, 1.7425999641418457, 1.7412999868392944, 1.7264000177383423, 1.7264000177383423, 1.7264000177383423, 1.7264000177383423, 1.7264000177383423, 1.7252000570297241, 1.7254999876022339, 1.7122999429702759, 1.7264000177383423, 1.7264000177383423, 1.663100004196167, 1.694000005722046, 1.595900058746338, 1.5764000415802002, 1.6562000513076782, 1.5877000093460083, 1.4467999935150146, 1.5972000360488892, 1.2282999753952026, 1.4510999917984009, 1.40910005569458, 1.4921000003814697, 1.31850004196167, 1.535099983215332, 1.4680999517440796, 1.3904999494552612, 0.6347000002861023, 1.3658000230789185, 1.5333000421524048, 0.2150000035762787, -0.4932999908924103, 1.3033000230789185, 0.40070000290870667, -0.03200000151991844, 0.07339999824762344, -1.1346999406814575, -0.8799999952316284, -0.7592999935150146, -0.10849999636411667, -0.013199999928474426], \"logprob\": [30.0, 29.0, 28.0, 27.0, 26.0, 25.0, 24.0, 23.0, 22.0, 21.0, 20.0, 19.0, 18.0, 17.0, 16.0, 15.0, 14.0, 13.0, 12.0, 11.0, 10.0, 9.0, 8.0, 7.0, 6.0, 5.0, 4.0, 3.0, 2.0, 1.0, -5.196100234985352, -5.264999866485596, -4.776800155639648, -5.6778998374938965, -4.9679999351501465, -5.640100002288818, -6.34089994430542, -6.478400230407715, -6.478400230407715, -5.294000148773193, -5.732699871063232, -6.656000137329102, -6.656000137329102, -5.084400177001953, -5.518499851226807, -6.1596999168396, -6.394800186157227, -6.394800186157227, -6.394800186157227, -6.072999954223633, -5.7093000411987305, -3.9075000286102295, -6.872300148010254, -6.872300148010254, -6.187900066375732, -6.187900066375732, -6.557000160217285, -3.558000087738037, -6.016499996185303, -5.611999988555908, -3.594099998474121, -5.183300018310547, -4.269899845123291, -5.225800037384033, -4.347499847412109, -3.9618000984191895, -4.3333001136779785, -4.978700160980225, -5.466599941253662, -4.178699970245361, -2.7595999240875244, -4.291200160980225, -5.166600227355957, -4.208600044250488, -5.431700229644775, -3.961400032043457, -2.897700071334839, -5.179200172424316, -4.78000020980835, -4.275000095367432, -5.033999919891357, -4.88539981842041, -5.035299777984619, -4.640900135040283, -5.079100131988525, -3.8024001121520996, -5.100800037384033, -4.129799842834473, -4.6803998947143555, -4.507999897003174, -4.81850004196167, -4.991600036621094, -5.315999984741211, -6.067500114440918, -5.452700138092041, -6.218299865722656, -5.872799873352051, -2.9872000217437744, -5.995200157165527, -5.412600040435791, -5.995200157165527, -5.7164998054504395, -6.612199783325195, -6.612199783325195, -6.612199783325195, -6.296999931335449, -6.057600021362305, -5.379499912261963, -5.09119987487793, -6.888400077819824, -6.888400077819824, -6.888400077819824, -6.888400077819824, -6.888400077819824, -6.888400077819824, -6.888500213623047, -6.2067999839782715, -6.490699768066406, -5.805300235748291, -4.252999782562256, -6.2067999839782715, -5.813600063323975, -5.530200004577637, -4.410200119018555, -5.749199867248535, -5.436399936676025, -5.698200225830078, -6.124199867248535, -4.365300178527832, -3.7151999473571777, -5.180200099945068, -4.090799808502197, -4.305099964141846, -2.8499999046325684, -4.484000205993652, -2.978100061416626, -4.018700122833252, -4.670100212097168, -4.436500072479248, -5.313300132751465, -4.963200092315674, -4.137700080871582, -4.799499988555908, -4.594900131225586, -4.564199924468994, -4.494800090789795, -5.426000118255615, -4.7846999168396, -4.484000205993652, -4.830699920654297, -3.7183001041412354, -4.455399990081787, -4.657400131225586, -4.995100021362305, -5.146200180053711, -5.0279998779296875, -3.1696999073028564, -5.505099773406982, -6.035699844360352, -3.2144999504089355, -6.364299774169922, -5.963500022888184, -4.131999969482422, -5.538099765777588, -6.103000164031982, -5.538400173187256, -6.58050012588501, -6.58050012588501, -6.58050012588501, -6.58050012588501, -5.479400157928467, -6.265200138092041, -6.265200138092041, -5.236199855804443, -5.511000156402588, -6.8566999435424805, -6.8566999435424805, -6.8566999435424805, -6.8566999435424805, -6.8566999435424805, -6.8566999435424805, -5.540999889373779, -6.459000110626221, -6.459000110626221, -4.959199905395508, -6.467599868774414, -5.511199951171875, -3.9346001148223877, -3.736299991607666, -3.648900032043457, -4.751699924468994, -4.616700172424316, -4.156599998474121, -3.286400079727173, -4.944900035858154, -4.4527997970581055, -4.311600208282471, -3.9484000205993652, -5.425300121307373, -5.538599967956543, -3.7088000774383545, -4.709799766540527, -4.36359977722168, -4.911600112915039, -4.88070011138916, -4.710999965667725, -4.749499797821045, -5.172399997711182, -4.785699844360352, -3.8573999404907227, -4.154099941253662, -4.357800006866455, -4.781899929046631, -5.1265997886657715, -4.329400062561035, -4.715700149536133, -4.910600185394287, -6.2270002365112305, -6.2270002365112305, -4.944699764251709, -4.814799785614014, -4.364099979400635, -6.508900165557861, -6.508900165557861, -6.508900165557861, -6.508900165557861, -4.100800037384033, -5.472899913787842, -5.9070000648498535, -5.9070000648498535, -5.9070000648498535, -5.9070000648498535, -5.77869987487793, -6.425300121307373, -4.969099998474121, -6.425300121307373, -6.9028000831604, -6.9028000831604, -6.9028000831604, -6.025000095367432, -5.439899921417236, -5.474400043487549, -2.889699935913086, -4.882299900054932, -6.218400001525879, -5.972099781036377, -6.587500095367432, -1.5054999589920044, -4.531300067901611, -3.9381000995635986, -4.479700088500977, -4.642000198364258, -4.264200210571289, -5.019199848175049, -5.776800155639648, -5.302499771118164, -5.148499965667725, -5.9019999504089355, -3.580399990081787, -5.253300189971924, -5.300099849700928, -5.51039981842041, -5.354300022125244, -3.716599941253662, -3.7049999237060547, -3.512500047683716, -4.56689977645874, -4.9558000564575195, -4.8302001953125, -5.216100215911865, -5.3379998207092285, -4.253499984741211, -4.825399875640869, -5.489299774169922, -5.689499855041504, -3.1470000743865967, -3.789400100708008, -5.606299877166748, -5.391300201416016, -6.843999862670898, -6.843999862670898, -6.843999862670898, -6.843999862670898, -6.843999862670898, -6.844099998474121, -6.8470001220703125, -5.890600204467773, -6.381800174713135, -5.222799777984619, -4.979100227355957, -3.970900058746338, -5.7829999923706055, -6.299300193786621, -7.120299816131592, -7.120299816131592, -7.120299816131592, -7.120299816131592, -7.120299816131592, -7.120299816131592, -7.120299816131592, -7.120299816131592, -7.120299816131592, -6.722499847412109, -6.722499847412109, -6.217899799346924, -4.555699825286865, -4.01609992980957, -6.140100002288818, -5.135000228881836, -4.372799873352051, -4.673399925231934, -4.178699970245361, -4.956999778747559, -2.367000102996826, -4.6280999183654785, -5.4857001304626465, -3.7651000022888184, -4.736700057983398, -3.796999931335449, -5.01200008392334, -5.504199981689453, -4.002999782562256, -4.385499954223633, -4.433499813079834, -3.9407999515533447, -4.791800022125244, -5.336699962615967, -3.8236000537872314, -4.238699913024902, -5.193600177764893, -4.122200012207031, -4.263299942016602, -4.559899806976318, -4.918799877166748, -5.57919979095459, -2.110100030899048, -5.382699966430664, -4.261899948120117, -5.509399890899658, -4.773799896240234, -6.413099765777588, -5.323999881744385, -5.728400230407715, -3.6196000576019287, -6.590799808502197, -6.190000057220459, -4.86460018157959, -6.329599857330322, -6.329599857330322, -4.200099945068359, -6.807000160217285, -6.807000160217285, -6.80709981918335, -4.2378997802734375, -6.491799831390381, -6.491799831390381, -6.491799831390381, -6.491799831390381, -4.744900226593018, -4.09630012512207, -3.5088999271392822, -5.80709981918335, -6.252500057220459, -6.252500057220459, -5.825799942016602, -5.411799907684326, -5.582099914550781, -5.136199951171875, -5.433199882507324, -5.301000118255615, -5.526100158691406, -2.9203999042510986, -5.488100051879883, -5.045100212097168, -4.5345001220703125, -3.7597999572753906, -4.0903000831604, -4.345799922943115, -5.255300045013428, -5.598999977111816, -5.501699924468994, -4.563799858093262, -3.5943000316619873, -3.99180006980896, -3.952500104904175, -4.235599994659424, -4.861599922180176, -4.545199871063232, -5.026800155639648, -4.8302001953125, -5.076600074768066, -5.21589994430542, -5.890399932861328, -6.110000133514404, -5.7494001388549805, -5.421299934387207, -5.795300006866455, -5.79010009765625, -3.143199920654297, -6.5696001052856445, -6.5696001052856445, -6.5696001052856445, -6.1757001876831055, -5.7434000968933105, -6.785799980163574, -6.785799980163574, -6.785799980163574, -6.785799980163574, -6.785799980163574, -6.1020002365112305, -5.929999828338623, -6.4704999923706055, -6.4704999923706055, -6.4704999923706055, -5.023900032043457, -6.038300037384033, -4.3694000244140625, -7.061999797821045, -7.061999797821045, -7.061999797821045, -7.061999797821045, -7.061999797821045, -2.371999979019165, -5.615300178527832, -5.624499797821045, -7.061999797821045, -7.061999797821045, -4.442299842834473, -5.704599857330322, -3.6289000511169434, -3.344599962234497, -5.261099815368652, -4.656499862670898, -3.276599884033203, -4.996699810028076, -2.2855000495910645, -4.219299793243408, -4.486599922180176, -5.1149001121521, -4.378499984741211, -5.423299789428711, -5.232999801635742, -5.087399959564209, -3.3817999362945557, -5.070199966430664, -5.455399990081787, -4.097300052642822, -4.220200061798096, -5.510900020599365, -5.174600124359131, -5.082799911499023, -5.338099956512451, -5.183599948883057, -5.248600006103516, -5.263599872589111, -5.344200134277344, -5.387599945068359]}, \"token.table\": {\"Topic\": [4, 5, 6, 7, 6, 5, 3, 4, 6, 5, 7, 1, 3, 4, 5, 6, 7, 2, 5, 1, 2, 3, 4, 5, 6, 7, 4, 7, 5, 6, 1, 2, 7, 3, 4, 2, 4, 5, 7, 1, 5, 6, 7, 2, 3, 2, 3, 4, 7, 2, 3, 4, 5, 7, 7, 3, 4, 6, 4, 6, 1, 2, 3, 4, 5, 7, 2, 3, 4, 5, 6, 2, 4, 1, 6, 7, 4, 7, 1, 7, 5, 7, 7, 5, 7, 2, 1, 2, 7, 4, 5, 6, 7, 5, 1, 2, 3, 4, 5, 6, 1, 2, 3, 4, 5, 7, 2, 3, 6, 1, 4, 5, 6, 7, 1, 3, 7, 3, 5, 6, 7, 2, 3, 4, 5, 6, 7, 1, 2, 7, 2, 6, 4, 4, 4, 4, 3, 4, 5, 6, 7, 1, 2, 3, 5, 6, 3, 6, 2, 3, 4, 5, 6, 7, 2, 6, 3, 4, 6, 2, 4, 5, 7, 1, 2, 3, 4, 6, 7, 3, 7, 7, 2, 3, 5, 7, 4, 6, 3, 1, 4, 7, 1, 2, 4, 1, 5, 1, 2, 3, 4, 5, 6, 7, 1, 2, 4, 5, 6, 7, 2, 3, 6, 1, 2, 3, 4, 5, 6, 7, 1, 2, 3, 4, 5, 6, 7, 1, 3, 4, 5, 4, 6, 1, 3, 4, 5, 6, 7, 1, 4, 5, 7, 1, 2, 3, 4, 5, 7, 1, 1, 1, 2, 3, 4, 5, 6, 5, 6, 7, 2, 5, 2, 5, 5, 1, 2, 3, 4, 5, 7, 5, 3, 4, 7, 5, 1, 2, 4, 5, 1, 2, 3, 4, 5, 6, 7, 2, 3, 4, 5, 6, 7, 4, 5, 6, 7, 1, 2, 3, 4, 5, 6, 7, 1, 2, 3, 4, 5, 7, 1, 4, 6, 7, 2, 5, 6, 7, 6, 7, 1, 3, 4, 5, 6, 7, 3, 6, 1, 2, 5, 6, 7, 1, 2, 3, 4, 5, 6, 7, 3, 4, 6, 7, 2, 4, 7, 5, 6, 2, 3, 1, 3, 4, 7, 1, 2, 3, 4, 6, 7, 1, 2, 3, 4, 5, 7, 1, 2, 5, 6, 7, 2, 3, 6, 7, 1, 2, 3, 4, 5, 3, 5, 6, 7, 2, 3, 4, 7, 3, 4, 1, 3, 6, 7, 4, 5, 6, 7, 2, 1, 2, 3, 5, 6, 7, 3, 4, 5, 6, 4, 7, 1, 2, 3, 4, 5, 6, 7, 3, 7, 1, 2, 3, 4, 5, 6, 7, 2, 3, 5, 6, 1, 2, 3, 4, 5, 6, 7, 2, 4, 1, 2, 3, 4, 5, 6, 7, 1, 2, 3, 4, 5, 6, 7, 1, 2, 3, 4, 7, 1, 2, 4, 5, 6, 7, 1, 2, 3, 4, 5, 6, 7, 1, 2, 3, 4, 5, 6, 7, 1, 2, 3, 4, 6, 7, 3, 1, 2, 4, 5, 6, 7, 1, 2, 3, 4, 6, 1, 2, 3, 1, 2, 4, 5, 6, 7, 2, 1, 2, 4, 5, 7, 2, 1, 3, 5, 2, 3, 4, 2, 3, 4, 5, 6, 7, 1, 2, 3, 4, 5, 6, 7, 1, 2, 3, 4, 5, 6, 1, 2, 5, 7, 5, 2, 3, 5, 1, 2, 3, 1, 5, 6, 7, 1, 1, 2, 3, 4, 5, 6, 7, 1, 2, 4, 6, 1, 2, 3, 4, 5, 6, 7, 1, 2, 1, 2, 4, 5, 6, 7, 3, 3, 1, 2, 3, 4, 5, 1, 4, 5, 7, 1, 2, 3, 4, 5, 6, 7, 2, 3, 6, 1, 2, 3, 4, 5, 6, 1, 2, 4, 5, 6, 7, 1, 3, 4, 5, 6, 2, 4, 6, 2, 3, 5, 6, 7, 5, 4, 1, 7, 2, 5, 2, 4, 5, 6, 5, 1, 2, 4, 5, 7, 1, 2, 3, 4, 5, 6, 7, 1, 2, 4, 5, 6, 7, 2, 3, 4, 5, 6, 1, 5, 1, 2, 4, 5, 6, 7, 6, 1, 2, 3, 4, 5, 6, 7, 1, 2, 3, 4, 5, 7, 1, 3, 4, 5, 6, 7, 3, 1, 2, 1, 3, 4, 6, 7, 1, 1, 2, 3, 4, 6, 7, 5, 1, 4, 1, 4, 6, 7, 1, 2, 3, 4, 5, 6, 7, 2, 3, 6, 4, 5, 7, 3, 4, 5, 6, 1, 2, 4, 6, 1, 2, 3, 4, 7, 1, 2, 3, 4, 5, 6, 7, 2, 2, 5, 6, 7, 1, 5, 6, 7, 1, 2, 3, 4, 5, 6, 7, 1, 2, 3, 4, 5, 6, 7, 1, 2, 3, 4, 5, 6, 7, 1, 2, 3, 4, 5, 6, 7, 2, 3, 4, 5, 6, 7, 1, 2, 3, 5, 6, 7, 4, 5, 7, 6, 2, 5, 6, 3, 5, 1, 2, 3, 4, 5, 6, 7, 4, 5, 1, 2, 5, 3, 7, 1, 2, 3, 4, 5, 6, 7, 1, 2, 3, 4, 5, 6, 7, 1, 4, 5, 6, 7, 6, 2, 1, 6, 3, 5, 6, 1, 3, 4, 6, 7, 1, 3, 7, 1, 2, 3, 4, 5, 6, 7, 1, 2, 3, 4, 5, 6, 7, 1, 2, 5, 5, 4, 5, 6, 7, 4, 7, 1, 4, 5, 6, 3, 6, 5, 7, 1, 2, 3, 5, 6, 7, 1, 2, 3, 4, 5, 6, 7, 1, 2, 3, 4, 5, 6, 7, 1, 2, 3, 4, 6, 5, 6, 1, 4, 6, 1, 2, 3, 4, 6, 7, 1, 2, 3, 4, 5, 6, 7, 1, 3, 4, 6, 7, 2, 5, 1, 2, 3, 4, 5, 6, 7, 1, 2, 3, 4, 5, 6, 7, 2, 4, 7, 2, 3, 6, 7, 1, 2, 3, 4, 5, 7, 1, 3, 6, 1, 3, 5, 5, 1, 3, 5, 6, 7, 2, 3, 4, 5, 6, 1, 3, 4, 5, 7, 3, 5, 6, 7, 1, 2, 3, 5, 7, 1, 2, 3, 4, 5, 6, 7, 1, 3, 4, 5, 6, 7, 1, 2, 3, 4, 5, 6, 7, 1, 6, 1, 2, 3, 4, 5, 6, 7, 1, 7, 1, 3, 5, 1, 2, 3, 4, 5, 6, 7, 3, 2, 3, 1, 2, 3, 4, 5, 6, 7, 1, 2, 3, 4, 5, 6, 7, 1, 4, 5, 6, 7, 1, 2, 4, 5, 6, 7, 1, 2, 3, 4, 5, 6, 7, 4, 5, 1, 2, 1, 2, 4, 5, 6, 7, 2, 4, 6, 1, 3, 5, 6, 3, 4, 6, 4, 7, 1, 3, 4, 5, 6, 7, 1, 2, 3, 7, 4, 6, 1, 4, 6, 7, 1, 3, 1, 2, 3, 4, 5, 6, 7, 1, 2, 4, 5, 6, 7, 1, 3, 1, 3, 4, 5, 6, 7, 1, 4, 5, 6, 7, 1, 4, 5, 7, 1, 2, 3, 4, 6, 7, 1, 2, 3, 4, 5, 6, 7, 1, 2, 2, 3, 5, 7, 1, 2, 3, 4, 5, 6, 7, 1, 2, 5, 6, 3, 4, 6, 7, 1, 2, 3, 4, 5, 6, 7, 1, 2, 3, 5, 6, 7, 2, 3, 6, 7, 1, 7, 3, 3, 4, 6, 2, 3, 5, 7, 1, 3, 4, 5, 6, 1, 2, 3, 4, 6, 1, 2, 3, 4, 5, 6, 7, 1, 4, 5, 4, 2, 3, 4, 5, 6, 1, 2, 4, 6, 7, 6, 7, 1, 2, 4, 7, 1, 4, 1, 2, 4, 6, 7, 1, 3, 6, 2, 3, 1, 7, 1, 2, 4, 6, 7, 1, 2, 3, 4, 5, 6, 7, 2, 5, 6, 7, 2, 3, 3, 4, 5, 7, 1, 6, 7, 1, 2, 3, 5, 6, 5, 7, 4, 6, 2, 5, 1, 4, 5, 7, 2, 5, 6, 1, 3, 6, 2, 5, 5, 1, 3, 4, 5, 7, 1, 3, 4, 5, 6, 7, 1, 3, 5, 6, 7, 2, 4, 5, 6, 7, 4, 6, 7, 1, 2, 3, 4, 5, 6, 7, 4, 5, 1, 3, 4, 5, 1, 3, 5, 6, 3, 1, 2, 4, 5, 7, 4, 1, 2, 4, 5, 6, 7, 1, 1, 2, 4, 5, 6, 7, 1, 2, 7, 1, 2, 3, 4, 5, 6, 7], \"Freq\": [0.8401547074317932, 0.08401547372341156, 0.08401547372341156, 0.8092312216758728, 0.9191687107086182, 0.8642524480819702, 0.08363977074623108, 0.8363977074623108, 0.08363977074623108, 0.808535099029541, 0.865052342414856, 0.03798370808362961, 0.6837067604064941, 0.018991854041814804, 0.05697556212544441, 0.18991854786872864, 0.018991854041814804, 0.9154729247093201, 0.1017192155122757, 0.06751738488674164, 0.10741402208805084, 0.0859312117099762, 0.003068971913307905, 0.009206916205585003, 0.5554839372634888, 0.1718624234199524, 0.15490511059761047, 0.77452552318573, 0.058429326862096786, 0.8764399290084839, 0.8809137344360352, 0.0978793054819107, 0.8092312216758728, 0.10773848742246628, 0.7541694045066833, 0.07773710787296295, 0.7773710489273071, 0.07773710787296295, 0.07773710787296295, 0.10736819356679916, 0.7515773177146912, 0.10736819356679916, 0.8650539517402649, 0.7570899724960327, 0.12618166208267212, 0.026050986722111702, 0.5991727113723755, 0.3386628329753876, 0.026050986722111702, 0.6338911652565002, 0.09055588394403458, 0.030185293406248093, 0.21129705011844635, 0.8092312216758728, 0.8650540113449097, 0.7397198677062988, 0.15763705968856812, 0.7881852984428406, 0.15763705968856812, 0.7881852984428406, 0.06545721739530563, 0.03272860869765282, 0.03272860869765282, 0.7200294137001038, 0.09818582981824875, 0.03272860869765282, 0.0937378853559494, 0.031245961785316467, 0.062491923570632935, 0.0937378853559494, 0.6874111890792847, 0.905098021030426, 0.11313725262880325, 0.8466553688049316, 0.14110922813415527, 0.888923704624176, 0.8477306962013245, 0.8650539517402649, 0.060063011944293976, 0.9009451866149902, 0.8085350394248962, 0.9024038910865784, 0.8092312216758728, 0.7212949395179749, 0.1803237348794937, 0.7641209363937378, 0.11243044584989548, 0.8994435667991638, 0.8092312216758728, 0.670610249042511, 0.247066929936409, 0.0705905556678772, 0.8092312216758728, 0.9310463070869446, 0.17423053085803986, 0.5989174842834473, 0.010889408178627491, 0.021778816357254982, 0.10889408737421036, 0.09800467640161514, 0.014371342025697231, 0.07185670733451843, 0.07185670733451843, 0.7616811394691467, 0.057485368102788925, 0.028742684051394463, 0.7641209363937378, 0.8616663813591003, 0.12309519946575165, 0.8636592626571655, 0.06168994680047035, 0.06168994680047035, 0.06168994680047035, 0.06168994680047035, 0.8391943573951721, 0.9736666679382324, 0.8092312216758728, 0.038035716861486435, 0.07607143372297287, 0.6846429109573364, 0.228214293718338, 0.7641209959983826, 0.018975773826241493, 0.08539098501205444, 0.009487886913120747, 0.8539098501205444, 0.037951547652482986, 0.8173162937164307, 0.08315366506576538, 0.8315366506576538, 0.12171445786952972, 0.730286717414856, 0.9328018426895142, 0.9328018426895142, 0.9328018426895142, 0.9328018426895142, 0.12831105291843414, 0.1539732664823532, 0.051324423402547836, 0.10264884680509567, 0.538906455039978, 0.05669829621911049, 0.037798862904310226, 0.34018978476524353, 0.5669829249382019, 0.018899431452155113, 0.7397198677062988, 0.8804478645324707, 0.01551742758601904, 0.03103485517203808, 0.8107855916023254, 0.06206971034407616, 0.02327614091336727, 0.05431099608540535, 0.8004760146141052, 0.1143537163734436, 0.08363977819681168, 0.8363977670669556, 0.08363977819681168, 0.065992571413517, 0.8908997178077698, 0.0329962857067585, 0.0329962857067585, 0.1348152607679367, 0.17158305644989014, 0.06127966195344925, 0.07353559136390686, 0.03676779568195343, 0.5147491693496704, 0.8247083425521851, 0.164941668510437, 0.9024038314819336, 0.0701410099864006, 0.8416921496391296, 0.0701410099864006, 0.0701410099864006, 0.7972701787948608, 0.1494881510734558, 0.739719808101654, 0.19761665165424347, 0.7509432435035706, 0.039523329585790634, 0.12662678956985474, 0.031656697392463684, 0.8230741620063782, 0.7889639735221863, 0.09862049669027328, 0.1572382003068924, 0.027345774695277214, 0.025636663660407066, 0.027345774695277214, 0.5725521445274353, 0.10596487671136856, 0.08374643325805664, 0.0056413463316857815, 0.8687673211097717, 0.011282692663371563, 0.022565385326743126, 0.03948942571878433, 0.05641346424818039, 0.7628816366195679, 0.08476462960243225, 0.08476462960243225, 0.07823620736598969, 0.12036339938640594, 0.6920895576477051, 0.012036340311169624, 0.04212719202041626, 0.02407268062233925, 0.02407268062233925, 0.0044602565467357635, 0.020071154460310936, 0.0044602565467357635, 0.008920513093471527, 0.033451925963163376, 0.9076622128486633, 0.022301282733678818, 0.0483897365629673, 0.1935589462518692, 0.0483897365629673, 0.7258460521697998, 0.841653048992157, 0.1683306097984314, 0.01442605908960104, 0.043278176337480545, 0.021639088168740273, 0.5986814498901367, 0.25245603919029236, 0.07213029265403748, 0.3371279239654541, 0.11237597465515137, 0.03745865821838379, 0.524421215057373, 0.6769282221794128, 0.05014283210039139, 0.025071416050195694, 0.025071416050195694, 0.05014283210039139, 0.20057132840156555, 0.971947431564331, 0.8391942977905273, 0.06411891430616379, 0.65401291847229, 0.03847134858369827, 0.12823782861232758, 0.0897664800286293, 0.012823782861232758, 0.06149572506546974, 0.7994443774223328, 0.12299145013093948, 0.7947444915771484, 0.11353492736816406, 0.11945350468158722, 0.8361745476722717, 0.808535099029541, 0.010769644752144814, 0.05384822189807892, 0.09692680090665817, 0.7861840128898621, 0.043078579008579254, 0.010769644752144814, 0.8642585277557373, 0.13440103828907013, 0.06720051914453506, 0.7392057180404663, 0.808535099029541, 0.0425105094909668, 0.8076997399330139, 0.0425105094909668, 0.1275315284729004, 0.016195228323340416, 0.06478091329336166, 0.664004385471344, 0.11336659640073776, 0.016195228323340416, 0.0971713736653328, 0.016195228323340416, 0.3728523552417755, 0.10966245830059052, 0.07676371932029724, 0.16449368000030518, 0.24125739932060242, 0.032898735255002975, 0.038197848945856094, 0.038197848945856094, 0.7639569640159607, 0.15279139578342438, 0.06604911386966705, 0.539401113986969, 0.06604911386966705, 0.06604911386966705, 0.11008185893297195, 0.07705730199813843, 0.0880654826760292, 0.018158841878175735, 0.018158841878175735, 0.018158841878175735, 0.7808302044868469, 0.16342957317829132, 0.018158841878175735, 0.8816909790039062, 0.051864176988601685, 0.051864176988601685, 0.051864176988601685, 0.10812416672706604, 0.036041390150785446, 0.036041390150785446, 0.7929105758666992, 0.10882582515478134, 0.8706066012382507, 0.01170528307557106, 0.01170528307557106, 0.01170528307557106, 0.7842539548873901, 0.0585264153778553, 0.12875811755657196, 0.1370583176612854, 0.8223499059677124, 0.5577679872512817, 0.13699565827846527, 0.039141613990068436, 0.2544204890727997, 0.009785403497517109, 0.0606372207403183, 0.02425488829612732, 0.7276466488838196, 0.01212744414806366, 0.0606372207403183, 0.08489210903644562, 0.03638233244419098, 0.9525551795959473, 0.021982042118906975, 0.014654695056378841, 0.014654695056378841, 0.8137028217315674, 0.08363884687423706, 0.9200272560119629, 0.12286143004894257, 0.8600299954414368, 0.8877662420272827, 0.8549987077713013, 0.7749982476234436, 0.043055459856987, 0.086110919713974, 0.043055459856987, 0.03663165867328644, 0.03663165867328644, 0.805896520614624, 0.03663165867328644, 0.10989498347043991, 0.03663165867328644, 0.07691418379545212, 0.6537705659866333, 0.07691418379545212, 0.01922854594886303, 0.13459981977939606, 0.03845709189772606, 0.0731901302933693, 0.7319012880325317, 0.0731901302933693, 0.0731901302933693, 0.0731901302933693, 0.1245730072259903, 0.041524335741996765, 0.1245730072259903, 0.7059137225151062, 0.07885535061359406, 0.07885535061359406, 0.07885535061359406, 0.07885535061359406, 0.6702704429626465, 0.865770161151886, 0.051946207880973816, 0.06926161050796509, 0.017315402626991272, 0.1604982316493988, 0.1299271434545517, 0.030571091920137405, 0.680206835269928, 0.8243414163589478, 0.1648682951927185, 0.14039793610572815, 0.7581488490104675, 0.05615917220711708, 0.05615917220711708, 0.8760558366775513, 0.018251163884997368, 0.036502327769994736, 0.07300465553998947, 0.8701656460762024, 0.07033427804708481, 0.5626742243766785, 0.035167139023542404, 0.05275070667266846, 0.19341924786567688, 0.08791784197092056, 0.08310677111148834, 0.19391579926013947, 0.6925564408302307, 0.02770225703716278, 0.8395273089408875, 0.08395273238420486, 0.03810662776231766, 0.07621325552463531, 0.16512872278690338, 0.16512872278690338, 0.03175552189350128, 0.49538615345954895, 0.025404417887330055, 0.11974403262138367, 0.8382082581520081, 0.019670795649290085, 0.09835398197174072, 0.03934159129858017, 0.806502640247345, 0.03934159129858017, 0.019670795649290085, 0.9024038314819336, 0.018725508823990822, 0.018725508823990822, 0.9550009369850159, 0.018725508823990822, 0.08926737308502197, 0.6605785489082336, 0.008926737122237682, 0.17853474617004395, 0.03570694848895073, 0.008926737122237682, 0.008926737122237682, 0.8137028217315674, 0.8682194948196411, 0.060879580676555634, 0.12175916135311127, 0.5935758948326111, 0.045659683644771576, 0.030439790338277817, 0.13697905838489532, 0.015219895169138908, 0.14577321708202362, 0.1325211077928543, 0.1325211077928543, 0.013252110220491886, 0.5565886497497559, 0.013252110220491886, 0.013252110220491886, 0.07832259684801102, 0.7832260131835938, 0.07832259684801102, 0.07832259684801102, 0.07832259684801102, 0.0825686901807785, 0.5564411878585815, 0.0035899432841688395, 0.2800155580043793, 0.07538880407810211, 0.0035899432841688395, 0.6362687945365906, 0.08054035156965256, 0.0080540357157588, 0.05637824907898903, 0.14497263729572296, 0.0322161428630352, 0.04027017578482628, 0.014561625197529793, 0.49509525299072266, 0.13105462491512299, 0.05824650079011917, 0.24754762649536133, 0.029123250395059586, 0.04368487745523453, 0.19301912188529968, 0.6594820022583008, 0.032169852405786514, 0.032169852405786514, 0.06433970481157303, 0.016084926202893257, 0.7860895395278931, 0.7012909054756165, 0.0556580051779747, 0.04452640563249588, 0.01113160140812397, 0.06678960472345352, 0.12244761735200882, 0.13574616611003876, 0.04524872452020645, 0.04524872452020645, 0.04524872452020645, 0.7692282795906067, 0.8566978573799133, 0.8437990546226501, 0.1687598079442978, 0.09999987483024597, 0.14444425702095032, 0.011111097410321236, 0.7111102342605591, 0.011111097410321236, 0.011111097410321236, 0.7641209363937378, 0.16891957819461823, 0.7179082036018372, 0.042229894548654556, 0.042229894548654556, 0.042229894548654556, 0.7641209363937378, 0.0697842389345169, 0.8374108672142029, 0.0697842389345169, 0.08995520323514938, 0.08995520323514938, 0.809596836566925, 0.09015132486820221, 0.03005044162273407, 0.06010088324546814, 0.15025220811367035, 0.03005044162273407, 0.6911601424217224, 0.07869353145360947, 0.01851612515747547, 0.004629031289368868, 0.18053221702575684, 0.004629031289368868, 0.12498383969068527, 0.5878869891166687, 0.6904730200767517, 0.10229230672121048, 0.02557307668030262, 0.02557307668030262, 0.1790115237236023, 0.02557307668030262, 0.06370009481906891, 0.7644010782241821, 0.12740018963813782, 0.06370009481906891, 0.8642584085464478, 0.07138203829526901, 0.07138203829526901, 0.7852023839950562, 0.8881336450576782, 0.04229207709431648, 0.08458415418863297, 0.12684130668640137, 0.06342065334320068, 0.06342065334320068, 0.7610478401184082, 0.786557674407959, 0.018871059641242027, 0.5850028395652771, 0.20758165419101715, 0.1698395311832428, 0.018871059641242027, 0.018871059641242027, 0.018871059641242027, 0.028448522090911865, 0.14224261045455933, 0.8250071406364441, 0.028448522090911865, 0.09114645421504974, 0.10219450294971466, 0.00966704823076725, 0.154672771692276, 0.08009839802980423, 0.08976544439792633, 0.4723043441772461, 0.8897728323936462, 0.08897728472948074, 0.41997236013412476, 0.4031734764575958, 0.03359778970479965, 0.0671955794095993, 0.03359778970479965, 0.03359778970479965, 0.7860903143882751, 0.8168110847473145, 0.03448571264743805, 0.03448571264743805, 0.1379428505897522, 0.0689714252948761, 0.7241999506950378, 0.9162959456443787, 0.03159641474485397, 0.03159641474485397, 0.03159641474485397, 0.6619616746902466, 0.010851830244064331, 0.010851830244064331, 0.010851830244064331, 0.043407320976257324, 0.054259151220321655, 0.2061847746372223, 0.10365734249353409, 0.10365734249353409, 0.7774300575256348, 0.017027845606207848, 0.6130024194717407, 0.15325060486793518, 0.051083534955978394, 0.15325060486793518, 0.017027845606207848, 0.8447279334068298, 0.020354891195893288, 0.12212934345006943, 0.010177445597946644, 0.010177445597946644, 0.010177445597946644, 0.0415969155728817, 0.0415969155728817, 0.0831938311457634, 0.7903413772583008, 0.0415969155728817, 0.06823650747537613, 0.8188381195068359, 0.13647301495075226, 0.03529669716954231, 0.8753581047058105, 0.04941537603735924, 0.02823735773563385, 0.014118678867816925, 0.808535099029541, 0.8682194948196411, 0.8611953854560852, 0.12302791327238083, 0.7641234397888184, 0.9583398699760437, 0.05265221744775772, 0.05265221744775772, 0.05265221744775772, 0.8424354791641235, 0.8642584085464478, 0.05144850164651871, 0.05144850164651871, 0.05144850164651871, 0.8231760263442993, 0.05144850164651871, 0.10713419318199158, 0.5713824033737183, 0.21102190017700195, 0.012985963374376297, 0.0064929816871881485, 0.03246490657329559, 0.05843683332204819, 0.01397701632231474, 0.04193104803562164, 0.8665750026702881, 0.01397701632231474, 0.01397701632231474, 0.04193104803562164, 0.03254801034927368, 0.01627400517463684, 0.01627400517463684, 0.13019204139709473, 0.8137003183364868, 0.13429372012615204, 0.8057623505592346, 0.7636399865150452, 0.04322490468621254, 0.10085810720920563, 0.057633206248283386, 0.014408301562070847, 0.014408301562070847, 0.8804478049278259, 0.16732363402843475, 0.05577454715967178, 0.17847855389118195, 0.3383655846118927, 0.05949284881353378, 0.13385891914367676, 0.06321115046739578, 0.05380012094974518, 0.6994015574455261, 0.05380012094974518, 0.12553362548351288, 0.017933374270796776, 0.05380012094974518, 0.06903038918972015, 0.00575253227725625, 0.01725759729743004, 0.8801374435424805, 0.0115050645545125, 0.0115050645545125, 0.7860895395278931, 0.1260887235403061, 0.8826211094856262, 0.0024749571457505226, 0.0989982858300209, 0.0024749571457505226, 0.12127289921045303, 0.7771365642547607, 0.7865613102912903, 0.7397999167442322, 0.013699999079108238, 0.1095999926328659, 0.1095999926328659, 0.013699999079108238, 0.013699999079108238, 0.808535099029541, 0.13512863218784332, 0.8107717633247375, 0.17135855555534363, 0.057119518518447876, 0.6854342222213745, 0.057119518518447876, 0.06359047442674637, 0.021196823567152023, 0.5723142623901367, 0.021196823567152023, 0.10598412156105042, 0.21196824312210083, 0.021196823567152023, 0.8457701206207275, 0.08457701653242111, 0.08457701653242111, 0.8734235763549805, 0.07278529554605484, 0.07278529554605484, 0.7931400537490845, 0.04957125335931778, 0.04957125335931778, 0.04957125335931778, 0.8104021549224854, 0.07046975195407867, 0.03523487597703934, 0.03523487597703934, 0.024479733780026436, 0.6119933724403381, 0.2937568128108978, 0.024479733780026436, 0.024479733780026436, 0.038165874779224396, 0.11449763178825378, 0.05724881589412689, 0.038165874779224396, 0.6679028272628784, 0.038165874779224396, 0.038165874779224396, 0.9492039680480957, 0.03044906072318554, 0.03044906072318554, 0.3349396586418152, 0.608981192111969, 0.029498238116502762, 0.589964747428894, 0.26548415422439575, 0.11799295246601105, 0.11494077742099762, 0.4789199233055115, 0.038313593715429306, 0.019156796857714653, 0.17241117358207703, 0.019156796857714653, 0.17241117358207703, 0.049268804490566254, 0.049268804490566254, 0.7291783094406128, 0.029561283066868782, 0.009853760711848736, 0.10839137434959412, 0.029561283066868782, 0.6468098759651184, 0.06259450316429138, 0.06259450316429138, 0.12518900632858276, 0.04172967001795769, 0.04172967001795769, 0.04172967001795769, 0.0350164994597435, 0.22760725021362305, 0.4552145004272461, 0.15757425129413605, 0.0350164994597435, 0.0350164994597435, 0.070032998919487, 0.14657056331634521, 0.04885685443878174, 0.04885685443878174, 0.7328528165817261, 0.04885685443878174, 0.04885685443878174, 0.0669061541557312, 0.0334530770778656, 0.1338123083114624, 0.0334530770778656, 0.167265385389328, 0.6021553874015808, 0.8923434615135193, 0.08635582029819489, 0.02878527343273163, 0.880443811416626, 0.15646937489509583, 0.05215645954012871, 0.7823469042778015, 0.8240082263946533, 0.16480164229869843, 0.20011021196842194, 0.03752066567540169, 0.012506888248026371, 0.08754821866750717, 0.10005510598421097, 0.5503031015396118, 0.025013776496052742, 0.03297882899641991, 0.9563860297203064, 0.08463790267705917, 0.7617411017417908, 0.08463790267705917, 0.15357479453086853, 0.767874002456665, 0.03257676959037781, 0.06515353918075562, 0.03257676959037781, 0.13030707836151123, 0.13030707836151123, 0.5863818526268005, 0.016288384795188904, 0.059044092893600464, 0.01968136429786682, 0.06396443396806717, 0.5166358351707458, 0.25093740224838257, 0.03444238752126694, 0.059044092893600464, 0.16791407763957977, 0.02098925970494747, 0.6926456093788147, 0.06296777725219727, 0.04197851940989494, 0.9623429775238037, 0.8137027621269226, 0.12113327533006668, 0.7267996072769165, 0.07880471646785736, 0.07880471646785736, 0.8668519258499146, 0.0573810376226902, 0.6598818898200989, 0.2295241504907608, 0.0286905188113451, 0.8442831039428711, 0.9154353141784668, 0.06102902069687843, 0.06102902069687843, 0.007907265797257423, 0.06325812637805939, 0.03953632712364197, 0.007907265797257423, 0.015814531594514847, 0.798633873462677, 0.07116539031267166, 0.6155164837837219, 0.03065790981054306, 0.002358300844207406, 0.21932198107242584, 0.08725713193416595, 0.002358300844207406, 0.044807713478803635, 0.8184752464294434, 0.08184752613306046, 0.08184752613306046, 0.808535099029541, 0.07904992997646332, 0.07904992997646332, 0.7904993295669556, 0.07904992997646332, 0.0836542472243309, 0.8365424275398254, 0.03075794130563736, 0.03075794130563736, 0.03075794130563736, 0.8612223863601685, 0.1370583325624466, 0.8223499655723572, 0.7212949395179749, 0.1803237348794937, 0.06075778603553772, 0.27341005206108093, 0.12151557207107544, 0.27341005206108093, 0.10632612556219101, 0.16708391904830933, 0.021183378994464874, 0.021183378994464874, 0.06355013698339462, 0.021183378994464874, 0.169467031955719, 0.04236675798892975, 0.677868127822876, 0.014949152246117592, 0.014949152246117592, 0.23918643593788147, 0.05979660898447037, 0.029898304492235184, 0.08969491720199585, 0.5680677890777588, 0.13574175536632538, 0.033935438841581345, 0.7465797066688538, 0.06787087768316269, 0.033935438841581345, 0.8085350394248962, 0.9469317197799683, 0.03253287449479103, 0.09759862720966339, 0.8458547592163086, 0.6989951729774475, 0.012482056394219398, 0.14978466928005219, 0.024964112788438797, 0.037446167320013046, 0.07489233464002609, 0.007631057407706976, 0.01240046788007021, 0.03910916671156883, 0.7964916229248047, 0.04769410565495491, 0.0877571552991867, 0.009538821876049042, 0.09218918532133102, 0.09218918532133102, 0.03687567263841629, 0.03687567263841629, 0.7375134825706482, 0.8816030621528625, 0.0678156241774559, 0.12445314973592758, 0.06222657486796379, 0.012445314787328243, 0.06222657486796379, 0.684492290019989, 0.04978125914931297, 0.012445314787328243, 0.020333318039774895, 0.7523327469825745, 0.08133327215909958, 0.020333318039774895, 0.08133327215909958, 0.020333318039774895, 0.020333318039774895, 0.09847775846719742, 0.09847775846719742, 0.7878220677375793, 0.29319077730178833, 0.623030424118042, 0.03664884716272354, 0.03664884716272354, 0.028047770261764526, 0.05609554052352905, 0.14023885130882263, 0.05609554052352905, 0.6731464862823486, 0.05609554052352905, 0.8784925937652588, 0.06757635623216629, 0.06757635623216629, 0.7848255634307861, 0.09810319542884827, 0.09810319542884827, 0.8642584085464478, 0.13380423188209534, 0.04460141435265541, 0.04460141435265541, 0.13380423188209534, 0.6244197487831116, 0.037543077021837234, 0.018771538510918617, 0.018771538510918617, 0.037543077021837234, 0.8822623491287231, 0.043266505002975464, 0.043266505002975464, 0.17306602001190186, 0.08653301000595093, 0.6489975452423096, 0.1417703628540039, 0.04725678637623787, 0.6615949869155884, 0.1417703628540039, 0.06192461773753166, 0.06192461773753166, 0.7430953979492188, 0.06192461773753166, 0.12384923547506332, 0.16249564290046692, 0.08124782145023346, 0.5687347650527954, 0.12187173217535019, 0.04062391072511673, 0.020311955362558365, 0.020311955362558365, 0.042473312467336655, 0.6264814138412476, 0.042473312467336655, 0.21236656606197357, 0.010618328116834164, 0.05309164151549339, 0.05985286459326744, 0.10474251210689545, 0.7182343602180481, 0.01496321614831686, 0.02992643229663372, 0.01496321614831686, 0.05985286459326744, 0.8621916174888611, 0.12317022681236267, 0.005877751391381025, 0.01763325370848179, 0.01763325370848179, 0.005877751391381025, 0.08228851854801178, 0.0235110055655241, 0.8522739410400391, 0.8513977527618408, 0.06549213081598282, 0.10928631573915482, 0.7650042176246643, 0.10928631573915482, 0.27469635009765625, 0.01445770263671875, 0.007228851318359375, 0.057830810546875, 0.57830810546875, 0.01445770263671875, 0.057830810546875, 0.7397198677062988, 0.14016996324062347, 0.8410197496414185, 0.022422490641474724, 0.6502522230148315, 0.06726747006177902, 0.22422489523887634, 0.022422490641474724, 0.022422490641474724, 0.04484498128294945, 0.04260500892996788, 0.02130250446498394, 0.02130250446498394, 0.7668901681900024, 0.12781502306461334, 0.02130250446498394, 0.02130250446498394, 0.7545417547225952, 0.02694791927933693, 0.13473959267139435, 0.02694791927933693, 0.05389583855867386, 0.552732527256012, 0.01381831243634224, 0.11054649949073792, 0.276366263628006, 0.01381831243634224, 0.02763662487268448, 0.11560492217540741, 0.006422495469450951, 0.1477174013853073, 0.11560492217540741, 0.44315218925476074, 0.038534972816705704, 0.1348724067211151, 0.7770385146141052, 0.15540769696235657, 0.7972381114959717, 0.18119049072265625, 0.06481443345546722, 0.021604809910058975, 0.021604809910058975, 0.8749948143959045, 0.010802404955029488, 0.010802404955029488, 0.7977852821350098, 0.11396931856870651, 0.056984659284353256, 0.6887091994285583, 0.03935481235384941, 0.2754836976528168, 0.019677406176924706, 0.7397198677062988, 0.15763702988624573, 0.788185179233551, 0.15490512549877167, 0.7745255827903748, 0.08161108195781708, 0.06800923496484756, 0.05440739169716835, 0.598481297492981, 0.16322216391563416, 0.013601847924292088, 0.055903464555740356, 0.7267450094223022, 0.16771039366722107, 0.055903464555740356, 0.15763705968856812, 0.7881852984428406, 0.8009008169174194, 0.09666044265031815, 0.013808634132146835, 0.08285180479288101, 0.9278873205184937, 0.04418510943651199, 0.030728891491889954, 0.06145778298377991, 0.09218667447566986, 0.7682223320007324, 0.030728891491889954, 0.030728891491889954, 0.030728891491889954, 0.7717165946960449, 0.032154858112335205, 0.032154858112335205, 0.06430971622467041, 0.032154858112335205, 0.09646457433700562, 0.12973695993423462, 0.7784218192100525, 0.11598390340805054, 0.01656912826001644, 0.01656912826001644, 0.01656912826001644, 0.7953181862831116, 0.01656912826001644, 0.689382016658783, 0.0795440748333931, 0.106058768928051, 0.02651469223201275, 0.106058768928051, 0.6637242436408997, 0.05309794098138809, 0.13274484872817993, 0.13274484872817993, 0.017907479777932167, 0.7700216174125671, 0.05372244119644165, 0.017907479777932167, 0.05372244119644165, 0.07162991911172867, 0.5205316543579102, 0.06620796769857407, 0.002283033449202776, 0.06849100440740585, 0.0593588687479496, 0.022830333560705185, 0.2602658271789551, 0.14461439847946167, 0.86768639087677, 0.08293747156858444, 0.08293747156858444, 0.8293747305870056, 0.08293747156858444, 0.0077269114553928375, 0.023180734366178513, 0.5872452855110168, 0.10044984519481659, 0.023180734366178513, 0.13908439874649048, 0.1236305832862854, 0.027413474395871162, 0.10965389758348465, 0.027413474395871162, 0.7949907183647156, 0.746401309967041, 0.06220010668039322, 0.06220010668039322, 0.12440021336078644, 0.1579313576221466, 0.00564040569588542, 0.04512324556708336, 0.03384243696928024, 0.0789656788110733, 0.01128081139177084, 0.6712083220481873, 0.14340639114379883, 0.0985918939113617, 0.7170319557189941, 0.008962899446487427, 0.008962899446487427, 0.017925798892974854, 0.07850387692451477, 0.07850387692451477, 0.7850387692451477, 0.07850387692451477, 0.15342453122138977, 0.8438348770141602, 0.7397199869155884, 0.10295863449573517, 0.8236690759658813, 0.051479317247867584, 0.7001520991325378, 0.04667680710554123, 0.04667680710554123, 0.14003042876720428, 0.05228656530380249, 0.05228656530380249, 0.05228656530380249, 0.15685969591140747, 0.7320119142532349, 0.024237334728240967, 0.048474669456481934, 0.727120041847229, 0.1454240083694458, 0.024237334728240967, 0.07101406157016754, 0.09764432907104492, 0.008876757696270943, 0.026630273088812828, 0.5769892334938049, 0.07989081740379333, 0.1331513673067093, 0.948284387588501, 0.027093838900327682, 0.027093838900327682, 0.8682195544242859, 0.06597016006708145, 0.791641891002655, 0.06597016006708145, 0.06597016006708145, 0.06597016006708145, 0.0516950748860836, 0.6720359921455383, 0.1033901497721672, 0.1550852358341217, 0.0516950748860836, 0.09080028533935547, 0.8172025084495544, 0.111210398375988, 0.037070132791996, 0.055605199187994, 0.7970078587532043, 0.9119803309440613, 0.06514144688844681, 0.7387017607688904, 0.06423493474721909, 0.09635240584611893, 0.06423493474721909, 0.03211746737360954, 0.06513343751430511, 0.8467346429824829, 0.06513343751430511, 0.10869593918323517, 0.8695675134658813, 0.8611953854560852, 0.12302791327238083, 0.7374851107597351, 0.14936408400535583, 0.00933525525033474, 0.00933525525033474, 0.10268780589103699, 0.05352504551410675, 0.1070500910282135, 0.05352504551410675, 0.214100182056427, 0.026762522757053375, 0.026762522757053375, 0.5620129704475403, 0.04661296308040619, 0.6991944313049316, 0.06215061619877815, 0.18645185232162476, 0.14016996324062347, 0.8410197496414185, 0.18590782582759857, 0.6971543431282043, 0.04647695645689964, 0.04647695645689964, 0.06501678377389908, 0.9102349281311035, 0.06501678377389908, 0.09241607785224915, 0.11552009731531143, 0.6469125151634216, 0.06931205838918686, 0.09241607785224915, 0.8642585277557373, 0.8650539517402649, 0.8177335858345032, 0.13628892600536346, 0.7674453854560852, 0.12790757417678833, 0.7677239775657654, 0.04516023397445679, 0.13548070192337036, 0.04516023397445679, 0.09861007332801819, 0.7888805866241455, 0.09861007332801819, 0.11406854540109634, 0.05703427270054817, 0.7414455413818359, 0.7641210556030273, 0.808535099029541, 0.8639993071556091, 0.021189846098423004, 0.06356953829526901, 0.21189846098423004, 0.6568852663040161, 0.04237969219684601, 0.028607012704014778, 0.057214025408029556, 0.057214025408029556, 0.014303506352007389, 0.8009963631629944, 0.057214025408029556, 0.12633593380451202, 0.06316796690225601, 0.06316796690225601, 0.06316796690225601, 0.7580156326293945, 0.0353383906185627, 0.7067677974700928, 0.0353383906185627, 0.1766919493675232, 0.0706767812371254, 0.8754791021347046, 0.05471744388341904, 0.05471744388341904, 0.1551428735256195, 0.0358022004365921, 0.1551428735256195, 0.011934067122638226, 0.02386813424527645, 0.011934067122638226, 0.5847692489624023, 0.1279393583536148, 0.8316057920455933, 0.09788760542869568, 0.019577519968152046, 0.13704264163970947, 0.7243682742118835, 0.0324552059173584, 0.1298208236694336, 0.81138014793396, 0.0324552059173584, 0.7860897779464722, 0.037431709468364716, 0.07486341893672943, 0.6737707257270813, 0.14972683787345886, 0.11229512095451355, 0.8477307558059692, 0.812206506729126, 0.08625201880931854, 0.03593834117054939, 0.028750672936439514, 0.0071876682341098785, 0.028750672936439514, 0.8173163533210754, 0.8289294838905334, 0.08429791033267975, 0.0280993040651083, 0.021074477583169937, 0.007024826016277075, 0.03512413054704666, 0.8188790082931519, 0.10918387025594711, 0.054591935127973557, 0.07369747012853622, 0.009212183766067028, 0.05527310073375702, 0.046060919761657715, 0.14739494025707245, 0.5158823132514954, 0.14739494025707245], \"Term\": [\"Arrow\", \"Arrow\", \"Arrow\", \"BayesianRidge\", \"BeautifulSoup\", \"Canvas\", \"Cell\", \"Cell\", \"Cell\", \"ClientV1\", \"ConfigParser\", \"Curve\", \"Curve\", \"Curve\", \"Curve\", \"Curve\", \"Curve\", \"Data\", \"Data\", \"DataFrame\", \"DataFrame\", \"DataFrame\", \"DataFrame\", \"DataFrame\", \"DataFrame\", \"DataFrame\", \"DataPot\", \"DataPot\", \"Dense\", \"Dense\", \"EMA\", \"EMA\", \"ElasticNetCV\", \"Extras\", \"Extras\", \"Figure\", \"Figure\", \"Figure\", \"Figure\", \"FixedLenFeature\", \"FixedLenFeature\", \"FixedLenFeature\", \"Flow\", \"Game\", \"Game\", \"Image\", \"Image\", \"Image\", \"Image\", \"InteractiveSession\", \"InteractiveSession\", \"InteractiveSession\", \"InteractiveSession\", \"LassoLars\", \"LinearRegression\", \"LoadLibrary\", \"LogPosterior\", \"LogPosterior\", \"MCMCController\", \"MCMCController\", \"Map\", \"Map\", \"Map\", \"Map\", \"Map\", \"Map\", \"Model\", \"Model\", \"Model\", \"Model\", \"Model\", \"MongoClient\", \"MongoClient\", \"Niche\", \"Niche\", \"Node\", \"NumpyDataset\", \"ParquetFile\", \"Polygons\", \"Polygons\", \"Port\", \"QA_fetch_get_stock_day\", \"RANSACRegressor\", \"RapXML\", \"RapXML\", \"Raster\", \"Reaction\", \"Reaction\", \"RidgeCV\", \"SFrame\", \"SFrame\", \"SFrame\", \"SGDRegressor\", \"SReac\", \"Series\", \"Series\", \"Series\", \"Series\", \"Series\", \"Series\", \"Simulation\", \"Simulation\", \"Simulation\", \"Simulation\", \"Simulation\", \"Simulation\", \"SpecObj\", \"Standard\", \"Standard\", \"Storage\", \"Storage\", \"Storage\", \"Storage\", \"Storage\", \"TH1F\", \"Tensor\", \"TheilSenRegressor\", \"Timestamp\", \"Timestamp\", \"Timestamp\", \"Timestamp\", \"TmComp\", \"Variable\", \"Variable\", \"Variable\", \"Variable\", \"Variable\", \"Veneer\", \"Weather\", \"Weather\", \"World\", \"World\", \"XPlane\", \"YPlane\", \"ZCylinder\", \"ZPlane\", \"__init__\", \"__init__\", \"__init__\", \"__init__\", \"__init__\", \"abspath\", \"abspath\", \"abspath\", \"abspath\", \"abspath\", \"activate_interactive_df\", \"activities\", \"add\", \"add\", \"add\", \"add\", \"add\", \"add\", \"add_argument\", \"add_argument\", \"add_cell\", \"add_cell\", \"add_cell\", \"add_children\", \"add_children\", \"add_children\", \"add_children\", \"add_constant\", \"add_constant\", \"add_constant\", \"add_constant\", \"add_constant\", \"add_constant\", \"add_edge\", \"add_edge\", \"add_mesh\", \"add_model\", \"add_model\", \"add_model\", \"add_model\", \"add_nuclide\", \"add_nuclide\", \"add_polynomial\", \"add_to\", \"add_to\", \"add_to\", \"all\", \"all\", \"all\", \"any\", \"any\", \"append\", \"append\", \"append\", \"append\", \"append\", \"append\", \"append\", \"apply\", \"apply\", \"apply\", \"apply\", \"apply\", \"apply\", \"applymap\", \"applymap\", \"applymap\", \"arange\", \"arange\", \"arange\", \"arange\", \"arange\", \"arange\", \"arange\", \"array\", \"array\", \"array\", \"array\", \"array\", \"array\", \"array\", \"asarray\", \"asarray\", \"asarray\", \"asarray\", \"assert_almost_equal\", \"assert_almost_equal\", \"astype\", \"astype\", \"astype\", \"astype\", \"astype\", \"astype\", \"axes\", \"axes\", \"axes\", \"axes\", \"axis\", \"axis\", \"axis\", \"axis\", \"axis\", \"axis\", \"axvline\", \"backward\", \"basicConfig\", \"basicConfig\", \"basicConfig\", \"basicConfig\", \"basicConfig\", \"basicConfig\", \"block_tables\", \"block_tables\", \"block_tables\", \"bucketized_column\", \"bucketized_column\", \"call\", \"call\", \"cancel\", \"chdir\", \"chdir\", \"chdir\", \"chdir\", \"chdir\", \"chdir\", \"circular\", \"coastlines\", \"coastlines\", \"coastlines\", \"columninfo\", \"commit\", \"commit\", \"commit\", \"commit\", \"compile\", \"compile\", \"compile\", \"compile\", \"compile\", \"compile\", \"compile\", \"concat\", \"concat\", \"concat\", \"concat\", \"concat\", \"concat\", \"concatenate\", \"concatenate\", \"concatenate\", \"concatenate\", \"connect\", \"connect\", \"connect\", \"connect\", \"connect\", \"connect\", \"connect\", \"constant\", \"constant\", \"constant\", \"constant\", \"constant\", \"constant\", \"contains\", \"contains\", \"contains\", \"contains\", \"context\", \"context\", \"context\", \"context\", \"contourf\", \"contourf\", \"conv2d\", \"conv2d\", \"conv2d\", \"conv2d\", \"conv2d\", \"conv2d\", \"convert\", \"convert\", \"copy\", \"copy\", \"copy\", \"copy\", \"copy\", \"cos\", \"cos\", \"cos\", \"cos\", \"cos\", \"cos\", \"cos\", \"count\", \"count\", \"count\", \"count\", \"countTets\", \"create_array\", \"create_array\", \"create_group\", \"create_group\", \"create_observable\", \"create_sandbox\", \"create_test_model\", \"create_test_model\", \"create_test_model\", \"create_test_model\", \"cumsum\", \"cumsum\", \"cumsum\", \"cumsum\", \"cumsum\", \"cumsum\", \"cursor\", \"cursor\", \"cursor\", \"cursor\", \"cursor\", \"cursor\", \"dataframe\", \"dataframe\", \"dataframe\", \"dataframe\", \"dataframe\", \"datetime\", \"datetime\", \"datetime\", \"datetime\", \"defaults\", \"defaults\", \"defaults\", \"defaults\", \"defaults\", \"dense\", \"dense\", \"dense\", \"dense\", \"describe\", \"describe\", \"describe\", \"describe\", \"det\", \"det\", \"dirname\", \"dirname\", \"dirname\", \"dirname\", \"display\", \"display\", \"display\", \"display\", \"distance2SWM\", \"dot\", \"dot\", \"dot\", \"dot\", \"dot\", \"dot\", \"download\", \"download\", \"download\", \"download\", \"download_extract\", \"download_extract\", \"drop\", \"drop\", \"drop\", \"drop\", \"drop\", \"drop\", \"drop\", \"drop_duplicates\", \"drop_duplicates\", \"dropna\", \"dropna\", \"dropna\", \"dropna\", \"dropna\", \"dropna\", \"enable\", \"enable_eager_execution\", \"enable_eager_execution\", \"enable_eager_execution\", \"enable_eager_execution\", \"execute\", \"execute\", \"execute\", \"execute\", \"execute\", \"execute\", \"execute\", \"executemany\", \"executing_eagerly\", \"exists\", \"exists\", \"exists\", \"exists\", \"exists\", \"exists\", \"exists\", \"exp\", \"exp\", \"exp\", \"exp\", \"exp\", \"exp\", \"exp\", \"export_to_xml\", \"export_to_xml\", \"export_to_xml\", \"export_to_xml\", \"export_to_xml\", \"extension\", \"extension\", \"extension\", \"extension\", \"extension\", \"extension\", \"figure\", \"figure\", \"figure\", \"figure\", \"figure\", \"figure\", \"figure\", \"fillna\", \"fillna\", \"fillna\", \"fillna\", \"fillna\", \"fillna\", \"fillna\", \"filterwarnings\", \"filterwarnings\", \"filterwarnings\", \"filterwarnings\", \"filterwarnings\", \"filterwarnings\", \"find_one\", \"fit\", \"fit\", \"fit\", \"fit\", \"fit\", \"fit\", \"fit_transform\", \"fit_transform\", \"fit_transform\", \"fit_transform\", \"fit_transform\", \"flip_left_right\", \"form_submission\", \"form_submission\", \"format\", \"format\", \"format\", \"format\", \"format\", \"format\", \"frequencies\", \"from_csv\", \"from_csv\", \"from_csv\", \"from_csv\", \"from_csv\", \"from_records\", \"fromarray\", \"fromarray\", \"fromarray\", \"generate\", \"generate\", \"generate\", \"genfromtxt\", \"genfromtxt\", \"genfromtxt\", \"genfromtxt\", \"genfromtxt\", \"genfromtxt\", \"get\", \"get\", \"get\", \"get\", \"get\", \"get\", \"get\", \"getLogger\", \"getLogger\", \"getLogger\", \"getLogger\", \"getLogger\", \"getLogger\", \"getOrCreate\", \"getOrCreate\", \"getOrCreate\", \"getOrCreate\", \"get_backend\", \"get_dummies\", \"get_dummies\", \"get_dummies\", \"get_file\", \"get_file\", \"get_file\", \"get_install_path\", \"get_install_path\", \"get_install_path\", \"get_install_path\", \"get_sensors\", \"getcwd\", \"getcwd\", \"getcwd\", \"getcwd\", \"getcwd\", \"getcwd\", \"getcwd\", \"glob\", \"glob\", \"glob\", \"glob\", \"head\", \"head\", \"head\", \"head\", \"head\", \"head\", \"head\", \"highlight_null\", \"highlight_null\", \"hist\", \"hist\", \"hist\", \"hist\", \"hist\", \"hist\", \"histogram\", \"html\", \"import_file\", \"import_file\", \"import_file\", \"import_file\", \"import_file\", \"imread\", \"imread\", \"imread\", \"imread\", \"imshow\", \"imshow\", \"imshow\", \"imshow\", \"imshow\", \"imshow\", \"imshow\", \"index\", \"index\", \"index\", \"info\", \"info\", \"info\", \"info\", \"info\", \"info\", \"init\", \"init\", \"init\", \"init\", \"init\", \"init\", \"init_printing\", \"init_printing\", \"init_printing\", \"init_printing\", \"init_printing\", \"initialize\", \"initialize\", \"initialize\", \"insert\", \"insert\", \"insert\", \"insert\", \"insert\", \"insert_one\", \"insert_order\", \"installPackage\", \"installPackage\", \"interp\", \"interpolate\", \"ion\", \"ion\", \"ion\", \"ion\", \"is_synchronized\", \"isnull\", \"isnull\", \"isnull\", \"isnull\", \"isnull\", \"join\", \"join\", \"join\", \"join\", \"join\", \"join\", \"join\", \"json\", \"json\", \"json\", \"json\", \"json\", \"json\", \"keys\", \"keys\", \"keys\", \"keys\", \"keys\", \"label\", \"label\", \"legend\", \"legend\", \"legend\", \"legend\", \"legend\", \"legend\", \"len\", \"linspace\", \"linspace\", \"linspace\", \"linspace\", \"linspace\", \"linspace\", \"linspace\", \"listdir\", \"listdir\", \"listdir\", \"listdir\", \"listdir\", \"listdir\", \"load\", \"load\", \"load\", \"load\", \"load\", \"load\", \"loadMesh\", \"load_accounts\", \"load_accounts\", \"load_data\", \"load_data\", \"load_data\", \"load_data\", \"load_data\", \"load_dataset\", \"load_iris\", \"load_iris\", \"load_iris\", \"load_iris\", \"load_iris\", \"load_iris\", \"load_training_metadata\", \"load_vistrail\", \"load_vistrail\", \"loadmat\", \"loadmat\", \"loadmat\", \"loadmat\", \"loadtxt\", \"loadtxt\", \"loadtxt\", \"loadtxt\", \"loadtxt\", \"loadtxt\", \"loadtxt\", \"log10\", \"log10\", \"log10\", \"log_prob\", \"log_prob\", \"log_prob\", \"magic\", \"magic\", \"magic\", \"magic\", \"make\", \"make\", \"make\", \"make\", \"makedirs\", \"makedirs\", \"makedirs\", \"makedirs\", \"makedirs\", \"map\", \"map\", \"map\", \"map\", \"map\", \"map\", \"map\", \"marching_cubes_lewiner\", \"matmul\", \"matmul\", \"matmul\", \"matmul\", \"matrix\", \"matrix\", \"matrix\", \"matrix\", \"max\", \"max\", \"max\", \"max\", \"max\", \"max\", \"max\", \"mean\", \"mean\", \"mean\", \"mean\", \"mean\", \"mean\", \"mean\", \"merge\", \"merge\", \"merge\", \"merge\", \"merge\", \"merge\", \"merge\", \"meshgrid\", \"meshgrid\", \"meshgrid\", \"meshgrid\", \"meshgrid\", \"meshgrid\", \"meshgrid\", \"min\", \"min\", \"min\", \"min\", \"min\", \"min\", \"minimize\", \"minimize\", \"minimize\", \"minimize\", \"minimize\", \"minimize\", \"move_to_com\", \"move_to_com\", \"move_to_com\", \"mult\", \"name_scope\", \"name_scope\", \"name_scope\", \"neighbors\", \"neighbors\", \"normal\", \"normal\", \"normal\", \"normal\", \"normal\", \"normal\", \"normal\", \"notebook_extension\", \"notebook_extension\", \"numeric_column\", \"numeric_column\", \"numeric_column\", \"omega\", \"omega\", \"open\", \"open\", \"open\", \"open\", \"open\", \"open\", \"open\", \"opts\", \"opts\", \"opts\", \"opts\", \"opts\", \"opts\", \"opts\", \"output\", \"output\", \"output\", \"output\", \"output\", \"output_plot_data\", \"packages\", \"pad_sequences\", \"pad_sequences\", \"parquet\", \"parquet\", \"parquet\", \"parse\", \"parse\", \"parse\", \"parse\", \"pcolormesh\", \"pivot_table\", \"pivot_table\", \"pivot_table\", \"placeholder\", \"placeholder\", \"placeholder\", \"placeholder\", \"placeholder\", \"placeholder\", \"placeholder\", \"plot\", \"plot\", \"plot\", \"plot\", \"plot\", \"plot\", \"plot\", \"plot_section\", \"plot_section\", \"plot_section\", \"poisson\", \"pop\", \"pop\", \"pop\", \"pop\", \"pprint\", \"pprint\", \"predict\", \"predict\", \"predict\", \"predict\", \"properties\", \"properties\", \"providers\", \"providers\", \"rand\", \"rand\", \"rand\", \"rand\", \"rand\", \"rand\", \"randint\", \"randint\", \"randint\", \"randint\", \"randint\", \"randint\", \"randint\", \"randn\", \"randn\", \"randn\", \"randn\", \"randn\", \"randn\", \"randn\", \"random\", \"random\", \"random\", \"random\", \"random\", \"random_flip_left_right\", \"random_normal\", \"rc\", \"rc\", \"rc\", \"read\", \"read\", \"read\", \"read\", \"read\", \"read\", \"read_csv\", \"read_csv\", \"read_csv\", \"read_csv\", \"read_csv\", \"read_csv\", \"read_csv\", \"read_csv_metadata\", \"read_csv_metadata\", \"read_csv_metadata\", \"read_csv_metadata\", \"read_csv_metadata\", \"read_data\", \"read_data\", \"read_data_sets\", \"read_data_sets\", \"read_data_sets\", \"read_data_sets\", \"read_data_sets\", \"read_data_sets\", \"read_data_sets\", \"read_excel\", \"read_excel\", \"read_excel\", \"read_excel\", \"read_excel\", \"read_excel\", \"read_excel\", \"read_hdf\", \"read_hdf\", \"read_hdf\", \"read_json\", \"read_json\", \"read_json\", \"read_json\", \"read_pickle\", \"read_pickle\", \"read_pickle\", \"read_pickle\", \"read_pickle\", \"read_pickle\", \"read_table\", \"read_table\", \"read_table\", \"receive_simpledeal\", \"receive_simpledeal\", \"receive_simpledeal\", \"reduceByKey\", \"reduce_mean\", \"reduce_mean\", \"reduce_mean\", \"reduce_mean\", \"reduce_mean\", \"reindex\", \"reindex\", \"reindex\", \"reindex\", \"reindex\", \"reload\", \"reload\", \"reload\", \"reload\", \"reload\", \"relu\", \"relu\", \"relu\", \"relu\", \"remove\", \"remove\", \"remove\", \"remove\", \"remove\", \"rename\", \"rename\", \"rename\", \"rename\", \"rename\", \"rename\", \"rename\", \"replace\", \"replace\", \"replace\", \"replace\", \"replace\", \"replace\", \"reset_index\", \"reset_index\", \"reset_index\", \"reset_index\", \"reset_index\", \"reset_index\", \"reset_index\", \"reset_working_block\", \"reset_working_block\", \"reshape\", \"reshape\", \"reshape\", \"reshape\", \"reshape\", \"reshape\", \"reshape\", \"resize_images\", \"resize_images\", \"rollback\", \"rollback\", \"rollback\", \"run\", \"run\", \"run\", \"run\", \"run\", \"run\", \"run\", \"run_metrics\", \"runif\", \"runif\", \"sample\", \"sample\", \"sample\", \"sample\", \"sample\", \"sample\", \"sample\", \"save\", \"save\", \"save\", \"save\", \"save\", \"save\", \"save\", \"savefig\", \"savefig\", \"savefig\", \"savefig\", \"savefig\", \"scatter\", \"scatter\", \"scatter\", \"scatter\", \"scatter\", \"scatter\", \"seed\", \"seed\", \"seed\", \"seed\", \"seed\", \"seed\", \"seed\", \"select_latest_version\", \"select_latest_version\", \"send\", \"send\", \"set\", \"set\", \"set\", \"set\", \"set\", \"set\", \"setKcst\", \"setKcst\", \"setKcst\", \"setLevel\", \"setLevel\", \"setLevel\", \"setLevel\", \"setNumThreads\", \"set_credentials_file\", \"set_credentials_file\", \"set_global\", \"set_global\", \"set_index\", \"set_index\", \"set_index\", \"set_index\", \"set_index\", \"set_index\", \"set_mantle_target\", \"set_mantle_target\", \"set_mantle_target\", \"set_mantle_target\", \"set_max_iterations\", \"set_max_iterations\", \"set_option\", \"set_option\", \"set_option\", \"set_option\", \"set_params\", \"set_params\", \"set_printoptions\", \"set_printoptions\", \"set_printoptions\", \"set_printoptions\", \"set_printoptions\", \"set_printoptions\", \"set_printoptions\", \"set_title\", \"set_title\", \"set_title\", \"set_title\", \"set_title\", \"set_title\", \"set_value_BC\", \"set_value_BC\", \"set_verbosity\", \"set_verbosity\", \"set_verbosity\", \"set_verbosity\", \"set_verbosity\", \"set_verbosity\", \"set_xlabel\", \"set_xlabel\", \"set_xlabel\", \"set_xlabel\", \"set_xlabel\", \"set_ylabel\", \"set_ylabel\", \"set_ylabel\", \"set_ylabel\", \"setup\", \"setup\", \"setup\", \"setup\", \"setup\", \"setup\", \"show\", \"show\", \"show\", \"show\", \"show\", \"show\", \"show\", \"sign\", \"sign\", \"simplify\", \"simplify\", \"simplify\", \"simplify\", \"sin\", \"sin\", \"sin\", \"sin\", \"sin\", \"sin\", \"sin\", \"sort\", \"sort\", \"sort\", \"sort\", \"sort_index\", \"sort_index\", \"sort_index\", \"sort_index\", \"split\", \"split\", \"split\", \"split\", \"split\", \"split\", \"split\", \"sqrt\", \"sqrt\", \"sqrt\", \"sqrt\", \"sqrt\", \"sqrt\", \"square\", \"square\", \"square\", \"square\", \"standard\", \"standard\", \"standardize\", \"start\", \"start\", \"start\", \"strftime\", \"strftime\", \"strftime\", \"strftime\", \"strip\", \"strip\", \"strip\", \"strip\", \"strip\", \"sub\", \"sub\", \"sub\", \"sub\", \"sub\", \"sum\", \"sum\", \"sum\", \"sum\", \"sum\", \"sum\", \"sum\", \"summary\", \"summary\", \"summary\", \"surface\", \"system\", \"system\", \"system\", \"system\", \"system\", \"table\", \"table\", \"table\", \"table\", \"table\", \"tag\", \"tag\", \"tail\", \"tail\", \"tail\", \"tail\", \"tensor\", \"tensor\", \"text\", \"text\", \"text\", \"text\", \"text\", \"textFile\", \"textFile\", \"textFile\", \"thompson\", \"thompson\", \"tick_params\", \"tick_params\", \"title\", \"title\", \"title\", \"title\", \"title\", \"to\", \"to\", \"to\", \"to\", \"to\", \"to\", \"to\", \"to_csv\", \"to_csv\", \"to_csv\", \"to_csv\", \"to_dict\", \"to_dict\", \"to_frame\", \"to_frame\", \"to_frame\", \"to_frame\", \"to_numeric\", \"to_numeric\", \"to_numeric\", \"to_numpy\", \"to_numpy\", \"to_numpy\", \"to_numpy\", \"to_numpy\", \"to_openmm\", \"to_pandas\", \"trade\", \"trade\", \"train_perceptron\", \"train_perceptron\", \"transform\", \"transform\", \"transform\", \"transform\", \"translate\", \"translate\", \"translate\", \"transpose\", \"transpose\", \"transpose\", \"trim\", \"txn\", \"tz_convert\", \"uniform\", \"uniform\", \"uniform\", \"uniform\", \"uniform\", \"unique\", \"unique\", \"unique\", \"unique\", \"unique\", \"unique\", \"unstack\", \"unstack\", \"unstack\", \"unstack\", \"unstack\", \"update\", \"update\", \"update\", \"update\", \"update\", \"urlretrieve\", \"urlretrieve\", \"urlretrieve\", \"use\", \"use\", \"use\", \"use\", \"use\", \"use\", \"use\", \"valuation_mcs_european_single\", \"valuation_mcs_european_single\", \"value_counts\", \"value_counts\", \"value_counts\", \"value_counts\", \"variable_scope\", \"variable_scope\", \"variable_scope\", \"variable_scope\", \"vectorize\", \"where\", \"where\", \"where\", \"where\", \"where\", \"with_diskcache\", \"xlabel\", \"xlabel\", \"xlabel\", \"xlabel\", \"xlabel\", \"xlabel\", \"xscale\", \"ylabel\", \"ylabel\", \"ylabel\", \"ylabel\", \"ylabel\", \"ylabel\", \"ylim\", \"ylim\", \"ylim\", \"zeros\", \"zeros\", \"zeros\", \"zeros\", \"zeros\", \"zeros\", \"zeros\"]}, \"R\": 30, \"lambda.step\": 0.01, \"plot.opts\": {\"xlab\": \"PC1\", \"ylab\": \"PC2\"}, \"topic.order\": [1, 2, 3, 4, 5, 6, 7]};\n",
       "\n",
       "function LDAvis_load_lib(url, callback){\n",
       "  var s = document.createElement('script');\n",
       "  s.src = url;\n",
       "  s.async = true;\n",
       "  s.onreadystatechange = s.onload = callback;\n",
       "  s.onerror = function(){console.warn(\"failed to load library \" + url);};\n",
       "  document.getElementsByTagName(\"head\")[0].appendChild(s);\n",
       "}\n",
       "\n",
       "if(typeof(LDAvis) !== \"undefined\"){\n",
       "   // already loaded: just create the visualization\n",
       "   !function(LDAvis){\n",
       "       new LDAvis(\"#\" + \"ldavis_el77725279377787274914700\", ldavis_el77725279377787274914700_data);\n",
       "   }(LDAvis);\n",
       "}else if(typeof define === \"function\" && define.amd){\n",
       "   // require.js is available: use it to load d3/LDAvis\n",
       "   require.config({paths: {d3: \"https://cdnjs.cloudflare.com/ajax/libs/d3/3.5.5/d3.min\"}});\n",
       "   require([\"d3\"], function(d3){\n",
       "      window.d3 = d3;\n",
       "      LDAvis_load_lib(\"https://cdn.rawgit.com/bmabey/pyLDAvis/files/ldavis.v1.0.0.js\", function(){\n",
       "        new LDAvis(\"#\" + \"ldavis_el77725279377787274914700\", ldavis_el77725279377787274914700_data);\n",
       "      });\n",
       "    });\n",
       "}else{\n",
       "    // require.js not available: dynamically load d3 & LDAvis\n",
       "    LDAvis_load_lib(\"https://cdnjs.cloudflare.com/ajax/libs/d3/3.5.5/d3.min.js\", function(){\n",
       "         LDAvis_load_lib(\"https://cdn.rawgit.com/bmabey/pyLDAvis/files/ldavis.v1.0.0.js\", function(){\n",
       "                 new LDAvis(\"#\" + \"ldavis_el77725279377787274914700\", ldavis_el77725279377787274914700_data);\n",
       "            })\n",
       "         });\n",
       "}\n",
       "</script>"
      ],
      "text/plain": [
       "PreparedData(topic_coordinates=              x         y  topics  cluster       Freq\n",
       "topic                                                \n",
       "0      0.196859 -0.048220       1        1  16.974419\n",
       "1      0.008356 -0.197884       2        1  12.549253\n",
       "2     -0.222872 -0.056781       3        1  12.687832\n",
       "3     -0.004286  0.216316       4        1  15.472544\n",
       "4      0.101873  0.035058       5        1  14.674290\n",
       "5     -0.104738  0.041924       6        1  13.813716\n",
       "6      0.024808  0.009588       7        1  13.827952, topic_info=     Category         Freq               Term        Total  loglift  logprob\n",
       "term                                                                        \n",
       "3     Default  1048.000000           read_csv  1048.000000  30.0000  30.0000\n",
       "43    Default   448.000000              array   448.000000  29.0000  29.0000\n",
       "2     Default   404.000000          load_data   404.000000  28.0000  28.0000\n",
       "24    Default   585.000000             append   585.000000  27.0000  27.0000\n",
       "27    Default   724.000000               head   724.000000  26.0000  26.0000\n",
       "4     Default   424.000000               plot   424.000000  25.0000  25.0000\n",
       "9     Default   257.000000                add   257.000000  24.0000  24.0000\n",
       "58    Default   177.000000              apply   177.000000  23.0000  23.0000\n",
       "34    Default   278.000000          extension   278.000000  22.0000  22.0000\n",
       "127   Default   308.000000               join   308.000000  21.0000  21.0000\n",
       "20    Default   136.000000              count   136.000000  20.0000  20.0000\n",
       "6     Default   173.000000               load   173.000000  19.0000  19.0000\n",
       "139   Default   170.000000            reshape   170.000000  18.0000  18.0000\n",
       "64    Default   438.000000               show   438.000000  17.0000  17.0000\n",
       "15    Default   141.000000             insert   141.000000  16.0000  16.0000\n",
       "32    Default   325.000000          DataFrame   325.000000  15.0000  15.0000\n",
       "28    Default   166.000000             arange   166.000000  14.0000  14.0000\n",
       "17    Default   216.000000                get   216.000000  13.0000  13.0000\n",
       "37    Default   177.000000              split   177.000000  12.0000  12.0000\n",
       "148   Default   126.000000        placeholder   126.000000  11.0000  11.0000\n",
       "382   Default   105.000000           Variable   105.000000  10.0000  10.0000\n",
       "174   Default   142.000000             ylabel   142.000000   9.0000   9.0000\n",
       "173   Default   139.000000             xlabel   139.000000   8.0000   8.0000\n",
       "340   Default   130.000000           describe   130.000000   7.0000   7.0000\n",
       "80    Default   111.000000               sqrt   111.000000   6.0000   6.0000\n",
       "163   Default    92.000000                set    92.000000   5.0000   5.0000\n",
       "33    Default   112.000000            execute   112.000000   4.0000   4.0000\n",
       "124   Default    98.000000               init    98.000000   3.0000   3.0000\n",
       "272   Default   138.000000             astype   138.000000   2.0000   2.0000\n",
       "60    Default   101.000000               mean   101.000000   1.0000   1.0000\n",
       "...       ...          ...                ...          ...      ...      ...\n",
       "327    Topic7    39.566151  read_csv_metadata    54.236298   1.6631  -4.4423\n",
       "630    Topic7    11.196890         coastlines    14.880837   1.6940  -5.7046\n",
       "340    Topic7    89.247459           describe   130.842560   1.5959  -3.6289\n",
       "37     Topic7   118.594803              split   177.292206   1.5764  -3.3446\n",
       "525    Topic7    17.447102           datetime    24.082264   1.6562  -5.2611\n",
       "93     Topic7    31.937862            randint    47.206821   1.5877  -4.6565\n",
       "17     Topic7   126.938728                get   216.027924   1.4468  -3.2766\n",
       "237    Topic7    22.727207         genfromtxt    33.277382   1.5972  -4.9967\n",
       "27     Topic7   341.969482               head   724.109375   1.2283  -2.2855\n",
       "221    Topic7    49.448906                use    83.793732   1.4511  -4.2193\n",
       "132    Topic7    37.851929              randn    66.893425   1.4091  -4.4866\n",
       "357    Topic7    20.193150             matmul    32.841736   1.4921  -5.1149\n",
       "35     Topic7    42.170486       add_constant    81.593140   1.3185  -4.3785\n",
       "472    Topic7    14.834794             reload    23.112568   1.5351  -5.4233\n",
       "180    Topic7    17.944475           minimize    29.892616   1.4681  -5.2330\n",
       "308    Topic7    20.755770                 to    37.365685   1.3905  -5.0874\n",
       "64     Topic7   114.262276               show   438.013733   0.6347  -3.3818\n",
       "5      Topic7    21.115950           __init__    38.967804   1.3658  -5.0702\n",
       "138    Topic7    14.365357        reduce_mean    22.420815   1.5333  -5.4554\n",
       "32     Topic7    55.864563          DataFrame   325.842010   0.2150  -4.0973\n",
       "24     Topic7    49.404163             append   585.099548  -0.4933  -4.2202\n",
       "496    Topic7    13.590446               axes    26.696098   1.3033  -5.5109\n",
       "223    Topic7    19.023697             imshow    92.150352   0.4007  -5.1746\n",
       "50     Topic7    20.852125               seed   155.702713  -0.0320  -5.0828\n",
       "47     Topic7    16.153399              zeros   108.551895   0.0734  -5.3381\n",
       "4      Topic7    18.852694               plot   424.034119  -1.1347  -5.1836\n",
       "127    Topic7    17.667244               join   308.024902  -0.8800  -5.2486\n",
       "30     Topic7    17.404121           linspace   268.939880  -0.7593  -5.2636\n",
       "187    Topic7    16.055689                sin   129.417816  -0.1085  -5.3442\n",
       "129    Topic7    15.373589                sum   112.653748  -0.0132  -5.3876\n",
       "\n",
       "[457 rows x 6 columns], token_table=      Topic      Freq            Term\n",
       "term                                 \n",
       "1012      4  0.840155           Arrow\n",
       "1012      5  0.084015           Arrow\n",
       "1012      6  0.084015           Arrow\n",
       "888       7  0.809231   BayesianRidge\n",
       "377       6  0.919169   BeautifulSoup\n",
       "1162      5  0.864252          Canvas\n",
       "843       3  0.083640            Cell\n",
       "843       4  0.836398            Cell\n",
       "843       6  0.083640            Cell\n",
       "874       5  0.808535        ClientV1\n",
       "521       7  0.865052    ConfigParser\n",
       "66        1  0.037984           Curve\n",
       "66        3  0.683707           Curve\n",
       "66        4  0.018992           Curve\n",
       "66        5  0.056976           Curve\n",
       "66        6  0.189919           Curve\n",
       "66        7  0.018992           Curve\n",
       "220       2  0.915473            Data\n",
       "220       5  0.101719            Data\n",
       "32        1  0.067517       DataFrame\n",
       "32        2  0.107414       DataFrame\n",
       "32        3  0.085931       DataFrame\n",
       "32        4  0.003069       DataFrame\n",
       "32        5  0.009207       DataFrame\n",
       "32        6  0.555484       DataFrame\n",
       "32        7  0.171862       DataFrame\n",
       "947       4  0.154905         DataPot\n",
       "947       7  0.774526         DataPot\n",
       "515       5  0.058429           Dense\n",
       "515       6  0.876440           Dense\n",
       "...     ...       ...             ...\n",
       "366       3  0.786090       vectorize\n",
       "267       1  0.037432           where\n",
       "267       2  0.074863           where\n",
       "267       4  0.673771           where\n",
       "267       5  0.149727           where\n",
       "267       7  0.112295           where\n",
       "257       4  0.847731  with_diskcache\n",
       "173       1  0.812207          xlabel\n",
       "173       2  0.086252          xlabel\n",
       "173       4  0.035938          xlabel\n",
       "173       5  0.028751          xlabel\n",
       "173       6  0.007188          xlabel\n",
       "173       7  0.028751          xlabel\n",
       "538       1  0.817316          xscale\n",
       "174       1  0.828929          ylabel\n",
       "174       2  0.084298          ylabel\n",
       "174       4  0.028099          ylabel\n",
       "174       5  0.021074          ylabel\n",
       "174       6  0.007025          ylabel\n",
       "174       7  0.035124          ylabel\n",
       "108       1  0.818879            ylim\n",
       "108       2  0.109184            ylim\n",
       "108       7  0.054592            ylim\n",
       "47        1  0.073697           zeros\n",
       "47        2  0.009212           zeros\n",
       "47        3  0.055273           zeros\n",
       "47        4  0.046061           zeros\n",
       "47        5  0.147395           zeros\n",
       "47        6  0.515882           zeros\n",
       "47        7  0.147395           zeros\n",
       "\n",
       "[1358 rows x 3 columns], R=30, lambda_step=0.01, plot_opts={'xlab': 'PC1', 'ylab': 'PC2'}, topic_order=[1, 2, 3, 4, 5, 6, 7])"
      ]
     },
     "execution_count": 16,
     "metadata": {},
     "output_type": "execute_result"
    }
   ],
   "source": [
    "# inspect regular topics - ATTENTION: ALL TOPICS ARE SHIFTED WITH ID +1 w.r.t. GENSIM\n",
    "normalv"
   ]
  }
 ],
 "metadata": {
  "kernelspec": {
   "display_name": "Python 3",
   "language": "python",
   "name": "python3"
  },
  "language_info": {
   "codemirror_mode": {
    "name": "ipython",
    "version": 3
   },
   "file_extension": ".py",
   "mimetype": "text/x-python",
   "name": "python",
   "nbconvert_exporter": "python",
   "pygments_lexer": "ipython3",
   "version": "3.6.5"
  }
 },
 "nbformat": 4,
 "nbformat_minor": 2
}
