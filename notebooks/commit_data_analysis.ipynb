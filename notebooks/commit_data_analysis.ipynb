{
 "cells": [
  {
   "cell_type": "markdown",
   "metadata": {},
   "source": [
    "# Analyse der Commit Codes Daten"
   ]
  },
  {
   "cell_type": "code",
   "execution_count": 1,
   "metadata": {},
   "outputs": [],
   "source": [
    "import pandas as pd"
   ]
  },
  {
   "cell_type": "code",
   "execution_count": 3,
   "metadata": {},
   "outputs": [],
   "source": [
    "data = pd.read_csv(\"commit_data/commit_code.csv\")\n",
    "data = data.iloc[:,1:]"
   ]
  },
  {
   "cell_type": "code",
   "execution_count": 4,
   "metadata": {},
   "outputs": [
    {
     "data": {
      "text/html": [
       "<div>\n",
       "<style scoped>\n",
       "    .dataframe tbody tr th:only-of-type {\n",
       "        vertical-align: middle;\n",
       "    }\n",
       "\n",
       "    .dataframe tbody tr th {\n",
       "        vertical-align: top;\n",
       "    }\n",
       "\n",
       "    .dataframe thead th {\n",
       "        text-align: right;\n",
       "    }\n",
       "</style>\n",
       "<table border=\"1\" class=\"dataframe\">\n",
       "  <thead>\n",
       "    <tr style=\"text-align: right;\">\n",
       "      <th></th>\n",
       "      <th>commit</th>\n",
       "      <th>path</th>\n",
       "      <th>repo</th>\n",
       "      <th>add</th>\n",
       "      <th>remove</th>\n",
       "      <th>changes</th>\n",
       "    </tr>\n",
       "  </thead>\n",
       "  <tbody>\n",
       "    <tr>\n",
       "      <th>0</th>\n",
       "      <td>0001517e0b6e517b4637eb14fd807190b7113e68</td>\n",
       "      <td>ProcessLocalImage.ipynb</td>\n",
       "      <td>radosuav/pyTSEB</td>\n",
       "      <td>114.0</td>\n",
       "      <td>18.0</td>\n",
       "      <td>@@ -8,13 +8,24 @@\\r\\n     \"In this notebook we...</td>\n",
       "    </tr>\n",
       "    <tr>\n",
       "      <th>1</th>\n",
       "      <td>0001517e0b6e517b4637eb14fd807190b7113e68</td>\n",
       "      <td>ProcessPointTimeSeries.ipynb</td>\n",
       "      <td>radosuav/pyTSEB</td>\n",
       "      <td>66.0</td>\n",
       "      <td>17.0</td>\n",
       "      <td>@@ -7,7 +7,7 @@\\r\\n     \"# Summary\\n\",\\r\\n    ...</td>\n",
       "    </tr>\n",
       "    <tr>\n",
       "      <th>2</th>\n",
       "      <td>00019cf89e1e7bf553e60b651237c05ce7552d6d</td>\n",
       "      <td>deep learning/Autoencoders.ipynb</td>\n",
       "      <td>5agado/data-science-learning</td>\n",
       "      <td>3716.0</td>\n",
       "      <td>0.0</td>\n",
       "      <td>NaN</td>\n",
       "    </tr>\n",
       "    <tr>\n",
       "      <th>3</th>\n",
       "      <td>0001db9abd3f9d460ea23d1192b2554a2aa3b296</td>\n",
       "      <td>Data_Pipeline.ipynb</td>\n",
       "      <td>CLandauGWU/group_e</td>\n",
       "      <td>105.0</td>\n",
       "      <td>96.0</td>\n",
       "      <td>@@ -2,10 +2,8 @@\\r\\n  \"cells\": [\\r\\n   {\\r\\n  ...</td>\n",
       "    </tr>\n",
       "    <tr>\n",
       "      <th>4</th>\n",
       "      <td>0001f1b46379d76414b87bec31ced6804055d098</td>\n",
       "      <td>notebooks/2017-02-10-running_compliance_checke...</td>\n",
       "      <td>ocefpaf/notebooks_demos</td>\n",
       "      <td>579.0</td>\n",
       "      <td>0.0</td>\n",
       "      <td>@@ -0,0 +1,579 @@\\r\\n+{\\r\\n+ \"cells\": [\\r\\n+  ...</td>\n",
       "    </tr>\n",
       "  </tbody>\n",
       "</table>\n",
       "</div>"
      ],
      "text/plain": [
       "                                     commit  \\\n",
       "0  0001517e0b6e517b4637eb14fd807190b7113e68   \n",
       "1  0001517e0b6e517b4637eb14fd807190b7113e68   \n",
       "2  00019cf89e1e7bf553e60b651237c05ce7552d6d   \n",
       "3  0001db9abd3f9d460ea23d1192b2554a2aa3b296   \n",
       "4  0001f1b46379d76414b87bec31ced6804055d098   \n",
       "\n",
       "                                                path  \\\n",
       "0                            ProcessLocalImage.ipynb   \n",
       "1                       ProcessPointTimeSeries.ipynb   \n",
       "2                   deep learning/Autoencoders.ipynb   \n",
       "3                                Data_Pipeline.ipynb   \n",
       "4  notebooks/2017-02-10-running_compliance_checke...   \n",
       "\n",
       "                           repo     add  remove  \\\n",
       "0               radosuav/pyTSEB   114.0    18.0   \n",
       "1               radosuav/pyTSEB    66.0    17.0   \n",
       "2  5agado/data-science-learning  3716.0     0.0   \n",
       "3            CLandauGWU/group_e   105.0    96.0   \n",
       "4       ocefpaf/notebooks_demos   579.0     0.0   \n",
       "\n",
       "                                             changes  \n",
       "0  @@ -8,13 +8,24 @@\\r\\n     \"In this notebook we...  \n",
       "1  @@ -7,7 +7,7 @@\\r\\n     \"# Summary\\n\",\\r\\n    ...  \n",
       "2                                                NaN  \n",
       "3  @@ -2,10 +2,8 @@\\r\\n  \"cells\": [\\r\\n   {\\r\\n  ...  \n",
       "4  @@ -0,0 +1,579 @@\\r\\n+{\\r\\n+ \"cells\": [\\r\\n+  ...  "
      ]
     },
     "execution_count": 4,
     "metadata": {},
     "output_type": "execute_result"
    }
   ],
   "source": [
    "data.head()"
   ]
  },
  {
   "cell_type": "code",
   "execution_count": 5,
   "metadata": {},
   "outputs": [
    {
     "data": {
      "text/plain": [
       "317055"
      ]
     },
     "execution_count": 5,
     "metadata": {},
     "output_type": "execute_result"
    }
   ],
   "source": [
    "len(data)"
   ]
  },
  {
   "cell_type": "code",
   "execution_count": 6,
   "metadata": {},
   "outputs": [
    {
     "data": {
      "text/plain": [
       "commit         0\n",
       "path           0\n",
       "repo           0\n",
       "add        13126\n",
       "remove     13126\n",
       "changes    98823\n",
       "dtype: int64"
      ]
     },
     "execution_count": 6,
     "metadata": {},
     "output_type": "execute_result"
    }
   ],
   "source": [
    "data.isna().sum()"
   ]
  },
  {
   "cell_type": "code",
   "execution_count": 6,
   "metadata": {},
   "outputs": [
    {
     "data": {
      "text/html": [
       "<div>\n",
       "<style scoped>\n",
       "    .dataframe tbody tr th:only-of-type {\n",
       "        vertical-align: middle;\n",
       "    }\n",
       "\n",
       "    .dataframe tbody tr th {\n",
       "        vertical-align: top;\n",
       "    }\n",
       "\n",
       "    .dataframe thead th {\n",
       "        text-align: right;\n",
       "    }\n",
       "</style>\n",
       "<table border=\"1\" class=\"dataframe\">\n",
       "  <thead>\n",
       "    <tr style=\"text-align: right;\">\n",
       "      <th></th>\n",
       "      <th>add</th>\n",
       "      <th>remove</th>\n",
       "    </tr>\n",
       "  </thead>\n",
       "  <tbody>\n",
       "    <tr>\n",
       "      <th>count</th>\n",
       "      <td>303929</td>\n",
       "      <td>303929</td>\n",
       "    </tr>\n",
       "    <tr>\n",
       "      <th>mean</th>\n",
       "      <td>626</td>\n",
       "      <td>267</td>\n",
       "    </tr>\n",
       "    <tr>\n",
       "      <th>std</th>\n",
       "      <td>8601</td>\n",
       "      <td>6280</td>\n",
       "    </tr>\n",
       "    <tr>\n",
       "      <th>min</th>\n",
       "      <td>0</td>\n",
       "      <td>0</td>\n",
       "    </tr>\n",
       "    <tr>\n",
       "      <th>25%</th>\n",
       "      <td>4</td>\n",
       "      <td>0</td>\n",
       "    </tr>\n",
       "    <tr>\n",
       "      <th>50%</th>\n",
       "      <td>53</td>\n",
       "      <td>2</td>\n",
       "    </tr>\n",
       "    <tr>\n",
       "      <th>75%</th>\n",
       "      <td>252</td>\n",
       "      <td>30</td>\n",
       "    </tr>\n",
       "    <tr>\n",
       "      <th>max</th>\n",
       "      <td>1552834</td>\n",
       "      <td>1552826</td>\n",
       "    </tr>\n",
       "  </tbody>\n",
       "</table>\n",
       "</div>"
      ],
      "text/plain": [
       "           add   remove\n",
       "count   303929   303929\n",
       "mean       626      267\n",
       "std       8601     6280\n",
       "min          0        0\n",
       "25%          4        0\n",
       "50%         53        2\n",
       "75%        252       30\n",
       "max    1552834  1552826"
      ]
     },
     "execution_count": 6,
     "metadata": {},
     "output_type": "execute_result"
    }
   ],
   "source": [
    "desc = data.describe()\n",
    "desc[:] = desc[:].astype(int)\n",
    "desc"
   ]
  },
  {
   "cell_type": "code",
   "execution_count": 15,
   "metadata": {},
   "outputs": [
    {
     "data": {
      "text/html": [
       "<div>\n",
       "<style scoped>\n",
       "    .dataframe tbody tr th:only-of-type {\n",
       "        vertical-align: middle;\n",
       "    }\n",
       "\n",
       "    .dataframe tbody tr th {\n",
       "        vertical-align: top;\n",
       "    }\n",
       "\n",
       "    .dataframe thead th {\n",
       "        text-align: right;\n",
       "    }\n",
       "</style>\n",
       "<table border=\"1\" class=\"dataframe\">\n",
       "  <thead>\n",
       "    <tr style=\"text-align: right;\">\n",
       "      <th></th>\n",
       "      <th>commit</th>\n",
       "      <th>path</th>\n",
       "      <th>repo</th>\n",
       "      <th>changes</th>\n",
       "    </tr>\n",
       "  </thead>\n",
       "  <tbody>\n",
       "    <tr>\n",
       "      <th>count</th>\n",
       "      <td>317055</td>\n",
       "      <td>317055</td>\n",
       "      <td>317055</td>\n",
       "      <td>218232</td>\n",
       "    </tr>\n",
       "    <tr>\n",
       "      <th>unique</th>\n",
       "      <td>122024</td>\n",
       "      <td>28471</td>\n",
       "      <td>6651</td>\n",
       "      <td>101688</td>\n",
       "    </tr>\n",
       "    <tr>\n",
       "      <th>top</th>\n",
       "      <td>deb9f882f194da8b0fdc4c4d342666da2f5083db</td>\n",
       "      <td>language-translation/dlnd_language_translation...</td>\n",
       "      <td>13522364778/liupengyuan.github.io</td>\n",
       "      <td>404</td>\n",
       "    </tr>\n",
       "    <tr>\n",
       "      <th>freq</th>\n",
       "      <td>373</td>\n",
       "      <td>3193</td>\n",
       "      <td>33119</td>\n",
       "      <td>2481</td>\n",
       "    </tr>\n",
       "  </tbody>\n",
       "</table>\n",
       "</div>"
      ],
      "text/plain": [
       "                                          commit  \\\n",
       "count                                     317055   \n",
       "unique                                    122024   \n",
       "top     deb9f882f194da8b0fdc4c4d342666da2f5083db   \n",
       "freq                                         373   \n",
       "\n",
       "                                                     path  \\\n",
       "count                                              317055   \n",
       "unique                                              28471   \n",
       "top     language-translation/dlnd_language_translation...   \n",
       "freq                                                 3193   \n",
       "\n",
       "                                     repo changes  \n",
       "count                              317055  218232  \n",
       "unique                               6651  101688  \n",
       "top     13522364778/liupengyuan.github.io     404  \n",
       "freq                                33119    2481  "
      ]
     },
     "execution_count": 15,
     "metadata": {},
     "output_type": "execute_result"
    }
   ],
   "source": [
    "data.describe(include=['object'])"
   ]
  },
  {
   "cell_type": "code",
   "execution_count": 10,
   "metadata": {},
   "outputs": [
    {
     "data": {
      "text/html": [
       "<div>\n",
       "<style scoped>\n",
       "    .dataframe tbody tr th:only-of-type {\n",
       "        vertical-align: middle;\n",
       "    }\n",
       "\n",
       "    .dataframe tbody tr th {\n",
       "        vertical-align: top;\n",
       "    }\n",
       "\n",
       "    .dataframe thead th {\n",
       "        text-align: right;\n",
       "    }\n",
       "</style>\n",
       "<table border=\"1\" class=\"dataframe\">\n",
       "  <thead>\n",
       "    <tr style=\"text-align: right;\">\n",
       "      <th></th>\n",
       "      <th>commit</th>\n",
       "      <th>path</th>\n",
       "      <th>repo</th>\n",
       "      <th>add</th>\n",
       "      <th>remove</th>\n",
       "      <th>changes</th>\n",
       "    </tr>\n",
       "  </thead>\n",
       "  <tbody>\n",
       "    <tr>\n",
       "      <th>83058</th>\n",
       "      <td>44bab7be32579c65de276c20190d5926ff109bdf</td>\n",
       "      <td>main.ipynb</td>\n",
       "      <td>NatiAris/reed-vk</td>\n",
       "      <td>NaN</td>\n",
       "      <td>NaN</td>\n",
       "      <td>404</td>\n",
       "    </tr>\n",
       "    <tr>\n",
       "      <th>250188</th>\n",
       "      <td>cc2cac59b43f94e4a7662e51eb31444d8b6f6574</td>\n",
       "      <td>Notebooks/PathFind/qc-pipeline-results.ipynb</td>\n",
       "      <td>ssjunnebo/pathogen-informatics-training</td>\n",
       "      <td>NaN</td>\n",
       "      <td>NaN</td>\n",
       "      <td>404</td>\n",
       "    </tr>\n",
       "    <tr>\n",
       "      <th>37448</th>\n",
       "      <td>1ebc6c8129b1f5c9118607b3b4953247b5dd10fd</td>\n",
       "      <td>docs/source/auto_examples/plot_OT_1D.ipynb</td>\n",
       "      <td>aje/POT</td>\n",
       "      <td>NaN</td>\n",
       "      <td>NaN</td>\n",
       "      <td>404</td>\n",
       "    </tr>\n",
       "    <tr>\n",
       "      <th>250185</th>\n",
       "      <td>cc2c353abbd7f8904ac49774d7900d775ad9130d</td>\n",
       "      <td>python/Testing.ipynb</td>\n",
       "      <td>roboloni/active-tree-search</td>\n",
       "      <td>NaN</td>\n",
       "      <td>NaN</td>\n",
       "      <td>404</td>\n",
       "    </tr>\n",
       "    <tr>\n",
       "      <th>62955</th>\n",
       "      <td>348282f378c3d0c5eba85e31ee23d3c7dbb359f5</td>\n",
       "      <td>Local Complexity Tests.ipynb</td>\n",
       "      <td>Saxafras/Spacetime</td>\n",
       "      <td>NaN</td>\n",
       "      <td>NaN</td>\n",
       "      <td>404</td>\n",
       "    </tr>\n",
       "  </tbody>\n",
       "</table>\n",
       "</div>"
      ],
      "text/plain": [
       "                                          commit  \\\n",
       "83058   44bab7be32579c65de276c20190d5926ff109bdf   \n",
       "250188  cc2cac59b43f94e4a7662e51eb31444d8b6f6574   \n",
       "37448   1ebc6c8129b1f5c9118607b3b4953247b5dd10fd   \n",
       "250185  cc2c353abbd7f8904ac49774d7900d775ad9130d   \n",
       "62955   348282f378c3d0c5eba85e31ee23d3c7dbb359f5   \n",
       "\n",
       "                                                path  \\\n",
       "83058                                     main.ipynb   \n",
       "250188  Notebooks/PathFind/qc-pipeline-results.ipynb   \n",
       "37448     docs/source/auto_examples/plot_OT_1D.ipynb   \n",
       "250185                          python/Testing.ipynb   \n",
       "62955                   Local Complexity Tests.ipynb   \n",
       "\n",
       "                                           repo  add  remove changes  \n",
       "83058                          NatiAris/reed-vk  NaN     NaN     404  \n",
       "250188  ssjunnebo/pathogen-informatics-training  NaN     NaN     404  \n",
       "37448                                   aje/POT  NaN     NaN     404  \n",
       "250185              roboloni/active-tree-search  NaN     NaN     404  \n",
       "62955                        Saxafras/Spacetime  NaN     NaN     404  "
      ]
     },
     "execution_count": 10,
     "metadata": {},
     "output_type": "execute_result"
    }
   ],
   "source": [
    "data.sort_values(by = \"changes\").head()"
   ]
  },
  {
   "cell_type": "code",
   "execution_count": 9,
   "metadata": {},
   "outputs": [
    {
     "data": {
      "text/plain": [
       "deb9f882f194da8b0fdc4c4d342666da2f5083db    373\n",
       "6b8c757dfac4bcfcd2b2affd3cf9115ffa1fb9ba    366\n",
       "0c7c89cec39edc932645593532b3a632fa0c301b    341\n",
       "fe17b667f8948d18ad513d3284bbbbeacaf8cd4d    333\n",
       "97b2a469f5aabea166f329ba4dd79e283e081bef    317\n",
       "Name: commit, dtype: int64"
      ]
     },
     "execution_count": 9,
     "metadata": {},
     "output_type": "execute_result"
    }
   ],
   "source": [
    "data['commit'].value_counts().head()"
   ]
  },
  {
   "cell_type": "markdown",
   "metadata": {},
   "source": [
    "# Commit Messages"
   ]
  },
  {
   "cell_type": "code",
   "execution_count": 8,
   "metadata": {},
   "outputs": [],
   "source": [
    "messages = pd.read_csv(\"commit_data/commits_message.csv\")\n",
    "messages = messages.iloc[:,1:]\n",
    "messages = messages.drop_duplicates()"
   ]
  },
  {
   "cell_type": "code",
   "execution_count": 9,
   "metadata": {},
   "outputs": [
    {
     "data": {
      "text/plain": [
       "122026"
      ]
     },
     "execution_count": 9,
     "metadata": {},
     "output_type": "execute_result"
    }
   ],
   "source": [
    "len(messages)"
   ]
  },
  {
   "cell_type": "code",
   "execution_count": 23,
   "metadata": {},
   "outputs": [
    {
     "data": {
      "text/html": [
       "<div>\n",
       "<style scoped>\n",
       "    .dataframe tbody tr th:only-of-type {\n",
       "        vertical-align: middle;\n",
       "    }\n",
       "\n",
       "    .dataframe tbody tr th {\n",
       "        vertical-align: top;\n",
       "    }\n",
       "\n",
       "    .dataframe thead th {\n",
       "        text-align: right;\n",
       "    }\n",
       "</style>\n",
       "<table border=\"1\" class=\"dataframe\">\n",
       "  <thead>\n",
       "    <tr style=\"text-align: right;\">\n",
       "      <th></th>\n",
       "      <th>commit</th>\n",
       "      <th>message</th>\n",
       "    </tr>\n",
       "  </thead>\n",
       "  <tbody>\n",
       "    <tr>\n",
       "      <th>0</th>\n",
       "      <td>2dac0a30f3e78342445edb2a1ce916001f0814ec</td>\n",
       "      <td>work\\r\\n</td>\n",
       "    </tr>\n",
       "    <tr>\n",
       "      <th>1</th>\n",
       "      <td>1709689bb99d0f09f3d71ee3f1ab43b3ebf74b1e</td>\n",
       "      <td>Sesión 6.\\r\\n</td>\n",
       "    </tr>\n",
       "    <tr>\n",
       "      <th>2</th>\n",
       "      <td>bebf00a49e6230fa0eefce1275e9b72d4c02ff9b</td>\n",
       "      <td>x\\r\\n</td>\n",
       "    </tr>\n",
       "    <tr>\n",
       "      <th>3</th>\n",
       "      <td>9400fab253e99ccf8c0a1d5bcbd639e80ddb6875</td>\n",
       "      <td>fixes.\\r\\n</td>\n",
       "    </tr>\n",
       "    <tr>\n",
       "      <th>4</th>\n",
       "      <td>63a8ebd66e0c9d3695dca46dcbd7a0770a75e548</td>\n",
       "      <td>fix\\r\\n</td>\n",
       "    </tr>\n",
       "  </tbody>\n",
       "</table>\n",
       "</div>"
      ],
      "text/plain": [
       "                                     commit        message\n",
       "0  2dac0a30f3e78342445edb2a1ce916001f0814ec       work\\r\\n\n",
       "1  1709689bb99d0f09f3d71ee3f1ab43b3ebf74b1e  Sesión 6.\\r\\n\n",
       "2  bebf00a49e6230fa0eefce1275e9b72d4c02ff9b          x\\r\\n\n",
       "3  9400fab253e99ccf8c0a1d5bcbd639e80ddb6875     fixes.\\r\\n\n",
       "4  63a8ebd66e0c9d3695dca46dcbd7a0770a75e548        fix\\r\\n"
      ]
     },
     "execution_count": 23,
     "metadata": {},
     "output_type": "execute_result"
    }
   ],
   "source": [
    "messages.head()"
   ]
  },
  {
   "cell_type": "code",
   "execution_count": 24,
   "metadata": {},
   "outputs": [
    {
     "data": {
      "text/plain": [
       "commit      0\n",
       "message    13\n",
       "dtype: int64"
      ]
     },
     "execution_count": 24,
     "metadata": {},
     "output_type": "execute_result"
    }
   ],
   "source": [
    "messages.isna().sum()"
   ]
  },
  {
   "cell_type": "code",
   "execution_count": 10,
   "metadata": {},
   "outputs": [
    {
     "data": {
      "text/html": [
       "<div>\n",
       "<style scoped>\n",
       "    .dataframe tbody tr th:only-of-type {\n",
       "        vertical-align: middle;\n",
       "    }\n",
       "\n",
       "    .dataframe tbody tr th {\n",
       "        vertical-align: top;\n",
       "    }\n",
       "\n",
       "    .dataframe thead th {\n",
       "        text-align: right;\n",
       "    }\n",
       "</style>\n",
       "<table border=\"1\" class=\"dataframe\">\n",
       "  <thead>\n",
       "    <tr style=\"text-align: right;\">\n",
       "      <th></th>\n",
       "      <th>commit</th>\n",
       "      <th>path</th>\n",
       "      <th>repo</th>\n",
       "      <th>add</th>\n",
       "      <th>remove</th>\n",
       "      <th>changes</th>\n",
       "      <th>message</th>\n",
       "    </tr>\n",
       "  </thead>\n",
       "  <tbody>\n",
       "    <tr>\n",
       "      <th>0</th>\n",
       "      <td>0001517e0b6e517b4637eb14fd807190b7113e68</td>\n",
       "      <td>ProcessLocalImage.ipynb</td>\n",
       "      <td>radosuav/pyTSEB</td>\n",
       "      <td>114.0</td>\n",
       "      <td>18.0</td>\n",
       "      <td>@@ -8,13 +8,24 @@\\r\\n     \"In this notebook we...</td>\n",
       "      <td>Added visualization of results in the notebook...</td>\n",
       "    </tr>\n",
       "    <tr>\n",
       "      <th>1</th>\n",
       "      <td>0001517e0b6e517b4637eb14fd807190b7113e68</td>\n",
       "      <td>ProcessPointTimeSeries.ipynb</td>\n",
       "      <td>radosuav/pyTSEB</td>\n",
       "      <td>66.0</td>\n",
       "      <td>17.0</td>\n",
       "      <td>@@ -7,7 +7,7 @@\\r\\n     \"# Summary\\n\",\\r\\n    ...</td>\n",
       "      <td>Added visualization of results in the notebook...</td>\n",
       "    </tr>\n",
       "    <tr>\n",
       "      <th>2</th>\n",
       "      <td>00019cf89e1e7bf553e60b651237c05ce7552d6d</td>\n",
       "      <td>deep learning/Autoencoders.ipynb</td>\n",
       "      <td>5agado/data-science-learning</td>\n",
       "      <td>3716.0</td>\n",
       "      <td>0.0</td>\n",
       "      <td>NaN</td>\n",
       "      <td>Autoencoders notebook\\r\\n</td>\n",
       "    </tr>\n",
       "    <tr>\n",
       "      <th>3</th>\n",
       "      <td>0001db9abd3f9d460ea23d1192b2554a2aa3b296</td>\n",
       "      <td>Data_Pipeline.ipynb</td>\n",
       "      <td>CLandauGWU/group_e</td>\n",
       "      <td>105.0</td>\n",
       "      <td>96.0</td>\n",
       "      <td>@@ -2,10 +2,8 @@\\r\\n  \"cells\": [\\r\\n   {\\r\\n  ...</td>\n",
       "      <td>Merge pull request #16 from CLandauGWU/cdl\\r\\n...</td>\n",
       "    </tr>\n",
       "    <tr>\n",
       "      <th>4</th>\n",
       "      <td>0001f1b46379d76414b87bec31ced6804055d098</td>\n",
       "      <td>notebooks/2017-02-10-running_compliance_checke...</td>\n",
       "      <td>ocefpaf/notebooks_demos</td>\n",
       "      <td>579.0</td>\n",
       "      <td>0.0</td>\n",
       "      <td>@@ -0,0 +1,579 @@\\r\\n+{\\r\\n+ \"cells\": [\\r\\n+  ...</td>\n",
       "      <td>Merge pull request #184 from ocefpaf/complianc...</td>\n",
       "    </tr>\n",
       "  </tbody>\n",
       "</table>\n",
       "</div>"
      ],
      "text/plain": [
       "                                     commit  \\\n",
       "0  0001517e0b6e517b4637eb14fd807190b7113e68   \n",
       "1  0001517e0b6e517b4637eb14fd807190b7113e68   \n",
       "2  00019cf89e1e7bf553e60b651237c05ce7552d6d   \n",
       "3  0001db9abd3f9d460ea23d1192b2554a2aa3b296   \n",
       "4  0001f1b46379d76414b87bec31ced6804055d098   \n",
       "\n",
       "                                                path  \\\n",
       "0                            ProcessLocalImage.ipynb   \n",
       "1                       ProcessPointTimeSeries.ipynb   \n",
       "2                   deep learning/Autoencoders.ipynb   \n",
       "3                                Data_Pipeline.ipynb   \n",
       "4  notebooks/2017-02-10-running_compliance_checke...   \n",
       "\n",
       "                           repo     add  remove  \\\n",
       "0               radosuav/pyTSEB   114.0    18.0   \n",
       "1               radosuav/pyTSEB    66.0    17.0   \n",
       "2  5agado/data-science-learning  3716.0     0.0   \n",
       "3            CLandauGWU/group_e   105.0    96.0   \n",
       "4       ocefpaf/notebooks_demos   579.0     0.0   \n",
       "\n",
       "                                             changes  \\\n",
       "0  @@ -8,13 +8,24 @@\\r\\n     \"In this notebook we...   \n",
       "1  @@ -7,7 +7,7 @@\\r\\n     \"# Summary\\n\",\\r\\n    ...   \n",
       "2                                                NaN   \n",
       "3  @@ -2,10 +2,8 @@\\r\\n  \"cells\": [\\r\\n   {\\r\\n  ...   \n",
       "4  @@ -0,0 +1,579 @@\\r\\n+{\\r\\n+ \"cells\": [\\r\\n+  ...   \n",
       "\n",
       "                                             message  \n",
       "0  Added visualization of results in the notebook...  \n",
       "1  Added visualization of results in the notebook...  \n",
       "2                          Autoencoders notebook\\r\\n  \n",
       "3  Merge pull request #16 from CLandauGWU/cdl\\r\\n...  \n",
       "4  Merge pull request #184 from ocefpaf/complianc...  "
      ]
     },
     "execution_count": 10,
     "metadata": {},
     "output_type": "execute_result"
    }
   ],
   "source": [
    "result = pd.merge(data, messages, how='inner', on= 'commit')\n",
    "del data\n",
    "result.head()"
   ]
  },
  {
   "cell_type": "code",
   "execution_count": 11,
   "metadata": {},
   "outputs": [
    {
     "data": {
      "text/plain": [
       "317055"
      ]
     },
     "execution_count": 11,
     "metadata": {},
     "output_type": "execute_result"
    }
   ],
   "source": [
    "len(result)"
   ]
  },
  {
   "cell_type": "code",
   "execution_count": 12,
   "metadata": {},
   "outputs": [],
   "source": [
    "result['message'] = result.message.fillna('')"
   ]
  },
  {
   "cell_type": "code",
   "execution_count": 13,
   "metadata": {},
   "outputs": [
    {
     "data": {
      "text/plain": [
       "41459"
      ]
     },
     "execution_count": 13,
     "metadata": {},
     "output_type": "execute_result"
    }
   ],
   "source": [
    "len(result[result['message'].str.contains('Merge branch')])"
   ]
  },
  {
   "cell_type": "markdown",
   "metadata": {},
   "source": [
    "# Clean up empty values"
   ]
  },
  {
   "cell_type": "code",
   "execution_count": 14,
   "metadata": {},
   "outputs": [],
   "source": [
    "clean = result.drop(result[result['message'].str.contains('Merge branch')].index)"
   ]
  },
  {
   "cell_type": "code",
   "execution_count": 15,
   "metadata": {},
   "outputs": [],
   "source": [
    "clean = clean.drop(clean[clean['changes'] == '404'].index)"
   ]
  },
  {
   "cell_type": "code",
   "execution_count": 16,
   "metadata": {},
   "outputs": [
    {
     "data": {
      "text/plain": [
       "273294"
      ]
     },
     "execution_count": 16,
     "metadata": {},
     "output_type": "execute_result"
    }
   ],
   "source": [
    "len(clean)"
   ]
  },
  {
   "cell_type": "code",
   "execution_count": 17,
   "metadata": {},
   "outputs": [
    {
     "data": {
      "text/plain": [
       "commit         0\n",
       "path           0\n",
       "repo           0\n",
       "add         7851\n",
       "remove      7851\n",
       "changes    83780\n",
       "message        0\n",
       "dtype: int64"
      ]
     },
     "execution_count": 17,
     "metadata": {},
     "output_type": "execute_result"
    }
   ],
   "source": [
    "clean.isna().sum()"
   ]
  },
  {
   "cell_type": "code",
   "execution_count": 18,
   "metadata": {},
   "outputs": [],
   "source": [
    "boolean = clean.changes.isnull()\n",
    "empty_commit = clean[boolean]"
   ]
  },
  {
   "cell_type": "code",
   "execution_count": 19,
   "metadata": {},
   "outputs": [
    {
     "data": {
      "text/plain": [
       "83780"
      ]
     },
     "execution_count": 19,
     "metadata": {},
     "output_type": "execute_result"
    }
   ],
   "source": [
    "len(empty_commit)"
   ]
  },
  {
   "cell_type": "code",
   "execution_count": 55,
   "metadata": {},
   "outputs": [
    {
     "data": {
      "text/html": [
       "<div>\n",
       "<style scoped>\n",
       "    .dataframe tbody tr th:only-of-type {\n",
       "        vertical-align: middle;\n",
       "    }\n",
       "\n",
       "    .dataframe tbody tr th {\n",
       "        vertical-align: top;\n",
       "    }\n",
       "\n",
       "    .dataframe thead th {\n",
       "        text-align: right;\n",
       "    }\n",
       "</style>\n",
       "<table border=\"1\" class=\"dataframe\">\n",
       "  <thead>\n",
       "    <tr style=\"text-align: right;\">\n",
       "      <th></th>\n",
       "      <th>commit</th>\n",
       "      <th>path</th>\n",
       "      <th>repo</th>\n",
       "      <th>add</th>\n",
       "      <th>remove</th>\n",
       "      <th>changes</th>\n",
       "      <th>message</th>\n",
       "    </tr>\n",
       "  </thead>\n",
       "  <tbody>\n",
       "    <tr>\n",
       "      <th>2</th>\n",
       "      <td>00019cf89e1e7bf553e60b651237c05ce7552d6d</td>\n",
       "      <td>deep learning/Autoencoders.ipynb</td>\n",
       "      <td>5agado/data-science-learning</td>\n",
       "      <td>3716.0</td>\n",
       "      <td>0.0</td>\n",
       "      <td>NaN</td>\n",
       "      <td>Autoencoders notebook\\r\\n</td>\n",
       "    </tr>\n",
       "    <tr>\n",
       "      <th>9</th>\n",
       "      <td>000258d8466e534edf51ac43f5d0112ac0ed3dbd</td>\n",
       "      <td>Numerical Integration Tutorial.ipynb</td>\n",
       "      <td>diogro/ode_examples</td>\n",
       "      <td>22.0</td>\n",
       "      <td>22.0</td>\n",
       "      <td>NaN</td>\n",
       "      <td>changes in bynary notebook\\r\\n</td>\n",
       "    </tr>\n",
       "    <tr>\n",
       "      <th>12</th>\n",
       "      <td>0005741e76fb03da417c848917e5a434109f8285</td>\n",
       "      <td>ildm/ildm_plots.ipynb</td>\n",
       "      <td>uqyge/combustionML</td>\n",
       "      <td>460955.0</td>\n",
       "      <td>0.0</td>\n",
       "      <td>NaN</td>\n",
       "      <td>Merge pull request #5 from uqyge/master\\r\\n\\r\\...</td>\n",
       "    </tr>\n",
       "    <tr>\n",
       "      <th>14</th>\n",
       "      <td>0006f9f495ccf1811f47355a4f2c87e5355fbfd7</td>\n",
       "      <td>ipynb/releases/ReleaseNotes_v16.10.ipynb</td>\n",
       "      <td>joelagnel/lisa</td>\n",
       "      <td>2866.0</td>\n",
       "      <td>0.0</td>\n",
       "      <td>NaN</td>\n",
       "      <td>ipynb/releases: APIs changes for v16.10\\r\\n\\r\\...</td>\n",
       "    </tr>\n",
       "    <tr>\n",
       "      <th>16</th>\n",
       "      <td>000777c4d8b6f57093e72363de45d97dba0c310e</td>\n",
       "      <td>docs/examples/ex_TEBD_evo.ipynb</td>\n",
       "      <td>jcmgray/quijy</td>\n",
       "      <td>23.0</td>\n",
       "      <td>31.0</td>\n",
       "      <td>NaN</td>\n",
       "      <td>add NNI class: nearest interaction neighbour H...</td>\n",
       "    </tr>\n",
       "  </tbody>\n",
       "</table>\n",
       "</div>"
      ],
      "text/plain": [
       "                                      commit  \\\n",
       "2   00019cf89e1e7bf553e60b651237c05ce7552d6d   \n",
       "9   000258d8466e534edf51ac43f5d0112ac0ed3dbd   \n",
       "12  0005741e76fb03da417c848917e5a434109f8285   \n",
       "14  0006f9f495ccf1811f47355a4f2c87e5355fbfd7   \n",
       "16  000777c4d8b6f57093e72363de45d97dba0c310e   \n",
       "\n",
       "                                        path                          repo  \\\n",
       "2           deep learning/Autoencoders.ipynb  5agado/data-science-learning   \n",
       "9       Numerical Integration Tutorial.ipynb           diogro/ode_examples   \n",
       "12                     ildm/ildm_plots.ipynb            uqyge/combustionML   \n",
       "14  ipynb/releases/ReleaseNotes_v16.10.ipynb                joelagnel/lisa   \n",
       "16           docs/examples/ex_TEBD_evo.ipynb                 jcmgray/quijy   \n",
       "\n",
       "         add  remove changes  \\\n",
       "2     3716.0     0.0     NaN   \n",
       "9       22.0    22.0     NaN   \n",
       "12  460955.0     0.0     NaN   \n",
       "14    2866.0     0.0     NaN   \n",
       "16      23.0    31.0     NaN   \n",
       "\n",
       "                                              message  \n",
       "2                           Autoencoders notebook\\r\\n  \n",
       "9                      changes in bynary notebook\\r\\n  \n",
       "12  Merge pull request #5 from uqyge/master\\r\\n\\r\\...  \n",
       "14  ipynb/releases: APIs changes for v16.10\\r\\n\\r\\...  \n",
       "16  add NNI class: nearest interaction neighbour H...  "
      ]
     },
     "execution_count": 55,
     "metadata": {},
     "output_type": "execute_result"
    }
   ],
   "source": [
    "empty_commit.head()"
   ]
  },
  {
   "cell_type": "code",
   "execution_count": 20,
   "metadata": {},
   "outputs": [
    {
     "data": {
      "text/plain": [
       "commit         0\n",
       "path           0\n",
       "repo           0\n",
       "add         7831\n",
       "remove      7831\n",
       "changes    83780\n",
       "message        0\n",
       "dtype: int64"
      ]
     },
     "execution_count": 20,
     "metadata": {},
     "output_type": "execute_result"
    }
   ],
   "source": [
    "empty_commit.isna().sum()"
   ]
  },
  {
   "cell_type": "code",
   "execution_count": 21,
   "metadata": {},
   "outputs": [
    {
     "data": {
      "text/html": [
       "<div>\n",
       "<style scoped>\n",
       "    .dataframe tbody tr th:only-of-type {\n",
       "        vertical-align: middle;\n",
       "    }\n",
       "\n",
       "    .dataframe tbody tr th {\n",
       "        vertical-align: top;\n",
       "    }\n",
       "\n",
       "    .dataframe thead th {\n",
       "        text-align: right;\n",
       "    }\n",
       "</style>\n",
       "<table border=\"1\" class=\"dataframe\">\n",
       "  <thead>\n",
       "    <tr style=\"text-align: right;\">\n",
       "      <th></th>\n",
       "      <th>add</th>\n",
       "      <th>remove</th>\n",
       "    </tr>\n",
       "  </thead>\n",
       "  <tbody>\n",
       "    <tr>\n",
       "      <th>count</th>\n",
       "      <td>75949</td>\n",
       "      <td>75949</td>\n",
       "    </tr>\n",
       "    <tr>\n",
       "      <th>mean</th>\n",
       "      <td>1702</td>\n",
       "      <td>818</td>\n",
       "    </tr>\n",
       "    <tr>\n",
       "      <th>std</th>\n",
       "      <td>15427</td>\n",
       "      <td>10942</td>\n",
       "    </tr>\n",
       "    <tr>\n",
       "      <th>min</th>\n",
       "      <td>0</td>\n",
       "      <td>0</td>\n",
       "    </tr>\n",
       "    <tr>\n",
       "      <th>25%</th>\n",
       "      <td>6</td>\n",
       "      <td>0</td>\n",
       "    </tr>\n",
       "    <tr>\n",
       "      <th>50%</th>\n",
       "      <td>115</td>\n",
       "      <td>15</td>\n",
       "    </tr>\n",
       "    <tr>\n",
       "      <th>75%</th>\n",
       "      <td>690</td>\n",
       "      <td>120</td>\n",
       "    </tr>\n",
       "    <tr>\n",
       "      <th>max</th>\n",
       "      <td>1552834</td>\n",
       "      <td>1552826</td>\n",
       "    </tr>\n",
       "  </tbody>\n",
       "</table>\n",
       "</div>"
      ],
      "text/plain": [
       "           add   remove\n",
       "count    75949    75949\n",
       "mean      1702      818\n",
       "std      15427    10942\n",
       "min          0        0\n",
       "25%          6        0\n",
       "50%        115       15\n",
       "75%        690      120\n",
       "max    1552834  1552826"
      ]
     },
     "execution_count": 21,
     "metadata": {},
     "output_type": "execute_result"
    }
   ],
   "source": [
    "empty_commit.describe().astype(int)"
   ]
  },
  {
   "cell_type": "code",
   "execution_count": 22,
   "metadata": {},
   "outputs": [
    {
     "data": {
      "text/html": [
       "<div>\n",
       "<style scoped>\n",
       "    .dataframe tbody tr th:only-of-type {\n",
       "        vertical-align: middle;\n",
       "    }\n",
       "\n",
       "    .dataframe tbody tr th {\n",
       "        vertical-align: top;\n",
       "    }\n",
       "\n",
       "    .dataframe thead th {\n",
       "        text-align: right;\n",
       "    }\n",
       "</style>\n",
       "<table border=\"1\" class=\"dataframe\">\n",
       "  <thead>\n",
       "    <tr style=\"text-align: right;\">\n",
       "      <th></th>\n",
       "      <th>commit</th>\n",
       "      <th>path</th>\n",
       "      <th>repo</th>\n",
       "      <th>changes</th>\n",
       "      <th>message</th>\n",
       "    </tr>\n",
       "  </thead>\n",
       "  <tbody>\n",
       "    <tr>\n",
       "      <th>count</th>\n",
       "      <td>83780</td>\n",
       "      <td>83780</td>\n",
       "      <td>83780</td>\n",
       "      <td>0.0</td>\n",
       "      <td>83780</td>\n",
       "    </tr>\n",
       "    <tr>\n",
       "      <th>unique</th>\n",
       "      <td>39795</td>\n",
       "      <td>16366</td>\n",
       "      <td>4832</td>\n",
       "      <td>0.0</td>\n",
       "      <td>35490</td>\n",
       "    </tr>\n",
       "    <tr>\n",
       "      <th>top</th>\n",
       "      <td>0c7c89cec39edc932645593532b3a632fa0c301b</td>\n",
       "      <td>Doc/Notebooks/NetworKit_UserGuide.ipynb</td>\n",
       "      <td>13522364778/liupengyuan.github.io</td>\n",
       "      <td>NaN</td>\n",
       "      <td>Merge pull request #1 from liupengyuan/master\\...</td>\n",
       "    </tr>\n",
       "    <tr>\n",
       "      <th>freq</th>\n",
       "      <td>303</td>\n",
       "      <td>392</td>\n",
       "      <td>7113</td>\n",
       "      <td>NaN</td>\n",
       "      <td>832</td>\n",
       "    </tr>\n",
       "  </tbody>\n",
       "</table>\n",
       "</div>"
      ],
      "text/plain": [
       "                                          commit  \\\n",
       "count                                      83780   \n",
       "unique                                     39795   \n",
       "top     0c7c89cec39edc932645593532b3a632fa0c301b   \n",
       "freq                                         303   \n",
       "\n",
       "                                           path  \\\n",
       "count                                     83780   \n",
       "unique                                    16366   \n",
       "top     Doc/Notebooks/NetworKit_UserGuide.ipynb   \n",
       "freq                                        392   \n",
       "\n",
       "                                     repo  changes  \\\n",
       "count                               83780      0.0   \n",
       "unique                               4832      0.0   \n",
       "top     13522364778/liupengyuan.github.io      NaN   \n",
       "freq                                 7113      NaN   \n",
       "\n",
       "                                                  message  \n",
       "count                                               83780  \n",
       "unique                                              35490  \n",
       "top     Merge pull request #1 from liupengyuan/master\\...  \n",
       "freq                                                  832  "
      ]
     },
     "execution_count": 22,
     "metadata": {},
     "output_type": "execute_result"
    }
   ],
   "source": [
    "empty_commit.describe(include=['object'])"
   ]
  },
  {
   "cell_type": "code",
   "execution_count": 27,
   "metadata": {},
   "outputs": [],
   "source": [
    "clean = clean.drop(clean[clean.changes.isnull()].index)"
   ]
  },
  {
   "cell_type": "code",
   "execution_count": 28,
   "metadata": {},
   "outputs": [
    {
     "data": {
      "text/plain": [
       "189514"
      ]
     },
     "execution_count": 28,
     "metadata": {},
     "output_type": "execute_result"
    }
   ],
   "source": [
    "len(clean)"
   ]
  },
  {
   "cell_type": "code",
   "execution_count": 29,
   "metadata": {},
   "outputs": [
    {
     "data": {
      "text/plain": [
       "commit      0\n",
       "path        0\n",
       "repo        0\n",
       "add        20\n",
       "remove     20\n",
       "changes     0\n",
       "message     0\n",
       "dtype: int64"
      ]
     },
     "execution_count": 29,
     "metadata": {},
     "output_type": "execute_result"
    }
   ],
   "source": [
    "clean.isna().sum()"
   ]
  },
  {
   "cell_type": "code",
   "execution_count": 33,
   "metadata": {},
   "outputs": [],
   "source": [
    "boolean = clean.remove.isnull()\n",
    "empty_add = clean[boolean]"
   ]
  },
  {
   "cell_type": "code",
   "execution_count": 34,
   "metadata": {},
   "outputs": [
    {
     "data": {
      "text/html": [
       "<div>\n",
       "<style scoped>\n",
       "    .dataframe tbody tr th:only-of-type {\n",
       "        vertical-align: middle;\n",
       "    }\n",
       "\n",
       "    .dataframe tbody tr th {\n",
       "        vertical-align: top;\n",
       "    }\n",
       "\n",
       "    .dataframe thead th {\n",
       "        text-align: right;\n",
       "    }\n",
       "</style>\n",
       "<table border=\"1\" class=\"dataframe\">\n",
       "  <thead>\n",
       "    <tr style=\"text-align: right;\">\n",
       "      <th></th>\n",
       "      <th>commit</th>\n",
       "      <th>path</th>\n",
       "      <th>repo</th>\n",
       "      <th>add</th>\n",
       "      <th>remove</th>\n",
       "      <th>changes</th>\n",
       "      <th>message</th>\n",
       "    </tr>\n",
       "  </thead>\n",
       "  <tbody>\n",
       "    <tr>\n",
       "      <th>14292</th>\n",
       "      <td>0bbf5f13fb1781872ce6944ae3cd57583c9f2f47</td>\n",
       "      <td>Demo/xbrain-demo.ipynb</td>\n",
       "      <td>nerdslab/xbrain</td>\n",
       "      <td>NaN</td>\n",
       "      <td>NaN</td>\n",
       "      <td>422</td>\n",
       "      <td>Dependancies version\\r\\n</td>\n",
       "    </tr>\n",
       "    <tr>\n",
       "      <th>38653</th>\n",
       "      <td>1ff2def16519f8f7376b9831bc29d2b913965a30</td>\n",
       "      <td>Demo/xbrain-demo.ipynb</td>\n",
       "      <td>nerdslab/xbrain</td>\n",
       "      <td>NaN</td>\n",
       "      <td>NaN</td>\n",
       "      <td>422</td>\n",
       "      <td>Fixes scipy error\\r\\n</td>\n",
       "    </tr>\n",
       "    <tr>\n",
       "      <th>52215</th>\n",
       "      <td>2b56231848d07b87e74f01d91c4c732cca179776</td>\n",
       "      <td>Demo/xbrain-demo.ipynb</td>\n",
       "      <td>nerdslab/xbrain</td>\n",
       "      <td>NaN</td>\n",
       "      <td>NaN</td>\n",
       "      <td>422</td>\n",
       "      <td>Ilastik version fix\\r\\n</td>\n",
       "    </tr>\n",
       "    <tr>\n",
       "      <th>72089</th>\n",
       "      <td>3bd4e73c48511902778019ca273b8e15238452b4</td>\n",
       "      <td>.ipynb_checkpoints/BOW analysis of our BIG REV...</td>\n",
       "      <td>starbro/BeastMode</td>\n",
       "      <td>NaN</td>\n",
       "      <td>NaN</td>\n",
       "      <td>502</td>\n",
       "      <td>imdb reviews\\r\\n</td>\n",
       "    </tr>\n",
       "    <tr>\n",
       "      <th>93171</th>\n",
       "      <td>4d59864f9220983c31548cddba7dc4287bcc45e5</td>\n",
       "      <td>nb/visualize.ipynb</td>\n",
       "      <td>csdms/bmi-live</td>\n",
       "      <td>NaN</td>\n",
       "      <td>NaN</td>\n",
       "      <td>422</td>\n",
       "      <td>Added section to run model interactively.\\r\\n</td>\n",
       "    </tr>\n",
       "  </tbody>\n",
       "</table>\n",
       "</div>"
      ],
      "text/plain": [
       "                                         commit  \\\n",
       "14292  0bbf5f13fb1781872ce6944ae3cd57583c9f2f47   \n",
       "38653  1ff2def16519f8f7376b9831bc29d2b913965a30   \n",
       "52215  2b56231848d07b87e74f01d91c4c732cca179776   \n",
       "72089  3bd4e73c48511902778019ca273b8e15238452b4   \n",
       "93171  4d59864f9220983c31548cddba7dc4287bcc45e5   \n",
       "\n",
       "                                                    path               repo  \\\n",
       "14292                             Demo/xbrain-demo.ipynb    nerdslab/xbrain   \n",
       "38653                             Demo/xbrain-demo.ipynb    nerdslab/xbrain   \n",
       "52215                             Demo/xbrain-demo.ipynb    nerdslab/xbrain   \n",
       "72089  .ipynb_checkpoints/BOW analysis of our BIG REV...  starbro/BeastMode   \n",
       "93171                                 nb/visualize.ipynb     csdms/bmi-live   \n",
       "\n",
       "       add  remove changes                                        message  \n",
       "14292  NaN     NaN     422                       Dependancies version\\r\\n  \n",
       "38653  NaN     NaN     422                          Fixes scipy error\\r\\n  \n",
       "52215  NaN     NaN     422                        Ilastik version fix\\r\\n  \n",
       "72089  NaN     NaN     502                               imdb reviews\\r\\n  \n",
       "93171  NaN     NaN     422  Added section to run model interactively.\\r\\n  "
      ]
     },
     "execution_count": 34,
     "metadata": {},
     "output_type": "execute_result"
    }
   ],
   "source": [
    "empty_add.head()"
   ]
  },
  {
   "cell_type": "code",
   "execution_count": 35,
   "metadata": {},
   "outputs": [],
   "source": [
    "clean = clean.drop(clean[clean.remove.isnull()].index)"
   ]
  },
  {
   "cell_type": "code",
   "execution_count": 36,
   "metadata": {},
   "outputs": [
    {
     "data": {
      "text/plain": [
       "commit     0\n",
       "path       0\n",
       "repo       0\n",
       "add        0\n",
       "remove     0\n",
       "changes    0\n",
       "message    0\n",
       "dtype: int64"
      ]
     },
     "execution_count": 36,
     "metadata": {},
     "output_type": "execute_result"
    }
   ],
   "source": [
    "clean.isna().sum()"
   ]
  },
  {
   "cell_type": "code",
   "execution_count": 37,
   "metadata": {},
   "outputs": [
    {
     "data": {
      "text/plain": [
       "189494"
      ]
     },
     "execution_count": 37,
     "metadata": {},
     "output_type": "execute_result"
    }
   ],
   "source": [
    "len(clean)"
   ]
  },
  {
   "cell_type": "code",
   "execution_count": 51,
   "metadata": {},
   "outputs": [
    {
     "data": {
      "text/html": [
       "<div>\n",
       "<style scoped>\n",
       "    .dataframe tbody tr th:only-of-type {\n",
       "        vertical-align: middle;\n",
       "    }\n",
       "\n",
       "    .dataframe tbody tr th {\n",
       "        vertical-align: top;\n",
       "    }\n",
       "\n",
       "    .dataframe thead th {\n",
       "        text-align: right;\n",
       "    }\n",
       "</style>\n",
       "<table border=\"1\" class=\"dataframe\">\n",
       "  <thead>\n",
       "    <tr style=\"text-align: right;\">\n",
       "      <th></th>\n",
       "      <th>commit</th>\n",
       "      <th>author</th>\n",
       "    </tr>\n",
       "  </thead>\n",
       "  <tbody>\n",
       "    <tr>\n",
       "      <th>0</th>\n",
       "      <td>88ede0cf971ecadea4931eeec134795a5bea43fd</td>\n",
       "      <td>2fabad26a4a679b398616082e65afdcbed12c3b2@tcd.ie</td>\n",
       "    </tr>\n",
       "    <tr>\n",
       "      <th>7</th>\n",
       "      <td>c1ba8da1ab6442e4dee7d72b97efe13766fd7203</td>\n",
       "      <td>59bd0a3ff43b32849b319e645d4798d8a5d1e889@fast.ai</td>\n",
       "    </tr>\n",
       "    <tr>\n",
       "      <th>8</th>\n",
       "      <td>9b6cf2a901322f2ae7a8ec6cf2c7a90ceb06f4db</td>\n",
       "      <td>59bd0a3ff43b32849b319e645d4798d8a5d1e889@fast.ai</td>\n",
       "    </tr>\n",
       "    <tr>\n",
       "      <th>9</th>\n",
       "      <td>c3c7129875ef60b02a735627e736412cd3fd6c2e</td>\n",
       "      <td>59bd0a3ff43b32849b319e645d4798d8a5d1e889@fast.ai</td>\n",
       "    </tr>\n",
       "    <tr>\n",
       "      <th>10</th>\n",
       "      <td>a3bc11d76b1948ef8dfcb461077323d5df2d38ec</td>\n",
       "      <td>5c2dd944dde9e08881bef0894fe7b22a5c9c4b06@fast.ai</td>\n",
       "    </tr>\n",
       "  </tbody>\n",
       "</table>\n",
       "</div>"
      ],
      "text/plain": [
       "                                      commit  \\\n",
       "0   88ede0cf971ecadea4931eeec134795a5bea43fd   \n",
       "7   c1ba8da1ab6442e4dee7d72b97efe13766fd7203   \n",
       "8   9b6cf2a901322f2ae7a8ec6cf2c7a90ceb06f4db   \n",
       "9   c3c7129875ef60b02a735627e736412cd3fd6c2e   \n",
       "10  a3bc11d76b1948ef8dfcb461077323d5df2d38ec   \n",
       "\n",
       "                                              author  \n",
       "0    2fabad26a4a679b398616082e65afdcbed12c3b2@tcd.ie  \n",
       "7   59bd0a3ff43b32849b319e645d4798d8a5d1e889@fast.ai  \n",
       "8   59bd0a3ff43b32849b319e645d4798d8a5d1e889@fast.ai  \n",
       "9   59bd0a3ff43b32849b319e645d4798d8a5d1e889@fast.ai  \n",
       "10  5c2dd944dde9e08881bef0894fe7b22a5c9c4b06@fast.ai  "
      ]
     },
     "execution_count": 51,
     "metadata": {},
     "output_type": "execute_result"
    }
   ],
   "source": [
    "commit = pd.read_csv(\"commit_data/commits_bigquery.csv\")\n",
    "commit = commit.iloc[:,1:3]\n",
    "commit = commit.drop_duplicates()\n",
    "commit.head()"
   ]
  },
  {
   "cell_type": "code",
   "execution_count": 55,
   "metadata": {},
   "outputs": [],
   "source": [
    "full = pd.merge(clean, commit, how='inner', on= 'commit')"
   ]
  },
  {
   "cell_type": "code",
   "execution_count": 56,
   "metadata": {},
   "outputs": [
    {
     "data": {
      "text/html": [
       "<div>\n",
       "<style scoped>\n",
       "    .dataframe tbody tr th:only-of-type {\n",
       "        vertical-align: middle;\n",
       "    }\n",
       "\n",
       "    .dataframe tbody tr th {\n",
       "        vertical-align: top;\n",
       "    }\n",
       "\n",
       "    .dataframe thead th {\n",
       "        text-align: right;\n",
       "    }\n",
       "</style>\n",
       "<table border=\"1\" class=\"dataframe\">\n",
       "  <thead>\n",
       "    <tr style=\"text-align: right;\">\n",
       "      <th></th>\n",
       "      <th>commit</th>\n",
       "      <th>path</th>\n",
       "      <th>repo</th>\n",
       "      <th>add</th>\n",
       "      <th>remove</th>\n",
       "      <th>changes</th>\n",
       "      <th>message</th>\n",
       "      <th>author</th>\n",
       "    </tr>\n",
       "  </thead>\n",
       "  <tbody>\n",
       "    <tr>\n",
       "      <th>0</th>\n",
       "      <td>0001517e0b6e517b4637eb14fd807190b7113e68</td>\n",
       "      <td>ProcessLocalImage.ipynb</td>\n",
       "      <td>radosuav/pyTSEB</td>\n",
       "      <td>114.0</td>\n",
       "      <td>18.0</td>\n",
       "      <td>@@ -8,13 +8,24 @@\\r\\n     \"In this notebook we...</td>\n",
       "      <td>Added visualization of results in the notebook...</td>\n",
       "      <td>1f758d5fc2475d607604851f7bb69a21a2e5a171@gmail...</td>\n",
       "    </tr>\n",
       "    <tr>\n",
       "      <th>1</th>\n",
       "      <td>0001517e0b6e517b4637eb14fd807190b7113e68</td>\n",
       "      <td>ProcessPointTimeSeries.ipynb</td>\n",
       "      <td>radosuav/pyTSEB</td>\n",
       "      <td>66.0</td>\n",
       "      <td>17.0</td>\n",
       "      <td>@@ -7,7 +7,7 @@\\r\\n     \"# Summary\\n\",\\r\\n    ...</td>\n",
       "      <td>Added visualization of results in the notebook...</td>\n",
       "      <td>1f758d5fc2475d607604851f7bb69a21a2e5a171@gmail...</td>\n",
       "    </tr>\n",
       "    <tr>\n",
       "      <th>2</th>\n",
       "      <td>0001db9abd3f9d460ea23d1192b2554a2aa3b296</td>\n",
       "      <td>Data_Pipeline.ipynb</td>\n",
       "      <td>CLandauGWU/group_e</td>\n",
       "      <td>105.0</td>\n",
       "      <td>96.0</td>\n",
       "      <td>@@ -2,10 +2,8 @@\\r\\n  \"cells\": [\\r\\n   {\\r\\n  ...</td>\n",
       "      <td>Merge pull request #16 from CLandauGWU/cdl\\r\\n...</td>\n",
       "      <td>a8fa8c02a6e674fcb990bac3af0f355c66c85f1e@users...</td>\n",
       "    </tr>\n",
       "    <tr>\n",
       "      <th>3</th>\n",
       "      <td>0001f1b46379d76414b87bec31ced6804055d098</td>\n",
       "      <td>notebooks/2017-02-10-running_compliance_checke...</td>\n",
       "      <td>ocefpaf/notebooks_demos</td>\n",
       "      <td>579.0</td>\n",
       "      <td>0.0</td>\n",
       "      <td>@@ -0,0 +1,579 @@\\r\\n+{\\r\\n+ \"cells\": [\\r\\n+  ...</td>\n",
       "      <td>Merge pull request #184 from ocefpaf/complianc...</td>\n",
       "      <td>16ad98c943a204b0dc2f93d65ef80db35ef06c80@users...</td>\n",
       "    </tr>\n",
       "    <tr>\n",
       "      <th>4</th>\n",
       "      <td>0001ff8aff741c78f760542977491904182cd8cb</td>\n",
       "      <td>fairfieldlogin.ipynb</td>\n",
       "      <td>wcmckee/wcmckee</td>\n",
       "      <td>42.0</td>\n",
       "      <td>0.0</td>\n",
       "      <td>@@ -0,0 +1,42 @@\\r\\n+{\\r\\n+ \"metadata\": {\\r\\n+...</td>\n",
       "      <td>if dir else create\\r\\n</td>\n",
       "      <td>37d41699bdee4fcb969ca499eb0f8b82c60d59cc@artco...</td>\n",
       "    </tr>\n",
       "  </tbody>\n",
       "</table>\n",
       "</div>"
      ],
      "text/plain": [
       "                                     commit  \\\n",
       "0  0001517e0b6e517b4637eb14fd807190b7113e68   \n",
       "1  0001517e0b6e517b4637eb14fd807190b7113e68   \n",
       "2  0001db9abd3f9d460ea23d1192b2554a2aa3b296   \n",
       "3  0001f1b46379d76414b87bec31ced6804055d098   \n",
       "4  0001ff8aff741c78f760542977491904182cd8cb   \n",
       "\n",
       "                                                path                     repo  \\\n",
       "0                            ProcessLocalImage.ipynb          radosuav/pyTSEB   \n",
       "1                       ProcessPointTimeSeries.ipynb          radosuav/pyTSEB   \n",
       "2                                Data_Pipeline.ipynb       CLandauGWU/group_e   \n",
       "3  notebooks/2017-02-10-running_compliance_checke...  ocefpaf/notebooks_demos   \n",
       "4                               fairfieldlogin.ipynb          wcmckee/wcmckee   \n",
       "\n",
       "     add  remove                                            changes  \\\n",
       "0  114.0    18.0  @@ -8,13 +8,24 @@\\r\\n     \"In this notebook we...   \n",
       "1   66.0    17.0  @@ -7,7 +7,7 @@\\r\\n     \"# Summary\\n\",\\r\\n    ...   \n",
       "2  105.0    96.0  @@ -2,10 +2,8 @@\\r\\n  \"cells\": [\\r\\n   {\\r\\n  ...   \n",
       "3  579.0     0.0  @@ -0,0 +1,579 @@\\r\\n+{\\r\\n+ \"cells\": [\\r\\n+  ...   \n",
       "4   42.0     0.0  @@ -0,0 +1,42 @@\\r\\n+{\\r\\n+ \"metadata\": {\\r\\n+...   \n",
       "\n",
       "                                             message  \\\n",
       "0  Added visualization of results in the notebook...   \n",
       "1  Added visualization of results in the notebook...   \n",
       "2  Merge pull request #16 from CLandauGWU/cdl\\r\\n...   \n",
       "3  Merge pull request #184 from ocefpaf/complianc...   \n",
       "4                             if dir else create\\r\\n   \n",
       "\n",
       "                                              author  \n",
       "0  1f758d5fc2475d607604851f7bb69a21a2e5a171@gmail...  \n",
       "1  1f758d5fc2475d607604851f7bb69a21a2e5a171@gmail...  \n",
       "2  a8fa8c02a6e674fcb990bac3af0f355c66c85f1e@users...  \n",
       "3  16ad98c943a204b0dc2f93d65ef80db35ef06c80@users...  \n",
       "4  37d41699bdee4fcb969ca499eb0f8b82c60d59cc@artco...  "
      ]
     },
     "execution_count": 56,
     "metadata": {},
     "output_type": "execute_result"
    }
   ],
   "source": [
    "full.head()"
   ]
  },
  {
   "cell_type": "code",
   "execution_count": 57,
   "metadata": {},
   "outputs": [
    {
     "data": {
      "text/html": [
       "<div>\n",
       "<style scoped>\n",
       "    .dataframe tbody tr th:only-of-type {\n",
       "        vertical-align: middle;\n",
       "    }\n",
       "\n",
       "    .dataframe tbody tr th {\n",
       "        vertical-align: top;\n",
       "    }\n",
       "\n",
       "    .dataframe thead th {\n",
       "        text-align: right;\n",
       "    }\n",
       "</style>\n",
       "<table border=\"1\" class=\"dataframe\">\n",
       "  <thead>\n",
       "    <tr style=\"text-align: right;\">\n",
       "      <th></th>\n",
       "      <th>add</th>\n",
       "      <th>remove</th>\n",
       "    </tr>\n",
       "  </thead>\n",
       "  <tbody>\n",
       "    <tr>\n",
       "      <th>count</th>\n",
       "      <td>189494</td>\n",
       "      <td>189494</td>\n",
       "    </tr>\n",
       "    <tr>\n",
       "      <th>mean</th>\n",
       "      <td>145</td>\n",
       "      <td>34</td>\n",
       "    </tr>\n",
       "    <tr>\n",
       "      <th>std</th>\n",
       "      <td>265</td>\n",
       "      <td>122</td>\n",
       "    </tr>\n",
       "    <tr>\n",
       "      <th>min</th>\n",
       "      <td>0</td>\n",
       "      <td>0</td>\n",
       "    </tr>\n",
       "    <tr>\n",
       "      <th>25%</th>\n",
       "      <td>4</td>\n",
       "      <td>0</td>\n",
       "    </tr>\n",
       "    <tr>\n",
       "      <th>50%</th>\n",
       "      <td>39</td>\n",
       "      <td>2</td>\n",
       "    </tr>\n",
       "    <tr>\n",
       "      <th>75%</th>\n",
       "      <td>174</td>\n",
       "      <td>15</td>\n",
       "    </tr>\n",
       "    <tr>\n",
       "      <th>max</th>\n",
       "      <td>4324</td>\n",
       "      <td>2590</td>\n",
       "    </tr>\n",
       "  </tbody>\n",
       "</table>\n",
       "</div>"
      ],
      "text/plain": [
       "          add  remove\n",
       "count  189494  189494\n",
       "mean      145      34\n",
       "std       265     122\n",
       "min         0       0\n",
       "25%         4       0\n",
       "50%        39       2\n",
       "75%       174      15\n",
       "max      4324    2590"
      ]
     },
     "execution_count": 57,
     "metadata": {},
     "output_type": "execute_result"
    }
   ],
   "source": [
    "desc = full.describe()\n",
    "desc[:] = desc[:].astype(int)\n",
    "desc"
   ]
  },
  {
   "cell_type": "code",
   "execution_count": 58,
   "metadata": {},
   "outputs": [
    {
     "data": {
      "text/html": [
       "<div>\n",
       "<style scoped>\n",
       "    .dataframe tbody tr th:only-of-type {\n",
       "        vertical-align: middle;\n",
       "    }\n",
       "\n",
       "    .dataframe tbody tr th {\n",
       "        vertical-align: top;\n",
       "    }\n",
       "\n",
       "    .dataframe thead th {\n",
       "        text-align: right;\n",
       "    }\n",
       "</style>\n",
       "<table border=\"1\" class=\"dataframe\">\n",
       "  <thead>\n",
       "    <tr style=\"text-align: right;\">\n",
       "      <th></th>\n",
       "      <th>commit</th>\n",
       "      <th>path</th>\n",
       "      <th>repo</th>\n",
       "      <th>changes</th>\n",
       "      <th>message</th>\n",
       "      <th>author</th>\n",
       "    </tr>\n",
       "  </thead>\n",
       "  <tbody>\n",
       "    <tr>\n",
       "      <th>count</th>\n",
       "      <td>189494</td>\n",
       "      <td>189494</td>\n",
       "      <td>189494</td>\n",
       "      <td>189494</td>\n",
       "      <td>189494</td>\n",
       "      <td>189414</td>\n",
       "    </tr>\n",
       "    <tr>\n",
       "      <th>unique</th>\n",
       "      <td>78191</td>\n",
       "      <td>22687</td>\n",
       "      <td>5974</td>\n",
       "      <td>98407</td>\n",
       "      <td>67697</td>\n",
       "      <td>12879</td>\n",
       "    </tr>\n",
       "    <tr>\n",
       "      <th>top</th>\n",
       "      <td>d1ac1d2183fff9b837eaf005332855e6f1821cc3</td>\n",
       "      <td>language-translation/dlnd_language_translation...</td>\n",
       "      <td>13522364778/liupengyuan.github.io</td>\n",
       "      <td>@@ -31,6 +31,13 @@\\r\\n     \"\\n\",\\r\\n     \"cifa...</td>\n",
       "      <td>Merge pull request #1 from liupengyuan/master\\...</td>\n",
       "      <td>9c181bba4346e346250682c75d0b30c233d5e79c@gmail...</td>\n",
       "    </tr>\n",
       "    <tr>\n",
       "      <th>freq</th>\n",
       "      <td>233</td>\n",
       "      <td>2829</td>\n",
       "      <td>26006</td>\n",
       "      <td>251</td>\n",
       "      <td>2607</td>\n",
       "      <td>2516</td>\n",
       "    </tr>\n",
       "  </tbody>\n",
       "</table>\n",
       "</div>"
      ],
      "text/plain": [
       "                                          commit  \\\n",
       "count                                     189494   \n",
       "unique                                     78191   \n",
       "top     d1ac1d2183fff9b837eaf005332855e6f1821cc3   \n",
       "freq                                         233   \n",
       "\n",
       "                                                     path  \\\n",
       "count                                              189494   \n",
       "unique                                              22687   \n",
       "top     language-translation/dlnd_language_translation...   \n",
       "freq                                                 2829   \n",
       "\n",
       "                                     repo  \\\n",
       "count                              189494   \n",
       "unique                               5974   \n",
       "top     13522364778/liupengyuan.github.io   \n",
       "freq                                26006   \n",
       "\n",
       "                                                  changes  \\\n",
       "count                                              189494   \n",
       "unique                                              98407   \n",
       "top     @@ -31,6 +31,13 @@\\r\\n     \"\\n\",\\r\\n     \"cifa...   \n",
       "freq                                                  251   \n",
       "\n",
       "                                                  message  \\\n",
       "count                                              189494   \n",
       "unique                                              67697   \n",
       "top     Merge pull request #1 from liupengyuan/master\\...   \n",
       "freq                                                 2607   \n",
       "\n",
       "                                                   author  \n",
       "count                                              189414  \n",
       "unique                                              12879  \n",
       "top     9c181bba4346e346250682c75d0b30c233d5e79c@gmail...  \n",
       "freq                                                 2516  "
      ]
     },
     "execution_count": 58,
     "metadata": {},
     "output_type": "execute_result"
    }
   ],
   "source": [
    "full.describe(include=['object'])"
   ]
  },
  {
   "cell_type": "code",
   "execution_count": 61,
   "metadata": {},
   "outputs": [
    {
     "data": {
      "text/html": [
       "<div>\n",
       "<style scoped>\n",
       "    .dataframe tbody tr th:only-of-type {\n",
       "        vertical-align: middle;\n",
       "    }\n",
       "\n",
       "    .dataframe tbody tr th {\n",
       "        vertical-align: top;\n",
       "    }\n",
       "\n",
       "    .dataframe thead th {\n",
       "        text-align: right;\n",
       "    }\n",
       "</style>\n",
       "<table border=\"1\" class=\"dataframe\">\n",
       "  <thead>\n",
       "    <tr style=\"text-align: right;\">\n",
       "      <th></th>\n",
       "      <th>author</th>\n",
       "    </tr>\n",
       "  </thead>\n",
       "  <tbody>\n",
       "    <tr>\n",
       "      <th>count</th>\n",
       "      <td>12879</td>\n",
       "    </tr>\n",
       "    <tr>\n",
       "      <th>mean</th>\n",
       "      <td>14</td>\n",
       "    </tr>\n",
       "    <tr>\n",
       "      <th>std</th>\n",
       "      <td>60</td>\n",
       "    </tr>\n",
       "    <tr>\n",
       "      <th>min</th>\n",
       "      <td>1</td>\n",
       "    </tr>\n",
       "    <tr>\n",
       "      <th>25%</th>\n",
       "      <td>1</td>\n",
       "    </tr>\n",
       "    <tr>\n",
       "      <th>50%</th>\n",
       "      <td>3</td>\n",
       "    </tr>\n",
       "    <tr>\n",
       "      <th>75%</th>\n",
       "      <td>9</td>\n",
       "    </tr>\n",
       "    <tr>\n",
       "      <th>max</th>\n",
       "      <td>2516</td>\n",
       "    </tr>\n",
       "  </tbody>\n",
       "</table>\n",
       "</div>"
      ],
      "text/plain": [
       "       author\n",
       "count   12879\n",
       "mean       14\n",
       "std        60\n",
       "min         1\n",
       "25%         1\n",
       "50%         3\n",
       "75%         9\n",
       "max      2516"
      ]
     },
     "execution_count": 61,
     "metadata": {},
     "output_type": "execute_result"
    }
   ],
   "source": [
    "auth = pd.DataFrame(full['author'].value_counts())\n",
    "desc = auth.describe()\n",
    "desc[:] = desc[:].astype(int)\n",
    "desc"
   ]
  },
  {
   "cell_type": "code",
   "execution_count": 79,
   "metadata": {},
   "outputs": [
    {
     "data": {
      "text/html": [
       "<div>\n",
       "<style scoped>\n",
       "    .dataframe tbody tr th:only-of-type {\n",
       "        vertical-align: middle;\n",
       "    }\n",
       "\n",
       "    .dataframe tbody tr th {\n",
       "        vertical-align: top;\n",
       "    }\n",
       "\n",
       "    .dataframe thead th {\n",
       "        text-align: right;\n",
       "    }\n",
       "</style>\n",
       "<table border=\"1\" class=\"dataframe\">\n",
       "  <thead>\n",
       "    <tr style=\"text-align: right;\">\n",
       "      <th></th>\n",
       "      <th></th>\n",
       "      <th></th>\n",
       "      <th>commit</th>\n",
       "    </tr>\n",
       "    <tr>\n",
       "      <th>repo</th>\n",
       "      <th>path</th>\n",
       "      <th>author</th>\n",
       "      <th></th>\n",
       "    </tr>\n",
       "  </thead>\n",
       "  <tbody>\n",
       "    <tr>\n",
       "      <th rowspan=\"5\" valign=\"top\">0u812/nteract</th>\n",
       "      <th rowspan=\"2\" valign=\"top\">example-notebooks/altair.ipynb</th>\n",
       "      <th>708ec4287d91edd455d45953dccf826089444818@users.noreply.github.com</th>\n",
       "      <td>1</td>\n",
       "    </tr>\n",
       "    <tr>\n",
       "      <th>8f4465e9c13a0a249a1929943e8a22f20baa98fb@gmail.com</th>\n",
       "      <td>1</td>\n",
       "    </tr>\n",
       "    <tr>\n",
       "      <th rowspan=\"3\" valign=\"top\">example-notebooks/geojson.ipynb</th>\n",
       "      <th>211cd6ebb5a58c9bc9904fc688979914ca90621b@safia.rocks</th>\n",
       "      <td>2</td>\n",
       "    </tr>\n",
       "    <tr>\n",
       "      <th>2bc753552cdfa3c1728f804cbeb8e88615400c01@gmail.com</th>\n",
       "      <td>2</td>\n",
       "    </tr>\n",
       "    <tr>\n",
       "      <th>8f4465e9c13a0a249a1929943e8a22f20baa98fb@gmail.com</th>\n",
       "      <td>4</td>\n",
       "    </tr>\n",
       "  </tbody>\n",
       "</table>\n",
       "</div>"
      ],
      "text/plain": [
       "                                                                                                  commit\n",
       "repo          path                            author                                                    \n",
       "0u812/nteract example-notebooks/altair.ipynb  708ec4287d91edd455d45953dccf826089444818@users....       1\n",
       "                                              8f4465e9c13a0a249a1929943e8a22f20baa98fb@gmail.com       1\n",
       "              example-notebooks/geojson.ipynb 211cd6ebb5a58c9bc9904fc688979914ca90621b@safia....       2\n",
       "                                              2bc753552cdfa3c1728f804cbeb8e88615400c01@gmail.com       2\n",
       "                                              8f4465e9c13a0a249a1929943e8a22f20baa98fb@gmail.com       4"
      ]
     },
     "execution_count": 79,
     "metadata": {},
     "output_type": "execute_result"
    }
   ],
   "source": [
    "c = full.iloc[:,[0,1,2,7]].groupby(['repo','path','author']).count()\n",
    "c.head()"
   ]
  },
  {
   "cell_type": "code",
   "execution_count": 98,
   "metadata": {},
   "outputs": [
    {
     "data": {
      "text/plain": [
       "94591"
      ]
     },
     "execution_count": 98,
     "metadata": {},
     "output_type": "execute_result"
    }
   ],
   "source": [
    "len(c)"
   ]
  },
  {
   "cell_type": "code",
   "execution_count": 105,
   "metadata": {},
   "outputs": [
    {
     "data": {
      "text/plain": [
       "pandas.core.frame.DataFrame"
      ]
     },
     "execution_count": 105,
     "metadata": {},
     "output_type": "execute_result"
    }
   ],
   "source": [
    "type(c)"
   ]
  },
  {
   "cell_type": "code",
   "execution_count": 80,
   "metadata": {},
   "outputs": [
    {
     "data": {
      "text/html": [
       "<div>\n",
       "<style scoped>\n",
       "    .dataframe tbody tr th:only-of-type {\n",
       "        vertical-align: middle;\n",
       "    }\n",
       "\n",
       "    .dataframe tbody tr th {\n",
       "        vertical-align: top;\n",
       "    }\n",
       "\n",
       "    .dataframe thead th {\n",
       "        text-align: right;\n",
       "    }\n",
       "</style>\n",
       "<table border=\"1\" class=\"dataframe\">\n",
       "  <thead>\n",
       "    <tr style=\"text-align: right;\">\n",
       "      <th></th>\n",
       "      <th></th>\n",
       "      <th></th>\n",
       "      <th>commit</th>\n",
       "    </tr>\n",
       "    <tr>\n",
       "      <th>repo</th>\n",
       "      <th>path</th>\n",
       "      <th>author</th>\n",
       "      <th></th>\n",
       "    </tr>\n",
       "  </thead>\n",
       "  <tbody>\n",
       "    <tr>\n",
       "      <th rowspan=\"2\" valign=\"top\">DudLab/nanshe_workflow</th>\n",
       "      <th rowspan=\"2\" valign=\"top\">nanshe_ipython.ipynb</th>\n",
       "      <th>f62e5e898bee75be9eee0691c7e4e7a84b990c01@janelia.hhmi.org</th>\n",
       "      <td>360</td>\n",
       "    </tr>\n",
       "    <tr>\n",
       "      <th>00b8e1f2832340b5fd94507dd2fa7880c7721435@gmail.com</th>\n",
       "      <td>198</td>\n",
       "    </tr>\n",
       "    <tr>\n",
       "      <th>gigjozsa/HI_analysis_course</th>\n",
       "      <th>chapter_13_pred/Predictions.ipynb</th>\n",
       "      <th>e910e5d6cf4733fc75bf853649a5b0bc6e12966e@gmail.com</th>\n",
       "      <td>102</td>\n",
       "    </tr>\n",
       "    <tr>\n",
       "      <th>kspekkens/HI_analysis_course</th>\n",
       "      <th>chapter_13_pred/Predictions.ipynb</th>\n",
       "      <th>e910e5d6cf4733fc75bf853649a5b0bc6e12966e@gmail.com</th>\n",
       "      <td>102</td>\n",
       "    </tr>\n",
       "    <tr>\n",
       "      <th>NabeelSarwar/Open-Dota-Exploration</th>\n",
       "      <th>Analysis.ipynb</th>\n",
       "      <th>2bd6c6ca13a07b14c8f9aace48c643c66c8a5222@gmail.com</th>\n",
       "      <td>92</td>\n",
       "    </tr>\n",
       "  </tbody>\n",
       "</table>\n",
       "</div>"
      ],
      "text/plain": [
       "                                                                                                                         commit\n",
       "repo                               path                              author                                                    \n",
       "DudLab/nanshe_workflow             nanshe_ipython.ipynb              f62e5e898bee75be9eee0691c7e4e7a84b990c01@janeli...     360\n",
       "                                                                     00b8e1f2832340b5fd94507dd2fa7880c7721435@gmail.com     198\n",
       "gigjozsa/HI_analysis_course        chapter_13_pred/Predictions.ipynb e910e5d6cf4733fc75bf853649a5b0bc6e12966e@gmail.com     102\n",
       "kspekkens/HI_analysis_course       chapter_13_pred/Predictions.ipynb e910e5d6cf4733fc75bf853649a5b0bc6e12966e@gmail.com     102\n",
       "NabeelSarwar/Open-Dota-Exploration Analysis.ipynb                    2bd6c6ca13a07b14c8f9aace48c643c66c8a5222@gmail.com      92"
      ]
     },
     "execution_count": 80,
     "metadata": {},
     "output_type": "execute_result"
    }
   ],
   "source": [
    "c.sort_values(by = \"commit\", ascending=False).head()"
   ]
  },
  {
   "cell_type": "code",
   "execution_count": 145,
   "metadata": {},
   "outputs": [
    {
     "data": {
      "text/html": [
       "<div>\n",
       "<style scoped>\n",
       "    .dataframe tbody tr th:only-of-type {\n",
       "        vertical-align: middle;\n",
       "    }\n",
       "\n",
       "    .dataframe tbody tr th {\n",
       "        vertical-align: top;\n",
       "    }\n",
       "\n",
       "    .dataframe thead th {\n",
       "        text-align: right;\n",
       "    }\n",
       "</style>\n",
       "<table border=\"1\" class=\"dataframe\">\n",
       "  <thead>\n",
       "    <tr style=\"text-align: right;\">\n",
       "      <th></th>\n",
       "      <th>repo</th>\n",
       "      <th>path</th>\n",
       "      <th>authorcount</th>\n",
       "    </tr>\n",
       "  </thead>\n",
       "  <tbody>\n",
       "    <tr>\n",
       "      <th>0</th>\n",
       "      <td>0u812/nteract</td>\n",
       "      <td>example-notebooks/altair.ipynb</td>\n",
       "      <td>2</td>\n",
       "    </tr>\n",
       "    <tr>\n",
       "      <th>1</th>\n",
       "      <td>0u812/nteract</td>\n",
       "      <td>example-notebooks/geojson.ipynb</td>\n",
       "      <td>3</td>\n",
       "    </tr>\n",
       "    <tr>\n",
       "      <th>2</th>\n",
       "      <td>0x4a50/udacity-0x4a50-deep-learning-nanodegree</td>\n",
       "      <td>face_generation/dlnd_face_generation.ipynb</td>\n",
       "      <td>4</td>\n",
       "    </tr>\n",
       "    <tr>\n",
       "      <th>3</th>\n",
       "      <td>0x4a50/udacity-0x4a50-deep-learning-nanodegree</td>\n",
       "      <td>first-neural-network/Your_first_neural_network...</td>\n",
       "      <td>3</td>\n",
       "    </tr>\n",
       "    <tr>\n",
       "      <th>4</th>\n",
       "      <td>0x4a50/udacity-0x4a50-deep-learning-nanodegree</td>\n",
       "      <td>image-classification/dlnd_image_classification...</td>\n",
       "      <td>9</td>\n",
       "    </tr>\n",
       "  </tbody>\n",
       "</table>\n",
       "</div>"
      ],
      "text/plain": [
       "                                             repo  \\\n",
       "0                                   0u812/nteract   \n",
       "1                                   0u812/nteract   \n",
       "2  0x4a50/udacity-0x4a50-deep-learning-nanodegree   \n",
       "3  0x4a50/udacity-0x4a50-deep-learning-nanodegree   \n",
       "4  0x4a50/udacity-0x4a50-deep-learning-nanodegree   \n",
       "\n",
       "                                                path  authorcount  \n",
       "0                     example-notebooks/altair.ipynb            2  \n",
       "1                    example-notebooks/geojson.ipynb            3  \n",
       "2         face_generation/dlnd_face_generation.ipynb            4  \n",
       "3  first-neural-network/Your_first_neural_network...            3  \n",
       "4  image-classification/dlnd_image_classification...            9  "
      ]
     },
     "execution_count": 145,
     "metadata": {},
     "output_type": "execute_result"
    }
   ],
   "source": [
    "cm = c.reset_index().groupby(['repo','path']).agg({'author': ['count']}).reset_index()#.filter('count' > 1)\n",
    "cm.columns = [\"\".join(x) for x in cm.columns.ravel()]\n",
    "cm = cm[cm.authorcount >1]\n",
    "cm.head()"
   ]
  },
  {
   "cell_type": "code",
   "execution_count": 146,
   "metadata": {},
   "outputs": [
    {
     "data": {
      "text/plain": [
       "20324"
      ]
     },
     "execution_count": 146,
     "metadata": {},
     "output_type": "execute_result"
    }
   ],
   "source": [
    "len(cm)"
   ]
  }
 ],
 "metadata": {
  "kernelspec": {
   "display_name": "Python 3",
   "language": "python",
   "name": "python3"
  },
  "language_info": {
   "codemirror_mode": {
    "name": "ipython",
    "version": 3
   },
   "file_extension": ".py",
   "mimetype": "text/x-python",
   "name": "python",
   "nbconvert_exporter": "python",
   "pygments_lexer": "ipython3",
   "version": "3.6.5"
  }
 },
 "nbformat": 4,
 "nbformat_minor": 2
}
