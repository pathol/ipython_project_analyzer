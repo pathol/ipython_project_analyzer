{
 "cells": [
  {
   "cell_type": "code",
   "execution_count": 1,
   "metadata": {},
   "outputs": [],
   "source": [
    "import pandas as pd\n",
    "df = pd.read_csv(\"../data/repo_function_matched.csv\")"
   ]
  },
  {
   "cell_type": "code",
   "execution_count": 2,
   "metadata": {},
   "outputs": [
    {
     "data": {
      "text/html": [
       "<div>\n",
       "<style scoped>\n",
       "    .dataframe tbody tr th:only-of-type {\n",
       "        vertical-align: middle;\n",
       "    }\n",
       "\n",
       "    .dataframe tbody tr th {\n",
       "        vertical-align: top;\n",
       "    }\n",
       "\n",
       "    .dataframe thead th {\n",
       "        text-align: right;\n",
       "    }\n",
       "</style>\n",
       "<table border=\"1\" class=\"dataframe\">\n",
       "  <thead>\n",
       "    <tr style=\"text-align: right;\">\n",
       "      <th></th>\n",
       "      <th>line</th>\n",
       "      <th>function</th>\n",
       "      <th>package</th>\n",
       "      <th>class</th>\n",
       "      <th>repo</th>\n",
       "      <th>path</th>\n",
       "      <th>author</th>\n",
       "      <th>commit</th>\n",
       "      <th>code</th>\n",
       "    </tr>\n",
       "  </thead>\n",
       "  <tbody>\n",
       "    <tr>\n",
       "      <th>0</th>\n",
       "      <td>39</td>\n",
       "      <td>enable_eager_execution</td>\n",
       "      <td>tensorflow</td>\n",
       "      <td>NaN</td>\n",
       "      <td>tensorflow</td>\n",
       "      <td>tensorflow/contrib/eager/python/examples/noteb...</td>\n",
       "      <td>blamb@google.com</td>\n",
       "      <td>486b96a51d6b0b394edf77d182f7283a8ec03e0d</td>\n",
       "      <td>tf.enable_eager_execution()</td>\n",
       "    </tr>\n",
       "    <tr>\n",
       "      <th>1</th>\n",
       "      <td>54</td>\n",
       "      <td>square</td>\n",
       "      <td>tensorflow</td>\n",
       "      <td>NaN</td>\n",
       "      <td>tensorflow</td>\n",
       "      <td>tensorflow/contrib/eager/python/examples/noteb...</td>\n",
       "      <td>blamb@google.com</td>\n",
       "      <td>486b96a51d6b0b394edf77d182f7283a8ec03e0d</td>\n",
       "      <td>return tf.square(tf.sin(x))</td>\n",
       "    </tr>\n",
       "    <tr>\n",
       "      <th>2</th>\n",
       "      <td>54</td>\n",
       "      <td>sin</td>\n",
       "      <td>tensorflow</td>\n",
       "      <td>NaN</td>\n",
       "      <td>tensorflow</td>\n",
       "      <td>tensorflow/contrib/eager/python/examples/noteb...</td>\n",
       "      <td>blamb@google.com</td>\n",
       "      <td>486b96a51d6b0b394edf77d182f7283a8ec03e0d</td>\n",
       "      <td>return tf.square(tf.sin(x))</td>\n",
       "    </tr>\n",
       "    <tr>\n",
       "      <th>3</th>\n",
       "      <td>56</td>\n",
       "      <td>f</td>\n",
       "      <td>NaN</td>\n",
       "      <td>NaN</td>\n",
       "      <td>tensorflow</td>\n",
       "      <td>tensorflow/contrib/eager/python/examples/noteb...</td>\n",
       "      <td>blamb@google.com</td>\n",
       "      <td>486b96a51d6b0b394edf77d182f7283a8ec03e0d</td>\n",
       "      <td>assert f(pi/2).numpy() == 1.0</td>\n",
       "    </tr>\n",
       "    <tr>\n",
       "      <th>4</th>\n",
       "      <td>63</td>\n",
       "      <td>numpy</td>\n",
       "      <td>tensorflow</td>\n",
       "      <td>NaN</td>\n",
       "      <td>tensorflow</td>\n",
       "      <td>tensorflow/contrib/eager/python/examples/noteb...</td>\n",
       "      <td>blamb@google.com</td>\n",
       "      <td>486b96a51d6b0b394edf77d182f7283a8ec03e0d</td>\n",
       "      <td>assert tf.abs(grad_f(pi/2)[0]).numpy() &lt; 1e-7</td>\n",
       "    </tr>\n",
       "  </tbody>\n",
       "</table>\n",
       "</div>"
      ],
      "text/plain": [
       "   line                function     package class        repo  \\\n",
       "0    39  enable_eager_execution  tensorflow   NaN  tensorflow   \n",
       "1    54                  square  tensorflow   NaN  tensorflow   \n",
       "2    54                     sin  tensorflow   NaN  tensorflow   \n",
       "3    56                       f         NaN   NaN  tensorflow   \n",
       "4    63                   numpy  tensorflow   NaN  tensorflow   \n",
       "\n",
       "                                                path            author  \\\n",
       "0  tensorflow/contrib/eager/python/examples/noteb...  blamb@google.com   \n",
       "1  tensorflow/contrib/eager/python/examples/noteb...  blamb@google.com   \n",
       "2  tensorflow/contrib/eager/python/examples/noteb...  blamb@google.com   \n",
       "3  tensorflow/contrib/eager/python/examples/noteb...  blamb@google.com   \n",
       "4  tensorflow/contrib/eager/python/examples/noteb...  blamb@google.com   \n",
       "\n",
       "                                     commit  \\\n",
       "0  486b96a51d6b0b394edf77d182f7283a8ec03e0d   \n",
       "1  486b96a51d6b0b394edf77d182f7283a8ec03e0d   \n",
       "2  486b96a51d6b0b394edf77d182f7283a8ec03e0d   \n",
       "3  486b96a51d6b0b394edf77d182f7283a8ec03e0d   \n",
       "4  486b96a51d6b0b394edf77d182f7283a8ec03e0d   \n",
       "\n",
       "                                            code  \n",
       "0                    tf.enable_eager_execution()  \n",
       "1                    return tf.square(tf.sin(x))  \n",
       "2                    return tf.square(tf.sin(x))  \n",
       "3                  assert f(pi/2).numpy() == 1.0  \n",
       "4  assert tf.abs(grad_f(pi/2)[0]).numpy() < 1e-7  "
      ]
     },
     "execution_count": 2,
     "metadata": {},
     "output_type": "execute_result"
    }
   ],
   "source": [
    "df.head()"
   ]
  },
  {
   "cell_type": "code",
   "execution_count": 3,
   "metadata": {},
   "outputs": [
    {
     "name": "stdout",
     "output_type": "stream",
     "text": [
      "1078373\n"
     ]
    }
   ],
   "source": [
    "print(len(df))"
   ]
  },
  {
   "cell_type": "code",
   "execution_count": 4,
   "metadata": {},
   "outputs": [
    {
     "data": {
      "text/plain": [
       "line             0\n",
       "function         2\n",
       "package     624510\n",
       "class       974982\n",
       "repo             0\n",
       "path             0\n",
       "author         461\n",
       "commit           0\n",
       "code            37\n",
       "dtype: int64"
      ]
     },
     "execution_count": 4,
     "metadata": {},
     "output_type": "execute_result"
    }
   ],
   "source": [
    "df.isna().sum()"
   ]
  },
  {
   "cell_type": "code",
   "execution_count": 5,
   "metadata": {},
   "outputs": [
    {
     "data": {
      "text/html": [
       "<div>\n",
       "<style scoped>\n",
       "    .dataframe tbody tr th:only-of-type {\n",
       "        vertical-align: middle;\n",
       "    }\n",
       "\n",
       "    .dataframe tbody tr th {\n",
       "        vertical-align: top;\n",
       "    }\n",
       "\n",
       "    .dataframe thead th {\n",
       "        text-align: right;\n",
       "    }\n",
       "</style>\n",
       "<table border=\"1\" class=\"dataframe\">\n",
       "  <thead>\n",
       "    <tr style=\"text-align: right;\">\n",
       "      <th></th>\n",
       "      <th>line</th>\n",
       "      <th>function</th>\n",
       "      <th>package</th>\n",
       "      <th>class</th>\n",
       "      <th>repo</th>\n",
       "      <th>path</th>\n",
       "      <th>author</th>\n",
       "      <th>commit</th>\n",
       "      <th>code</th>\n",
       "    </tr>\n",
       "  </thead>\n",
       "  <tbody>\n",
       "    <tr>\n",
       "      <th>9608</th>\n",
       "      <td>138</td>\n",
       "      <td>dict</td>\n",
       "      <td>NaN</td>\n",
       "      <td>NaN</td>\n",
       "      <td>docs</td>\n",
       "      <td>site/ko/tutorials/keras/basic_text_classificat...</td>\n",
       "      <td>haesunrpark@gmail.com</td>\n",
       "      <td>b1bf1d6a1632e5f2dd552636e673cfa8cb4c2d5c</td>\n",
       "      <td>NaN</td>\n",
       "    </tr>\n",
       "    <tr>\n",
       "      <th>9609</th>\n",
       "      <td>138</td>\n",
       "      <td>items</td>\n",
       "      <td>NaN</td>\n",
       "      <td>NaN</td>\n",
       "      <td>docs</td>\n",
       "      <td>site/ko/tutorials/keras/basic_text_classificat...</td>\n",
       "      <td>haesunrpark@gmail.com</td>\n",
       "      <td>b1bf1d6a1632e5f2dd552636e673cfa8cb4c2d5c</td>\n",
       "      <td>NaN</td>\n",
       "    </tr>\n",
       "    <tr>\n",
       "      <th>9612</th>\n",
       "      <td>149</td>\n",
       "      <td>decode_review</td>\n",
       "      <td>NaN</td>\n",
       "      <td>NaN</td>\n",
       "      <td>docs</td>\n",
       "      <td>site/ko/tutorials/keras/basic_text_classificat...</td>\n",
       "      <td>haesunrpark@gmail.com</td>\n",
       "      <td>b1bf1d6a1632e5f2dd552636e673cfa8cb4c2d5c</td>\n",
       "      <td>NaN</td>\n",
       "    </tr>\n",
       "    <tr>\n",
       "      <th>9613</th>\n",
       "      <td>182</td>\n",
       "      <td>len</td>\n",
       "      <td>NaN</td>\n",
       "      <td>NaN</td>\n",
       "      <td>docs</td>\n",
       "      <td>site/ko/tutorials/keras/basic_text_classificat...</td>\n",
       "      <td>haesunrpark@gmail.com</td>\n",
       "      <td>b1bf1d6a1632e5f2dd552636e673cfa8cb4c2d5c</td>\n",
       "      <td>NaN</td>\n",
       "    </tr>\n",
       "    <tr>\n",
       "      <th>9614</th>\n",
       "      <td>190</td>\n",
       "      <td>print</td>\n",
       "      <td>NaN</td>\n",
       "      <td>NaN</td>\n",
       "      <td>docs</td>\n",
       "      <td>site/ko/tutorials/keras/basic_text_classificat...</td>\n",
       "      <td>haesunrpark@gmail.com</td>\n",
       "      <td>b1bf1d6a1632e5f2dd552636e673cfa8cb4c2d5c</td>\n",
       "      <td>NaN</td>\n",
       "    </tr>\n",
       "  </tbody>\n",
       "</table>\n",
       "</div>"
      ],
      "text/plain": [
       "      line       function package class  repo  \\\n",
       "9608   138           dict     NaN   NaN  docs   \n",
       "9609   138          items     NaN   NaN  docs   \n",
       "9612   149  decode_review     NaN   NaN  docs   \n",
       "9613   182            len     NaN   NaN  docs   \n",
       "9614   190          print     NaN   NaN  docs   \n",
       "\n",
       "                                                   path  \\\n",
       "9608  site/ko/tutorials/keras/basic_text_classificat...   \n",
       "9609  site/ko/tutorials/keras/basic_text_classificat...   \n",
       "9612  site/ko/tutorials/keras/basic_text_classificat...   \n",
       "9613  site/ko/tutorials/keras/basic_text_classificat...   \n",
       "9614  site/ko/tutorials/keras/basic_text_classificat...   \n",
       "\n",
       "                     author                                    commit code  \n",
       "9608  haesunrpark@gmail.com  b1bf1d6a1632e5f2dd552636e673cfa8cb4c2d5c  NaN  \n",
       "9609  haesunrpark@gmail.com  b1bf1d6a1632e5f2dd552636e673cfa8cb4c2d5c  NaN  \n",
       "9612  haesunrpark@gmail.com  b1bf1d6a1632e5f2dd552636e673cfa8cb4c2d5c  NaN  \n",
       "9613  haesunrpark@gmail.com  b1bf1d6a1632e5f2dd552636e673cfa8cb4c2d5c  NaN  \n",
       "9614  haesunrpark@gmail.com  b1bf1d6a1632e5f2dd552636e673cfa8cb4c2d5c  NaN  "
      ]
     },
     "execution_count": 5,
     "metadata": {},
     "output_type": "execute_result"
    }
   ],
   "source": [
    "df[df['code'].isna()].head()"
   ]
  },
  {
   "cell_type": "code",
   "execution_count": 6,
   "metadata": {},
   "outputs": [
    {
     "data": {
      "text/html": [
       "<div>\n",
       "<style scoped>\n",
       "    .dataframe tbody tr th:only-of-type {\n",
       "        vertical-align: middle;\n",
       "    }\n",
       "\n",
       "    .dataframe tbody tr th {\n",
       "        vertical-align: top;\n",
       "    }\n",
       "\n",
       "    .dataframe thead th {\n",
       "        text-align: right;\n",
       "    }\n",
       "</style>\n",
       "<table border=\"1\" class=\"dataframe\">\n",
       "  <thead>\n",
       "    <tr style=\"text-align: right;\">\n",
       "      <th></th>\n",
       "      <th>function</th>\n",
       "      <th>package</th>\n",
       "      <th>class</th>\n",
       "      <th>repo</th>\n",
       "      <th>path</th>\n",
       "      <th>author</th>\n",
       "      <th>commit</th>\n",
       "      <th>code</th>\n",
       "    </tr>\n",
       "  </thead>\n",
       "  <tbody>\n",
       "    <tr>\n",
       "      <th>count</th>\n",
       "      <td>1078371</td>\n",
       "      <td>453863</td>\n",
       "      <td>103391</td>\n",
       "      <td>1078373</td>\n",
       "      <td>1078373</td>\n",
       "      <td>1077912</td>\n",
       "      <td>1078373</td>\n",
       "      <td>1078336</td>\n",
       "    </tr>\n",
       "    <tr>\n",
       "      <th>unique</th>\n",
       "      <td>42240</td>\n",
       "      <td>3876</td>\n",
       "      <td>5867</td>\n",
       "      <td>3738</td>\n",
       "      <td>16532</td>\n",
       "      <td>7583</td>\n",
       "      <td>35254</td>\n",
       "      <td>481255</td>\n",
       "    </tr>\n",
       "    <tr>\n",
       "      <th>top</th>\n",
       "      <td>print</td>\n",
       "      <td>matplotlib.pyplot</td>\n",
       "      <td>Sequential</td>\n",
       "      <td>deep-learning</td>\n",
       "      <td>note/s16a_synpipe_galaxy_1.ipynb</td>\n",
       "      <td>dr.guangtou@gmail.com</td>\n",
       "      <td>a58e916834e3f0adb2b91b8d12f5dc2f6711a008</td>\n",
       "      <td>get_ipython().run_line_magic('matplotlib', 'in...</td>\n",
       "    </tr>\n",
       "    <tr>\n",
       "      <th>freq</th>\n",
       "      <td>95522</td>\n",
       "      <td>108873</td>\n",
       "      <td>7188</td>\n",
       "      <td>20913</td>\n",
       "      <td>8589</td>\n",
       "      <td>16332</td>\n",
       "      <td>10897</td>\n",
       "      <td>7589</td>\n",
       "    </tr>\n",
       "  </tbody>\n",
       "</table>\n",
       "</div>"
      ],
      "text/plain": [
       "       function            package       class           repo  \\\n",
       "count   1078371             453863      103391        1078373   \n",
       "unique    42240               3876        5867           3738   \n",
       "top       print  matplotlib.pyplot  Sequential  deep-learning   \n",
       "freq      95522             108873        7188          20913   \n",
       "\n",
       "                                    path                 author  \\\n",
       "count                            1078373                1077912   \n",
       "unique                             16532                   7583   \n",
       "top     note/s16a_synpipe_galaxy_1.ipynb  dr.guangtou@gmail.com   \n",
       "freq                                8589                  16332   \n",
       "\n",
       "                                          commit  \\\n",
       "count                                    1078373   \n",
       "unique                                     35254   \n",
       "top     a58e916834e3f0adb2b91b8d12f5dc2f6711a008   \n",
       "freq                                       10897   \n",
       "\n",
       "                                                     code  \n",
       "count                                             1078336  \n",
       "unique                                             481255  \n",
       "top     get_ipython().run_line_magic('matplotlib', 'in...  \n",
       "freq                                                 7589  "
      ]
     },
     "execution_count": 6,
     "metadata": {},
     "output_type": "execute_result"
    }
   ],
   "source": [
    "df.describe(include=['object'])"
   ]
  },
  {
   "cell_type": "code",
   "execution_count": 7,
   "metadata": {},
   "outputs": [
    {
     "data": {
      "text/html": [
       "<div>\n",
       "<style scoped>\n",
       "    .dataframe tbody tr th:only-of-type {\n",
       "        vertical-align: middle;\n",
       "    }\n",
       "\n",
       "    .dataframe tbody tr th {\n",
       "        vertical-align: top;\n",
       "    }\n",
       "\n",
       "    .dataframe thead th {\n",
       "        text-align: right;\n",
       "    }\n",
       "</style>\n",
       "<table border=\"1\" class=\"dataframe\">\n",
       "  <thead>\n",
       "    <tr style=\"text-align: right;\">\n",
       "      <th></th>\n",
       "      <th>line</th>\n",
       "    </tr>\n",
       "  </thead>\n",
       "  <tbody>\n",
       "    <tr>\n",
       "      <th>count</th>\n",
       "      <td>1078373</td>\n",
       "    </tr>\n",
       "    <tr>\n",
       "      <th>mean</th>\n",
       "      <td>283</td>\n",
       "    </tr>\n",
       "    <tr>\n",
       "      <th>std</th>\n",
       "      <td>727</td>\n",
       "    </tr>\n",
       "    <tr>\n",
       "      <th>min</th>\n",
       "      <td>1</td>\n",
       "    </tr>\n",
       "    <tr>\n",
       "      <th>25%</th>\n",
       "      <td>60</td>\n",
       "    </tr>\n",
       "    <tr>\n",
       "      <th>50%</th>\n",
       "      <td>126</td>\n",
       "    </tr>\n",
       "    <tr>\n",
       "      <th>75%</th>\n",
       "      <td>248</td>\n",
       "    </tr>\n",
       "    <tr>\n",
       "      <th>max</th>\n",
       "      <td>10781</td>\n",
       "    </tr>\n",
       "  </tbody>\n",
       "</table>\n",
       "</div>"
      ],
      "text/plain": [
       "          line\n",
       "count  1078373\n",
       "mean       283\n",
       "std        727\n",
       "min          1\n",
       "25%         60\n",
       "50%        126\n",
       "75%        248\n",
       "max      10781"
      ]
     },
     "execution_count": 7,
     "metadata": {},
     "output_type": "execute_result"
    }
   ],
   "source": [
    "desc = df.describe()\n",
    "desc[:] = desc[:].astype(int)\n",
    "desc"
   ]
  },
  {
   "cell_type": "code",
   "execution_count": 8,
   "metadata": {},
   "outputs": [],
   "source": [
    "file_author = df[['repo','path','author']].groupby(['repo','path'])['author'].nunique().reset_index()"
   ]
  },
  {
   "cell_type": "code",
   "execution_count": 9,
   "metadata": {},
   "outputs": [
    {
     "name": "stdout",
     "output_type": "stream",
     "text": [
      "17387\n"
     ]
    }
   ],
   "source": [
    "print(len(file_author))"
   ]
  },
  {
   "cell_type": "code",
   "execution_count": 10,
   "metadata": {},
   "outputs": [],
   "source": [
    "colab_files = file_author[file_author['author']>1]"
   ]
  },
  {
   "cell_type": "code",
   "execution_count": 11,
   "metadata": {},
   "outputs": [
    {
     "data": {
      "text/html": [
       "<div>\n",
       "<style scoped>\n",
       "    .dataframe tbody tr th:only-of-type {\n",
       "        vertical-align: middle;\n",
       "    }\n",
       "\n",
       "    .dataframe tbody tr th {\n",
       "        vertical-align: top;\n",
       "    }\n",
       "\n",
       "    .dataframe thead th {\n",
       "        text-align: right;\n",
       "    }\n",
       "</style>\n",
       "<table border=\"1\" class=\"dataframe\">\n",
       "  <thead>\n",
       "    <tr style=\"text-align: right;\">\n",
       "      <th></th>\n",
       "      <th>repo</th>\n",
       "      <th>path</th>\n",
       "    </tr>\n",
       "  </thead>\n",
       "  <tbody>\n",
       "    <tr>\n",
       "      <th>count</th>\n",
       "      <td>5266</td>\n",
       "      <td>5266</td>\n",
       "    </tr>\n",
       "    <tr>\n",
       "      <th>unique</th>\n",
       "      <td>1918</td>\n",
       "      <td>4964</td>\n",
       "    </tr>\n",
       "    <tr>\n",
       "      <th>top</th>\n",
       "      <td>holoviews</td>\n",
       "      <td>tv-script-generation/dlnd_tv_script_generation...</td>\n",
       "    </tr>\n",
       "    <tr>\n",
       "      <th>freq</th>\n",
       "      <td>124</td>\n",
       "      <td>28</td>\n",
       "    </tr>\n",
       "  </tbody>\n",
       "</table>\n",
       "</div>"
      ],
      "text/plain": [
       "             repo                                               path\n",
       "count        5266                                               5266\n",
       "unique       1918                                               4964\n",
       "top     holoviews  tv-script-generation/dlnd_tv_script_generation...\n",
       "freq          124                                                 28"
      ]
     },
     "execution_count": 11,
     "metadata": {},
     "output_type": "execute_result"
    }
   ],
   "source": [
    "colab_files.describe(include=['object'])"
   ]
  },
  {
   "cell_type": "code",
   "execution_count": 12,
   "metadata": {},
   "outputs": [
    {
     "name": "stdout",
     "output_type": "stream",
     "text": [
      "5266\n"
     ]
    }
   ],
   "source": [
    "print(len(colab_files))"
   ]
  },
  {
   "cell_type": "code",
   "execution_count": 13,
   "metadata": {},
   "outputs": [],
   "source": [
    "file_changes = df[['repo','path','function']].groupby(['repo','path']).count()"
   ]
  },
  {
   "cell_type": "code",
   "execution_count": 14,
   "metadata": {},
   "outputs": [
    {
     "data": {
      "text/plain": [
       "count    17387.000000\n",
       "mean        62.021683\n",
       "std        147.026721\n",
       "min          1.000000\n",
       "25%         12.000000\n",
       "50%         31.000000\n",
       "75%         72.000000\n",
       "max       8589.000000\n",
       "Name: function, dtype: float64"
      ]
     },
     "execution_count": 14,
     "metadata": {},
     "output_type": "execute_result"
    }
   ],
   "source": [
    "file_changes.function.describe()"
   ]
  },
  {
   "cell_type": "code",
   "execution_count": 15,
   "metadata": {},
   "outputs": [
    {
     "data": {
      "text/html": [
       "<div>\n",
       "<style scoped>\n",
       "    .dataframe tbody tr th:only-of-type {\n",
       "        vertical-align: middle;\n",
       "    }\n",
       "\n",
       "    .dataframe tbody tr th {\n",
       "        vertical-align: top;\n",
       "    }\n",
       "\n",
       "    .dataframe thead th {\n",
       "        text-align: right;\n",
       "    }\n",
       "</style>\n",
       "<table border=\"1\" class=\"dataframe\">\n",
       "  <thead>\n",
       "    <tr style=\"text-align: right;\">\n",
       "      <th></th>\n",
       "      <th></th>\n",
       "      <th>function</th>\n",
       "    </tr>\n",
       "    <tr>\n",
       "      <th>repo</th>\n",
       "      <th>path</th>\n",
       "      <th></th>\n",
       "    </tr>\n",
       "  </thead>\n",
       "  <tbody>\n",
       "    <tr>\n",
       "      <th>hsc_synpipe</th>\n",
       "      <th>note/s16a_synpipe_galaxy_1.ipynb</th>\n",
       "      <td>8589</td>\n",
       "    </tr>\n",
       "    <tr>\n",
       "      <th rowspan=\"2\" valign=\"top\">hsc_redBCG</th>\n",
       "      <th>note/dr1/dr1_new_mass_compare_fsps1.ipynb</th>\n",
       "      <td>7413</td>\n",
       "    </tr>\n",
       "    <tr>\n",
       "      <th>note/dr1/dr1_published_figures.ipynb</th>\n",
       "      <td>5665</td>\n",
       "    </tr>\n",
       "    <tr>\n",
       "      <th>hsc_synpipe</th>\n",
       "      <th>note/s16a_synpipe_star_1.ipynb</th>\n",
       "      <td>5352</td>\n",
       "    </tr>\n",
       "    <tr>\n",
       "      <th>deep-learning</th>\n",
       "      <th>image-classification/dlnd_image_classification.ipynb</th>\n",
       "      <td>2885</td>\n",
       "    </tr>\n",
       "  </tbody>\n",
       "</table>\n",
       "</div>"
      ],
      "text/plain": [
       "                                                                  function\n",
       "repo          path                                                        \n",
       "hsc_synpipe   note/s16a_synpipe_galaxy_1.ipynb                        8589\n",
       "hsc_redBCG    note/dr1/dr1_new_mass_compare_fsps1.ipynb               7413\n",
       "              note/dr1/dr1_published_figures.ipynb                    5665\n",
       "hsc_synpipe   note/s16a_synpipe_star_1.ipynb                          5352\n",
       "deep-learning image-classification/dlnd_image_classification....      2885"
      ]
     },
     "execution_count": 15,
     "metadata": {},
     "output_type": "execute_result"
    }
   ],
   "source": [
    "file_changes.sort_values(by='function', ascending=False).head()"
   ]
  },
  {
   "cell_type": "code",
   "execution_count": 16,
   "metadata": {},
   "outputs": [],
   "source": [
    "author_mod = df[['repo','path','author','class']].groupby(['repo','path','author'])['class'].apply(list).reset_index()"
   ]
  },
  {
   "cell_type": "code",
   "execution_count": 17,
   "metadata": {},
   "outputs": [],
   "source": [
    "colab_changes = pd.merge(colab_files, author_mod, how = 'inner', on = ['repo','path'])"
   ]
  },
  {
   "cell_type": "code",
   "execution_count": 18,
   "metadata": {},
   "outputs": [
    {
     "data": {
      "text/html": [
       "<div>\n",
       "<style scoped>\n",
       "    .dataframe tbody tr th:only-of-type {\n",
       "        vertical-align: middle;\n",
       "    }\n",
       "\n",
       "    .dataframe tbody tr th {\n",
       "        vertical-align: top;\n",
       "    }\n",
       "\n",
       "    .dataframe thead th {\n",
       "        text-align: right;\n",
       "    }\n",
       "</style>\n",
       "<table border=\"1\" class=\"dataframe\">\n",
       "  <thead>\n",
       "    <tr style=\"text-align: right;\">\n",
       "      <th></th>\n",
       "      <th>repo</th>\n",
       "      <th>path</th>\n",
       "      <th>author_x</th>\n",
       "      <th>author_y</th>\n",
       "      <th>class</th>\n",
       "    </tr>\n",
       "  </thead>\n",
       "  <tbody>\n",
       "    <tr>\n",
       "      <th>0</th>\n",
       "      <td>-VAST-Challenge-2015-Mini-Challenge-1</td>\n",
       "      <td>First look at the Data.ipynb</td>\n",
       "      <td>2</td>\n",
       "      <td>da.angulo39@uniandes.edu.co</td>\n",
       "      <td>[nan, nan, nan, nan, nan, nan, nan, nan, nan, ...</td>\n",
       "    </tr>\n",
       "    <tr>\n",
       "      <th>1</th>\n",
       "      <td>-VAST-Challenge-2015-Mini-Challenge-1</td>\n",
       "      <td>First look at the Data.ipynb</td>\n",
       "      <td>2</td>\n",
       "      <td>gus0020@gmail.com</td>\n",
       "      <td>[nan, nan, nan, nan, nan]</td>\n",
       "    </tr>\n",
       "    <tr>\n",
       "      <th>2</th>\n",
       "      <td>1</td>\n",
       "      <td>analysis.ipynb</td>\n",
       "      <td>2</td>\n",
       "      <td>aristide@mac-mini-de-aristide-4.home</td>\n",
       "      <td>[nan, nan, nan, DataFrame, nan, DataFrame, nan...</td>\n",
       "    </tr>\n",
       "    <tr>\n",
       "      <th>3</th>\n",
       "      <td>1</td>\n",
       "      <td>analysis.ipynb</td>\n",
       "      <td>2</td>\n",
       "      <td>laowantong@users.noreply.github.com</td>\n",
       "      <td>[nan, nan, nan, nan, DataFrame, nan, nan, nan,...</td>\n",
       "    </tr>\n",
       "    <tr>\n",
       "      <th>4</th>\n",
       "      <td>15712-TensorFlow</td>\n",
       "      <td>tensorflow/examples/udacity/4_convolutions.ipynb</td>\n",
       "      <td>2</td>\n",
       "      <td>ipolosukhin@google.com</td>\n",
       "      <td>[nan, nan]</td>\n",
       "    </tr>\n",
       "  </tbody>\n",
       "</table>\n",
       "</div>"
      ],
      "text/plain": [
       "                                    repo  \\\n",
       "0  -VAST-Challenge-2015-Mini-Challenge-1   \n",
       "1  -VAST-Challenge-2015-Mini-Challenge-1   \n",
       "2                                      1   \n",
       "3                                      1   \n",
       "4                       15712-TensorFlow   \n",
       "\n",
       "                                               path  author_x  \\\n",
       "0                      First look at the Data.ipynb         2   \n",
       "1                      First look at the Data.ipynb         2   \n",
       "2                                    analysis.ipynb         2   \n",
       "3                                    analysis.ipynb         2   \n",
       "4  tensorflow/examples/udacity/4_convolutions.ipynb         2   \n",
       "\n",
       "                               author_y  \\\n",
       "0           da.angulo39@uniandes.edu.co   \n",
       "1                     gus0020@gmail.com   \n",
       "2  aristide@mac-mini-de-aristide-4.home   \n",
       "3   laowantong@users.noreply.github.com   \n",
       "4                ipolosukhin@google.com   \n",
       "\n",
       "                                               class  \n",
       "0  [nan, nan, nan, nan, nan, nan, nan, nan, nan, ...  \n",
       "1                          [nan, nan, nan, nan, nan]  \n",
       "2  [nan, nan, nan, DataFrame, nan, DataFrame, nan...  \n",
       "3  [nan, nan, nan, nan, DataFrame, nan, nan, nan,...  \n",
       "4                                         [nan, nan]  "
      ]
     },
     "execution_count": 18,
     "metadata": {},
     "output_type": "execute_result"
    }
   ],
   "source": [
    "colab_changes.head()"
   ]
  }
 ],
 "metadata": {
  "kernelspec": {
   "display_name": "Python 3",
   "language": "python",
   "name": "python3"
  },
  "language_info": {
   "codemirror_mode": {
    "name": "ipython",
    "version": 3
   },
   "file_extension": ".py",
   "mimetype": "text/x-python",
   "name": "python",
   "nbconvert_exporter": "python",
   "pygments_lexer": "ipython3",
   "version": "3.6.5"
  }
 },
 "nbformat": 4,
 "nbformat_minor": 2
}
